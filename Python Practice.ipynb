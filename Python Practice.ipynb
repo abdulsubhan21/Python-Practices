{
  "cells": [
    {
      "cell_type": "code",
      "execution_count": null,
      "metadata": {
        "colab": {
          "base_uri": "https://localhost:8080/"
        },
        "id": "s_QUFtVlLdca",
        "outputId": "6c2a77cb-2dd6-4a62-cd4c-60ff48a1f515"
      },
      "outputs": [
        {
          "output_type": "stream",
          "name": "stdout",
          "text": [
            "Enter The Name: Abdul Subhan\n",
            "Enter The Subject 1 Marks: 74\n",
            "Enter The Subject 2 Marks: 78\n",
            "Enter The Subject 3 Marks: 95\n",
            "Enter The Subject 4 Marks: 76\n",
            "Enter The Subject 5 Marks: 80\n",
            "\n",
            "\n",
            "Students Report Card\n",
            "\n",
            "Student Name: Abdul Subhan\n",
            "Student Subjects Marks: [74.0, 78.0, 95.0, 76.0, 80.0]\n",
            "Student Grade: 80.6\n",
            "Student Performance: Very Exellent\n"
          ]
        }
      ],
      "source": [
        "name = input(\"Enter The Name: \")\n",
        "subject_1 = float(input(\"Enter The Subject 1 Marks: \"))\n",
        "subject_2 = float(input(\"Enter The Subject 2 Marks: \"))\n",
        "subject_3 = float(input(\"Enter The Subject 3 Marks: \"))\n",
        "subject_4 = float(input(\"Enter The Subject 4 Marks: \"))\n",
        "subject_5 = float(input(\"Enter The Subject 5 Marks: \"))\n",
        "\n",
        "marks = [subject_1, subject_2, subject_3, subject_4, subject_5]\n",
        "grade = sum(marks) / len(marks)\n",
        "\n",
        "if grade >= 80:\n",
        "   performance = \"Very Exellent\"\n",
        "\n",
        "elif grade >= 70 and grade <= 79:\n",
        "     performance = \"Exellent\"\n",
        "\n",
        "elif grade >= 60 and grade <= 69:\n",
        "     performance = \"Very Good\"\n",
        "\n",
        "elif grade >= 50 and grade <= 59:\n",
        "     performance = \"Good\"\n",
        "\n",
        "elif grade >= 40 and grade <= 49:\n",
        "     performance = \"Average\"\n",
        "\n",
        "else:\n",
        "     performance = \"Fail\"\n",
        "\n",
        "print(f'''\n",
        "\n",
        "Students Report Card\n",
        "\n",
        "Student Name: {name}\n",
        "Student Subjects Marks: {marks}\n",
        "Student Grade: {grade}\n",
        "Student Performance: {performance}''')"
      ]
    },
    {
      "cell_type": "code",
      "execution_count": null,
      "metadata": {
        "colab": {
          "base_uri": "https://localhost:8080/"
        },
        "id": "fqCBYX6rnUf2",
        "outputId": "e6692fe7-5656-4d2e-aacb-d148dc8adc30"
      },
      "outputs": [
        {
          "output_type": "stream",
          "name": "stdout",
          "text": [
            "Enter the name: Abdul Subhan\n",
            "Enter the item 1: Monitor\n",
            "Enter the item 1 price: 5000\n",
            "Enter the item 2: CPU\n",
            "Enter the item 2 price: 10000\n",
            "Enter the item 3: Keyboard and Mouse\n",
            "Enter the item 3 price: 3000\n",
            "\n",
            "\n",
            "Shopping Bill\n",
            "\n",
            "Customer Name: Abdul Subhan\n",
            "Items: ['Monitor', 'CPU', 'Keyboard and Mouse']\n",
            "Prices: [5000, 10000, 3000]\n",
            "Total Price: 18000\n",
            "10% Discount:  1800.0\n",
            "Final Price: 16200.0\n"
          ]
        }
      ],
      "source": [
        "name = input(\"Enter the name: \")\n",
        "\n",
        "item_1 = input(\"Enter the item 1: \")\n",
        "item_1_price = int(input(\"Enter the item 1 price: \"))\n",
        "\n",
        "item_2 = input(\"Enter the item 2: \")\n",
        "item_2_price = int(input(\"Enter the item 2 price: \"))\n",
        "\n",
        "item_3 = input(\"Enter the item 3: \")\n",
        "item_3_price = int(input(\"Enter the item 3 price: \"))\n",
        "\n",
        "item_names = [item_1, item_2, item_3]\n",
        "item_prices = [item_1_price, item_2_price, item_3_price]\n",
        "\n",
        "total_price = sum(item_prices)\n",
        "\n",
        "if total_price > 10000:\n",
        "   discount_amount = total_price * 10 / 100\n",
        "   final_price = total_price - discount_amount\n",
        "   discount = f\" {discount_amount}\"\n",
        "\n",
        "else:\n",
        "     final_price = total_price\n",
        "     discount = \"No discount.\"\n",
        "\n",
        "print(f'''\n",
        "\n",
        "Shopping Bill\n",
        "\n",
        "Customer Name: {name}\n",
        "Items: {item_names}\n",
        "Prices: {item_prices}\n",
        "Total Price: {total_price}\n",
        "10% Discount: {discount}\n",
        "Final Price: {final_price}''')"
      ]
    },
    {
      "cell_type": "code",
      "execution_count": null,
      "metadata": {
        "colab": {
          "base_uri": "https://localhost:8080/"
        },
        "id": "lIcw9LF64c-H",
        "outputId": "f8554873-9cad-4f3e-83e7-435169cf485e"
      },
      "outputs": [
        {
          "output_type": "stream",
          "name": "stdout",
          "text": [
            "Enter the student name: Abdul Subhan\n",
            "Enter the student age: 17\n",
            "Enter the student maths numbers: 76\n",
            "Enter the student science numbers: 95\n",
            "Enter the student english numbers: 80\n",
            "\n",
            "Student Performance Report:\n",
            "\n",
            "Name: Abdul Subhan\n",
            "Age: 17\n",
            "Scores: Math: 76.0, Science: 95.0, English: 80.0\n",
            "Percentage: 83.7\n",
            "Grade: A+\n"
          ]
        }
      ],
      "source": [
        "name = input(\"Enter the student name: \")\n",
        "age = int(input(\"Enter the student age: \"))\n",
        "\n",
        "math_numbers = float(input(\"Enter the student maths numbers: \"))\n",
        "science_numbers = float(input(\"Enter the student science numbers: \"))\n",
        "english_numbers = float(input(\"Enter the student english numbers: \"))\n",
        "\n",
        "numbers = [math_numbers, science_numbers, english_numbers]\n",
        "\n",
        "student_info = {\"name\": name, \"age\": age, \"numbers\": numbers}\n",
        "\n",
        "total_numbers = 0\n",
        "for i in numbers:\n",
        "    total_numbers += i\n",
        "\n",
        "percentage = total_numbers / len(numbers)\n",
        "\n",
        "student_info[\"percentage\"] = percentage\n",
        "\n",
        "if percentage >= 80:\n",
        "   grade = \"A+\"\n",
        "elif 70 <= percentage <= 79:\n",
        "     grade = \"A\"\n",
        "elif 60 <= percentage <= 69:\n",
        "     grade = \"B\"\n",
        "elif 50 <= percentage <= 59:\n",
        "     grade = \"C\"\n",
        "elif 40 <= percentage <= 49:\n",
        "     grade = \"D\"\n",
        "else:\n",
        "     grade = \"Fail\"\n",
        "\n",
        "print(f'''\n",
        "Student Performance Report:\n",
        "\n",
        "Name: {student_info[\"name\"]}\n",
        "Age: {student_info[\"age\"]}\n",
        "Scores: Math: {math_numbers}, Science: {science_numbers}, English: {english_numbers}\n",
        "Percentage: {percentage:.1f}\n",
        "Grade: {grade}''')"
      ]
    },
    {
      "cell_type": "code",
      "execution_count": null,
      "metadata": {
        "colab": {
          "base_uri": "https://localhost:8080/"
        },
        "id": "XYAS2qR61fE1",
        "outputId": "f76c4855-daad-445f-9a0a-51e3fb443c67"
      },
      "outputs": [
        {
          "output_type": "stream",
          "name": "stdout",
          "text": [
            "Enter your name: Abdul Subhan\n",
            "Enter your age: 17\n",
            "Enter your nationality: Pakistani\n",
            "Enter at least 3 skills: HTML CSS Python\n",
            "\n",
            "    Personal Information:\n",
            "\n",
            "    Name: Abdul Subhan\n",
            "    Age: 17\n",
            "    Nationality: Pakistani\n",
            "    Skills: Html, Css, Python\n",
            "    \n",
            "You are not eligible to apply for the job.\n"
          ]
        }
      ],
      "source": [
        "sname = input(\"Enter your name: \").strip().title()\n",
        "age = int(input(\"Enter your age: \"))\n",
        "nationality = input(\"Enter your nationality: \").strip().title()\n",
        "skills = input(\"Enter at least 3 skills: \").strip().split()\n",
        "\n",
        "if len(skills) < 3:\n",
        "   print(\"You must enter at least 3 skills.\")\n",
        "else:\n",
        "     print(f'''\n",
        "    Personal Information:\n",
        "\n",
        "    Name: {name}\n",
        "    Age: {age}\n",
        "    Nationality: {nationality}\n",
        "    Skills: {', '.join([skill.strip().title() for skill in skills])}\n",
        "    ''')\n",
        "\n",
        "if age >= 18:\n",
        "   print(\"You are eligible to apply for the job.\")\n",
        "else:\n",
        "     print(\"You are not eligible to apply for the job.\")"
      ]
    },
    {
      "cell_type": "code",
      "execution_count": null,
      "metadata": {
        "colab": {
          "base_uri": "https://localhost:8080/"
        },
        "id": "HV-2LxNFQci3",
        "outputId": "6eb09566-1fd5-4a38-9ca7-a9090629fb7b"
      },
      "outputs": [
        {
          "output_type": "stream",
          "name": "stdout",
          "text": [
            "Enter the number between 1 to 100: 50\n",
            "Guess lower number\n",
            "Enter the number between 1 to 100: 10\n",
            "Guess higher number\n",
            "Enter the number between 1 to 100: 40\n",
            "Guess lower number\n",
            "Enter the number between 1 to 100: 20\n",
            "Guess lower number\n",
            "Enter the number between 1 to 100: 15\n",
            "Guess lower number\n",
            "Enter the number between 1 to 100: 13\n",
            "Guess lower number\n",
            "Enter the number between 1 to 100: 11\n",
            "Correct answer\n",
            "You took 7 attempts\n"
          ]
        }
      ],
      "source": [
        "import random\n",
        "jackpot = random.randint(1, 100)\n",
        "\n",
        "guess = int(input(\"Enter the number between 1 to 100: \"))\n",
        "counter = 1\n",
        "\n",
        "while guess != jackpot:\n",
        "      if guess < jackpot:\n",
        "         print(\"Guess higher number\")\n",
        "      else:\n",
        "           print(\"Guess lower number\")\n",
        "\n",
        "      guess = int(input(\"Enter the number between 1 to 100: \"))\n",
        "      counter += 1\n",
        "\n",
        "print(\"Correct answer\")\n",
        "print(\"You took\",counter,\"attempts\")"
      ]
    },
    {
      "cell_type": "code",
      "execution_count": null,
      "metadata": {
        "colab": {
          "base_uri": "https://localhost:8080/"
        },
        "id": "Y3QACAvuFc43",
        "outputId": "265f909b-ae1f-46d6-fee6-a1c845c47d39"
      },
      "outputs": [
        {
          "output_type": "stream",
          "name": "stdout",
          "text": [
            "Enter The Alphabet: i\n",
            "This is vowel\n"
          ]
        }
      ],
      "source": [
        "alpha = input(\"Enter The Alphabet: \")\n",
        "\n",
        "if alpha == \"a\":\n",
        "   print(\"This is vowel\")\n",
        "\n",
        "elif alpha == \"e\":\n",
        "   print(\"This is vowel\")\n",
        "\n",
        "elif alpha == \"i\":\n",
        "   print(\"This is vowel\")\n",
        "\n",
        "elif alpha == \"o\":\n",
        "   print(\"This is vowel\")\n",
        "\n",
        "elif alpha == \"u\":\n",
        "   print(\"This is vowel\")\n",
        "\n",
        "else:\n",
        "     print(\"This is consunent\")"
      ]
    },
    {
      "cell_type": "code",
      "execution_count": null,
      "metadata": {
        "colab": {
          "base_uri": "https://localhost:8080/"
        },
        "id": "r9WVfkvCLP4L",
        "outputId": "92f04bf0-3537-479c-9702-6b54853a97f3"
      },
      "outputs": [
        {
          "output_type": "stream",
          "name": "stdout",
          "text": [
            "Enter The Name: Abdul Subhan\n",
            "Enter The First Number: 20\n",
            "Enter The Second Number: 10\n",
            "Enter The Operator (+, -, *, /): *\n",
            "20 * 10 = 200\n"
          ]
        }
      ],
      "source": [
        "name = input(\"Enter The Name: \")\n",
        "first_num = int((input(\"Enter The First Number: \")))\n",
        "second_num = int((input(\"Enter The Second Number: \")))\n",
        "operator = input(\"Enter The Operator (+, -, *, /): \")\n",
        "\n",
        "if operator == \"+\":\n",
        "   result = first_num + second_num\n",
        "\n",
        "elif operator == \"-\":\n",
        "     result = first_num - second_num\n",
        "\n",
        "elif operator == \"*\":\n",
        "     result = first_num * second_num\n",
        "\n",
        "elif operator == \"/\":\n",
        "     result = first_num / second_num\n",
        "\n",
        "else:\n",
        "    result = \"Invalid operator\"\n",
        "\n",
        "if operator in [\"+\", \"-\", \"*\", \"/\"]:\n",
        "    print(f\"{first_num} {operator} {second_num} = {result}\")\n",
        "\n",
        "else:\n",
        "    print(\"Error: Invalid operator entered.\")\n",
        "\n",
        "if first_num > 100:\n",
        "   print(f'''My name is {name}, and {first_num} is grater then 100.''')"
      ]
    },
    {
      "cell_type": "code",
      "execution_count": null,
      "metadata": {
        "colab": {
          "base_uri": "https://localhost:8080/"
        },
        "id": "ISURNFKULZ5r",
        "outputId": "e4386758-7e95-4f9d-cc89-182f6c393d1c"
      },
      "outputs": [
        {
          "output_type": "stream",
          "name": "stdout",
          "text": [
            "Enter The First Name: Abdul\n",
            "Enter The Last Name: Subhan\n",
            "Enter The Birth Year: 2007\n",
            "Abdulsubhan\n",
            "17\n",
            "The user is under 18\n"
          ]
        }
      ],
      "source": [
        "first_name = input(\"Enter The First Name: \")\n",
        "last_name = input(\"Enter The Last Name: \")\n",
        "birth_year = int(input(\"Enter The Birth Year: \"))\n",
        "\n",
        "full_name = first_name + last_name\n",
        "print(full_name.capitalize())\n",
        "\n",
        "age = 2024 - 2007\n",
        "print(age)\n",
        "\n",
        "if age >= 18:\n",
        "   print(f'''My name is {name}. I am {age} years old. The user is greter then 18''')\n",
        "\n",
        "else:\n",
        "     print(\"The user is under 18\")"
      ]
    },
    {
      "cell_type": "code",
      "execution_count": null,
      "metadata": {
        "colab": {
          "base_uri": "https://localhost:8080/"
        },
        "id": "ZmrInkJyLkuE",
        "outputId": "900302b2-d337-4143-e824-a6e62d6e1fbb"
      },
      "outputs": [
        {
          "output_type": "stream",
          "name": "stdout",
          "text": [
            "Enter the Number:4\n",
            "Even Number\n"
          ]
        }
      ],
      "source": [
        "num = int(input(\"Enter the Number:\"))\n",
        "\n",
        "if num % 2 == 0:\n",
        "   print(\"Even Number\")\n",
        "else:\n",
        "     print(\"Odd Number\")"
      ]
    },
    {
      "cell_type": "code",
      "execution_count": null,
      "metadata": {
        "colab": {
          "base_uri": "https://localhost:8080/"
        },
        "id": "myY5a2QNLseR",
        "outputId": "6d581564-ee76-458f-e955-909f3469d98e"
      },
      "outputs": [
        {
          "output_type": "stream",
          "name": "stdout",
          "text": [
            "Enter Your Name: Abdul Subhan\n",
            "Enter Your First Number: 20\n",
            "Enter Your Second Number: 10\n",
            "Nice to meet you! your name is Abdul Subhan and your results is addition: 30.0, subtraction: 10.0, multiplication: 200.0 and division: 2.0\n"
          ]
        }
      ],
      "source": [
        "name = input(\"Enter Your Name: \")\n",
        "num_1 = float(input(\"Enter Your First Number: \"))\n",
        "num_2 = float(input(\"Enter Your Second Number: \"))\n",
        "\n",
        "result_1 = num_1 + num_2\n",
        "result_2 = num_1 - num_2\n",
        "result_3 = num_1 * num_2\n",
        "result_4 = num_1 / num_2\n",
        "\n",
        "print(f'''Nice to meet you! your name is {name} and your results is addition: {result_1}, subtraction: {result_2}, multiplication: {result_3} and division: {result_4}''')"
      ]
    },
    {
      "cell_type": "code",
      "execution_count": null,
      "metadata": {
        "colab": {
          "base_uri": "https://localhost:8080/"
        },
        "id": "N1GmM7JdL61j",
        "outputId": "0ca8c292-d065-4187-a70b-eb105b9818b1"
      },
      "outputs": [
        {
          "output_type": "stream",
          "name": "stdout",
          "text": [
            "Enter The First Name: Abdul\n",
            "Enter The Second Name: Subhan\n",
            "Enter the Favorite Number: 5\n",
            "5 is odd Number\n",
            "Your name is Abdul Subhan.\n"
          ]
        }
      ],
      "source": [
        "first_name = input(\"Enter The First Name: \")\n",
        "second_name = input(\"Enter The Second Name: \")\n",
        "favorite_number = int(input(\"Enter the Favorite Number: \"))\n",
        "\n",
        "full_name = first_name+\" \"+second_name\n",
        "complete_name = full_name.title()\n",
        "\n",
        "if favorite_number % 2 == 0:\n",
        "   print(f'''{favorite_number} is even Number''')\n",
        "else:\n",
        "     print(f'''{favorite_number} is odd Number''')\n",
        "\n",
        "print(f'''Your name is {complete_name}.''')"
      ]
    },
    {
      "cell_type": "code",
      "execution_count": null,
      "metadata": {
        "colab": {
          "base_uri": "https://localhost:8080/"
        },
        "id": "JfPSoPDSMK2-",
        "outputId": "8038d3b1-2c65-44f4-e4a7-789714205a01"
      },
      "outputs": [
        {
          "output_type": "stream",
          "name": "stdout",
          "text": [
            "Name: Abdul Subhan\n",
            "Father Name: Saghir Muhammad\n",
            "Age: 17\n",
            "Class: 12\n",
            "Roll Number: 31715\n",
            "Enter The Marks Of English: 80\n",
            "Enter The Marks Of Math: 76\n",
            "Enter The Marks Of Physics: 95\n",
            "Enter The Marks Of Chemistry: 78\n",
            "Enter The Marks Of Computer: 74\n",
            "                                   Board Of Secondary Education Karachi\n",
            "                                                 Mark Sheet\n",
            "Name: ABDUL SUBHAN\n",
            "Father Name: SAGHIR MUHAMMAD\n",
            "age: 17\n",
            "Class: 12\n",
            "Roll No.: 31715\n",
            "     Subjects\n",
            "English Marks: 80.0\n",
            "Math Marks: 76.0\n",
            "Physics Marks: 95.0\n",
            "Chemistry Marks: 78.0\n",
            "Computer Marks: 74.0\n",
            "     Result\n",
            "Total Marks: 403.0\n",
            "Percentage: 80.60000000000001\n",
            "Grade: A+\n"
          ]
        }
      ],
      "source": [
        "name = input(\"Name: \")\n",
        "father_name = input(\"Father Name: \")\n",
        "age = int(input(\"Age: \"))\n",
        "college_class = int(input(\"Class: \"))\n",
        "roll_number = int(input(\"Roll Number: \"))\n",
        "\n",
        "english_marks = float(input(\"Enter The Marks Of English: \"))\n",
        "math_marks = float(input(\"Enter The Marks Of Math: \"))\n",
        "physics_marks = float(input(\"Enter The Marks Of Physics: \"))\n",
        "chemistry_marks =  float(input(\"Enter The Marks Of Chemistry: \"))\n",
        "computer_marks =  float(input(\"Enter The Marks Of Computer: \"))\n",
        "\n",
        "print(\"                                   Board Of Secondary Education Karachi\")\n",
        "print(\"                                                 Mark Sheet\")\n",
        "\n",
        "print(\"Name:\",name.upper())\n",
        "print(\"Father Name:\",father_name.upper())\n",
        "print(\"age:\",age)\n",
        "print(\"Class:\",college_class)\n",
        "print(\"Roll No.:\",roll_number)\n",
        "\n",
        "print(f'''     Subjects\n",
        "English Marks: {english_marks}\n",
        "Math Marks: {math_marks}\n",
        "Physics Marks: {physics_marks}\n",
        "Chemistry Marks: {chemistry_marks}\n",
        "Computer Marks: {computer_marks}''')\n",
        "\n",
        "total_marks = english_marks + math_marks + physics_marks + chemistry_marks + computer_marks\n",
        "max_marks = 500\n",
        "percentage = (total_marks / max_marks) * 100\n",
        "grade = percentage\n",
        "\n",
        "print(f'''     Result\n",
        "Total Marks: {total_marks}\n",
        "Percentage: {percentage}''')\n",
        "\n",
        "if percentage >= 80:\n",
        "   print(\"Grade: A+\")\n",
        "\n",
        "elif percentage >= 70:\n",
        "      print(\"Grade: A\")\n",
        "\n",
        "elif percentage >= 60:\n",
        "     print(\"Grade: B\")\n",
        "\n",
        "elif percentage >= 50:\n",
        "     print(\"Grade: C\")\n",
        "\n",
        "elif percentage >= 40:\n",
        "     print(\"Grade: D\")\n",
        "\n",
        "else:\n",
        "     print(\"Fail\")"
      ]
    },
    {
      "cell_type": "code",
      "execution_count": null,
      "metadata": {
        "colab": {
          "base_uri": "https://localhost:8080/"
        },
        "id": "3xkD2UVUOSLx",
        "outputId": "4ff9bb70-e963-44d2-e3c1-1cd73040508b"
      },
      "outputs": [
        {
          "output_type": "stream",
          "name": "stdout",
          "text": [
            "Enter the title of the book: THE GREATE MOON\n",
            "Enter the Aouther Name: Abdul Subhan\n",
            "Enter the price of the book (in dollars): 100\n",
            "   BILL SLIP\n",
            "\n",
            "Book Title: THE GREATE MOON\n",
            "Aouther Name: Abdul Subhan\n",
            "Original Price: 100\n",
            "Discount Applied: 0\n",
            "Final Price to Pay: 100\n"
          ]
        }
      ],
      "source": [
        "book_title = input(\"Enter the title of the book: \")\n",
        "aouther_name = input(\"Enter the Aouther Name: \")\n",
        "book_price = int(input(\"Enter the price of the book (in dollars): \"))\n",
        "\n",
        "if book_price > 100:\n",
        "    discount = book_price * 10 / 100\n",
        "\n",
        "elif book_price < 50:\n",
        "    discount = book_price * 5 / 100\n",
        "\n",
        "else:\n",
        "     discount = 0\n",
        "\n",
        "final_price = book_price - discount\n",
        "\n",
        "print(f'''   BILL SLIP\n",
        "\n",
        "Book Title: {book_title}\n",
        "Aouther Name: {aouther_name}\n",
        "Original Price: {book_price}\n",
        "Discount Applied: {discount}\n",
        "Final Price to Pay: {final_price}''')"
      ]
    },
    {
      "cell_type": "code",
      "execution_count": null,
      "metadata": {
        "colab": {
          "base_uri": "https://localhost:8080/"
        },
        "id": "P6JyOA0NOsPN",
        "outputId": "4a1c8cf7-1060-4ba7-e289-abf68c6608ac"
      },
      "outputs": [
        {
          "output_type": "stream",
          "name": "stdout",
          "text": [
            "Enter the gejit name: T.V.\n",
            "Enter the gejit price: 15000\n",
            "Recipt\n",
            "\n",
            "Gegit_Name: T.V.\n",
            "Original price: 15000\n",
            "Total discount: 2250.0\n",
            "Final price: 12750.0\n"
          ]
        }
      ],
      "source": [
        "gejit_name = input(\"Enter the gejit name: \")\n",
        "gejit_price = int(input(\"Enter the gejit price: \"))\n",
        "\n",
        "if gejit_price > 500:\n",
        "   discount = gejit_price * 15 / 100\n",
        "\n",
        "elif gejit_price < 200:\n",
        "     discount = gejit_price * 7 / 100\n",
        "\n",
        "else:\n",
        "     discount = 0\n",
        "\n",
        "final_price = gejit_price - discount\n",
        "\n",
        "print(f'''Recipt\n",
        "\n",
        "Gegit_Name: {gejit_name}\n",
        "Original price: {gejit_price}\n",
        "Total discount: {discount}\n",
        "Final price: {final_price}''')"
      ]
    },
    {
      "cell_type": "code",
      "execution_count": null,
      "metadata": {
        "colab": {
          "base_uri": "https://localhost:8080/"
        },
        "id": "d0FSdCCHO3U8",
        "outputId": "1548f9ab-e3d5-4ae9-d3d7-f353ceb41ef1"
      },
      "outputs": [
        {
          "output_type": "stream",
          "name": "stdout",
          "text": [
            "Enter the cost of meal: 1000\n",
            "Enter the tax of meal: 50\n",
            "Enter the tip of meal: 100\n",
            "Meal Cost\n",
            "Meal Cost: 1000\n",
            "Meal Tax: 50\n",
            "Meal Tip: 100\n",
            "Total Meal Cost: 1150.0\n"
          ]
        }
      ],
      "source": [
        "meal_cost = int(input(\"Enter the cost of meal: \"))\n",
        "meal_tax = int(input(\"Enter the tax of meal: \"))\n",
        "meal_tip = int(input(\"Enter the tip of meal: \"))\n",
        "\n",
        "tax_amount = meal_cost * 10/100\n",
        "tip_amount = meal_cost * 5/100\n",
        "\n",
        "total_meal_coat = meal_cost + tax_amount + tip_amount\n",
        "\n",
        "print(f'''Meal Cost\n",
        "Meal Cost: {meal_cost}\n",
        "Meal Tax: {meal_tax}\n",
        "Meal Tip: {meal_tip}\n",
        "Total Meal Cost: {total_meal_coat}''')"
      ]
    },
    {
      "cell_type": "code",
      "execution_count": null,
      "metadata": {
        "colab": {
          "base_uri": "https://localhost:8080/"
        },
        "id": "CqetTTt6PFk4",
        "outputId": "f2c25af6-0463-4a42-c101-8d4fd67c49f8"
      },
      "outputs": [
        {
          "output_type": "stream",
          "name": "stdout",
          "text": [
            "Enter Your Height (in cm): 5.5\n",
            "Enter Your Weight (in kg): 50\n",
            "BMI: 16528.92561983471\n",
            "You are obese\n",
            "You should consult a doctor\n"
          ]
        }
      ],
      "source": [
        "height_in_centimeters = float(input(\"Enter Your Height (in cm): \"))\n",
        "weight_in_kilograms = float(input(\"Enter Your Weight (in kg): \"))\n",
        "\n",
        "height_in_meters = height_in_centimeters / 100\n",
        "bmi = weight_in_kilograms / height_in_meters ** 2\n",
        "print(f\"BMI: {bmi}\")\n",
        "\n",
        "if bmi < 18.5:\n",
        "    print(\"You are underweight\")\n",
        "\n",
        "elif bmi > 18.5 and bmi < 24.9:\n",
        "    print(\"You have a normal weight\")\n",
        "\n",
        "elif bmi > 25 and bmi < 29.9:\n",
        "    print(\"You are overweight\")\n",
        "\n",
        "elif bmi >= 30:\n",
        "    print(\"You are obese\")\n",
        "\n",
        "    if bmi >= 30 and bmi > 40:\n",
        "       print(\"You should consult a doctor\")\n",
        "\n",
        "else:\n",
        "     print(\"You are very, very, very overweight\")"
      ]
    },
    {
      "cell_type": "code",
      "execution_count": null,
      "metadata": {
        "colab": {
          "base_uri": "https://localhost:8080/"
        },
        "id": "2M1_CRNPPSTj",
        "outputId": "6fef9e24-9816-437d-eaf0-5799a3edb937"
      },
      "outputs": [
        {
          "output_type": "stream",
          "name": "stdout",
          "text": [
            "Enter Your Full Name: Muhammad Abdul Subhan\n",
            "Enter Your Secret Code: XYZ12345\n",
            "Access granted for Muhammad Abdul Subhan\n"
          ]
        }
      ],
      "source": [
        "full_name = input(\"Enter Your Full Name: \")\n",
        "secret_code = input(\"Enter Your Secret Code: \")\n",
        "\n",
        "name_words = full_name.split()\n",
        "\n",
        "if len(name_words) < 3:\n",
        "   print(\"Please provide your full name (first, middle, and last).\")\n",
        "\n",
        "else:\n",
        "     if len(secret_code) == 8 and secret_code.startswith(\"XYZ\"):\n",
        "        print(f'''Access granted for {full_name}''')\n",
        "\n",
        "     else:\n",
        "          print(\"Invalid secret code. Code must start with 'XYZ' and be 8 characters long\")"
      ]
    },
    {
      "cell_type": "code",
      "execution_count": null,
      "metadata": {
        "colab": {
          "base_uri": "https://localhost:8080/"
        },
        "id": "pT6pw9PGPy9x",
        "outputId": "250cc4fd-26fc-47f2-bbdc-a51ded12a934"
      },
      "outputs": [
        {
          "output_type": "stream",
          "name": "stdout",
          "text": [
            "Enter your name: MASubhan\n",
            "Valid name!\n"
          ]
        }
      ],
      "source": [
        "name = input(\"Enter your name: \")\n",
        "\n",
        "if len(name) != 8:\n",
        "   print(\"Invalid: name must be exactly 8 characters long.\")\n",
        "\n",
        "   if not name[0].isalpha():\n",
        "      print(\"Invalid: name must start with an alphabet character.\")\n",
        "\n",
        "   if \" \" in name:\n",
        "\n",
        "      print(\"Invalid: name must not contain any spaces.\")\n",
        "\n",
        "else:\n",
        "     print(\"Valid name!\")"
      ]
    },
    {
      "cell_type": "code",
      "execution_count": null,
      "metadata": {
        "colab": {
          "base_uri": "https://localhost:8080/"
        },
        "id": "orEJDyytQCNP",
        "outputId": "22f7ce48-a5be-4d1b-fc76-eca046d77183"
      },
      "outputs": [
        {
          "output_type": "stream",
          "name": "stdout",
          "text": [
            "Enter the number: 5\n",
            "120\n"
          ]
        }
      ],
      "source": [
        "number = int(input(\"Enter the number: \"))\n",
        "\n",
        "factorial = 1\n",
        "\n",
        "while number > 1:\n",
        "      factorial *= number\n",
        "      number -= 1\n",
        "\n",
        "print(factorial)"
      ]
    },
    {
      "cell_type": "code",
      "execution_count": null,
      "metadata": {
        "colab": {
          "base_uri": "https://localhost:8080/"
        },
        "id": "HVo7TXH9kugL",
        "outputId": "00fe17e0-89e2-431a-ece2-068409220169"
      },
      "outputs": [
        {
          "output_type": "stream",
          "name": "stdout",
          "text": [
            "[4, 16]\n"
          ]
        }
      ],
      "source": [
        "numbers = [1, 5, 2, 4, 3, 4, 2]\n",
        "\n",
        "square_numbers = [i ** 2 for i in numbers if i % 2 == 0]\n",
        "\n",
        "unique_numbers = []\n",
        "\n",
        "[unique_numbers.append(i) for i in square_numbers if i not in unique_numbers]\n",
        "\n",
        "sort_unique_numbers = sorted(unique_numbers)\n",
        "\n",
        "print(sort_unique_numbers)"
      ]
    },
    {
      "cell_type": "code",
      "source": [
        "class Calculator:\n",
        "  def __init__(self, a = 0, b = 0):\n",
        "    self.a = a\n",
        "    self.b = b\n",
        "\n",
        "  def Add(self):\n",
        "    return self.a + self.b\n",
        "\n",
        "  def Sub(self):\n",
        "    return self.a - self.b\n",
        "\n",
        "  def Mul(self):\n",
        "    return self.a * self.b\n",
        "\n",
        "  def Div(self):\n",
        "    return self.a / self.b\n",
        "\n",
        "  def Reminder(self):\n",
        "    return self.a % self.b\n",
        "\n",
        "  def Square(self):\n",
        "    return self.a ** 2\n",
        "\n",
        "  def Cube(self):\n",
        "    return self.a ** 3\n",
        "\n",
        "result = Calculator(a = int(input(\"Enter the first number: \")), b = int(input(\"Enter the second number: \")))\n",
        "print(result.Add())\n",
        "print(result.Sub())\n",
        "print(result.Mul())\n",
        "print(result.Div())\n",
        "print(result.Reminder())\n",
        "print(result.Square())\n",
        "print(result.Cube())"
      ],
      "metadata": {
        "colab": {
          "base_uri": "https://localhost:8080/"
        },
        "id": "4HlKR8BtaaK2",
        "outputId": "21af4526-0c41-48ac-dc5b-b363eefbe6eb"
      },
      "execution_count": null,
      "outputs": [
        {
          "output_type": "stream",
          "name": "stdout",
          "text": [
            "Enter the first number: 20\n",
            "Enter the second number: 10\n",
            "30\n",
            "10\n",
            "200\n",
            "2.0\n",
            "0\n",
            "400\n",
            "8000\n"
          ]
        }
      ]
    },
    {
      "cell_type": "code",
      "source": [
        "# Problem 1\n",
        "\n",
        "class Car:\n",
        "  def __init__(self, company, model, year):\n",
        "    self.company = company\n",
        "    self.model = model\n",
        "    self.year = year\n",
        "    self.is_running = False\n",
        "\n",
        "  def start(self):\n",
        "    self.is_running = True\n",
        "    print(\"Car is started.\")\n",
        "\n",
        "  def drive(self):\n",
        "    if self.is_running:\n",
        "      print(\"Car is moving.\")\n",
        "\n",
        "    else:\n",
        "      print(\"Car is not started.\")\n",
        "\n",
        "my_car = Car(company = \"Honda\", model = \"City\", year = 2008)\n",
        "print(\"My Car:\", my_car.company, my_car.model, my_car.year)\n",
        "my_car.start()\n",
        "my_car.drive()"
      ],
      "metadata": {
        "colab": {
          "base_uri": "https://localhost:8080/"
        },
        "id": "2a6dH9RjACta",
        "outputId": "5d1a1ca6-46e6-47e9-b87f-d4b16f92c90b"
      },
      "execution_count": null,
      "outputs": [
        {
          "output_type": "stream",
          "name": "stdout",
          "text": [
            "My Car: Honda City 2008\n",
            "Car is started.\n",
            "Car is moving.\n"
          ]
        }
      ]
    },
    {
      "cell_type": "code",
      "source": [
        "# Problem 2\n",
        "\n",
        "class Person:\n",
        "  def __init__(self, name, age):\n",
        "    self.name = name\n",
        "    self.age = age\n",
        "\n",
        "  def greet(self):\n",
        "    print(\"Hello! My name is\", self.name,\".\")\n",
        "\n",
        "  def celebrate_birthday(self):\n",
        "    self.age += 1\n",
        "    print(\"Happy Birthday! Now I am\", self.age, \"years old.\")\n",
        "\n",
        "person = Person(name = \"Abdul Subhan\", age = 16)\n",
        "person.greet()\n",
        "person.celebrate_birthday()"
      ],
      "metadata": {
        "colab": {
          "base_uri": "https://localhost:8080/"
        },
        "id": "xhiwwKZdPsYq",
        "outputId": "8efa781e-4ee1-4538-8f2e-1f6c87d4e556"
      },
      "execution_count": null,
      "outputs": [
        {
          "output_type": "stream",
          "name": "stdout",
          "text": [
            "Hello! My name is Abdul Subhan .\n",
            "Happy Birthday! Now I am 17 years old.\n"
          ]
        }
      ]
    },
    {
      "cell_type": "code",
      "source": [
        "# Problem 3\n",
        "\n",
        "class Person:\n",
        "  def __init__(self, name, age):\n",
        "    self.__name = name\n",
        "    self.__age = age\n",
        "\n",
        "  def get_age(self):\n",
        "    return self.__age\n",
        "\n",
        "  def set_age(self, new_age):\n",
        "    if new_age > 0:\n",
        "      self.__age = new_age\n",
        "\n",
        "person = Person(name = \"Abdul Subhan\", age = 16)\n",
        "print(\"Orignal Age: \", person.get_age())\n",
        "person.set_age(17)\n",
        "print(\"Updated Age: \", person.get_age())"
      ],
      "metadata": {
        "id": "-Lu0b1Z_aa9k",
        "colab": {
          "base_uri": "https://localhost:8080/"
        },
        "outputId": "c53c5270-0ab1-4dfd-a7a5-103dc9141e50"
      },
      "execution_count": null,
      "outputs": [
        {
          "output_type": "stream",
          "name": "stdout",
          "text": [
            "Orignal Age:  16\n",
            "Updated Age:  17\n"
          ]
        }
      ]
    },
    {
      "cell_type": "code",
      "source": [
        "# Problem 4\n",
        "\n",
        "class Animals:\n",
        "  def speak(self):\n",
        "    print(\"Animals can speak.\")\n",
        "\n",
        "class Dog(Animals):\n",
        "  def barks(self):\n",
        "    print(\"Dogs can barks.\")\n",
        "\n",
        "  def wag_tail(Animals):\n",
        "    print(\"Dog can wags tail.\")\n",
        "\n",
        "Dogs = Dog()\n",
        "Dogs.speak()\n",
        "Dogs.barks()\n",
        "Dogs.wag_tail()"
      ],
      "metadata": {
        "colab": {
          "base_uri": "https://localhost:8080/"
        },
        "id": "3jjrVQGN1-OK",
        "outputId": "82434423-e1f6-4515-a03b-481ace81caf5"
      },
      "execution_count": null,
      "outputs": [
        {
          "output_type": "stream",
          "name": "stdout",
          "text": [
            "Animals can speak.\n",
            "Dogs can barks.\n",
            "Dog can wags tail.\n"
          ]
        }
      ]
    },
    {
      "cell_type": "code",
      "source": [
        "# Problem 5\n",
        "\n",
        "class Shape:\n",
        "  def area(self):\n",
        "    return 0\n",
        "\n",
        "class Square(Shape):\n",
        "  def area(self):\n",
        "    side = 5\n",
        "    return side * side\n",
        "\n",
        "square = Square()\n",
        "print(\"Area of the square is:\", square.area())"
      ],
      "metadata": {
        "colab": {
          "base_uri": "https://localhost:8080/"
        },
        "id": "7IfFpYQCOcut",
        "outputId": "9d9fb4c7-3f0f-46b4-94dd-392bdf33d77c"
      },
      "execution_count": null,
      "outputs": [
        {
          "output_type": "stream",
          "name": "stdout",
          "text": [
            "Area of the square is: 25\n"
          ]
        }
      ]
    },
    {
      "cell_type": "code",
      "source": [
        "# Problem 6\n",
        "\n",
        "class Person:\n",
        "  def __init__(self, name):\n",
        "    self.name = name\n",
        "\n",
        "  def __str__(self):\n",
        "    return f\"Person: {self.name}\"\n",
        "\n",
        "class Employee(Person):\n",
        "  def __str__(self):\n",
        "    return f\"Employee: {self.name}\"\n",
        "\n",
        "employee = Employee(\"Abdul Subhan\")\n",
        "print(employee)"
      ],
      "metadata": {
        "colab": {
          "base_uri": "https://localhost:8080/"
        },
        "id": "KbocAt-tRdvr",
        "outputId": "75ea726d-c30e-430d-aaea-c3b82a4b13a1"
      },
      "execution_count": null,
      "outputs": [
        {
          "output_type": "stream",
          "name": "stdout",
          "text": [
            "Employee: Abdul Subhan\n"
          ]
        }
      ]
    },
    {
      "cell_type": "code",
      "source": [
        "# Problem 7\n",
        "\n",
        "class Animals:\n",
        "  def speek(self):\n",
        "    print(\"The animal make a sound.\")\n",
        "\n",
        "class Dog(Animals):\n",
        "  def speek(self):\n",
        "    print(\"The dog barks.\")\n",
        "\n",
        "Animal = Animals()\n",
        "dog = Dog()\n",
        "\n",
        "Animal.speek()\n",
        "dog.speek()"
      ],
      "metadata": {
        "colab": {
          "base_uri": "https://localhost:8080/"
        },
        "id": "PI1xCpUjYt6B",
        "outputId": "a3f39d5f-8de7-44a3-f418-ceaecf65f3e2"
      },
      "execution_count": null,
      "outputs": [
        {
          "output_type": "stream",
          "name": "stdout",
          "text": [
            "The animal make a sound.\n",
            "The dog barks.\n"
          ]
        }
      ]
    },
    {
      "cell_type": "code",
      "source": [
        "# Problem 8\n",
        "\n",
        "class Shape:\n",
        "  def area(self, side_1 = None, side_2 = None):\n",
        "    if side_1 is not None and side_2 is not None:\n",
        "      return side_1 * side_2\n",
        "\n",
        "    elif side_1 is not None:\n",
        "      return side_1 * side_1\n",
        "\n",
        "    else:\n",
        "      return 0\n",
        "\n",
        "shape = Shape()\n",
        "print(shape.area(side_1 = 5, side_2 = 10))\n",
        "print(shape.area(7))\n",
        "print(shape.area())"
      ],
      "metadata": {
        "colab": {
          "base_uri": "https://localhost:8080/"
        },
        "id": "zRh3sL2WbzI3",
        "outputId": "656dbe0a-89fa-434e-af41-9d2edede8182"
      },
      "execution_count": null,
      "outputs": [
        {
          "output_type": "stream",
          "name": "stdout",
          "text": [
            "50\n",
            "49\n",
            "0\n"
          ]
        }
      ]
    },
    {
      "cell_type": "code",
      "source": [
        "# Problem 9\n",
        "\n",
        "class Account:\n",
        "  def __init__(self, owner, balance):\n",
        "    self.owner = owner\n",
        "    self.__balance = balance\n",
        "\n",
        "  def deposit(self, amount):\n",
        "    if amount > 0:\n",
        "      self.__balance += amount\n",
        "      print(f\"Added {amount} Rs to the balance.\")\n",
        "\n",
        "    else:\n",
        "      print(\"Invalid deposit Amount.\")\n",
        "\n",
        "  def display_balance(self):\n",
        "    print(f\"Balance: {self.__balance}\")\n",
        "\n",
        "  def show_balance(self):\n",
        "    self.display_balance()\n",
        "\n",
        "account = Account(owner = \"Abdul Subhan\", balance = 100000)\n",
        "account.deposit(50000)\n",
        "account.show_balance()\n",
        "account.display_balance()"
      ],
      "metadata": {
        "colab": {
          "base_uri": "https://localhost:8080/"
        },
        "id": "xPi3qorogBge",
        "outputId": "dc41c54f-2fe9-45b8-f651-02b2f4c9f9d8"
      },
      "execution_count": null,
      "outputs": [
        {
          "output_type": "stream",
          "name": "stdout",
          "text": [
            "Added 50000 Rs to the balance.\n",
            "Balance: 150000\n",
            "Balance: 150000\n"
          ]
        }
      ]
    },
    {
      "cell_type": "code",
      "source": [
        "class Cal:\n",
        "  def __init__(self, a, b):\n",
        "    self.a = a\n",
        "    self.b = b\n",
        "\n",
        "  def add(self):\n",
        "    return self.a + self.b\n",
        "\n",
        "  def sub(self):\n",
        "    return self.a - self.b\n",
        "\n",
        "  def mul(self):\n",
        "    return self.a * self.b\n",
        "\n",
        "  def div(self):\n",
        "    return self.a / self.b\n",
        "\n",
        "  def rem(self):\n",
        "\n",
        "    return self.a % self.b\n",
        "\n",
        "class sqCub(Cal):\n",
        "  def __init__(self, c):\n",
        "    self.c = c\n",
        "\n",
        "  def square(self):\n",
        "    return self.c ** 2\n",
        "\n",
        "  def cube(self):\n",
        "    return self.c ** 3\n",
        "\n",
        "calculator = Cal(int(input(\"Enter the number: \")), int(input(\"Enter the number: \")))\n",
        "\n",
        "print(calculator.add())\n",
        "print(calculator.sub())\n",
        "print(calculator.mul())\n",
        "print(calculator.div())\n",
        "print(calculator.rem())\n",
        "\n",
        "calculate = sqCub(int(input(\"Enter the number: \")))\n",
        "\n",
        "print(calculate.square())\n",
        "print(calculate.cube())"
      ],
      "metadata": {
        "colab": {
          "base_uri": "https://localhost:8080/"
        },
        "id": "zTxorlXQvmvR",
        "outputId": "7936f909-78b8-410b-b76a-4224b127a789"
      },
      "execution_count": null,
      "outputs": [
        {
          "output_type": "stream",
          "name": "stdout",
          "text": [
            "Enter the number: 5\n",
            "Enter the number: 10\n",
            "15\n",
            "-5\n",
            "50\n",
            "0.5\n",
            "5\n",
            "Enter the number: 20\n",
            "400\n",
            "8000\n"
          ]
        }
      ]
    },
    {
      "cell_type": "code",
      "source": [],
      "metadata": {
        "id": "vyeuVrsDiP_9"
      },
      "execution_count": null,
      "outputs": []
    }
  ],
  "metadata": {
    "colab": {
      "provenance": []
    },
    "kernelspec": {
      "display_name": "Python 3",
      "name": "python3"
    },
    "language_info": {
      "name": "python"
    }
  },
  "nbformat": 4,
  "nbformat_minor": 0
}