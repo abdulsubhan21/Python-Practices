{
  "cells": [
    {
      "cell_type": "code",
      "execution_count": null,
      "metadata": {
        "colab": {
          "base_uri": "https://localhost:8080/"
        },
        "id": "s_QUFtVlLdca",
        "outputId": "6c2a77cb-2dd6-4a62-cd4c-60ff48a1f515"
      },
      "outputs": [
        {
          "output_type": "stream",
          "name": "stdout",
          "text": [
            "Enter The Name: Abdul Subhan\n",
            "Enter The Subject 1 Marks: 74\n",
            "Enter The Subject 2 Marks: 78\n",
            "Enter The Subject 3 Marks: 95\n",
            "Enter The Subject 4 Marks: 76\n",
            "Enter The Subject 5 Marks: 80\n",
            "\n",
            "\n",
            "Students Report Card\n",
            "\n",
            "Student Name: Abdul Subhan\n",
            "Student Subjects Marks: [74.0, 78.0, 95.0, 76.0, 80.0]\n",
            "Student Grade: 80.6\n",
            "Student Performance: Very Exellent\n"
          ]
        }
      ],
      "source": [
        "name = input(\"Enter The Name: \")\n",
        "subject_1 = float(input(\"Enter The Subject 1 Marks: \"))\n",
        "subject_2 = float(input(\"Enter The Subject 2 Marks: \"))\n",
        "subject_3 = float(input(\"Enter The Subject 3 Marks: \"))\n",
        "subject_4 = float(input(\"Enter The Subject 4 Marks: \"))\n",
        "subject_5 = float(input(\"Enter The Subject 5 Marks: \"))\n",
        "\n",
        "marks = [subject_1, subject_2, subject_3, subject_4, subject_5]\n",
        "grade = sum(marks) / len(marks)\n",
        "\n",
        "if grade >= 80:\n",
        "   performance = \"Very Exellent\"\n",
        "\n",
        "elif grade >= 70 and grade <= 79:\n",
        "     performance = \"Exellent\"\n",
        "\n",
        "elif grade >= 60 and grade <= 69:\n",
        "     performance = \"Very Good\"\n",
        "\n",
        "elif grade >= 50 and grade <= 59:\n",
        "     performance = \"Good\"\n",
        "\n",
        "elif grade >= 40 and grade <= 49:\n",
        "     performance = \"Average\"\n",
        "\n",
        "else:\n",
        "     performance = \"Fail\"\n",
        "\n",
        "print(f'''\n",
        "\n",
        "Students Report Card\n",
        "\n",
        "Student Name: {name}\n",
        "Student Subjects Marks: {marks}\n",
        "Student Grade: {grade}\n",
        "Student Performance: {performance}''')"
      ]
    },
    {
      "cell_type": "code",
      "execution_count": null,
      "metadata": {
        "colab": {
          "base_uri": "https://localhost:8080/"
        },
        "id": "fqCBYX6rnUf2",
        "outputId": "e6692fe7-5656-4d2e-aacb-d148dc8adc30"
      },
      "outputs": [
        {
          "output_type": "stream",
          "name": "stdout",
          "text": [
            "Enter the name: Abdul Subhan\n",
            "Enter the item 1: Monitor\n",
            "Enter the item 1 price: 5000\n",
            "Enter the item 2: CPU\n",
            "Enter the item 2 price: 10000\n",
            "Enter the item 3: Keyboard and Mouse\n",
            "Enter the item 3 price: 3000\n",
            "\n",
            "\n",
            "Shopping Bill\n",
            "\n",
            "Customer Name: Abdul Subhan\n",
            "Items: ['Monitor', 'CPU', 'Keyboard and Mouse']\n",
            "Prices: [5000, 10000, 3000]\n",
            "Total Price: 18000\n",
            "10% Discount:  1800.0\n",
            "Final Price: 16200.0\n"
          ]
        }
      ],
      "source": [
        "name = input(\"Enter the name: \")\n",
        "\n",
        "item_1 = input(\"Enter the item 1: \")\n",
        "item_1_price = int(input(\"Enter the item 1 price: \"))\n",
        "\n",
        "item_2 = input(\"Enter the item 2: \")\n",
        "item_2_price = int(input(\"Enter the item 2 price: \"))\n",
        "\n",
        "item_3 = input(\"Enter the item 3: \")\n",
        "item_3_price = int(input(\"Enter the item 3 price: \"))\n",
        "\n",
        "item_names = [item_1, item_2, item_3]\n",
        "item_prices = [item_1_price, item_2_price, item_3_price]\n",
        "\n",
        "total_price = sum(item_prices)\n",
        "\n",
        "if total_price > 10000:\n",
        "   discount_amount = total_price * 10 / 100\n",
        "   final_price = total_price - discount_amount\n",
        "   discount = f\" {discount_amount}\"\n",
        "\n",
        "else:\n",
        "     final_price = total_price\n",
        "     discount = \"No discount.\"\n",
        "\n",
        "print(f'''\n",
        "\n",
        "Shopping Bill\n",
        "\n",
        "Customer Name: {name}\n",
        "Items: {item_names}\n",
        "Prices: {item_prices}\n",
        "Total Price: {total_price}\n",
        "10% Discount: {discount}\n",
        "Final Price: {final_price}''')"
      ]
    },
    {
      "cell_type": "code",
      "execution_count": null,
      "metadata": {
        "colab": {
          "base_uri": "https://localhost:8080/"
        },
        "id": "lIcw9LF64c-H",
        "outputId": "f8554873-9cad-4f3e-83e7-435169cf485e"
      },
      "outputs": [
        {
          "output_type": "stream",
          "name": "stdout",
          "text": [
            "Enter the student name: Abdul Subhan\n",
            "Enter the student age: 17\n",
            "Enter the student maths numbers: 76\n",
            "Enter the student science numbers: 95\n",
            "Enter the student english numbers: 80\n",
            "\n",
            "Student Performance Report:\n",
            "\n",
            "Name: Abdul Subhan\n",
            "Age: 17\n",
            "Scores: Math: 76.0, Science: 95.0, English: 80.0\n",
            "Percentage: 83.7\n",
            "Grade: A+\n"
          ]
        }
      ],
      "source": [
        "name = input(\"Enter the student name: \")\n",
        "age = int(input(\"Enter the student age: \"))\n",
        "\n",
        "math_numbers = float(input(\"Enter the student maths numbers: \"))\n",
        "science_numbers = float(input(\"Enter the student science numbers: \"))\n",
        "english_numbers = float(input(\"Enter the student english numbers: \"))\n",
        "\n",
        "numbers = [math_numbers, science_numbers, english_numbers]\n",
        "\n",
        "student_info = {\"name\": name, \"age\": age, \"numbers\": numbers}\n",
        "\n",
        "total_numbers = 0\n",
        "for i in numbers:\n",
        "    total_numbers += i\n",
        "\n",
        "percentage = total_numbers / len(numbers)\n",
        "\n",
        "student_info[\"percentage\"] = percentage\n",
        "\n",
        "if percentage >= 80:\n",
        "   grade = \"A+\"\n",
        "elif 70 <= percentage <= 79:\n",
        "     grade = \"A\"\n",
        "elif 60 <= percentage <= 69:\n",
        "     grade = \"B\"\n",
        "elif 50 <= percentage <= 59:\n",
        "     grade = \"C\"\n",
        "elif 40 <= percentage <= 49:\n",
        "     grade = \"D\"\n",
        "else:\n",
        "     grade = \"Fail\"\n",
        "\n",
        "print(f'''\n",
        "Student Performance Report:\n",
        "\n",
        "Name: {student_info[\"name\"]}\n",
        "Age: {student_info[\"age\"]}\n",
        "Scores: Math: {math_numbers}, Science: {science_numbers}, English: {english_numbers}\n",
        "Percentage: {percentage:.1f}\n",
        "Grade: {grade}''')"
      ]
    },
    {
      "cell_type": "code",
      "execution_count": null,
      "metadata": {
        "colab": {
          "base_uri": "https://localhost:8080/"
        },
        "id": "XYAS2qR61fE1",
        "outputId": "f76c4855-daad-445f-9a0a-51e3fb443c67"
      },
      "outputs": [
        {
          "output_type": "stream",
          "name": "stdout",
          "text": [
            "Enter your name: Abdul Subhan\n",
            "Enter your age: 17\n",
            "Enter your nationality: Pakistani\n",
            "Enter at least 3 skills: HTML CSS Python\n",
            "\n",
            "    Personal Information:\n",
            "\n",
            "    Name: Abdul Subhan\n",
            "    Age: 17\n",
            "    Nationality: Pakistani\n",
            "    Skills: Html, Css, Python\n",
            "    \n",
            "You are not eligible to apply for the job.\n"
          ]
        }
      ],
      "source": [
        "sname = input(\"Enter your name: \").strip().title()\n",
        "age = int(input(\"Enter your age: \"))\n",
        "nationality = input(\"Enter your nationality: \").strip().title()\n",
        "skills = input(\"Enter at least 3 skills: \").strip().split()\n",
        "\n",
        "if len(skills) < 3:\n",
        "   print(\"You must enter at least 3 skills.\")\n",
        "else:\n",
        "     print(f'''\n",
        "    Personal Information:\n",
        "\n",
        "    Name: {name}\n",
        "    Age: {age}\n",
        "    Nationality: {nationality}\n",
        "    Skills: {', '.join([skill.strip().title() for skill in skills])}\n",
        "    ''')\n",
        "\n",
        "if age >= 18:\n",
        "   print(\"You are eligible to apply for the job.\")\n",
        "else:\n",
        "     print(\"You are not eligible to apply for the job.\")"
      ]
    },
    {
      "cell_type": "code",
      "execution_count": null,
      "metadata": {
        "colab": {
          "base_uri": "https://localhost:8080/"
        },
        "id": "HV-2LxNFQci3",
        "outputId": "6eb09566-1fd5-4a38-9ca7-a9090629fb7b"
      },
      "outputs": [
        {
          "output_type": "stream",
          "name": "stdout",
          "text": [
            "Enter the number between 1 to 100: 50\n",
            "Guess lower number\n",
            "Enter the number between 1 to 100: 10\n",
            "Guess higher number\n",
            "Enter the number between 1 to 100: 40\n",
            "Guess lower number\n",
            "Enter the number between 1 to 100: 20\n",
            "Guess lower number\n",
            "Enter the number between 1 to 100: 15\n",
            "Guess lower number\n",
            "Enter the number between 1 to 100: 13\n",
            "Guess lower number\n",
            "Enter the number between 1 to 100: 11\n",
            "Correct answer\n",
            "You took 7 attempts\n"
          ]
        }
      ],
      "source": [
        "import random\n",
        "jackpot = random.randint(1, 100)\n",
        "\n",
        "guess = int(input(\"Enter the number between 1 to 100: \"))\n",
        "counter = 1\n",
        "\n",
        "while guess != jackpot:\n",
        "      if guess < jackpot:\n",
        "         print(\"Guess higher number\")\n",
        "      else:\n",
        "           print(\"Guess lower number\")\n",
        "\n",
        "      guess = int(input(\"Enter the number between 1 to 100: \"))\n",
        "      counter += 1\n",
        "\n",
        "print(\"Correct answer\")\n",
        "print(\"You took\",counter,\"attempts\")"
      ]
    },
    {
      "cell_type": "code",
      "execution_count": null,
      "metadata": {
        "colab": {
          "base_uri": "https://localhost:8080/"
        },
        "id": "Y3QACAvuFc43",
        "outputId": "265f909b-ae1f-46d6-fee6-a1c845c47d39"
      },
      "outputs": [
        {
          "output_type": "stream",
          "name": "stdout",
          "text": [
            "Enter The Alphabet: i\n",
            "This is vowel\n"
          ]
        }
      ],
      "source": [
        "alpha = input(\"Enter The Alphabet: \")\n",
        "\n",
        "if alpha == \"a\":\n",
        "   print(\"This is vowel\")\n",
        "\n",
        "elif alpha == \"e\":\n",
        "   print(\"This is vowel\")\n",
        "\n",
        "elif alpha == \"i\":\n",
        "   print(\"This is vowel\")\n",
        "\n",
        "elif alpha == \"o\":\n",
        "   print(\"This is vowel\")\n",
        "\n",
        "elif alpha == \"u\":\n",
        "   print(\"This is vowel\")\n",
        "\n",
        "else:\n",
        "     print(\"This is consunent\")"
      ]
    },
    {
      "cell_type": "code",
      "execution_count": null,
      "metadata": {
        "colab": {
          "base_uri": "https://localhost:8080/"
        },
        "id": "r9WVfkvCLP4L",
        "outputId": "92f04bf0-3537-479c-9702-6b54853a97f3"
      },
      "outputs": [
        {
          "output_type": "stream",
          "name": "stdout",
          "text": [
            "Enter The Name: Abdul Subhan\n",
            "Enter The First Number: 20\n",
            "Enter The Second Number: 10\n",
            "Enter The Operator (+, -, *, /): *\n",
            "20 * 10 = 200\n"
          ]
        }
      ],
      "source": [
        "name = input(\"Enter The Name: \")\n",
        "first_num = int((input(\"Enter The First Number: \")))\n",
        "second_num = int((input(\"Enter The Second Number: \")))\n",
        "operator = input(\"Enter The Operator (+, -, *, /): \")\n",
        "\n",
        "if operator == \"+\":\n",
        "   result = first_num + second_num\n",
        "\n",
        "elif operator == \"-\":\n",
        "     result = first_num - second_num\n",
        "\n",
        "elif operator == \"*\":\n",
        "     result = first_num * second_num\n",
        "\n",
        "elif operator == \"/\":\n",
        "     result = first_num / second_num\n",
        "\n",
        "else:\n",
        "    result = \"Invalid operator\"\n",
        "\n",
        "if operator in [\"+\", \"-\", \"*\", \"/\"]:\n",
        "    print(f\"{first_num} {operator} {second_num} = {result}\")\n",
        "\n",
        "else:\n",
        "    print(\"Error: Invalid operator entered.\")\n",
        "\n",
        "if first_num > 100:\n",
        "   print(f'''My name is {name}, and {first_num} is grater then 100.''')"
      ]
    },
    {
      "cell_type": "code",
      "execution_count": null,
      "metadata": {
        "colab": {
          "base_uri": "https://localhost:8080/"
        },
        "id": "ISURNFKULZ5r",
        "outputId": "e4386758-7e95-4f9d-cc89-182f6c393d1c"
      },
      "outputs": [
        {
          "output_type": "stream",
          "name": "stdout",
          "text": [
            "Enter The First Name: Abdul\n",
            "Enter The Last Name: Subhan\n",
            "Enter The Birth Year: 2007\n",
            "Abdulsubhan\n",
            "17\n",
            "The user is under 18\n"
          ]
        }
      ],
      "source": [
        "first_name = input(\"Enter The First Name: \")\n",
        "last_name = input(\"Enter The Last Name: \")\n",
        "birth_year = int(input(\"Enter The Birth Year: \"))\n",
        "\n",
        "full_name = first_name + last_name\n",
        "print(full_name.capitalize())\n",
        "\n",
        "age = 2024 - 2007\n",
        "print(age)\n",
        "\n",
        "if age >= 18:\n",
        "   print(f'''My name is {name}. I am {age} years old. The user is greter then 18''')\n",
        "\n",
        "else:\n",
        "     print(\"The user is under 18\")"
      ]
    },
    {
      "cell_type": "code",
      "execution_count": null,
      "metadata": {
        "colab": {
          "base_uri": "https://localhost:8080/"
        },
        "id": "ZmrInkJyLkuE",
        "outputId": "900302b2-d337-4143-e824-a6e62d6e1fbb"
      },
      "outputs": [
        {
          "output_type": "stream",
          "name": "stdout",
          "text": [
            "Enter the Number:4\n",
            "Even Number\n"
          ]
        }
      ],
      "source": [
        "num = int(input(\"Enter the Number:\"))\n",
        "\n",
        "if num % 2 == 0:\n",
        "   print(\"Even Number\")\n",
        "else:\n",
        "     print(\"Odd Number\")"
      ]
    },
    {
      "cell_type": "code",
      "execution_count": null,
      "metadata": {
        "colab": {
          "base_uri": "https://localhost:8080/"
        },
        "id": "myY5a2QNLseR",
        "outputId": "6d581564-ee76-458f-e955-909f3469d98e"
      },
      "outputs": [
        {
          "output_type": "stream",
          "name": "stdout",
          "text": [
            "Enter Your Name: Abdul Subhan\n",
            "Enter Your First Number: 20\n",
            "Enter Your Second Number: 10\n",
            "Nice to meet you! your name is Abdul Subhan and your results is addition: 30.0, subtraction: 10.0, multiplication: 200.0 and division: 2.0\n"
          ]
        }
      ],
      "source": [
        "name = input(\"Enter Your Name: \")\n",
        "num_1 = float(input(\"Enter Your First Number: \"))\n",
        "num_2 = float(input(\"Enter Your Second Number: \"))\n",
        "\n",
        "result_1 = num_1 + num_2\n",
        "result_2 = num_1 - num_2\n",
        "result_3 = num_1 * num_2\n",
        "result_4 = num_1 / num_2\n",
        "\n",
        "print(f'''Nice to meet you! your name is {name} and your results is addition: {result_1}, subtraction: {result_2}, multiplication: {result_3} and division: {result_4}''')"
      ]
    },
    {
      "cell_type": "code",
      "execution_count": null,
      "metadata": {
        "colab": {
          "base_uri": "https://localhost:8080/"
        },
        "id": "N1GmM7JdL61j",
        "outputId": "0ca8c292-d065-4187-a70b-eb105b9818b1"
      },
      "outputs": [
        {
          "output_type": "stream",
          "name": "stdout",
          "text": [
            "Enter The First Name: Abdul\n",
            "Enter The Second Name: Subhan\n",
            "Enter the Favorite Number: 5\n",
            "5 is odd Number\n",
            "Your name is Abdul Subhan.\n"
          ]
        }
      ],
      "source": [
        "first_name = input(\"Enter The First Name: \")\n",
        "second_name = input(\"Enter The Second Name: \")\n",
        "favorite_number = int(input(\"Enter the Favorite Number: \"))\n",
        "\n",
        "full_name = first_name+\" \"+second_name\n",
        "complete_name = full_name.title()\n",
        "\n",
        "if favorite_number % 2 == 0:\n",
        "   print(f'''{favorite_number} is even Number''')\n",
        "else:\n",
        "     print(f'''{favorite_number} is odd Number''')\n",
        "\n",
        "print(f'''Your name is {complete_name}.''')"
      ]
    },
    {
      "cell_type": "code",
      "execution_count": null,
      "metadata": {
        "colab": {
          "base_uri": "https://localhost:8080/"
        },
        "id": "JfPSoPDSMK2-",
        "outputId": "8038d3b1-2c65-44f4-e4a7-789714205a01"
      },
      "outputs": [
        {
          "output_type": "stream",
          "name": "stdout",
          "text": [
            "Name: Abdul Subhan\n",
            "Father Name: Saghir Muhammad\n",
            "Age: 17\n",
            "Class: 12\n",
            "Roll Number: 31715\n",
            "Enter The Marks Of English: 80\n",
            "Enter The Marks Of Math: 76\n",
            "Enter The Marks Of Physics: 95\n",
            "Enter The Marks Of Chemistry: 78\n",
            "Enter The Marks Of Computer: 74\n",
            "                                   Board Of Secondary Education Karachi\n",
            "                                                 Mark Sheet\n",
            "Name: ABDUL SUBHAN\n",
            "Father Name: SAGHIR MUHAMMAD\n",
            "age: 17\n",
            "Class: 12\n",
            "Roll No.: 31715\n",
            "     Subjects\n",
            "English Marks: 80.0\n",
            "Math Marks: 76.0\n",
            "Physics Marks: 95.0\n",
            "Chemistry Marks: 78.0\n",
            "Computer Marks: 74.0\n",
            "     Result\n",
            "Total Marks: 403.0\n",
            "Percentage: 80.60000000000001\n",
            "Grade: A+\n"
          ]
        }
      ],
      "source": [
        "name = input(\"Name: \")\n",
        "father_name = input(\"Father Name: \")\n",
        "age = int(input(\"Age: \"))\n",
        "college_class = int(input(\"Class: \"))\n",
        "roll_number = int(input(\"Roll Number: \"))\n",
        "\n",
        "english_marks = float(input(\"Enter The Marks Of English: \"))\n",
        "math_marks = float(input(\"Enter The Marks Of Math: \"))\n",
        "physics_marks = float(input(\"Enter The Marks Of Physics: \"))\n",
        "chemistry_marks =  float(input(\"Enter The Marks Of Chemistry: \"))\n",
        "computer_marks =  float(input(\"Enter The Marks Of Computer: \"))\n",
        "\n",
        "print(\"                                   Board Of Secondary Education Karachi\")\n",
        "print(\"                                                 Mark Sheet\")\n",
        "\n",
        "print(\"Name:\",name.upper())\n",
        "print(\"Father Name:\",father_name.upper())\n",
        "print(\"age:\",age)\n",
        "print(\"Class:\",college_class)\n",
        "print(\"Roll No.:\",roll_number)\n",
        "\n",
        "print(f'''     Subjects\n",
        "English Marks: {english_marks}\n",
        "Math Marks: {math_marks}\n",
        "Physics Marks: {physics_marks}\n",
        "Chemistry Marks: {chemistry_marks}\n",
        "Computer Marks: {computer_marks}''')\n",
        "\n",
        "total_marks = english_marks + math_marks + physics_marks + chemistry_marks + computer_marks\n",
        "max_marks = 500\n",
        "percentage = (total_marks / max_marks) * 100\n",
        "grade = percentage\n",
        "\n",
        "print(f'''     Result\n",
        "Total Marks: {total_marks}\n",
        "Percentage: {percentage}''')\n",
        "\n",
        "if percentage >= 80:\n",
        "   print(\"Grade: A+\")\n",
        "\n",
        "elif percentage >= 70:\n",
        "      print(\"Grade: A\")\n",
        "\n",
        "elif percentage >= 60:\n",
        "     print(\"Grade: B\")\n",
        "\n",
        "elif percentage >= 50:\n",
        "     print(\"Grade: C\")\n",
        "\n",
        "elif percentage >= 40:\n",
        "     print(\"Grade: D\")\n",
        "\n",
        "else:\n",
        "     print(\"Fail\")"
      ]
    },
    {
      "cell_type": "code",
      "execution_count": null,
      "metadata": {
        "colab": {
          "base_uri": "https://localhost:8080/"
        },
        "id": "3xkD2UVUOSLx",
        "outputId": "4ff9bb70-e963-44d2-e3c1-1cd73040508b"
      },
      "outputs": [
        {
          "output_type": "stream",
          "name": "stdout",
          "text": [
            "Enter the title of the book: THE GREATE MOON\n",
            "Enter the Aouther Name: Abdul Subhan\n",
            "Enter the price of the book (in dollars): 100\n",
            "   BILL SLIP\n",
            "\n",
            "Book Title: THE GREATE MOON\n",
            "Aouther Name: Abdul Subhan\n",
            "Original Price: 100\n",
            "Discount Applied: 0\n",
            "Final Price to Pay: 100\n"
          ]
        }
      ],
      "source": [
        "book_title = input(\"Enter the title of the book: \")\n",
        "aouther_name = input(\"Enter the Aouther Name: \")\n",
        "book_price = int(input(\"Enter the price of the book (in dollars): \"))\n",
        "\n",
        "if book_price > 100:\n",
        "    discount = book_price * 10 / 100\n",
        "\n",
        "elif book_price < 50:\n",
        "    discount = book_price * 5 / 100\n",
        "\n",
        "else:\n",
        "     discount = 0\n",
        "\n",
        "final_price = book_price - discount\n",
        "\n",
        "print(f'''   BILL SLIP\n",
        "\n",
        "Book Title: {book_title}\n",
        "Aouther Name: {aouther_name}\n",
        "Original Price: {book_price}\n",
        "Discount Applied: {discount}\n",
        "Final Price to Pay: {final_price}''')"
      ]
    },
    {
      "cell_type": "code",
      "execution_count": null,
      "metadata": {
        "colab": {
          "base_uri": "https://localhost:8080/"
        },
        "id": "P6JyOA0NOsPN",
        "outputId": "4a1c8cf7-1060-4ba7-e289-abf68c6608ac"
      },
      "outputs": [
        {
          "output_type": "stream",
          "name": "stdout",
          "text": [
            "Enter the gejit name: T.V.\n",
            "Enter the gejit price: 15000\n",
            "Recipt\n",
            "\n",
            "Gegit_Name: T.V.\n",
            "Original price: 15000\n",
            "Total discount: 2250.0\n",
            "Final price: 12750.0\n"
          ]
        }
      ],
      "source": [
        "gejit_name = input(\"Enter the gejit name: \")\n",
        "gejit_price = int(input(\"Enter the gejit price: \"))\n",
        "\n",
        "if gejit_price > 500:\n",
        "   discount = gejit_price * 15 / 100\n",
        "\n",
        "elif gejit_price < 200:\n",
        "     discount = gejit_price * 7 / 100\n",
        "\n",
        "else:\n",
        "     discount = 0\n",
        "\n",
        "final_price = gejit_price - discount\n",
        "\n",
        "print(f'''Recipt\n",
        "\n",
        "Gegit_Name: {gejit_name}\n",
        "Original price: {gejit_price}\n",
        "Total discount: {discount}\n",
        "Final price: {final_price}''')"
      ]
    },
    {
      "cell_type": "code",
      "execution_count": null,
      "metadata": {
        "colab": {
          "base_uri": "https://localhost:8080/"
        },
        "id": "d0FSdCCHO3U8",
        "outputId": "1548f9ab-e3d5-4ae9-d3d7-f353ceb41ef1"
      },
      "outputs": [
        {
          "output_type": "stream",
          "name": "stdout",
          "text": [
            "Enter the cost of meal: 1000\n",
            "Enter the tax of meal: 50\n",
            "Enter the tip of meal: 100\n",
            "Meal Cost\n",
            "Meal Cost: 1000\n",
            "Meal Tax: 50\n",
            "Meal Tip: 100\n",
            "Total Meal Cost: 1150.0\n"
          ]
        }
      ],
      "source": [
        "meal_cost = int(input(\"Enter the cost of meal: \"))\n",
        "meal_tax = int(input(\"Enter the tax of meal: \"))\n",
        "meal_tip = int(input(\"Enter the tip of meal: \"))\n",
        "\n",
        "tax_amount = meal_cost * 10/100\n",
        "tip_amount = meal_cost * 5/100\n",
        "\n",
        "total_meal_coat = meal_cost + tax_amount + tip_amount\n",
        "\n",
        "print(f'''Meal Cost\n",
        "Meal Cost: {meal_cost}\n",
        "Meal Tax: {meal_tax}\n",
        "Meal Tip: {meal_tip}\n",
        "Total Meal Cost: {total_meal_coat}''')"
      ]
    },
    {
      "cell_type": "code",
      "execution_count": null,
      "metadata": {
        "colab": {
          "base_uri": "https://localhost:8080/"
        },
        "id": "CqetTTt6PFk4",
        "outputId": "f2c25af6-0463-4a42-c101-8d4fd67c49f8"
      },
      "outputs": [
        {
          "output_type": "stream",
          "name": "stdout",
          "text": [
            "Enter Your Height (in cm): 5.5\n",
            "Enter Your Weight (in kg): 50\n",
            "BMI: 16528.92561983471\n",
            "You are obese\n",
            "You should consult a doctor\n"
          ]
        }
      ],
      "source": [
        "height_in_centimeters = float(input(\"Enter Your Height (in cm): \"))\n",
        "weight_in_kilograms = float(input(\"Enter Your Weight (in kg): \"))\n",
        "\n",
        "height_in_meters = height_in_centimeters / 100\n",
        "bmi = weight_in_kilograms / height_in_meters ** 2\n",
        "print(f\"BMI: {bmi}\")\n",
        "\n",
        "if bmi < 18.5:\n",
        "    print(\"You are underweight\")\n",
        "\n",
        "elif bmi > 18.5 and bmi < 24.9:\n",
        "    print(\"You have a normal weight\")\n",
        "\n",
        "elif bmi > 25 and bmi < 29.9:\n",
        "    print(\"You are overweight\")\n",
        "\n",
        "elif bmi >= 30:\n",
        "    print(\"You are obese\")\n",
        "\n",
        "    if bmi >= 30 and bmi > 40:\n",
        "       print(\"You should consult a doctor\")\n",
        "\n",
        "else:\n",
        "     print(\"You are very, very, very overweight\")"
      ]
    },
    {
      "cell_type": "code",
      "execution_count": null,
      "metadata": {
        "colab": {
          "base_uri": "https://localhost:8080/"
        },
        "id": "2M1_CRNPPSTj",
        "outputId": "6fef9e24-9816-437d-eaf0-5799a3edb937"
      },
      "outputs": [
        {
          "output_type": "stream",
          "name": "stdout",
          "text": [
            "Enter Your Full Name: Muhammad Abdul Subhan\n",
            "Enter Your Secret Code: XYZ12345\n",
            "Access granted for Muhammad Abdul Subhan\n"
          ]
        }
      ],
      "source": [
        "full_name = input(\"Enter Your Full Name: \")\n",
        "secret_code = input(\"Enter Your Secret Code: \")\n",
        "\n",
        "name_words = full_name.split()\n",
        "\n",
        "if len(name_words) < 3:\n",
        "   print(\"Please provide your full name (first, middle, and last).\")\n",
        "\n",
        "else:\n",
        "     if len(secret_code) == 8 and secret_code.startswith(\"XYZ\"):\n",
        "        print(f'''Access granted for {full_name}''')\n",
        "\n",
        "     else:\n",
        "          print(\"Invalid secret code. Code must start with 'XYZ' and be 8 characters long\")"
      ]
    },
    {
      "cell_type": "code",
      "execution_count": null,
      "metadata": {
        "colab": {
          "base_uri": "https://localhost:8080/"
        },
        "id": "pT6pw9PGPy9x",
        "outputId": "250cc4fd-26fc-47f2-bbdc-a51ded12a934"
      },
      "outputs": [
        {
          "output_type": "stream",
          "name": "stdout",
          "text": [
            "Enter your name: MASubhan\n",
            "Valid name!\n"
          ]
        }
      ],
      "source": [
        "name = input(\"Enter your name: \")\n",
        "\n",
        "if len(name) != 8:\n",
        "   print(\"Invalid: name must be exactly 8 characters long.\")\n",
        "\n",
        "   if not name[0].isalpha():\n",
        "      print(\"Invalid: name must start with an alphabet character.\")\n",
        "\n",
        "   if \" \" in name:\n",
        "\n",
        "      print(\"Invalid: name must not contain any spaces.\")\n",
        "\n",
        "else:\n",
        "     print(\"Valid name!\")"
      ]
    },
    {
      "cell_type": "code",
      "execution_count": null,
      "metadata": {
        "colab": {
          "base_uri": "https://localhost:8080/"
        },
        "id": "orEJDyytQCNP",
        "outputId": "22f7ce48-a5be-4d1b-fc76-eca046d77183"
      },
      "outputs": [
        {
          "output_type": "stream",
          "name": "stdout",
          "text": [
            "Enter the number: 5\n",
            "120\n"
          ]
        }
      ],
      "source": [
        "number = int(input(\"Enter the number: \"))\n",
        "\n",
        "factorial = 1\n",
        "\n",
        "while number > 1:\n",
        "      factorial *= number\n",
        "      number -= 1\n",
        "\n",
        "print(factorial)"
      ]
    },
    {
      "cell_type": "code",
      "execution_count": null,
      "metadata": {
        "colab": {
          "base_uri": "https://localhost:8080/"
        },
        "id": "HVo7TXH9kugL",
        "outputId": "00fe17e0-89e2-431a-ece2-068409220169"
      },
      "outputs": [
        {
          "output_type": "stream",
          "name": "stdout",
          "text": [
            "[4, 16]\n"
          ]
        }
      ],
      "source": [
        "numbers = [1, 5, 2, 4, 3, 4, 2]\n",
        "\n",
        "square_numbers = [i ** 2 for i in numbers if i % 2 == 0]\n",
        "\n",
        "unique_numbers = []\n",
        "\n",
        "[unique_numbers.append(i) for i in square_numbers if i not in unique_numbers]\n",
        "\n",
        "sort_unique_numbers = sorted(unique_numbers)\n",
        "\n",
        "print(sort_unique_numbers)"
      ]
    },
    {
      "cell_type": "code",
      "source": [
        "class Calculator:\n",
        "  def __init__(self, a = 0, b = 0):\n",
        "    self.a = a\n",
        "    self.b = b\n",
        "\n",
        "  def Add(self):\n",
        "    return self.a + self.b\n",
        "\n",
        "  def Sub(self):\n",
        "    return self.a - self.b\n",
        "\n",
        "  def Mul(self):\n",
        "    return self.a * self.b\n",
        "\n",
        "  def Div(self):\n",
        "    return self.a / self.b\n",
        "\n",
        "  def Reminder(self):\n",
        "    return self.a % self.b\n",
        "\n",
        "  def Square(self):\n",
        "    return self.a ** 2\n",
        "\n",
        "  def Cube(self):\n",
        "    return self.a ** 3\n",
        "\n",
        "result = Calculator(a = int(input(\"Enter the first number: \")), b = int(input(\"Enter the second number: \")))\n",
        "print(result.Add())\n",
        "print(result.Sub())\n",
        "print(result.Mul())\n",
        "print(result.Div())\n",
        "print(result.Reminder())\n",
        "print(result.Square())\n",
        "print(result.Cube())"
      ],
      "metadata": {
        "colab": {
          "base_uri": "https://localhost:8080/"
        },
        "id": "4HlKR8BtaaK2",
        "outputId": "21af4526-0c41-48ac-dc5b-b363eefbe6eb"
      },
      "execution_count": null,
      "outputs": [
        {
          "output_type": "stream",
          "name": "stdout",
          "text": [
            "Enter the first number: 20\n",
            "Enter the second number: 10\n",
            "30\n",
            "10\n",
            "200\n",
            "2.0\n",
            "0\n",
            "400\n",
            "8000\n"
          ]
        }
      ]
    },
    {
      "cell_type": "code",
      "source": [
        "# Problem 1\n",
        "# Numpy Problem\n",
        "# Create an Array and Perform Element-wise Operations\n",
        "\n",
        "import numpy as np\n",
        "\n",
        "array = np.arange(1, 11)\n",
        "\n",
        "result = array * 3 - 5\n",
        "\n",
        "result"
      ],
      "metadata": {
        "colab": {
          "base_uri": "https://localhost:8080/"
        },
        "id": "rsnZHlTHdTXh",
        "outputId": "9dfa2556-35c0-4b81-fcc9-5c963426ac0b"
      },
      "execution_count": null,
      "outputs": [
        {
          "output_type": "execute_result",
          "data": {
            "text/plain": [
              "array([-2,  1,  4,  7, 10, 13, 16, 19, 22, 25])"
            ]
          },
          "metadata": {},
          "execution_count": 1
        }
      ]
    },
    {
      "cell_type": "code",
      "source": [
        "# Problem 2\n",
        "# Pandas Problem\n",
        "# Create a DataFrame and Display Specific Rows and Columns\n",
        "\n",
        "import pandas as pd\n",
        "\n",
        "df = pd.DataFrame({\n",
        "    \"Name\":[\"Abdul Subhan\", \"Abdullah\", \"Abdul Rehman\", \"Areeba\", \"Eman\", \"Ummi\"],\n",
        "    \"Age\":[17, 19, 22, 24, 21, 7],\n",
        "    \"City\":[\"Karachi\", \"Lahore\", \"Islamabad\", \"Quetta\", \"Peshawar\", \"Multan\"]\n",
        "})\n",
        "\n",
        "filtered_ages = df[df[\"Age\"] > 20]\n",
        "\n",
        "result = filtered_ages[\"Name\"]\n",
        "\n",
        "result"
      ],
      "metadata": {
        "colab": {
          "base_uri": "https://localhost:8080/",
          "height": 178
        },
        "id": "_mtVCi7Od1Oq",
        "outputId": "95288a2a-1247-46c9-c521-f395131ff92c"
      },
      "execution_count": null,
      "outputs": [
        {
          "output_type": "execute_result",
          "data": {
            "text/plain": [
              "2    Abdul Rehman\n",
              "3          Areeba\n",
              "4            Eman\n",
              "Name: Name, dtype: object"
            ],
            "text/html": [
              "<div>\n",
              "<style scoped>\n",
              "    .dataframe tbody tr th:only-of-type {\n",
              "        vertical-align: middle;\n",
              "    }\n",
              "\n",
              "    .dataframe tbody tr th {\n",
              "        vertical-align: top;\n",
              "    }\n",
              "\n",
              "    .dataframe thead th {\n",
              "        text-align: right;\n",
              "    }\n",
              "</style>\n",
              "<table border=\"1\" class=\"dataframe\">\n",
              "  <thead>\n",
              "    <tr style=\"text-align: right;\">\n",
              "      <th></th>\n",
              "      <th>Name</th>\n",
              "    </tr>\n",
              "  </thead>\n",
              "  <tbody>\n",
              "    <tr>\n",
              "      <th>2</th>\n",
              "      <td>Abdul Rehman</td>\n",
              "    </tr>\n",
              "    <tr>\n",
              "      <th>3</th>\n",
              "      <td>Areeba</td>\n",
              "    </tr>\n",
              "    <tr>\n",
              "      <th>4</th>\n",
              "      <td>Eman</td>\n",
              "    </tr>\n",
              "  </tbody>\n",
              "</table>\n",
              "</div><br><label><b>dtype:</b> object</label>"
            ]
          },
          "metadata": {},
          "execution_count": 7
        }
      ]
    },
    {
      "cell_type": "code",
      "source": [
        "# Problem 3\n",
        "# Numpy Problem\n",
        "# Calculate the Mean Median and Standered Deviation\n",
        "\n",
        "import numpy as np\n",
        "\n",
        "array = np.array([4, 8, 15, 16, 23, 42])\n",
        "\n",
        "mean = np.mean(array)\n",
        "median = np.median(array)\n",
        "std_dev = np.std(array)\n",
        "\n",
        "mean, median, std_dev"
      ],
      "metadata": {
        "colab": {
          "base_uri": "https://localhost:8080/"
        },
        "id": "5fhEbq-Jeu9u",
        "outputId": "e3d3ca06-2502-4911-e700-2fc8c176d093"
      },
      "execution_count": null,
      "outputs": [
        {
          "output_type": "execute_result",
          "data": {
            "text/plain": [
              "(18.0, 15.5, 12.315302134607444)"
            ]
          },
          "metadata": {},
          "execution_count": 11
        }
      ]
    },
    {
      "cell_type": "code",
      "source": [
        "# Problem 4\n",
        "# Pandas Problem\n",
        "# Find and Replace Missing Values\n",
        "\n",
        "import pandas as pd\n",
        "import numpy as np\n",
        "\n",
        "df = pd.DataFrame({\n",
        "    \"Name\":[\"Abdul Subhan\", \"Abdullah\", \"Abdul Rehamn\", \"Areeba\", \"Eman\", \"Ummi\"],\n",
        "    \"Age\":[17, 19, np.nan, 24, 21, 7],\n",
        "    \"Salary\":[17000, 19000, 22000, 24000, 21000, np.nan]\n",
        "})\n",
        "\n",
        "df[\"Age\"] = df[\"Age\"].fillna(df[\"Age\"].mean())\n",
        "df[\"Salary\"] = df[\"Salary\"].fillna(df[\"Salary\"].mean())\n",
        "\n",
        "df"
      ],
      "metadata": {
        "colab": {
          "base_uri": "https://localhost:8080/",
          "height": 237
        },
        "id": "i6WTTuhmiMW1",
        "outputId": "da776919-dd6f-4390-ba8b-d2bb9a21d2f2"
      },
      "execution_count": null,
      "outputs": [
        {
          "output_type": "execute_result",
          "data": {
            "text/plain": [
              "           Name   Age   Salary\n",
              "0  Abdul Subhan  17.0  17000.0\n",
              "1      Abdullah  19.0  19000.0\n",
              "2  Abdul Rehamn  17.6  22000.0\n",
              "3        Areeba  24.0  24000.0\n",
              "4          Eman  21.0  21000.0\n",
              "5          Ummi   7.0  20600.0"
            ],
            "text/html": [
              "\n",
              "  <div id=\"df-0c954811-806e-46be-bb07-49505c24c039\" class=\"colab-df-container\">\n",
              "    <div>\n",
              "<style scoped>\n",
              "    .dataframe tbody tr th:only-of-type {\n",
              "        vertical-align: middle;\n",
              "    }\n",
              "\n",
              "    .dataframe tbody tr th {\n",
              "        vertical-align: top;\n",
              "    }\n",
              "\n",
              "    .dataframe thead th {\n",
              "        text-align: right;\n",
              "    }\n",
              "</style>\n",
              "<table border=\"1\" class=\"dataframe\">\n",
              "  <thead>\n",
              "    <tr style=\"text-align: right;\">\n",
              "      <th></th>\n",
              "      <th>Name</th>\n",
              "      <th>Age</th>\n",
              "      <th>Salary</th>\n",
              "    </tr>\n",
              "  </thead>\n",
              "  <tbody>\n",
              "    <tr>\n",
              "      <th>0</th>\n",
              "      <td>Abdul Subhan</td>\n",
              "      <td>17.0</td>\n",
              "      <td>17000.0</td>\n",
              "    </tr>\n",
              "    <tr>\n",
              "      <th>1</th>\n",
              "      <td>Abdullah</td>\n",
              "      <td>19.0</td>\n",
              "      <td>19000.0</td>\n",
              "    </tr>\n",
              "    <tr>\n",
              "      <th>2</th>\n",
              "      <td>Abdul Rehamn</td>\n",
              "      <td>17.6</td>\n",
              "      <td>22000.0</td>\n",
              "    </tr>\n",
              "    <tr>\n",
              "      <th>3</th>\n",
              "      <td>Areeba</td>\n",
              "      <td>24.0</td>\n",
              "      <td>24000.0</td>\n",
              "    </tr>\n",
              "    <tr>\n",
              "      <th>4</th>\n",
              "      <td>Eman</td>\n",
              "      <td>21.0</td>\n",
              "      <td>21000.0</td>\n",
              "    </tr>\n",
              "    <tr>\n",
              "      <th>5</th>\n",
              "      <td>Ummi</td>\n",
              "      <td>7.0</td>\n",
              "      <td>20600.0</td>\n",
              "    </tr>\n",
              "  </tbody>\n",
              "</table>\n",
              "</div>\n",
              "    <div class=\"colab-df-buttons\">\n",
              "\n",
              "  <div class=\"colab-df-container\">\n",
              "    <button class=\"colab-df-convert\" onclick=\"convertToInteractive('df-0c954811-806e-46be-bb07-49505c24c039')\"\n",
              "            title=\"Convert this dataframe to an interactive table.\"\n",
              "            style=\"display:none;\">\n",
              "\n",
              "  <svg xmlns=\"http://www.w3.org/2000/svg\" height=\"24px\" viewBox=\"0 -960 960 960\">\n",
              "    <path d=\"M120-120v-720h720v720H120Zm60-500h600v-160H180v160Zm220 220h160v-160H400v160Zm0 220h160v-160H400v160ZM180-400h160v-160H180v160Zm440 0h160v-160H620v160ZM180-180h160v-160H180v160Zm440 0h160v-160H620v160Z\"/>\n",
              "  </svg>\n",
              "    </button>\n",
              "\n",
              "  <style>\n",
              "    .colab-df-container {\n",
              "      display:flex;\n",
              "      gap: 12px;\n",
              "    }\n",
              "\n",
              "    .colab-df-convert {\n",
              "      background-color: #E8F0FE;\n",
              "      border: none;\n",
              "      border-radius: 50%;\n",
              "      cursor: pointer;\n",
              "      display: none;\n",
              "      fill: #1967D2;\n",
              "      height: 32px;\n",
              "      padding: 0 0 0 0;\n",
              "      width: 32px;\n",
              "    }\n",
              "\n",
              "    .colab-df-convert:hover {\n",
              "      background-color: #E2EBFA;\n",
              "      box-shadow: 0px 1px 2px rgba(60, 64, 67, 0.3), 0px 1px 3px 1px rgba(60, 64, 67, 0.15);\n",
              "      fill: #174EA6;\n",
              "    }\n",
              "\n",
              "    .colab-df-buttons div {\n",
              "      margin-bottom: 4px;\n",
              "    }\n",
              "\n",
              "    [theme=dark] .colab-df-convert {\n",
              "      background-color: #3B4455;\n",
              "      fill: #D2E3FC;\n",
              "    }\n",
              "\n",
              "    [theme=dark] .colab-df-convert:hover {\n",
              "      background-color: #434B5C;\n",
              "      box-shadow: 0px 1px 3px 1px rgba(0, 0, 0, 0.15);\n",
              "      filter: drop-shadow(0px 1px 2px rgba(0, 0, 0, 0.3));\n",
              "      fill: #FFFFFF;\n",
              "    }\n",
              "  </style>\n",
              "\n",
              "    <script>\n",
              "      const buttonEl =\n",
              "        document.querySelector('#df-0c954811-806e-46be-bb07-49505c24c039 button.colab-df-convert');\n",
              "      buttonEl.style.display =\n",
              "        google.colab.kernel.accessAllowed ? 'block' : 'none';\n",
              "\n",
              "      async function convertToInteractive(key) {\n",
              "        const element = document.querySelector('#df-0c954811-806e-46be-bb07-49505c24c039');\n",
              "        const dataTable =\n",
              "          await google.colab.kernel.invokeFunction('convertToInteractive',\n",
              "                                                    [key], {});\n",
              "        if (!dataTable) return;\n",
              "\n",
              "        const docLinkHtml = 'Like what you see? Visit the ' +\n",
              "          '<a target=\"_blank\" href=https://colab.research.google.com/notebooks/data_table.ipynb>data table notebook</a>'\n",
              "          + ' to learn more about interactive tables.';\n",
              "        element.innerHTML = '';\n",
              "        dataTable['output_type'] = 'display_data';\n",
              "        await google.colab.output.renderOutput(dataTable, element);\n",
              "        const docLink = document.createElement('div');\n",
              "        docLink.innerHTML = docLinkHtml;\n",
              "        element.appendChild(docLink);\n",
              "      }\n",
              "    </script>\n",
              "  </div>\n",
              "\n",
              "\n",
              "<div id=\"df-590cf3d3-7f00-4422-bd30-625d748e2b6b\">\n",
              "  <button class=\"colab-df-quickchart\" onclick=\"quickchart('df-590cf3d3-7f00-4422-bd30-625d748e2b6b')\"\n",
              "            title=\"Suggest charts\"\n",
              "            style=\"display:none;\">\n",
              "\n",
              "<svg xmlns=\"http://www.w3.org/2000/svg\" height=\"24px\"viewBox=\"0 0 24 24\"\n",
              "     width=\"24px\">\n",
              "    <g>\n",
              "        <path d=\"M19 3H5c-1.1 0-2 .9-2 2v14c0 1.1.9 2 2 2h14c1.1 0 2-.9 2-2V5c0-1.1-.9-2-2-2zM9 17H7v-7h2v7zm4 0h-2V7h2v10zm4 0h-2v-4h2v4z\"/>\n",
              "    </g>\n",
              "</svg>\n",
              "  </button>\n",
              "\n",
              "<style>\n",
              "  .colab-df-quickchart {\n",
              "      --bg-color: #E8F0FE;\n",
              "      --fill-color: #1967D2;\n",
              "      --hover-bg-color: #E2EBFA;\n",
              "      --hover-fill-color: #174EA6;\n",
              "      --disabled-fill-color: #AAA;\n",
              "      --disabled-bg-color: #DDD;\n",
              "  }\n",
              "\n",
              "  [theme=dark] .colab-df-quickchart {\n",
              "      --bg-color: #3B4455;\n",
              "      --fill-color: #D2E3FC;\n",
              "      --hover-bg-color: #434B5C;\n",
              "      --hover-fill-color: #FFFFFF;\n",
              "      --disabled-bg-color: #3B4455;\n",
              "      --disabled-fill-color: #666;\n",
              "  }\n",
              "\n",
              "  .colab-df-quickchart {\n",
              "    background-color: var(--bg-color);\n",
              "    border: none;\n",
              "    border-radius: 50%;\n",
              "    cursor: pointer;\n",
              "    display: none;\n",
              "    fill: var(--fill-color);\n",
              "    height: 32px;\n",
              "    padding: 0;\n",
              "    width: 32px;\n",
              "  }\n",
              "\n",
              "  .colab-df-quickchart:hover {\n",
              "    background-color: var(--hover-bg-color);\n",
              "    box-shadow: 0 1px 2px rgba(60, 64, 67, 0.3), 0 1px 3px 1px rgba(60, 64, 67, 0.15);\n",
              "    fill: var(--button-hover-fill-color);\n",
              "  }\n",
              "\n",
              "  .colab-df-quickchart-complete:disabled,\n",
              "  .colab-df-quickchart-complete:disabled:hover {\n",
              "    background-color: var(--disabled-bg-color);\n",
              "    fill: var(--disabled-fill-color);\n",
              "    box-shadow: none;\n",
              "  }\n",
              "\n",
              "  .colab-df-spinner {\n",
              "    border: 2px solid var(--fill-color);\n",
              "    border-color: transparent;\n",
              "    border-bottom-color: var(--fill-color);\n",
              "    animation:\n",
              "      spin 1s steps(1) infinite;\n",
              "  }\n",
              "\n",
              "  @keyframes spin {\n",
              "    0% {\n",
              "      border-color: transparent;\n",
              "      border-bottom-color: var(--fill-color);\n",
              "      border-left-color: var(--fill-color);\n",
              "    }\n",
              "    20% {\n",
              "      border-color: transparent;\n",
              "      border-left-color: var(--fill-color);\n",
              "      border-top-color: var(--fill-color);\n",
              "    }\n",
              "    30% {\n",
              "      border-color: transparent;\n",
              "      border-left-color: var(--fill-color);\n",
              "      border-top-color: var(--fill-color);\n",
              "      border-right-color: var(--fill-color);\n",
              "    }\n",
              "    40% {\n",
              "      border-color: transparent;\n",
              "      border-right-color: var(--fill-color);\n",
              "      border-top-color: var(--fill-color);\n",
              "    }\n",
              "    60% {\n",
              "      border-color: transparent;\n",
              "      border-right-color: var(--fill-color);\n",
              "    }\n",
              "    80% {\n",
              "      border-color: transparent;\n",
              "      border-right-color: var(--fill-color);\n",
              "      border-bottom-color: var(--fill-color);\n",
              "    }\n",
              "    90% {\n",
              "      border-color: transparent;\n",
              "      border-bottom-color: var(--fill-color);\n",
              "    }\n",
              "  }\n",
              "</style>\n",
              "\n",
              "  <script>\n",
              "    async function quickchart(key) {\n",
              "      const quickchartButtonEl =\n",
              "        document.querySelector('#' + key + ' button');\n",
              "      quickchartButtonEl.disabled = true;  // To prevent multiple clicks.\n",
              "      quickchartButtonEl.classList.add('colab-df-spinner');\n",
              "      try {\n",
              "        const charts = await google.colab.kernel.invokeFunction(\n",
              "            'suggestCharts', [key], {});\n",
              "      } catch (error) {\n",
              "        console.error('Error during call to suggestCharts:', error);\n",
              "      }\n",
              "      quickchartButtonEl.classList.remove('colab-df-spinner');\n",
              "      quickchartButtonEl.classList.add('colab-df-quickchart-complete');\n",
              "    }\n",
              "    (() => {\n",
              "      let quickchartButtonEl =\n",
              "        document.querySelector('#df-590cf3d3-7f00-4422-bd30-625d748e2b6b button');\n",
              "      quickchartButtonEl.style.display =\n",
              "        google.colab.kernel.accessAllowed ? 'block' : 'none';\n",
              "    })();\n",
              "  </script>\n",
              "</div>\n",
              "\n",
              "  <div id=\"id_eb2612c3-d5af-4088-adad-f110b6206c69\">\n",
              "    <style>\n",
              "      .colab-df-generate {\n",
              "        background-color: #E8F0FE;\n",
              "        border: none;\n",
              "        border-radius: 50%;\n",
              "        cursor: pointer;\n",
              "        display: none;\n",
              "        fill: #1967D2;\n",
              "        height: 32px;\n",
              "        padding: 0 0 0 0;\n",
              "        width: 32px;\n",
              "      }\n",
              "\n",
              "      .colab-df-generate:hover {\n",
              "        background-color: #E2EBFA;\n",
              "        box-shadow: 0px 1px 2px rgba(60, 64, 67, 0.3), 0px 1px 3px 1px rgba(60, 64, 67, 0.15);\n",
              "        fill: #174EA6;\n",
              "      }\n",
              "\n",
              "      [theme=dark] .colab-df-generate {\n",
              "        background-color: #3B4455;\n",
              "        fill: #D2E3FC;\n",
              "      }\n",
              "\n",
              "      [theme=dark] .colab-df-generate:hover {\n",
              "        background-color: #434B5C;\n",
              "        box-shadow: 0px 1px 3px 1px rgba(0, 0, 0, 0.15);\n",
              "        filter: drop-shadow(0px 1px 2px rgba(0, 0, 0, 0.3));\n",
              "        fill: #FFFFFF;\n",
              "      }\n",
              "    </style>\n",
              "    <button class=\"colab-df-generate\" onclick=\"generateWithVariable('df')\"\n",
              "            title=\"Generate code using this dataframe.\"\n",
              "            style=\"display:none;\">\n",
              "\n",
              "  <svg xmlns=\"http://www.w3.org/2000/svg\" height=\"24px\"viewBox=\"0 0 24 24\"\n",
              "       width=\"24px\">\n",
              "    <path d=\"M7,19H8.4L18.45,9,17,7.55,7,17.6ZM5,21V16.75L18.45,3.32a2,2,0,0,1,2.83,0l1.4,1.43a1.91,1.91,0,0,1,.58,1.4,1.91,1.91,0,0,1-.58,1.4L9.25,21ZM18.45,9,17,7.55Zm-12,3A5.31,5.31,0,0,0,4.9,8.1,5.31,5.31,0,0,0,1,6.5,5.31,5.31,0,0,0,4.9,4.9,5.31,5.31,0,0,0,6.5,1,5.31,5.31,0,0,0,8.1,4.9,5.31,5.31,0,0,0,12,6.5,5.46,5.46,0,0,0,6.5,12Z\"/>\n",
              "  </svg>\n",
              "    </button>\n",
              "    <script>\n",
              "      (() => {\n",
              "      const buttonEl =\n",
              "        document.querySelector('#id_eb2612c3-d5af-4088-adad-f110b6206c69 button.colab-df-generate');\n",
              "      buttonEl.style.display =\n",
              "        google.colab.kernel.accessAllowed ? 'block' : 'none';\n",
              "\n",
              "      buttonEl.onclick = () => {\n",
              "        google.colab.notebook.generateWithVariable('df');\n",
              "      }\n",
              "      })();\n",
              "    </script>\n",
              "  </div>\n",
              "\n",
              "    </div>\n",
              "  </div>\n"
            ],
            "application/vnd.google.colaboratory.intrinsic+json": {
              "type": "dataframe",
              "variable_name": "df",
              "summary": "{\n  \"name\": \"df\",\n  \"rows\": 6,\n  \"fields\": [\n    {\n      \"column\": \"Name\",\n      \"properties\": {\n        \"dtype\": \"string\",\n        \"num_unique_values\": 6,\n        \"samples\": [\n          \"Abdul Subhan\",\n          \"Abdullah\",\n          \"Ummi\"\n        ],\n        \"semantic_type\": \"\",\n        \"description\": \"\"\n      }\n    },\n    {\n      \"column\": \"Age\",\n      \"properties\": {\n        \"dtype\": \"number\",\n        \"std\": 5.782732917920384,\n        \"min\": 7.0,\n        \"max\": 24.0,\n        \"num_unique_values\": 6,\n        \"samples\": [\n          17.0,\n          19.0,\n          7.0\n        ],\n        \"semantic_type\": \"\",\n        \"description\": \"\"\n      }\n    },\n    {\n      \"column\": \"Salary\",\n      \"properties\": {\n        \"dtype\": \"number\",\n        \"std\": 2416.6091947189143,\n        \"min\": 17000.0,\n        \"max\": 24000.0,\n        \"num_unique_values\": 6,\n        \"samples\": [\n          17000.0,\n          19000.0,\n          20600.0\n        ],\n        \"semantic_type\": \"\",\n        \"description\": \"\"\n      }\n    }\n  ]\n}"
            }
          },
          "metadata": {},
          "execution_count": 12
        }
      ]
    },
    {
      "cell_type": "code",
      "source": [
        "# Problem 5\n",
        "# Numpy Problem\n",
        "# Reshape an Array\n",
        "\n",
        "import numpy as np\n",
        "\n",
        "array = np.arange(1, 13)\n",
        "\n",
        "matrix = array.reshape(3, 4)\n",
        "\n",
        "matrix"
      ],
      "metadata": {
        "id": "lAwioOa3pCSZ"
      },
      "execution_count": null,
      "outputs": []
    },
    {
      "cell_type": "code",
      "source": [],
      "metadata": {
        "id": "KibLcQy_97Rf"
      },
      "execution_count": null,
      "outputs": []
    }
  ],
  "metadata": {
    "colab": {
      "provenance": []
    },
    "kernelspec": {
      "display_name": "Python 3",
      "name": "python3"
    },
    "language_info": {
      "name": "python"
    }
  },
  "nbformat": 4,
  "nbformat_minor": 0
}