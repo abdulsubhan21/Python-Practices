{
  "cells": [
    {
      "cell_type": "code",
      "execution_count": null,
      "metadata": {
        "colab": {
          "base_uri": "https://localhost:8080/"
        },
        "id": "s_QUFtVlLdca",
        "outputId": "c5074d4e-8eb3-4682-83c3-b89f7214bda8"
      },
      "outputs": [
        {
          "output_type": "stream",
          "name": "stdout",
          "text": [
            "Enter The Name: Abdul Subhan\n",
            "Enter The Subject 1 Marks: 74\n",
            "Enter The Subject 2 Marks: 78\n",
            "Enter The Subject 3 Marks: 95\n",
            "Enter The Subject 4 Marks: 76\n",
            "Enter The Subject 5 Marks: 80\n",
            "\n",
            "\n",
            "Students Report Card\n",
            "\n",
            "Student Name: Abdul Subhan\n",
            "Student Subjects Marks: [74.0, 78.0, 95.0, 76.0, 80.0]\n",
            "Student Grade: 80.6\n",
            "Student Performance: Very Exellent\n"
          ]
        }
      ],
      "source": [
        "name = input(\"Enter The Name: \")\n",
        "subject_1 = float(input(\"Enter The Subject 1 Marks: \"))\n",
        "subject_2 = float(input(\"Enter The Subject 2 Marks: \"))\n",
        "subject_3 = float(input(\"Enter The Subject 3 Marks: \"))\n",
        "subject_4 = float(input(\"Enter The Subject 4 Marks: \"))\n",
        "subject_5 = float(input(\"Enter The Subject 5 Marks: \"))\n",
        "\n",
        "marks = [subject_1, subject_2, subject_3, subject_4, subject_5]\n",
        "grade = sum(marks) / len(marks)\n",
        "\n",
        "if grade >= 80:\n",
        "   performance = \"Very Exellent\"\n",
        "\n",
        "elif grade >= 70 and grade <= 79:\n",
        "     performance = \"Exellent\"\n",
        "\n",
        "elif grade >= 60 and grade <= 69:\n",
        "     performance = \"Very Good\"\n",
        "\n",
        "elif grade >= 50 and grade <= 59:\n",
        "     performance = \"Good\"\n",
        "\n",
        "elif grade >= 40 and grade <= 49:\n",
        "     performance = \"Average\"\n",
        "\n",
        "else:\n",
        "     performance = \"Fail\"\n",
        "\n",
        "print(f'''\n",
        "\n",
        "Students Report Card\n",
        "\n",
        "Student Name: {name}\n",
        "Student Subjects Marks: {marks}\n",
        "Student Grade: {grade}\n",
        "Student Performance: {performance}''')"
      ]
    },
    {
      "cell_type": "code",
      "execution_count": null,
      "metadata": {
        "colab": {
          "base_uri": "https://localhost:8080/"
        },
        "id": "fqCBYX6rnUf2",
        "outputId": "5cc1b2cb-8cb0-457b-db28-0821dfb98953"
      },
      "outputs": [
        {
          "output_type": "stream",
          "name": "stdout",
          "text": [
            "Enter the name: Abdul Subhan\n",
            "Enter the item 1: Monitor\n",
            "Enter the item 1 price: 5000\n",
            "Enter the item 2: CPU\n",
            "Enter the item 2 price: 10000\n",
            "Enter the item 3: Keyboard and Mouse\n",
            "Enter the item 3 price: 3000\n",
            "\n",
            "\n",
            "Shopping Bill\n",
            "\n",
            "Customer Name: Abdul Subhan\n",
            "Items: ['Monitor', 'CPU', 'Keyboard and Mouse']\n",
            "Prices: [5000, 10000, 3000]\n",
            "Total Price: 18000\n",
            "10% Discount:  1800.0\n",
            "Final Price: 16200.0\n"
          ]
        }
      ],
      "source": [
        "name = input(\"Enter the name: \")\n",
        "\n",
        "item_1 = input(\"Enter the item 1: \")\n",
        "item_1_price = int(input(\"Enter the item 1 price: \"))\n",
        "\n",
        "item_2 = input(\"Enter the item 2: \")\n",
        "item_2_price = int(input(\"Enter the item 2 price: \"))\n",
        "\n",
        "item_3 = input(\"Enter the item 3: \")\n",
        "item_3_price = int(input(\"Enter the item 3 price: \"))\n",
        "\n",
        "item_names = [item_1, item_2, item_3]\n",
        "item_prices = [item_1_price, item_2_price, item_3_price]\n",
        "\n",
        "total_price = sum(item_prices)\n",
        "\n",
        "if total_price > 10000:\n",
        "   discount_amount = total_price * 10 / 100\n",
        "   final_price = total_price - discount_amount\n",
        "   discount = f\" {discount_amount}\"\n",
        "\n",
        "else:\n",
        "     final_price = total_price\n",
        "     discount = \"No discount.\"\n",
        "\n",
        "print(f'''\n",
        "\n",
        "Shopping Bill\n",
        "\n",
        "Customer Name: {name}\n",
        "Items: {item_names}\n",
        "Prices: {item_prices}\n",
        "Total Price: {total_price}\n",
        "10% Discount: {discount}\n",
        "Final Price: {final_price}''')"
      ]
    },
    {
      "cell_type": "code",
      "execution_count": null,
      "metadata": {
        "colab": {
          "base_uri": "https://localhost:8080/"
        },
        "id": "lIcw9LF64c-H",
        "outputId": "4f766df9-936d-4e66-c7e7-292ae902bef3"
      },
      "outputs": [
        {
          "output_type": "stream",
          "name": "stdout",
          "text": [
            "Enter the student name: Abdul Subhan\n",
            "Enter the student age: 17\n",
            "Enter the student maths numbers: 75\n",
            "Enter the student science numbers: 95\n",
            "Enter the student english numbers: 81\n",
            "\n",
            "Student Performance Report:\n",
            "\n",
            "Name: Abdul Subhan\n",
            "Age: 17\n",
            "Scores: Math: 75.0, Science: 95.0, English: 81.0\n",
            "Percentage: 83.7\n",
            "Grade: A+\n"
          ]
        }
      ],
      "source": [
        "name = input(\"Enter the student name: \")\n",
        "age = int(input(\"Enter the student age: \"))\n",
        "\n",
        "math_numbers = float(input(\"Enter the student maths numbers: \"))\n",
        "science_numbers = float(input(\"Enter the student science numbers: \"))\n",
        "english_numbers = float(input(\"Enter the student english numbers: \"))\n",
        "\n",
        "numbers = [math_numbers, science_numbers, english_numbers]\n",
        "\n",
        "student_info = {\"name\": name, \"age\": age, \"numbers\": numbers}\n",
        "\n",
        "total_numbers = 0\n",
        "for i in numbers:\n",
        "    total_numbers += i\n",
        "\n",
        "percentage = total_numbers / len(numbers)\n",
        "\n",
        "student_info[\"percentage\"] = percentage\n",
        "\n",
        "if percentage >= 80:\n",
        "   grade = \"A+\"\n",
        "elif 70 <= percentage <= 79:\n",
        "     grade = \"A\"\n",
        "elif 60 <= percentage <= 69:\n",
        "     grade = \"B\"\n",
        "elif 50 <= percentage <= 59:\n",
        "     grade = \"C\"\n",
        "elif 40 <= percentage <= 49:\n",
        "     grade = \"D\"\n",
        "else:\n",
        "     grade = \"Fail\"\n",
        "\n",
        "print(f'''\n",
        "Student Performance Report:\n",
        "\n",
        "Name: {student_info[\"name\"]}\n",
        "Age: {student_info[\"age\"]}\n",
        "Scores: Math: {math_numbers}, Science: {science_numbers}, English: {english_numbers}\n",
        "Percentage: {percentage:.1f}\n",
        "Grade: {grade}''')"
      ]
    },
    {
      "cell_type": "code",
      "execution_count": null,
      "metadata": {
        "colab": {
          "base_uri": "https://localhost:8080/"
        },
        "id": "XYAS2qR61fE1",
        "outputId": "8c48f0a6-c145-486a-a9b2-d4b3bd6a987f"
      },
      "outputs": [
        {
          "output_type": "stream",
          "name": "stdout",
          "text": [
            "Enter your name: Abdul Subhan\n",
            "Enter your age: 17\n",
            "Enter your nationality: Pakistani\n",
            "Enter at least 3 skills: HTML CSS Python\n",
            "\n",
            "    Personal Information:\n",
            "\n",
            "    Name: Abdul Subhan\n",
            "    Age: 17\n",
            "    Nationality: Pakistani\n",
            "    Skills: Html, Css, Python\n",
            "    \n",
            "You are not eligible to apply for the job.\n"
          ]
        }
      ],
      "source": [
        "sname = input(\"Enter your name: \").strip().title()\n",
        "age = int(input(\"Enter your age: \"))\n",
        "nationality = input(\"Enter your nationality: \").strip().title()\n",
        "skills = input(\"Enter at least 3 skills: \").strip().split()\n",
        "\n",
        "if len(skills) < 3:\n",
        "   print(\"You must enter at least 3 skills.\")\n",
        "else:\n",
        "     print(f'''\n",
        "    Personal Information:\n",
        "\n",
        "    Name: {name}\n",
        "    Age: {age}\n",
        "    Nationality: {nationality}\n",
        "    Skills: {', '.join([skill.strip().title() for skill in skills])}\n",
        "    ''')\n",
        "\n",
        "if age >= 18:\n",
        "   print(\"You are eligible to apply for the job.\")\n",
        "else:\n",
        "     print(\"You are not eligible to apply for the job.\")"
      ]
    },
    {
      "cell_type": "code",
      "execution_count": null,
      "metadata": {
        "colab": {
          "base_uri": "https://localhost:8080/"
        },
        "id": "HV-2LxNFQci3",
        "outputId": "632f0f98-4a45-4090-b3f2-cad38aec8a8b"
      },
      "outputs": [
        {
          "output_type": "stream",
          "name": "stdout",
          "text": [
            "Enter the number between 1 to 100: 50\n",
            "Guess higher number\n",
            "Enter the number between 1 to 100: 100\n",
            "Guess lower number\n",
            "Enter the number between 1 to 100: 60\n",
            "Guess higher number\n",
            "Enter the number between 1 to 100: 90\n",
            "Guess lower number\n",
            "Enter the number between 1 to 100: 70\n",
            "Guess higher number\n",
            "Enter the number between 1 to 100: 80\n",
            "Guess lower number\n",
            "Enter the number between 1 to 100: 75\n",
            "Correct answer\n",
            "You took 7 attempts\n"
          ]
        }
      ],
      "source": [
        "import random\n",
        "jackpot = random.randint(1, 100)\n",
        "\n",
        "guess = int(input(\"Enter the number between 1 to 100: \"))\n",
        "counter = 1\n",
        "\n",
        "while guess != jackpot:\n",
        "      if guess < jackpot:\n",
        "         print(\"Guess higher number\")\n",
        "      else:\n",
        "           print(\"Guess lower number\")\n",
        "\n",
        "      guess = int(input(\"Enter the number between 1 to 100: \"))\n",
        "      counter += 1\n",
        "\n",
        "print(\"Correct answer\")\n",
        "print(\"You took\",counter,\"attempts\")"
      ]
    },
    {
      "cell_type": "code",
      "execution_count": null,
      "metadata": {
        "colab": {
          "base_uri": "https://localhost:8080/"
        },
        "id": "Y3QACAvuFc43",
        "outputId": "9f2c8066-9752-464a-811b-78cbfa1c870a"
      },
      "outputs": [
        {
          "output_type": "stream",
          "name": "stdout",
          "text": [
            "Enter The Alphabet: i\n",
            "This is vowel\n"
          ]
        }
      ],
      "source": [
        "alpha = input(\"Enter The Alphabet: \")\n",
        "\n",
        "if alpha == \"a\":\n",
        "   print(\"This is vowel\")\n",
        "\n",
        "elif alpha == \"e\":\n",
        "   print(\"This is vowel\")\n",
        "\n",
        "elif alpha == \"i\":\n",
        "   print(\"This is vowel\")\n",
        "\n",
        "elif alpha == \"o\":\n",
        "   print(\"This is vowel\")\n",
        "\n",
        "elif alpha == \"u\":\n",
        "   print(\"This is vowel\")\n",
        "\n",
        "else:\n",
        "     print(\"This is consunent\")"
      ]
    },
    {
      "cell_type": "code",
      "execution_count": null,
      "metadata": {
        "colab": {
          "base_uri": "https://localhost:8080/"
        },
        "id": "r9WVfkvCLP4L",
        "outputId": "b690ed1b-bc60-4b76-ecb8-e22acd469251"
      },
      "outputs": [
        {
          "output_type": "stream",
          "name": "stdout",
          "text": [
            "Enter The Name: Abdul Subhan\n",
            "Enter The First Number: 20\n",
            "Enter The Second Number: 10\n",
            "Enter The Operator (+, -, *, /): *\n",
            "20 * 10 = 200\n"
          ]
        }
      ],
      "source": [
        "name = input(\"Enter The Name: \")\n",
        "first_num = int((input(\"Enter The First Number: \")))\n",
        "second_num = int((input(\"Enter The Second Number: \")))\n",
        "operator = input(\"Enter The Operator (+, -, *, /): \")\n",
        "\n",
        "if operator == \"+\":\n",
        "   result = first_num + second_num\n",
        "\n",
        "elif operator == \"-\":\n",
        "     result = first_num - second_num\n",
        "\n",
        "elif operator == \"*\":\n",
        "     result = first_num * second_num\n",
        "\n",
        "elif operator == \"/\":\n",
        "     result = first_num / second_num\n",
        "\n",
        "else:\n",
        "    result = \"Invalid operator\"\n",
        "\n",
        "if operator in [\"+\", \"-\", \"*\", \"/\"]:\n",
        "    print(f\"{first_num} {operator} {second_num} = {result}\")\n",
        "\n",
        "else:\n",
        "    print(\"Error: Invalid operator entered.\")\n",
        "\n",
        "if first_num > 100:\n",
        "   print(f'''My name is {name}, and {first_num} is grater then 100.''')"
      ]
    },
    {
      "cell_type": "code",
      "execution_count": null,
      "metadata": {
        "colab": {
          "base_uri": "https://localhost:8080/"
        },
        "id": "ISURNFKULZ5r",
        "outputId": "67491169-e5a2-4b2c-cf16-6f3bac5f6bb5"
      },
      "outputs": [
        {
          "output_type": "stream",
          "name": "stdout",
          "text": [
            "Enter The First Name: Abdul\n",
            "Enter The Last Name: Subhan\n",
            "Enter The Birth Year: 2007\n",
            "Abdulsubhan\n",
            "17\n",
            "The user is under 18\n"
          ]
        }
      ],
      "source": [
        "first_name = input(\"Enter The First Name: \")\n",
        "last_name = input(\"Enter The Last Name: \")\n",
        "birth_year = int(input(\"Enter The Birth Year: \"))\n",
        "\n",
        "full_name = first_name + last_name\n",
        "print(full_name.capitalize())\n",
        "\n",
        "age = 2024 - 2007\n",
        "print(age)\n",
        "\n",
        "if age >= 18:\n",
        "   print(f'''My name is {name}. I am {age} years old. The user is greter then 18''')\n",
        "\n",
        "else:\n",
        "     print(\"The user is under 18\")"
      ]
    },
    {
      "cell_type": "code",
      "execution_count": null,
      "metadata": {
        "colab": {
          "base_uri": "https://localhost:8080/"
        },
        "id": "ZmrInkJyLkuE",
        "outputId": "20370ee1-8a01-4314-d3a3-33fae0e98b93"
      },
      "outputs": [
        {
          "output_type": "stream",
          "name": "stdout",
          "text": [
            "Enter the Number:4\n",
            "Even Number\n"
          ]
        }
      ],
      "source": [
        "num = int(input(\"Enter the Number:\"))\n",
        "\n",
        "if num % 2 == 0:\n",
        "   print(\"Even Number\")\n",
        "else:\n",
        "     print(\"Odd Number\")"
      ]
    },
    {
      "cell_type": "code",
      "execution_count": null,
      "metadata": {
        "colab": {
          "base_uri": "https://localhost:8080/"
        },
        "id": "myY5a2QNLseR",
        "outputId": "f26d3dab-d19b-4999-e2e2-30e9fc400b27"
      },
      "outputs": [
        {
          "output_type": "stream",
          "name": "stdout",
          "text": [
            "Enter Your Name: Abdul Subhan\n",
            "Enter Your First Number: 20\n",
            "Enter Your Second Number: 10\n",
            "Nice to meet you! your name is Abdul Subhan and your results is addition: 30.0, subtraction: 10.0, multiplication: 200.0 and division: 2.0\n"
          ]
        }
      ],
      "source": [
        "name = input(\"Enter Your Name: \")\n",
        "num_1 = float(input(\"Enter Your First Number: \"))\n",
        "num_2 = float(input(\"Enter Your Second Number: \"))\n",
        "\n",
        "result_1 = num_1 + num_2\n",
        "result_2 = num_1 - num_2\n",
        "result_3 = num_1 * num_2\n",
        "result_4 = num_1 / num_2\n",
        "\n",
        "print(f'''Nice to meet you! your name is {name} and your results is addition: {result_1}, subtraction: {result_2}, multiplication: {result_3} and division: {result_4}''')"
      ]
    },
    {
      "cell_type": "code",
      "execution_count": null,
      "metadata": {
        "colab": {
          "base_uri": "https://localhost:8080/"
        },
        "id": "N1GmM7JdL61j",
        "outputId": "6a74b263-8345-425f-ef97-ecb2aa31908b"
      },
      "outputs": [
        {
          "output_type": "stream",
          "name": "stdout",
          "text": [
            "Enter The First Name: Abdul\n",
            "Enter The Second Name: Subhan\n",
            "Enter the Favorite Number: 5\n",
            "5 is odd Number\n",
            "Your name is Abdul Subhan.\n"
          ]
        }
      ],
      "source": [
        "first_name = input(\"Enter The First Name: \")\n",
        "second_name = input(\"Enter The Second Name: \")\n",
        "favorite_number = int(input(\"Enter the Favorite Number: \"))\n",
        "\n",
        "full_name = first_name+\" \"+second_name\n",
        "complete_name = full_name.title()\n",
        "\n",
        "if favorite_number % 2 == 0:\n",
        "   print(f'''{favorite_number} is even Number''')\n",
        "else:\n",
        "     print(f'''{favorite_number} is odd Number''')\n",
        "\n",
        "print(f'''Your name is {complete_name}.''')"
      ]
    },
    {
      "cell_type": "code",
      "execution_count": null,
      "metadata": {
        "colab": {
          "base_uri": "https://localhost:8080/"
        },
        "id": "JfPSoPDSMK2-",
        "outputId": "9f8490fe-c0b2-417c-b148-433cca106a0d"
      },
      "outputs": [
        {
          "output_type": "stream",
          "name": "stdout",
          "text": [
            "Name: Abdul Subhan\n",
            "Father Name: Saghir Muhammad\n",
            "Age: 17\n",
            "Class: 12\n",
            "Roll Number: 31715\n",
            "Enter The Marks Of English: 80\n",
            "Enter The Marks Of Math: 76\n",
            "Enter The Marks Of Physics: 95\n",
            "Enter The Marks Of Chemistry: 78\n",
            "Enter The Marks Of Computer: 74\n",
            "                                   Board Of Secondary Education Karachi\n",
            "                                                 Mark Sheet\n",
            "Name: ABDUL SUBHAN\n",
            "Father Name: SAGHIR MUHAMMAD\n",
            "age: 17\n",
            "Class: 12\n",
            "Roll No.: 31715\n",
            "     Subjects\n",
            "English Marks: 80.0\n",
            "Math Marks: 76.0\n",
            "Physics Marks: 95.0\n",
            "Chemistry Marks: 78.0\n",
            "Computer Marks: 74.0\n",
            "     Result\n",
            "Total Marks: 403.0\n",
            "Percentage: 80.60000000000001\n",
            "Grade: A+\n"
          ]
        }
      ],
      "source": [
        "name = input(\"Name: \")\n",
        "father_name = input(\"Father Name: \")\n",
        "age = int(input(\"Age: \"))\n",
        "college_class = int(input(\"Class: \"))\n",
        "roll_number = int(input(\"Roll Number: \"))\n",
        "\n",
        "english_marks = float(input(\"Enter The Marks Of English: \"))\n",
        "math_marks = float(input(\"Enter The Marks Of Math: \"))\n",
        "physics_marks = float(input(\"Enter The Marks Of Physics: \"))\n",
        "chemistry_marks =  float(input(\"Enter The Marks Of Chemistry: \"))\n",
        "computer_marks =  float(input(\"Enter The Marks Of Computer: \"))\n",
        "\n",
        "print(\"                                   Board Of Secondary Education Karachi\")\n",
        "print(\"                                                 Mark Sheet\")\n",
        "\n",
        "print(\"Name:\",name.upper())\n",
        "print(\"Father Name:\",father_name.upper())\n",
        "print(\"age:\",age)\n",
        "print(\"Class:\",college_class)\n",
        "print(\"Roll No.:\",roll_number)\n",
        "\n",
        "print(f'''     Subjects\n",
        "English Marks: {english_marks}\n",
        "Math Marks: {math_marks}\n",
        "Physics Marks: {physics_marks}\n",
        "Chemistry Marks: {chemistry_marks}\n",
        "Computer Marks: {computer_marks}''')\n",
        "\n",
        "total_marks = english_marks + math_marks + physics_marks + chemistry_marks + computer_marks\n",
        "max_marks = 500\n",
        "percentage = (total_marks / max_marks) * 100\n",
        "grade = percentage\n",
        "\n",
        "print(f'''     Result\n",
        "Total Marks: {total_marks}\n",
        "Percentage: {percentage}''')\n",
        "\n",
        "if percentage >= 80:\n",
        "   print(\"Grade: A+\")\n",
        "\n",
        "elif percentage >= 70:\n",
        "      print(\"Grade: A\")\n",
        "\n",
        "elif percentage >= 60:\n",
        "     print(\"Grade: B\")\n",
        "\n",
        "elif percentage >= 50:\n",
        "     print(\"Grade: C\")\n",
        "\n",
        "elif percentage >= 40:\n",
        "     print(\"Grade: D\")\n",
        "\n",
        "else:\n",
        "     print(\"Fail\")"
      ]
    },
    {
      "cell_type": "code",
      "execution_count": null,
      "metadata": {
        "colab": {
          "base_uri": "https://localhost:8080/"
        },
        "id": "3xkD2UVUOSLx",
        "outputId": "8a826f1a-96e6-497a-8ca9-a229d206de86"
      },
      "outputs": [
        {
          "output_type": "stream",
          "name": "stdout",
          "text": [
            "Enter the title of the book: THE GREATE MOON\n",
            "Enter the Aouther Name: Abdul Subhan\n",
            "Enter the price of the book (in dollars): 1500\n",
            "   BILL SLIP\n",
            "\n",
            "Book Title: THE GREATE MOON\n",
            "Aouther Name: Abdul Subhan\n",
            "Original Price: 1500\n",
            "Discount Applied: 150.0\n",
            "Final Price to Pay: 1350.0\n"
          ]
        }
      ],
      "source": [
        "book_title = input(\"Enter the title of the book: \")\n",
        "aouther_name = input(\"Enter the Aouther Name: \")\n",
        "book_price = int(input(\"Enter the price of the book (in dollars): \"))\n",
        "\n",
        "if book_price > 100:\n",
        "    discount = book_price * 10 / 100\n",
        "\n",
        "elif book_price < 50:\n",
        "    discount = book_price * 5 / 100\n",
        "\n",
        "else:\n",
        "     discount = 0\n",
        "\n",
        "final_price = book_price - discount\n",
        "\n",
        "print(f'''   BILL SLIP\n",
        "\n",
        "Book Title: {book_title}\n",
        "Aouther Name: {aouther_name}\n",
        "Original Price: {book_price}\n",
        "Discount Applied: {discount}\n",
        "Final Price to Pay: {final_price}''')"
      ]
    },
    {
      "cell_type": "code",
      "execution_count": null,
      "metadata": {
        "colab": {
          "base_uri": "https://localhost:8080/"
        },
        "id": "P6JyOA0NOsPN",
        "outputId": "04529d55-db25-47f5-b8e0-1d1a890be232"
      },
      "outputs": [
        {
          "output_type": "stream",
          "name": "stdout",
          "text": [
            "Enter the gejit name: Frij\n",
            "Enter the gejit price: 50000\n",
            "Recipt\n",
            "\n",
            "Gegit_Name: Frij\n",
            "Original price: 50000\n",
            "Total discount: 7500.0\n",
            "Final price: 42500.0\n"
          ]
        }
      ],
      "source": [
        "gejit_name = input(\"Enter the gejit name: \")\n",
        "gejit_price = int(input(\"Enter the gejit price: \"))\n",
        "\n",
        "if gejit_price > 500:\n",
        "   discount = gejit_price * 15 / 100\n",
        "\n",
        "elif gejit_price < 200:\n",
        "     discount = gejit_price * 7 / 100\n",
        "\n",
        "else:\n",
        "     discount = 0\n",
        "\n",
        "final_price = gejit_price - discount\n",
        "\n",
        "print(f'''Recipt\n",
        "\n",
        "Gegit_Name: {gejit_name}\n",
        "Original price: {gejit_price}\n",
        "Total discount: {discount}\n",
        "Final price: {final_price}''')"
      ]
    },
    {
      "cell_type": "code",
      "execution_count": null,
      "metadata": {
        "colab": {
          "base_uri": "https://localhost:8080/"
        },
        "id": "d0FSdCCHO3U8",
        "outputId": "14b4895b-ec95-40bf-97a8-ca552564597d"
      },
      "outputs": [
        {
          "output_type": "stream",
          "name": "stdout",
          "text": [
            "Enter the cost of meal: 1000\n",
            "Enter the tax of meal: 50\n",
            "Enter the tip of meal: 100\n",
            "Meal Cost\n",
            "Meal Cost: 1000\n",
            "Meal Tax: 50\n",
            "Meal Tip: 100\n",
            "Total Meal Cost: 1150.0\n"
          ]
        }
      ],
      "source": [
        "meal_cost = int(input(\"Enter the cost of meal: \"))\n",
        "meal_tax = int(input(\"Enter the tax of meal: \"))\n",
        "meal_tip = int(input(\"Enter the tip of meal: \"))\n",
        "\n",
        "tax_amount = meal_cost * 10/100\n",
        "tip_amount = meal_cost * 5/100\n",
        "\n",
        "total_meal_coat = meal_cost + tax_amount + tip_amount\n",
        "\n",
        "print(f'''Meal Cost\n",
        "Meal Cost: {meal_cost}\n",
        "Meal Tax: {meal_tax}\n",
        "Meal Tip: {meal_tip}\n",
        "Total Meal Cost: {total_meal_coat}''')"
      ]
    },
    {
      "cell_type": "code",
      "execution_count": null,
      "metadata": {
        "colab": {
          "base_uri": "https://localhost:8080/"
        },
        "id": "CqetTTt6PFk4",
        "outputId": "176b6b12-9274-4325-ccd1-9fd329c6bd6a"
      },
      "outputs": [
        {
          "output_type": "stream",
          "name": "stdout",
          "text": [
            "Enter Your Height (in cm): 5.5\n",
            "Enter Your Weight (in kg): 40\n",
            "BMI: 13223.140495867769\n",
            "You are obese\n",
            "You should consult a doctor\n"
          ]
        }
      ],
      "source": [
        "height_in_centimeters = float(input(\"Enter Your Height (in cm): \"))\n",
        "weight_in_kilograms = float(input(\"Enter Your Weight (in kg): \"))\n",
        "\n",
        "height_in_meters = height_in_centimeters / 100\n",
        "bmi = weight_in_kilograms / height_in_meters ** 2\n",
        "print(f\"BMI: {bmi}\")\n",
        "\n",
        "if bmi < 18.5:\n",
        "    print(\"You are underweight\")\n",
        "\n",
        "elif bmi > 18.5 and bmi < 24.9:\n",
        "    print(\"You have a normal weight\")\n",
        "\n",
        "elif bmi > 25 and bmi < 29.9:\n",
        "    print(\"You are overweight\")\n",
        "\n",
        "elif bmi >= 30:\n",
        "    print(\"You are obese\")\n",
        "\n",
        "    if bmi >= 30 and bmi > 40:\n",
        "       print(\"You should consult a doctor\")\n",
        "\n",
        "else:\n",
        "     print(\"You are very, very, very overweight\")"
      ]
    },
    {
      "cell_type": "code",
      "execution_count": null,
      "metadata": {
        "colab": {
          "base_uri": "https://localhost:8080/"
        },
        "id": "2M1_CRNPPSTj",
        "outputId": "8c6424d7-7d69-4291-8611-c02977b4b42a"
      },
      "outputs": [
        {
          "output_type": "stream",
          "name": "stdout",
          "text": [
            "Enter Your Full Name: Muhammad Abdul Subhan\n",
            "Enter Your Secret Code: XYZ12345\n",
            "Access granted for Muhammad Abdul Subhan\n"
          ]
        }
      ],
      "source": [
        "full_name = input(\"Enter Your Full Name: \")\n",
        "secret_code = input(\"Enter Your Secret Code: \")\n",
        "\n",
        "name_words = full_name.split()\n",
        "\n",
        "if len(name_words) < 3:\n",
        "   print(\"Please provide your full name (first, middle, and last).\")\n",
        "\n",
        "else:\n",
        "     if len(secret_code) == 8 and secret_code.startswith(\"XYZ\"):\n",
        "        print(f'''Access granted for {full_name}''')\n",
        "\n",
        "     else:\n",
        "          print(\"Invalid secret code. Code must start with 'XYZ' and be 8 characters long\")"
      ]
    },
    {
      "cell_type": "code",
      "execution_count": null,
      "metadata": {
        "colab": {
          "base_uri": "https://localhost:8080/"
        },
        "id": "pT6pw9PGPy9x",
        "outputId": "f33e095e-852a-4f7f-d7bf-b0febbb11ef5"
      },
      "outputs": [
        {
          "output_type": "stream",
          "name": "stdout",
          "text": [
            "Enter your name: MASubhan\n",
            "Valid name!\n"
          ]
        }
      ],
      "source": [
        "name = input(\"Enter your name: \")\n",
        "\n",
        "if len(name) != 8:\n",
        "   print(\"Invalid: name must be exactly 8 characters long.\")\n",
        "\n",
        "   if not name[0].isalpha():\n",
        "      print(\"Invalid: name must start with an alphabet character.\")\n",
        "\n",
        "   if \" \" in name:\n",
        "\n",
        "      print(\"Invalid: name must not contain any spaces.\")\n",
        "\n",
        "else:\n",
        "     print(\"Valid name!\")"
      ]
    },
    {
      "cell_type": "code",
      "execution_count": null,
      "metadata": {
        "colab": {
          "base_uri": "https://localhost:8080/"
        },
        "id": "orEJDyytQCNP",
        "outputId": "13a5f398-9181-40a3-9beb-031914c26f49"
      },
      "outputs": [
        {
          "output_type": "stream",
          "name": "stdout",
          "text": [
            "Enter the number: 5\n",
            "120\n"
          ]
        }
      ],
      "source": [
        "number = int(input(\"Enter the number: \"))\n",
        "\n",
        "factorial = 1\n",
        "\n",
        "while number > 1:\n",
        "      factorial *= number\n",
        "      number -= 1\n",
        "\n",
        "print(factorial)"
      ]
    },
    {
      "cell_type": "code",
      "execution_count": null,
      "metadata": {
        "colab": {
          "base_uri": "https://localhost:8080/"
        },
        "id": "HVo7TXH9kugL",
        "outputId": "af0dd0c8-933d-4d7c-d189-a429ebead2a6"
      },
      "outputs": [
        {
          "output_type": "stream",
          "name": "stdout",
          "text": [
            "[4, 16]\n"
          ]
        }
      ],
      "source": [
        "numbers = [1, 5, 2, 4, 3, 4, 2]\n",
        "\n",
        "square_numbers = [i ** 2 for i in numbers if i % 2 == 0]\n",
        "\n",
        "unique_numbers = []\n",
        "\n",
        "[unique_numbers.append(i) for i in square_numbers if i not in unique_numbers]\n",
        "\n",
        "sort_unique_numbers = sorted(unique_numbers)\n",
        "\n",
        "print(sort_unique_numbers)"
      ]
    },
    {
      "cell_type": "code",
      "source": [
        "operations = {\n",
        "    \"add\" : lambda lst: sum(lst),\n",
        "    \"sub\" : lambda lst: lst[0] - sum(lst[1:]),\n",
        "    \"mul\" : lambda lst: 1 if len(lst) == 0 else eval(\"*\".join(map(str, lst))),\n",
        "    \"div\" : lambda lst: lst[0] / lst[1] if len(lst) > 1 and lst[1] != 0 else \"Division error\",\n",
        "    \"exp\" : lambda lst, power: [x ** power for x in lst],\n",
        "    \"avg\" : lambda lst: sum(lst) / len(lst) if len(lst) > 0 else 0,\n",
        "    \"even\" : lambda lst: [x for x in lst if x % 2 == 0],\n",
        "    \"odd\" : lambda lst: [x for x in lst if x % 2 == 1]\n",
        "}\n",
        "\n",
        "def calculator(lst, task, power = None):\n",
        "    if task in operations:\n",
        "        if task == \"exp\" and power is not None:\n",
        "            return operations[task](lst, power)\n",
        "        return operations[task](lst, power)\n",
        "    else:\n",
        "        return \"Invalid task\"\n",
        "\n",
        "lst = list(map(int, input(\"Enter numbers separated by spaces: \").split()))\n",
        "task = input(\"Enter the task (add, sub, mul, div, exp, avg, even, odd): \")\n",
        "\n",
        "if task == \"exp\":\n",
        "    power = int(input(\"Enter the power for exponentiation: \"))\n",
        "    print(calculator(lst, task, power))\n",
        "else:\n",
        "    print(calculator(lst, task))"
      ],
      "metadata": {
        "colab": {
          "base_uri": "https://localhost:8080/"
        },
        "id": "Tcvi76hgqK4Y",
        "outputId": "bc925cb9-617c-4ead-f238-06fd63318243"
      },
      "execution_count": null,
      "outputs": [
        {
          "output_type": "stream",
          "name": "stdout",
          "text": [
            "Enter numbers separated by spaces: 1 2 3 4 5\n",
            "Enter the task (add, sub, mul, div, exp, avg, even, odd): exp\n",
            "Enter the power for exponentiation: 2\n",
            "[1, 4, 9, 16, 25]\n"
          ]
        }
      ]
    },
    {
      "cell_type": "code",
      "execution_count": null,
      "metadata": {
        "colab": {
          "base_uri": "https://localhost:8080/"
        },
        "id": "nUf9aPRG6VtJ",
        "outputId": "18501fe2-6b38-434b-81ff-56240b470781"
      },
      "outputs": [
        {
          "output_type": "stream",
          "name": "stdout",
          "text": [
            "Enter the number: 5\n",
            "Odd\n"
          ]
        }
      ],
      "source": [
        "# Problem 1\n",
        "\n",
        "# Check if a number is even or odd\n",
        "\n",
        "even_or_odd = lambda number: \"Even\" if number % 2 == 0 else \"Odd\"\n",
        "\n",
        "number = int(input(\"Enter the number: \"))\n",
        "\n",
        "print(even_or_odd(number))"
      ]
    },
    {
      "cell_type": "code",
      "execution_count": null,
      "metadata": {
        "colab": {
          "base_uri": "https://localhost:8080/"
        },
        "id": "FT1NlS--8rZG",
        "outputId": "4561dd51-ad3e-43cb-b48c-58a84bb0e643"
      },
      "outputs": [
        {
          "output_type": "stream",
          "name": "stdout",
          "text": [
            "Enter the first number: 20\n",
            "Enter the second number: 10\n",
            "The larger number is: 20\n"
          ]
        }
      ],
      "source": [
        "# Problem 2\n",
        "\n",
        "# Find the maximum of two numbers\n",
        "\n",
        "max_of_two = lambda first_number, second_number: first_number if first_number > second_number else second_number\n",
        "\n",
        "first_number = int(input(\"Enter the first number: \"))\n",
        "second_number = int(input(\"Enter the second number: \"))\n",
        "\n",
        "print(f\"The larger number is: {max_of_two(first_number, second_number)}\")"
      ]
    },
    {
      "cell_type": "code",
      "execution_count": null,
      "metadata": {
        "colab": {
          "base_uri": "https://localhost:8080/"
        },
        "id": "5LOXK8z8DaHz",
        "outputId": "123843db-8187-4416-dcfb-ce45ade74670"
      },
      "outputs": [
        {
          "output_type": "stream",
          "name": "stdout",
          "text": [
            "Enter a number: 5\n",
            "Positive\n"
          ]
        }
      ],
      "source": [
        "# Problem 3\n",
        "\n",
        "# Check if a number is positive, negative, or zero\n",
        "\n",
        "check_sign = lambda number: \"Positive\" if number > 0 else (\"Negative\" if number < 0 else \"Zero\")\n",
        "\n",
        "number = float(input(\"Enter a number: \"))\n",
        "\n",
        "print(check_sign(number))"
      ]
    },
    {
      "cell_type": "code",
      "execution_count": null,
      "metadata": {
        "colab": {
          "base_uri": "https://localhost:8080/"
        },
        "id": "6eTguvizE1FZ",
        "outputId": "6032349c-732c-4884-8f79-67cf9c78747c"
      },
      "outputs": [
        {
          "output_type": "stream",
          "name": "stdout",
          "text": [
            "Enter numbers separated by spaces: 1 2 3 4 5\n",
            "Sum of squares of even numbers: 20\n"
          ]
        }
      ],
      "source": [
        "# Problem 4\n",
        "\n",
        "# Sum of squares of even numbers in a list\n",
        "\n",
        "sum_of_squares_of_evens = lambda lst: sum(number ** 2 for number in lst if number % 2 == 0)\n",
        "\n",
        "user_input = input(\"Enter numbers separated by spaces: \")\n",
        "\n",
        "lst = [int(num) for num in user_input.split()]\n",
        "\n",
        "print(f\"Sum of squares of even numbers: {sum_of_squares_of_evens(lst)}\")"
      ]
    },
    {
      "cell_type": "code",
      "execution_count": null,
      "metadata": {
        "colab": {
          "base_uri": "https://localhost:8080/"
        },
        "id": "U3aFUAAzFNnk",
        "outputId": "660ed187-05a9-40ab-bf16-86e5679e69be"
      },
      "outputs": [
        {
          "output_type": "stream",
          "name": "stdout",
          "text": [
            "Enter the word: racecar\n",
            "True\n"
          ]
        }
      ],
      "source": [
        "# Problem 5\n",
        "\n",
        "# Check if a word is a palindrome\n",
        "\n",
        "palindrome = lambda word: word == word[::-1]\n",
        "\n",
        "word = input(\"Enter the word: \")\n",
        "\n",
        "print(palindrome(word))"
      ]
    },
    {
      "cell_type": "code",
      "execution_count": null,
      "metadata": {
        "colab": {
          "base_uri": "https://localhost:8080/"
        },
        "id": "6CcXl_Z1PB1s",
        "outputId": "edfcdf34-a04c-48d5-bdcb-ccd856caf81a"
      },
      "outputs": [
        {
          "output_type": "stream",
          "name": "stdout",
          "text": [
            "Enter the number to calculate its factorial: 5\n",
            "Factorial of 5 is: 120\n"
          ]
        }
      ],
      "source": [
        "# Problem 6\n",
        "\n",
        "# Find the factorial of a number\n",
        "\n",
        "factorial = lambda number: 1 if number == 0 else number * factorial(number - 1)\n",
        "\n",
        "number = int(input(\"Enter the number to calculate its factorial: \"))\n",
        "\n",
        "print(f\"Factorial of {number} is: {factorial(number)}\")"
      ]
    },
    {
      "cell_type": "code",
      "execution_count": null,
      "metadata": {
        "colab": {
          "base_uri": "https://localhost:8080/"
        },
        "id": "i2CmQB0mPvaH",
        "outputId": "12c882cb-2cec-46db-fb5d-ffbf7b34450b"
      },
      "outputs": [
        {
          "output_type": "stream",
          "name": "stdout",
          "text": [
            "Enter numbers separated by spaces: 1 2 3 4 5\n",
            "Even numbers from the list: [2, 4]\n"
          ]
        }
      ],
      "source": [
        "# Problem 7\n",
        "\n",
        "# Filter even numbers from a list\n",
        "\n",
        "filter_evens = lambda lst: list(filter(lambda number: number % 2 == 0, lst))\n",
        "\n",
        "user_input = input(\"Enter numbers separated by spaces: \")\n",
        "\n",
        "lst = [int(num) for num in user_input.split()]\n",
        "\n",
        "print(f\"Even numbers from the list: {filter_evens(lst)}\")"
      ]
    },
    {
      "cell_type": "code",
      "execution_count": null,
      "metadata": {
        "colab": {
          "base_uri": "https://localhost:8080/"
        },
        "id": "2i2j-k3iQKDe",
        "outputId": "4f6b5c9e-06ef-4936-f623-bb4d1513829a"
      },
      "outputs": [
        {
          "output_type": "stream",
          "name": "stdout",
          "text": [
            "Enter a string: Hello World\n",
            "Length of the string is: 11\n"
          ]
        }
      ],
      "source": [
        "# Problem 8\n",
        "\n",
        "# Get the length of a string\n",
        "\n",
        "string_length = lambda sring: len(string)\n",
        "\n",
        "string = input(\"Enter a string: \")\n",
        "\n",
        "print(f\"Length of the string is: {string_length(string)}\")"
      ]
    },
    {
      "cell_type": "code",
      "execution_count": null,
      "metadata": {
        "colab": {
          "base_uri": "https://localhost:8080/"
        },
        "id": "XKpekpIhXWX9",
        "outputId": "cef4ab74-f1ef-451d-b75d-cbac0a5fbe2b"
      },
      "outputs": [
        {
          "output_type": "stream",
          "name": "stdout",
          "text": [
            "Enter numbers separated by spaces: 1 2 3 4 5\n",
            "Product of the list is: 120\n"
          ]
        }
      ],
      "source": [
        "# Problem 9\n",
        "\n",
        "# Find the product of numbers in a list\n",
        "\n",
        "from functools import reduce\n",
        "\n",
        "product_of_list = lambda lst: reduce(lambda x, y: x * y, lst)\n",
        "\n",
        "user_input = input(\"Enter numbers separated by spaces: \")\n",
        "\n",
        "lst = [int(num) for num in user_input.split()]\n",
        "\n",
        "print(f\"Product of the list is: {product_of_list(lst)}\")"
      ]
    },
    {
      "cell_type": "code",
      "execution_count": null,
      "metadata": {
        "colab": {
          "base_uri": "https://localhost:8080/"
        },
        "id": "jK067VWhX-hW",
        "outputId": "ed145893-67e6-4c77-d5e1-507914e4d04c"
      },
      "outputs": [
        {
          "output_type": "stream",
          "name": "stdout",
          "text": [
            "Enter a number: 15\n",
            "True\n"
          ]
        }
      ],
      "source": [
        "# Problem 10\n",
        "\n",
        "# Check if a number is divisible by 3 and 5\n",
        "\n",
        "divisible_by_3_and_5 = lambda number: number % 3 == 0 and number % 5 == 0\n",
        "\n",
        "number = int(input(\"Enter a number: \"))\n",
        "\n",
        "print(divisible_by_3_and_5(number))"
      ]
    },
    {
      "cell_type": "code",
      "execution_count": null,
      "metadata": {
        "colab": {
          "base_uri": "https://localhost:8080/"
        },
        "id": "YZIsVZ8TYfHn",
        "outputId": "c8536c28-51bd-417b-8869-4f4a35564bfa"
      },
      "outputs": [
        {
          "output_type": "stream",
          "name": "stdout",
          "text": [
            "Enter the first number: 20\n",
            "Enter the second number: 10\n",
            "True\n"
          ]
        }
      ],
      "source": [
        "# Problem 11\n",
        "\n",
        "# Check if a number is a multiple of another number\n",
        "\n",
        "multiple = lambda first_number, second_number: True if first_number % second_number == 0 else False\n",
        "\n",
        "first_number = int(input(\"Enter the first number: \"))\n",
        "second_number = int(input(\"Enter the second number: \"))\n",
        "\n",
        "print(multiple(first_number, second_number))"
      ]
    },
    {
      "cell_type": "code",
      "execution_count": null,
      "metadata": {
        "colab": {
          "base_uri": "https://localhost:8080/"
        },
        "id": "rPN78an3XYK2",
        "outputId": "c49e98bb-693b-4abc-bcd2-9af652a55057"
      },
      "outputs": [
        {
          "output_type": "stream",
          "name": "stdout",
          "text": [
            "Enter numbers separated by spaces: 1 2 3 4 5\n",
            "Maximum number in the list is: 5\n"
          ]
        }
      ],
      "source": [
        "# Problem 12\n",
        "\n",
        "# Find the largest number in a list\n",
        "\n",
        "find_max = lambda lst: max(lst)\n",
        "\n",
        "user_input = input(\"Enter numbers separated by spaces: \")\n",
        "\n",
        "lst = [int(num) for num in user_input.split()]\n",
        "\n",
        "print(f\"Maximum number in the list is: {find_max(lst)}\")"
      ]
    },
    {
      "cell_type": "code",
      "execution_count": null,
      "metadata": {
        "colab": {
          "base_uri": "https://localhost:8080/"
        },
        "id": "l6nX_dmkYMGI",
        "outputId": "727164db-f331-4c9c-858e-e52de862ac8d"
      },
      "outputs": [
        {
          "output_type": "stream",
          "name": "stdout",
          "text": [
            "Enter the length of the rectangle: 3\n",
            "Enter the width of the rectangle: 8\n",
            "Area of the rectangle is: 24.0\n"
          ]
        }
      ],
      "source": [
        "# Problem 13\n",
        "\n",
        "# Calculate the area of a rectangle\n",
        "\n",
        "area_rectangle = lambda length, width: length * width\n",
        "\n",
        "length = float(input(\"Enter the length of the rectangle: \"))\n",
        "width = float(input(\"Enter the width of the rectangle: \"))\n",
        "\n",
        "print(f\"Area of the rectangle is: {area_rectangle(length, width)}\")"
      ]
    },
    {
      "cell_type": "code",
      "execution_count": null,
      "metadata": {
        "colab": {
          "base_uri": "https://localhost:8080/"
        },
        "id": "1V6BrVuWZFJH",
        "outputId": "5c9bfeaf-c593-4f4c-bb02-64fb3be081f2"
      },
      "outputs": [
        {
          "output_type": "stream",
          "name": "stdout",
          "text": [
            "Enter a string: Hello World\n",
            "Number of vowels in the string: 3\n"
          ]
        }
      ],
      "source": [
        "# Problem 14\n",
        "\n",
        "# Count the vowels in a string\n",
        "\n",
        "count_vowels = lambda string: sum(1 for i in string if i in 'AEIOUaeiou')\n",
        "\n",
        "string = input(\"Enter a string: \")\n",
        "\n",
        "print(f\"Number of vowels in the string: {count_vowels(string)}\")"
      ]
    },
    {
      "cell_type": "code",
      "execution_count": null,
      "metadata": {
        "colab": {
          "base_uri": "https://localhost:8080/"
        },
        "id": "N1T8C8GwZi45",
        "outputId": "82825874-8329-47d7-a627-8080059e90d8"
      },
      "outputs": [
        {
          "output_type": "stream",
          "name": "stdout",
          "text": [
            "Enter the lower bound: 3\n",
            "Enter the upper bound: 8\n",
            "Enter a number: 5\n",
            "True\n"
          ]
        }
      ],
      "source": [
        "# Problem 15\n",
        "\n",
        "# Check if a number is within a given range\n",
        "\n",
        "range = lambda number, low, high: low <= number <= high\n",
        "\n",
        "low = int(input(\"Enter the lower bound: \"))\n",
        "high = int(input(\"Enter the upper bound: \"))\n",
        "number = int(input(\"Enter a number: \"))\n",
        "\n",
        "print(range(number, low, high))"
      ]
    },
    {
      "cell_type": "code",
      "execution_count": null,
      "metadata": {
        "colab": {
          "base_uri": "https://localhost:8080/"
        },
        "id": "idTSnYg0bzLL",
        "outputId": "9bf1acd6-8058-4296-d947-95894e4fad66"
      },
      "outputs": [
        {
          "output_type": "stream",
          "name": "stdout",
          "text": [
            "Enter a string: Hello World\n",
            "Reversed string: dlroW olleH\n"
          ]
        }
      ],
      "source": [
        "# Problem 16\n",
        "\n",
        "# Reverse a string\n",
        "\n",
        "reverse_string = lambda string: string[::-1]\n",
        "\n",
        "string = input(\"Enter a string: \")\n",
        "\n",
        "print(f\"Reversed string: {reverse_string(string)}\")"
      ]
    },
    {
      "cell_type": "code",
      "execution_count": null,
      "metadata": {
        "colab": {
          "base_uri": "https://localhost:8080/"
        },
        "id": "AL6rvbemeCiT",
        "outputId": "d902e27e-897a-472c-b8bd-db786b344c46"
      },
      "outputs": [
        {
          "output_type": "stream",
          "name": "stdout",
          "text": [
            "Enter a number: 5\n",
            "Square of 5.0 is: 25.0\n"
          ]
        }
      ],
      "source": [
        "# Problem 17\n",
        "\n",
        "# Find the square of a number\n",
        "\n",
        "square = lambda number: number ** 2\n",
        "\n",
        "number = float(input(\"Enter a number: \"))\n",
        "\n",
        "print(f\"Square of {number} is: {square(number)}\")"
      ]
    },
    {
      "cell_type": "code",
      "execution_count": null,
      "metadata": {
        "colab": {
          "base_uri": "https://localhost:8080/"
        },
        "id": "0Mp78eD6gFy5",
        "outputId": "a52a06a9-567d-4970-80ee-8e7bf63ca844"
      },
      "outputs": [
        {
          "output_type": "stream",
          "name": "stdout",
          "text": [
            "Enter a string: Hello World\n",
            "Uppercase string: HELLO WORLD\n"
          ]
        }
      ],
      "source": [
        "# Problem 19\n",
        "\n",
        "# Convert a string to uppercase\n",
        "\n",
        "upper = lambda string: string.upper()\n",
        "\n",
        "string = input(\"Enter a string: \")\n",
        "\n",
        "print(f\"Uppercase string: {upper(string)}\")"
      ]
    },
    {
      "cell_type": "code",
      "execution_count": null,
      "metadata": {
        "colab": {
          "base_uri": "https://localhost:8080/"
        },
        "id": "7sYt2xbbgyE4",
        "outputId": "b86de674-07b7-4a74-93a2-060a6f4931ef"
      },
      "outputs": [
        {
          "output_type": "stream",
          "name": "stdout",
          "text": [
            "Enter numbers separated by spaces: 1 2 3 4 5\n",
            "Range difference (max - min) of the list is: 4\n"
          ]
        }
      ],
      "source": [
        "# Problem 20\n",
        "\n",
        "# Find the difference between the largest and smallest number in a list\n",
        "\n",
        "range_difference = lambda lst: max(lst) - min(lst)\n",
        "\n",
        "user_input = input(\"Enter numbers separated by spaces: \")\n",
        "\n",
        "lst = [int(num) for num in user_input.split()]\n",
        "\n",
        "print(f\"Range difference (max - min) of the list is: {range_difference(lst)}\")"
      ]
    },
    {
      "cell_type": "code",
      "execution_count": null,
      "metadata": {
        "colab": {
          "base_uri": "https://localhost:8080/"
        },
        "id": "OFgSWUL-hv-s",
        "outputId": "1671deec-e97a-42bf-8d51-2493e78184ab"
      },
      "outputs": [
        {
          "output_type": "stream",
          "name": "stdout",
          "text": [
            "Enter a character: S\n",
            "True\n"
          ]
        }
      ],
      "source": [
        "# Problem 21\n",
        "\n",
        "# Check if a character is a consonant\n",
        "\n",
        "consonant = lambda char: char not in \"AEIOUaeiou\"\n",
        "\n",
        "char = input(\"Enter a character: \")\n",
        "\n",
        "print(consonant(char))"
      ]
    },
    {
      "cell_type": "code",
      "execution_count": null,
      "metadata": {
        "colab": {
          "base_uri": "https://localhost:8080/"
        },
        "id": "UWD6C8wQiaO4",
        "outputId": "34162dd1-3de1-4ff5-ca97-a384786a164d"
      },
      "outputs": [
        {
          "output_type": "stream",
          "name": "stdout",
          "text": [
            "Enter numbers separated by spaces: 1 2 3 4 5 6 7 8 9 10\n",
            "Enter the multiplier: 2\n",
            "Result of multiplying the list by 2: [2, 4, 6, 8, 10, 12, 14, 16, 18, 20]\n"
          ]
        }
      ],
      "source": [
        "# Problem 22\n",
        "\n",
        "# Multiply all elements in a list by a given number\n",
        "\n",
        "multiply_list = lambda lst, n: [x * n for x in lst]\n",
        "\n",
        "user_input = input(\"Enter numbers separated by spaces: \")\n",
        "\n",
        "lst = [int(num) for num in user_input.split()]\n",
        "\n",
        "n = int(input(\"Enter the multiplier: \"))\n",
        "\n",
        "print(f\"Result of multiplying the list by {n}: {multiply_list(lst, n)}\")"
      ]
    },
    {
      "cell_type": "code",
      "execution_count": null,
      "metadata": {
        "colab": {
          "base_uri": "https://localhost:8080/"
        },
        "id": "gHadTxJMjBpr",
        "outputId": "aae044d5-f5a1-4b38-b77a-fa62e6784f70"
      },
      "outputs": [
        {
          "output_type": "stream",
          "name": "stdout",
          "text": [
            "Enter numbers separated by spaces: 1 2 3 4 5\n",
            "False\n"
          ]
        }
      ],
      "source": [
        "# Problem 23\n",
        "\n",
        "# Check if all elements in a list are even\n",
        "\n",
        "all_even = lambda lst: all(x % 2 == 0 for x in lst)\n",
        "\n",
        "user_input = input(\"Enter numbers separated by spaces: \")\n",
        "\n",
        "lst = [int(num) for num in user_input.split()]\n",
        "\n",
        "print(all_even(lst))"
      ]
    },
    {
      "cell_type": "code",
      "execution_count": null,
      "metadata": {
        "colab": {
          "base_uri": "https://localhost:8080/"
        },
        "id": "QfY0FPQwj_1p",
        "outputId": "e5e1d70a-3a63-436f-86ff-cd5b1a68811a"
      },
      "outputs": [
        {
          "output_type": "stream",
          "name": "stdout",
          "text": [
            "Enter the base: 2\n",
            "Enter the exponent: 2\n",
            "2.0 raised to the power of 2.0 is: 4.0\n"
          ]
        }
      ],
      "source": [
        "# Prblem 24\n",
        "\n",
        "# Calculate the power of a number\n",
        "\n",
        "power = lambda base, exp: base ** exp\n",
        "\n",
        "base = float(input(\"Enter the base: \"))\n",
        "exp = float(input(\"Enter the exponent: \"))\n",
        "\n",
        "print(f\"{base} raised to the power of {exp} is: {power(base, exp)}\")mzz"
      ]
    },
    {
      "cell_type": "code",
      "execution_count": null,
      "metadata": {
        "colab": {
          "base_uri": "https://localhost:8080/"
        },
        "id": "1-Vcz9eQkc9P",
        "outputId": "b48aed3b-6929-437b-d5cc-5f024d7957c4"
      },
      "outputs": [
        {
          "output_type": "stream",
          "name": "stdout",
          "text": [
            "Enter numbers separated by spaces: 1 2 3 4 5\n",
            "Non-negative numbers from the list: [1, 2, 3, 4, 5]\n"
          ]
        }
      ],
      "source": [
        "# Problem 25\n",
        "\n",
        "# Filter out negative numbers from a list\n",
        "\n",
        "filter_negatives = lambda lst: list(filter(lambda x: x >= 0, lst))\n",
        "\n",
        "user_input = input(\"Enter numbers separated by spaces: \")\n",
        "\n",
        "lst = [int(num) for num in user_input.split()]\n",
        "\n",
        "print(f\"Non-negative numbers from the list: {filter_negatives(lst)}\")"
      ]
    },
    {
      "cell_type": "code",
      "execution_count": null,
      "metadata": {
        "colab": {
          "base_uri": "https://localhost:8080/"
        },
        "id": "dUkX30j9M5sJ",
        "outputId": "7d7bb116-dc1d-45bd-ae7d-eb3b18cb5ac7"
      },
      "outputs": [
        {
          "output_type": "stream",
          "name": "stdout",
          "text": [
            "Enter the first number: 20\n",
            "Enter the second number: 10\n",
            "Is 20 divisible by 10? True\n"
          ]
        }
      ],
      "source": [
        "# Problem 26\n",
        "\n",
        "#Check if a number is divisible by another number\n",
        "\n",
        "divisible = lambda first_number, second_number: first_number % second_number == 0\n",
        "\n",
        "first_number = int(input(\"Enter the first number: \"))\n",
        "second_number = int(input(\"Enter the second number: \"))\n",
        "\n",
        "print(f\"Is {first_number} divisible by {second_number}? {divisible(first_number, second_number)}\")"
      ]
    },
    {
      "cell_type": "code",
      "execution_count": null,
      "metadata": {
        "colab": {
          "base_uri": "https://localhost:8080/"
        },
        "id": "byYFLxndQp_x",
        "outputId": "6ee57751-e3d9-4c48-83c8-96ec8d846990"
      },
      "outputs": [
        {
          "output_type": "stream",
          "name": "stdout",
          "text": [
            "Enter the first number: 20\n",
            "Enter the second number: 10\n",
            "Absolute difference between 20.0 and 10.0 is: 10.0\n"
          ]
        }
      ],
      "source": [
        "# Problem 27\n",
        "\n",
        "# Calculate the absolute difference between two numbers\n",
        "\n",
        "abs_difference = lambda first_number, second_number: abs(first_number - second_number)\n",
        "\n",
        "first_number = float(input(\"Enter the first number: \"))\n",
        "second_number = float(input(\"Enter the second number: \"))\n",
        "\n",
        "print(f\"Absolute difference between {first_number} and {second_number} is: {abs_difference(first_number, second_number)}\")"
      ]
    },
    {
      "cell_type": "code",
      "execution_count": null,
      "metadata": {
        "colab": {
          "base_uri": "https://localhost:8080/"
        },
        "id": "tS2dq3chS38-",
        "outputId": "90598a5f-da5d-441f-da28-56c2892386f9"
      },
      "outputs": [
        {
          "output_type": "stream",
          "name": "stdout",
          "text": [
            "Enter a string: 5\n",
            "Is the string composed only of digits? True\n"
          ]
        }
      ],
      "source": [
        "# Problem 28\n",
        "\n",
        "# Check if a string is a digit\n",
        "\n",
        "digit = lambda string: string.isdigit()\n",
        "\n",
        "string = input(\"Enter a string: \")\n",
        "\n",
        "print(f\"Is the string composed only of digits? {digit(string)}\")"
      ]
    },
    {
      "cell_type": "code",
      "execution_count": null,
      "metadata": {
        "colab": {
          "base_uri": "https://localhost:8080/"
        },
        "id": "rfVgmJutTw-q",
        "outputId": "a17f8915-3f37-47f7-c6be-ac072f8f0283"
      },
      "outputs": [
        {
          "output_type": "stream",
          "name": "stdout",
          "text": [
            "Enter a year: 2024\n",
            "Is 2024 a leap year? True\n"
          ]
        }
      ],
      "source": [
        "# Problem 29\n",
        "\n",
        "# Check if a year is a leap year\n",
        "\n",
        "leap_year = lambda year: year % 4 == 0 and (year % 100 != 0 or year % 400 == 0)\n",
        "\n",
        "year = int(input(\"Enter a year: \"))\n",
        "\n",
        "print(f\"Is {year} a leap year? {leap_year(year)}\")"
      ]
    },
    {
      "cell_type": "code",
      "execution_count": null,
      "metadata": {
        "colab": {
          "base_uri": "https://localhost:8080/"
        },
        "id": "65QPmDIPVknD",
        "outputId": "2ebf8b1a-85fb-4a0c-8ceb-557894dde4ce"
      },
      "outputs": [
        {
          "output_type": "stream",
          "name": "stdout",
          "text": [
            "Enter numbers separated by spaces: 1 2 3 4 5\n",
            "Minimum number in the list is: 1\n"
          ]
        }
      ],
      "source": [
        "# Problem 30\n",
        "\n",
        "# Find the smallest number in a list\n",
        "\n",
        "find_min = lambda lst: min(lst)\n",
        "\n",
        "user_input = input(\"Enter numbers separated by spaces: \")\n",
        "\n",
        "lst = [int(num) for num in user_input.split()]\n",
        "\n",
        "print(f\"Minimum number in the list is: {find_min(lst)}\")"
      ]
    },
    {
      "cell_type": "code",
      "execution_count": null,
      "metadata": {
        "colab": {
          "base_uri": "https://localhost:8080/"
        },
        "id": "gDSCSIWMXT3n",
        "outputId": "88aaac38-f1ca-4c44-d99d-cf4df3ae8131"
      },
      "outputs": [
        {
          "output_type": "stream",
          "name": "stdout",
          "text": [
            "Enter the first name: Abdul\n",
            "Enter the last name: Subhan\n",
            "Full name: Abdul Subhan\n"
          ]
        }
      ],
      "source": [
        "# Problem 31\n",
        "\n",
        "# Combine first and last names\n",
        "\n",
        "full_name = lambda first_name, last_name: f\"{first_name} {last_name}\"\n",
        "\n",
        "first_name = input(\"Enter the first name: \")\n",
        "last_name = input(\"Enter the last name: \")\n",
        "\n",
        "print(f\"Full name: {full_name(first_name, last_name)}\")"
      ]
    },
    {
      "cell_type": "code",
      "execution_count": null,
      "metadata": {
        "colab": {
          "base_uri": "https://localhost:8080/"
        },
        "id": "-Fk-qRlMZPVw",
        "outputId": "92e3e82b-d162-4bde-bb8b-93c4fbeabf24"
      },
      "outputs": [
        {
          "output_type": "stream",
          "name": "stdout",
          "text": [
            "Enter the radius of the circle: 5\n",
            "Perimeter (circumference) of the circle is: 31.4\n"
          ]
        }
      ],
      "source": [
        "# Problem 32\n",
        "\n",
        "# Calculate the perimeter of a circle\n",
        "\n",
        "perimeter_circle = lambda radius: 2 * 3.14 * radius\n",
        "\n",
        "radius = float(input(\"Enter the radius of the circle: \"))\n",
        "\n",
        "print(f\"Perimeter (circumference) of the circle is: {perimeter_circle(radius):.1f}\")"
      ]
    },
    {
      "cell_type": "code",
      "execution_count": null,
      "metadata": {
        "colab": {
          "base_uri": "https://localhost:8080/"
        },
        "id": "aff9cAkWfRRG",
        "outputId": "4f4be3c8-aa8b-4947-d133-f5415b3db4c0"
      },
      "outputs": [
        {
          "output_type": "stream",
          "name": "stdout",
          "text": [
            "Enter numbers separated by spaces: 1 2 3 4 5\n",
            "Enter the threshold value: 2\n",
            "Numbers greater than 2 from the list: [3, 4, 5]\n"
          ]
        }
      ],
      "source": [
        "# Problem 33\n",
        "\n",
        "#  Filter numbers greater than a specific value\n",
        "\n",
        "filter_greater = lambda lst, n: list(filter(lambda x: x > n, lst))\n",
        "\n",
        "user_input = input(\"Enter numbers separated by spaces: \")\n",
        "\n",
        "lst = [int(num) for num in user_input.split()]\n",
        "\n",
        "n = int(input(\"Enter the threshold value: \"))\n",
        "\n",
        "print(f\"Numbers greater than {n} from the list: {filter_greater(lst, n)}\")"
      ]
    },
    {
      "cell_type": "code",
      "execution_count": null,
      "metadata": {
        "colab": {
          "base_uri": "https://localhost:8080/"
        },
        "id": "SCQmp66vfq7M",
        "outputId": "3865ab4f-620b-4523-9c68-afcf4ea04609"
      },
      "outputs": [
        {
          "output_type": "stream",
          "name": "stdout",
          "text": [
            "Enter words separated by spaces: I love programming in python\n",
            "Words sorted by length: ['I', 'in', 'love', 'python', 'programming']\n"
          ]
        }
      ],
      "source": [
        "# Problem 34\n",
        "\n",
        "# Sort a list of strings by their length\n",
        "\n",
        "sort_by_length = lambda lst: sorted(lst, key = lambda string: len(string))\n",
        "\n",
        "user_input = input(\"Enter words separated by spaces: \")\n",
        "\n",
        "lst = user_input.split()\n",
        "\n",
        "print(f\"Words sorted by length: {sort_by_length(lst)}\")"
      ]
    },
    {
      "cell_type": "code",
      "execution_count": null,
      "metadata": {
        "colab": {
          "base_uri": "https://localhost:8080/"
        },
        "id": "792q-4XSgX7q",
        "outputId": "0de4fa69-b7f6-4ad4-ccf2-83fc221834f7"
      },
      "outputs": [
        {
          "output_type": "stream",
          "name": "stdout",
          "text": [
            "Enter a string: Hello World\n",
            "Does the string start with a vowel? False\n"
          ]
        }
      ],
      "source": [
        "# Problem 35\n",
        "\n",
        "# Check if a string starts with a vowel\n",
        "\n",
        "starts_with_vowel = lambda string: string[0] in 'AEIOUaeiou'\n",
        "\n",
        "string = input(\"Enter a string: \")\n",
        "\n",
        "print(f\"Does the string start with a vowel? {starts_with_vowel(string)}\")"
      ]
    },
    {
      "cell_type": "code",
      "execution_count": null,
      "metadata": {
        "colab": {
          "base_uri": "https://localhost:8080/"
        },
        "id": "rfIlUjaMivBz",
        "outputId": "81a779f3-71b0-409c-dcc0-49f1fcac7c19"
      },
      "outputs": [
        {
          "output_type": "stream",
          "name": "stdout",
          "text": [
            "Enter words separated by spaces: I love programming in python\n",
            "The length of the longest word is: 11\n"
          ]
        }
      ],
      "source": [
        "# Problem 36\n",
        "\n",
        "# Find the length of the longest word in a list\n",
        "\n",
        "longest_word_length = lambda lst: max(len(word) for word in lst)\n",
        "\n",
        "user_input = input(\"Enter words separated by spaces: \")\n",
        "\n",
        "lst = user_input.split()\n",
        "\n",
        "print(f\"The length of the longest word is: {longest_word_length(lst)}\")"
      ]
    },
    {
      "cell_type": "code",
      "execution_count": null,
      "metadata": {
        "colab": {
          "base_uri": "https://localhost:8080/"
        },
        "id": "AyHu-_bUjcjw",
        "outputId": "5bad6fbf-6aaf-4e0e-f1f2-cdbab6730be2"
      },
      "outputs": [
        {
          "output_type": "stream",
          "name": "stdout",
          "text": [
            "Enter numbers separated by spaces: 1 2 3 4 5\n",
            "Squared numbers: [1, 4, 9, 16, 25]\n"
          ]
        }
      ],
      "source": [
        "# Problem 37\n",
        "\n",
        "# Square each number in a list\n",
        "\n",
        "square_numbers = lambda lst: list(map(lambda x: x ** 2, lst))\n",
        "\n",
        "user_input = input(\"Enter numbers separated by spaces: \")\n",
        "\n",
        "lst = [int(num) for num in user_input.split()]\n",
        "\n",
        "print(f\"Squared numbers: {square_numbers(lst)}\")"
      ]
    },
    {
      "cell_type": "code",
      "execution_count": null,
      "metadata": {
        "colab": {
          "base_uri": "https://localhost:8080/"
        },
        "id": "1dJciCh6kZzQ",
        "outputId": "140b469b-c13a-49a7-d8cb-d20b2cc47634"
      },
      "outputs": [
        {
          "output_type": "stream",
          "name": "stdout",
          "text": [
            "Enter words separated by spaces: I love programming in python\n",
            "Enter the substring to search for: p\n",
            "Words containing the substring 'p': ['programming', 'python']\n"
          ]
        }
      ],
      "source": [
        "# Problem 38\n",
        "\n",
        "# Filter strings that contain a specific substring\n",
        "\n",
        "filter_substring = lambda lst, sub: list(filter(lambda s: sub in s, lst))\n",
        "\n",
        "user_input = input(\"Enter words separated by spaces: \")\n",
        "\n",
        "lst = user_input.split()\n",
        "\n",
        "sub = input(\"Enter the substring to search for: \")\n",
        "\n",
        "print(f\"Words containing the substring '{sub}': {filter_substring(lst, sub)}\")"
      ]
    },
    {
      "cell_type": "code",
      "execution_count": null,
      "metadata": {
        "colab": {
          "base_uri": "https://localhost:8080/"
        },
        "id": "siujhyA0lCiN",
        "outputId": "c5e92dbd-ff24-437c-d155-537bbf3d3cbb"
      },
      "outputs": [
        {
          "output_type": "stream",
          "name": "stdout",
          "text": [
            "Enter a string: Hello World\n",
            "The number of words in the string is: 2\n"
          ]
        }
      ],
      "source": [
        "# Problem 39\n",
        "\n",
        "# Count the number of words in a string\n",
        "\n",
        "count_words = lambda string: len(string.split())\n",
        "\n",
        "string = input(\"Enter a string: \")\n",
        "\n",
        "print(f\"The number of words in the string is: {count_words(string)}\")"
      ]
    },
    {
      "cell_type": "code",
      "execution_count": null,
      "metadata": {
        "colab": {
          "base_uri": "https://localhost:8080/"
        },
        "id": "UkFpghXOlxoh",
        "outputId": "d6a26188-5ac8-465b-f595-d864b1eb297e"
      },
      "outputs": [
        {
          "output_type": "stream",
          "name": "stdout",
          "text": [
            "Enter a string: hello world\n",
            "Is the string in all lowercase? True\n"
          ]
        }
      ],
      "source": [
        "# Problem 40\n",
        "\n",
        "# Check if all characters in a string are lowercase\n",
        "\n",
        "all_lowercase = lambda string: True if string.lower() else False\n",
        "\n",
        "string = input(\"Enter a string: \")\n",
        "\n",
        "print(f\"Is the string in all lowercase? {all_lowercase(string)}\")"
      ]
    },
    {
      "cell_type": "code",
      "execution_count": null,
      "metadata": {
        "colab": {
          "base_uri": "https://localhost:8080/"
        },
        "id": "e7WCPjG8wJZa",
        "outputId": "72677994-ee75-49db-990e-8008cd9734d2"
      },
      "outputs": [
        {
          "output_type": "stream",
          "name": "stdout",
          "text": [
            "Enter a number: 5\n",
            "The number is: Positive\n"
          ]
        }
      ],
      "source": [
        "# Problem 41\n",
        "\n",
        "# Check if a number is positive, negative, or zero\n",
        "\n",
        "check_number = lambda x: \"Positive\" if number > 0 else \"Negative\" if number < 0 else \"Zero\"\n",
        "\n",
        "nummber = float(input(\"Enter a number: \"))\n",
        "\n",
        "print(f\"The number is: {check_number(number)}\")"
      ]
    },
    {
      "cell_type": "code",
      "execution_count": null,
      "metadata": {
        "colab": {
          "base_uri": "https://localhost:8080/"
        },
        "id": "ohNCviLcCQVv",
        "outputId": "e991b32a-c682-4d6c-a12e-9ee50c6e11bb"
      },
      "outputs": [
        {
          "output_type": "stream",
          "name": "stdout",
          "text": [
            "Enter the first number: 100\n",
            "Enter the second number: 50\n",
            "Enter the third number: 1\n",
            "The average of the three numbers is: 50.333333333333336\n"
          ]
        }
      ],
      "source": [
        "# problem 42\n",
        "\n",
        "# Find the average of three numbers\n",
        "\n",
        "average = lambda first_number, second_number, third_number: (first_number + second_number + third_number) / 3\n",
        "\n",
        "first_number = float(input(\"Enter the first number: \"))\n",
        "second_number = float(input(\"Enter the second number: \"))\n",
        "third_number = float(input(\"Enter the third number: \"))\n",
        "\n",
        "print(f\"The average of the three numbers is: {average(first_number, second_number, third_number)}\")"
      ]
    },
    {
      "cell_type": "code",
      "execution_count": null,
      "metadata": {
        "colab": {
          "base_uri": "https://localhost:8080/"
        },
        "id": "WhId2kL0C2de",
        "outputId": "aadd4f5b-acf0-4ce3-bcbe-140c26b75d44"
      },
      "outputs": [
        {
          "output_type": "stream",
          "name": "stdout",
          "text": [
            "Enter a string: racecar\n",
            "Is the string a palindrome? True\n"
          ]
        }
      ],
      "source": [
        "# Problem 43\n",
        "\n",
        "# Check if a string is a palindrome\n",
        "\n",
        "palindrome = lambda string: string == string[::-1]\n",
        "\n",
        "string = input(\"Enter a string: \")\n",
        "\n",
        "print(f\"Is the string a palindrome? {palindrome(string)}\")"
      ]
    },
    {
      "cell_type": "code",
      "execution_count": null,
      "metadata": {
        "colab": {
          "base_uri": "https://localhost:8080/"
        },
        "id": "B5mt8jFrDdcS",
        "outputId": "92112020-53e4-4b39-9f65-21a47b12bec8"
      },
      "outputs": [
        {
          "output_type": "stream",
          "name": "stdout",
          "text": [
            "Enter a non-negative integer: 5\n",
            "The factorial of 5 is: 120\n"
          ]
        }
      ],
      "source": [
        "# Problem 44\n",
        "\n",
        "# Calculate the factorial of a number (using recursion)\n",
        "\n",
        "from functools import reduce\n",
        "\n",
        "factorial = lambda number: 1 if number == 0 else number * factorial(number - 1)\n",
        "\n",
        "number = int(input(\"Enter a non-negative integer: \"))\n",
        "\n",
        "print(f\"The factorial of {number} is: {factorial(number)}\")"
      ]
    },
    {
      "cell_type": "code",
      "execution_count": null,
      "metadata": {
        "colab": {
          "base_uri": "https://localhost:8080/"
        },
        "id": "xhomA3NZD6Pc",
        "outputId": "d76ce8bb-b85f-4821-d0d0-43cf4c6cde62"
      },
      "outputs": [
        {
          "output_type": "stream",
          "name": "stdout",
          "text": [
            "Enter an integer: 5\n",
            "The number is: Odd\n"
          ]
        }
      ],
      "source": [
        "# Problem 45\n",
        "\n",
        "# Check if a number is even or odd\n",
        "\n",
        "is_even_or_odd = lambda number: \"Even\" if number % 2 == 0 else \"Odd\"\n",
        "\n",
        "number = int(input(\"Enter an integer: \"))\n",
        "\n",
        "print(f\"The number is: {is_even_or_odd(number)}\")"
      ]
    },
    {
      "cell_type": "code",
      "execution_count": null,
      "metadata": {
        "id": "3-gYz23nEknp",
        "colab": {
          "base_uri": "https://localhost:8080/"
        },
        "outputId": "bfe14395-def8-4b1b-84de-8dffb76103a5"
      },
      "outputs": [
        {
          "output_type": "stream",
          "name": "stdout",
          "text": [
            "Enter the number: 5\n",
            "25\n"
          ]
        }
      ],
      "source": [
        "# Problem 46\n",
        "\n",
        "# Calculate the square of a number\n",
        "\n",
        "square = lambda number: number ** 2\n",
        "\n",
        "number = int(input(\"Enter the number: \"))\n",
        "\n",
        "print(square(number))"
      ]
    },
    {
      "cell_type": "code",
      "source": [
        "# Problem 47\n",
        "\n",
        "# Find the maximum of two numbers\n",
        "\n",
        "max_of_two_numbers = lambda first_number, second_number: first_number if first_number > second_number else second_number\n",
        "\n",
        "first_number = int(input(\"Enter the number: \"))\n",
        "second_number = int(input(\"Enter the number: \"))\n",
        "\n",
        "print(max_of_two_numbers(first_number, second_number))"
      ],
      "metadata": {
        "colab": {
          "base_uri": "https://localhost:8080/"
        },
        "id": "8OFmRYDeQ3MA",
        "outputId": "966a4d04-8470-4eea-b78e-3343169c4222"
      },
      "execution_count": null,
      "outputs": [
        {
          "output_type": "stream",
          "name": "stdout",
          "text": [
            "Enter the number: 20\n",
            "Enter the number: 10\n",
            "20\n"
          ]
        }
      ]
    },
    {
      "cell_type": "code",
      "source": [
        "# Problem 48\n",
        "\n",
        "# Calculate the length of a string\n",
        "\n",
        "string_length = lambda string: len(string)\n",
        "\n",
        "string = input(\"Enter the string: \")\n",
        "\n",
        "print(string_length(string))"
      ],
      "metadata": {
        "colab": {
          "base_uri": "https://localhost:8080/"
        },
        "id": "3mq4ZWFASEUI",
        "outputId": "6b2509e3-4dc6-42e4-ba84-f893d2fd0328"
      },
      "execution_count": null,
      "outputs": [
        {
          "output_type": "stream",
          "name": "stdout",
          "text": [
            "Enter the string: Hello World\n",
            "11\n"
          ]
        }
      ]
    },
    {
      "cell_type": "code",
      "source": [
        "# Problem 49\n",
        "\n",
        "# Check if a number is a multiple of 3 and 5\n",
        "\n",
        "multiple_of_3_and_5 = lambda number: number % 3 == 0 and number % 5 == 0\n",
        "\n",
        "number = int(input(\"Enter the number: \"))\n",
        "\n",
        "print(multiple_of_3_and_5(number))"
      ],
      "metadata": {
        "colab": {
          "base_uri": "https://localhost:8080/"
        },
        "id": "r6Z9S2yR1GqH",
        "outputId": "f22baec3-efac-44ec-97ea-0833d176f06f"
      },
      "execution_count": null,
      "outputs": [
        {
          "output_type": "stream",
          "name": "stdout",
          "text": [
            "Enter the number: 15\n",
            "True\n"
          ]
        }
      ]
    },
    {
      "cell_type": "code",
      "source": [
        "# Problem 50\n",
        "\n",
        "# Return the first character of a string\n",
        "\n",
        "first_char = lambda string: string[0] if string else \"Empty String\"\n",
        "\n",
        "string = input(\"Enter the string: \")\n",
        "\n",
        "print(first_char(string))"
      ],
      "metadata": {
        "colab": {
          "base_uri": "https://localhost:8080/"
        },
        "id": "7kllLBB-SrhP",
        "outputId": "de3dee85-0e1a-45c9-dc4e-27cc8fe44ecb"
      },
      "execution_count": null,
      "outputs": [
        {
          "output_type": "stream",
          "name": "stdout",
          "text": [
            "Enter the string: Hello World\n",
            "H\n"
          ]
        }
      ]
    },
    {
      "cell_type": "code",
      "source": [
        "# Problem 51\n",
        "\n",
        "# Check if a string contains a specific substring\n",
        "\n",
        "contains_substring = lambda string, substring: substring in string\n",
        "\n",
        "string = input(\"Enter the string: \")\n",
        "substring = input(\"Enter the substring: \")\n",
        "\n",
        "print(contains_substring(string, substring))"
      ],
      "metadata": {
        "colab": {
          "base_uri": "https://localhost:8080/"
        },
        "id": "p1PFtdK71z63",
        "outputId": "b5f471ee-9b10-489e-8dd8-5d84a55f78f0"
      },
      "execution_count": null,
      "outputs": [
        {
          "output_type": "stream",
          "name": "stdout",
          "text": [
            "Enter the string: Hello World\n",
            "Enter the substring: l\n",
            "True\n"
          ]
        }
      ]
    },
    {
      "cell_type": "code",
      "source": [
        "# Problem 52\n",
        "\n",
        "# Convert a string to lowercase\n",
        "\n",
        "lowercase = lambda string: string.lower()\n",
        "\n",
        "string = input(\"Enter the string: \")\n",
        "\n",
        "print(lowercase(string))"
      ],
      "metadata": {
        "colab": {
          "base_uri": "https://localhost:8080/"
        },
        "id": "MBtCefvc2-p5",
        "outputId": "587cbf85-2f34-40e5-e4e0-a43ac93d19e2"
      },
      "execution_count": null,
      "outputs": [
        {
          "output_type": "stream",
          "name": "stdout",
          "text": [
            "Enter the string: Hello World\n",
            "hello world\n"
          ]
        }
      ]
    },
    {
      "cell_type": "code",
      "source": [
        "# Problem 53\n",
        "\n",
        "# Find the product of two numbers\n",
        "\n",
        "product = lambda first_number, second_number: first_number * second_number\n",
        "\n",
        "first_number = int(input(\"Enter the first number: \"))\n",
        "second_number = int(input(\"Enter the second number: \"))\n",
        "\n",
        "print(product(first_number, second_number))"
      ],
      "metadata": {
        "colab": {
          "base_uri": "https://localhost:8080/"
        },
        "id": "e_pM2eYQ3pa8",
        "outputId": "94ffde4e-2c0c-4c4b-fb51-058a8fc4f3cd"
      },
      "execution_count": null,
      "outputs": [
        {
          "output_type": "stream",
          "name": "stdout",
          "text": [
            "Enter the first number: 20\n",
            "Enter the second number: 10\n",
            "200\n"
          ]
        }
      ]
    },
    {
      "cell_type": "code",
      "source": [
        "# Problem 54\n",
        "\n",
        "# Check if a string is uppercase\n",
        "\n",
        "uppercase = lambda string: string.isupper()\n",
        "\n",
        "string = input(\"Enter the string: \")\n",
        "\n",
        "print(uppercase(string))"
      ],
      "metadata": {
        "colab": {
          "base_uri": "https://localhost:8080/"
        },
        "id": "KgqP7g0R4qo5",
        "outputId": "e3fc2a48-58a4-4196-fb31-cb711a3a42cb"
      },
      "execution_count": null,
      "outputs": [
        {
          "output_type": "stream",
          "name": "stdout",
          "text": [
            "Enter the string: HELLO WORLD\n",
            "True\n"
          ]
        }
      ]
    },
    {
      "cell_type": "code",
      "source": [
        "# Problem 55\n",
        "\n",
        "# Find the remainder when dividing two numbers\n",
        "\n",
        "remainder = lambda first_number, second_number: first_number % second_number\n",
        "\n",
        "first_number = int(input(\"Enter the first number: \"))\n",
        "second_number = int(input(\"Enter the second number: \"))\n",
        "\n",
        "print(remainder(first_number, second_number))"
      ],
      "metadata": {
        "colab": {
          "base_uri": "https://localhost:8080/"
        },
        "id": "vrvt1H52TVk0",
        "outputId": "4176cd84-139d-475c-9d79-7fdebe15519a"
      },
      "execution_count": null,
      "outputs": [
        {
          "output_type": "stream",
          "name": "stdout",
          "text": [
            "Enter the first number: 20\n",
            "Enter the second number: 10\n",
            "0\n"
          ]
        }
      ]
    },
    {
      "cell_type": "code",
      "source": [
        "# Problem 56\n",
        "\n",
        "# Concatenate two strings with a space\n",
        "\n",
        "concatenate = lambda string_1, string_2: string_1 + \" \" + string_2\n",
        "\n",
        "string_1 = input(\"Enter the first string: \")\n",
        "string_2 = input(\"Enter the second string: \")\n",
        "\n",
        "print(concatenate(string_1, string_2))"
      ],
      "metadata": {
        "colab": {
          "base_uri": "https://localhost:8080/"
        },
        "id": "5F1I6ikVr0jm",
        "outputId": "73101172-e6df-41e9-cc2b-973c00b92a00"
      },
      "execution_count": null,
      "outputs": [
        {
          "output_type": "stream",
          "name": "stdout",
          "text": [
            "Enter the first string: Hello\n",
            "Enter the second string: World\n",
            "Hello World\n"
          ]
        }
      ]
    },
    {
      "cell_type": "code",
      "source": [
        "# Problem 57\n",
        "\n",
        "# Calculate the cube of a number\n",
        "\n",
        "cube = lambda number: number ** 3\n",
        "\n",
        "number = int(input(\"Enter the number: \"))\n",
        "\n",
        "print(cube(number))"
      ],
      "metadata": {
        "colab": {
          "base_uri": "https://localhost:8080/"
        },
        "id": "_uJXoB4u5-Rl",
        "outputId": "4022ff47-003e-4e6a-aa94-5d0762e5cda3"
      },
      "execution_count": null,
      "outputs": [
        {
          "output_type": "stream",
          "name": "stdout",
          "text": [
            "Enter the number: 5\n",
            "125\n"
          ]
        }
      ]
    },
    {
      "cell_type": "code",
      "source": [
        "# Problem 58\n",
        "\n",
        "# Check if all elements in a list are positive\n",
        "\n",
        "all_positive = lambda lst: all(x > 0 for x in lst)\n",
        "\n",
        "lst = list(map(int, input(\"Enter the numbers: \").split()))\n",
        "\n",
        "print(all_positive(lst))"
      ],
      "metadata": {
        "colab": {
          "base_uri": "https://localhost:8080/"
        },
        "id": "lHf2iVJV7FeA",
        "outputId": "3d610e59-308d-4fe2-e5de-5dc70faecb4c"
      },
      "execution_count": null,
      "outputs": [
        {
          "output_type": "stream",
          "name": "stdout",
          "text": [
            "Enter the numbers: 5\n",
            "True\n"
          ]
        }
      ]
    }
  ],
  "metadata": {
    "colab": {
      "provenance": []
    },
    "kernelspec": {
      "display_name": "Python 3",
      "name": "python3"
    },
    "language_info": {
      "name": "python"
    }
  },
  "nbformat": 4,
  "nbformat_minor": 0
}