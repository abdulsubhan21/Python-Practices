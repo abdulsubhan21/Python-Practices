{
  "nbformat": 4,
  "nbformat_minor": 0,
  "metadata": {
    "colab": {
      "provenance": []
    },
    "kernelspec": {
      "name": "python3",
      "display_name": "Python 3"
    },
    "language_info": {
      "name": "python"
    }
  },
  "cells": [
    {
      "cell_type": "code",
      "source": [
        "name = input(\"Enter The Name: \")\n",
        "subject_1 = float(input(\"Enter The Subject 1 Marks: \"))\n",
        "subject_2 = float(input(\"Enter The Subject 2 Marks: \"))\n",
        "subject_3 = float(input(\"Enter The Subject 3 Marks: \"))\n",
        "subject_4 = float(input(\"Enter The Subject 4 Marks: \"))\n",
        "subject_5 = float(input(\"Enter The Subject 5 Marks: \"))\n",
        "\n",
        "marks = [subject_1, subject_2, subject_3, subject_4, subject_5]\n",
        "grade = sum(marks) / len(marks)\n",
        "\n",
        "if grade >= 80:\n",
        "   performance = \"Very Exellent\"\n",
        "\n",
        "elif grade >= 70 and grade <= 79:\n",
        "     performance = \"Exellent\"\n",
        "\n",
        "elif grade >= 60 and grade <= 69:\n",
        "     performance = \"Very Good\"\n",
        "\n",
        "elif grade >= 50 and grade <= 59:\n",
        "     performance = \"Good\"\n",
        "\n",
        "elif grade >= 40 and grade <= 49:\n",
        "     performance = \"Average\"\n",
        "\n",
        "else:\n",
        "     performance = \"Fail\"\n",
        "\n",
        "print(f'''\n",
        "\n",
        "Students Report Card\n",
        "\n",
        "Student Name: {name}\n",
        "Student Subjects Marks: {marks}\n",
        "Student Grade: {grade}\n",
        "Student Performance: {performance}''')"
      ],
      "metadata": {
        "id": "s_QUFtVlLdca",
        "colab": {
          "base_uri": "https://localhost:8080/"
        },
        "outputId": "75eebe3e-f8a0-4298-d72b-fdd48a90a2fa"
      },
      "execution_count": null,
      "outputs": [
        {
          "output_type": "stream",
          "name": "stdout",
          "text": [
            "Enter The Name: Abdul Subhan\n",
            "Enter The Subject 1 Marks: 74\n",
            "Enter The Subject 2 Marks: 78\n",
            "Enter The Subject 3 Marks: 95\n",
            "Enter The Subject 4 Marks: 76\n",
            "Enter The Subject 5 Marks: 80\n",
            "\n",
            "\n",
            "Students Report Card\n",
            "\n",
            "Student Name: Abdul Subhan\n",
            "Student Subjects Marks: [74.0, 78.0, 95.0, 76.0, 80.0]\n",
            "Student Grade: 80.6\n",
            "Student Performance: Very Exellent\n"
          ]
        }
      ]
    },
    {
      "cell_type": "code",
      "source": [
        "name = input(\"Enter the name: \")\n",
        "\n",
        "item_1 = input(\"Enter the item 1: \")\n",
        "item_1_price = int(input(\"Enter the item 1 price: \"))\n",
        "\n",
        "item_2 = input(\"Enter the item 2: \")\n",
        "item_2_price = int(input(\"Enter the item 2 price: \"))\n",
        "\n",
        "item_3 = input(\"Enter the item 3: \")\n",
        "item_3_price = int(input(\"Enter the item 3 price: \"))\n",
        "\n",
        "item_names = [item_1, item_2, item_3]\n",
        "item_prices = [item_1_price, item_2_price, item_3_price]\n",
        "\n",
        "total_price = sum(item_prices)\n",
        "\n",
        "if total_price > 10000:\n",
        "   discount_amount = total_price * 10 / 100\n",
        "   final_price = total_price - discount_amount\n",
        "   discount = f\" {discount_amount}\"\n",
        "\n",
        "else:\n",
        "     final_price = total_price\n",
        "     discount = \"No discount.\"\n",
        "\n",
        "print(f'''\n",
        "\n",
        "Shopping Bill\n",
        "\n",
        "Customer Name: {name}\n",
        "Items: {item_names}\n",
        "Prices: {item_prices}\n",
        "Total Price: {total_price}\n",
        "10% Discount: {discount}\n",
        "Final Price: {final_price}''')"
      ],
      "metadata": {
        "id": "fqCBYX6rnUf2",
        "colab": {
          "base_uri": "https://localhost:8080/"
        },
        "outputId": "05b542a2-879f-415c-e78d-e47f8b93c1a1"
      },
      "execution_count": null,
      "outputs": [
        {
          "output_type": "stream",
          "name": "stdout",
          "text": [
            "Enter the name: Abdul Subhan\n",
            "Enter the item 1: Monitor\n",
            "Enter the item 1 price: 5000\n",
            "Enter the item 2: CPU\n",
            "Enter the item 2 price: 10000\n",
            "Enter the item 3: Keyboard and mouse\n",
            "Enter the item 3 price: 3000\n",
            "\n",
            "\n",
            "Shopping Bill\n",
            "\n",
            "Customer Name: Abdul Subhan\n",
            "Items: ['Monitor', 'CPU', 'Keyboard and mouse']\n",
            "Prices: [5000, 10000, 3000]\n",
            "Total Price: 18000\n",
            "10% Discount:  1800.0\n",
            "Final Price: 16200.0\n"
          ]
        }
      ]
    },
    {
      "cell_type": "code",
      "source": [
        "name = input(\"Enter the student name: \")\n",
        "age = int(input(\"Enter the student age: \"))\n",
        "\n",
        "math_numbers = float(input(\"Enter the student maths numbers: \"))\n",
        "science_numbers = float(input(\"Enter the student science numbers: \"))\n",
        "english_numbers = float(input(\"Enter the student english numbers: \"))\n",
        "\n",
        "numbers = [math_numbers, science_numbers, english_numbers]\n",
        "\n",
        "student_info = {\"name\": name, \"age\": age, \"numbers\": numbers}\n",
        "\n",
        "total_numbers = 0\n",
        "for i in numbers:\n",
        "    total_numbers += i\n",
        "\n",
        "percentage = total_numbers / len(numbers)\n",
        "\n",
        "student_info[\"percentage\"] = percentage\n",
        "\n",
        "if percentage >= 80:\n",
        "   grade = \"A+\"\n",
        "elif 70 <= percentage <= 79:\n",
        "     grade = \"A\"\n",
        "elif 60 <= percentage <= 69:\n",
        "     grade = \"B\"\n",
        "elif 50 <= percentage <= 59:\n",
        "     grade = \"C\"\n",
        "elif 40 <= percentage <= 49:\n",
        "     grade = \"D\"\n",
        "else:\n",
        "     grade = \"Fail\"\n",
        "\n",
        "print(f'''\n",
        "Student Performance Report:\n",
        "\n",
        "Name: {student_info[\"name\"]}\n",
        "Age: {student_info[\"age\"]}\n",
        "Scores: Math: {math_numbers}, Science: {science_numbers}, English: {english_numbers}\n",
        "Percentage: {percentage:.1f}\n",
        "Grade: {grade}''')"
      ],
      "metadata": {
        "id": "lIcw9LF64c-H",
        "colab": {
          "base_uri": "https://localhost:8080/"
        },
        "outputId": "35e74a31-cfde-4300-cf4e-e4f55395b06b"
      },
      "execution_count": null,
      "outputs": [
        {
          "output_type": "stream",
          "name": "stdout",
          "text": [
            "Enter the student name: Abdul Subhan\n",
            "Enter the student age: 17\n",
            "Enter the student maths numbers: 76\n",
            "Enter the student science numbers: 95\n",
            "Enter the student english numbers: 80\n",
            "\n",
            "Student Performance Report:\n",
            "\n",
            "Name: Abdul Subhan\n",
            "Age: 17\n",
            "Scores: Math: 76.0, Science: 95.0, English: 80.0\n",
            "Percentage: 83.7\n",
            "Grade: A+\n"
          ]
        }
      ]
    },
    {
      "cell_type": "code",
      "source": [
        "sname = input(\"Enter your name: \").strip().title()\n",
        "age = int(input(\"Enter your age: \"))\n",
        "nationality = input(\"Enter your nationality: \").strip().title()\n",
        "skills = input(\"Enter at least 3 skills: \").strip().split()\n",
        "\n",
        "if len(skills) < 3:\n",
        "   print(\"You must enter at least 3 skills.\")\n",
        "else:\n",
        "     print(f'''\n",
        "    Personal Information:\n",
        "\n",
        "    Name: {name}\n",
        "    Age: {age}\n",
        "    Nationality: {nationality}\n",
        "    Skills: {', '.join([skill.strip().title() for skill in skills])}\n",
        "    ''')\n",
        "\n",
        "if age >= 18:\n",
        "   print(\"You are eligible to apply for the job.\")\n",
        "else:\n",
        "     print(\"You are not eligible to apply for the job.\")"
      ],
      "metadata": {
        "id": "XYAS2qR61fE1",
        "colab": {
          "base_uri": "https://localhost:8080/"
        },
        "outputId": "6357033b-848c-4287-b59a-197211bb7070"
      },
      "execution_count": null,
      "outputs": [
        {
          "output_type": "stream",
          "name": "stdout",
          "text": [
            "Enter your name: Abdul Subhan\n",
            "Enter your age: 17\n",
            "Enter your nationality: Pakistani\n",
            "Enter at least 3 skills: HTML CSS Python\n",
            "\n",
            "    Personal Information:\n",
            "\n",
            "    Name: Abdul Subhan\n",
            "    Age: 17\n",
            "    Nationality: Pakistani\n",
            "    Skills: Html, Css, Python\n",
            "    \n",
            "You are not eligible to apply for the job.\n"
          ]
        }
      ]
    },
    {
      "cell_type": "code",
      "source": [
        "import random\n",
        "jackpot = random.randint(1, 100)\n",
        "\n",
        "guess = int(input(\"Enter the number between 1 to 100: \"))\n",
        "counter = 1\n",
        "\n",
        "while guess != jackpot:\n",
        "      if guess < jackpot:\n",
        "         print(\"Guess higher number\")\n",
        "      else:\n",
        "           print(\"Guess lower number\")\n",
        "\n",
        "      guess = int(input(\"Enter the number between 1 to 100: \"))\n",
        "      counter += 1\n",
        "\n",
        "print(\"Correct answer\")\n",
        "print(\"You took\",counter,\"attempts\")"
      ],
      "metadata": {
        "id": "HV-2LxNFQci3",
        "colab": {
          "base_uri": "https://localhost:8080/"
        },
        "outputId": "d365db2a-dfa9-47f3-d80d-62a45f999354"
      },
      "execution_count": null,
      "outputs": [
        {
          "output_type": "stream",
          "name": "stdout",
          "text": [
            "Enter the number between 1 to 100: 50\n",
            "Guess higher number\n",
            "Enter the number between 1 to 100: 100\n",
            "Guess lower number\n",
            "Enter the number between 1 to 100: 60\n",
            "Guess higher number\n",
            "Enter the number between 1 to 100: 90\n",
            "Guess higher number\n",
            "Enter the number between 1 to 100: 95\n",
            "Guess higher number\n",
            "Enter the number between 1 to 100: 98\n",
            "Guess lower number\n",
            "Enter the number between 1 to 100: 96\n",
            "Guess higher number\n",
            "Enter the number between 1 to 100: 97\n",
            "Correct answer\n",
            "You took 8 attempts\n"
          ]
        }
      ]
    },
    {
      "cell_type": "code",
      "source": [
        "alpha = input(\"Enter The Alphabet: \")\n",
        "\n",
        "if alpha == \"a\":\n",
        "   print(\"This is vowel\")\n",
        "\n",
        "elif alpha == \"e\":\n",
        "   print(\"This is vowel\")\n",
        "\n",
        "elif alpha == \"i\":\n",
        "   print(\"This is vowel\")\n",
        "\n",
        "elif alpha == \"o\":\n",
        "   print(\"This is vowel\")\n",
        "\n",
        "elif alpha == \"u\":\n",
        "   print(\"This is vowel\")\n",
        "\n",
        "else:\n",
        "     print(\"This is consunent\")"
      ],
      "metadata": {
        "colab": {
          "base_uri": "https://localhost:8080/"
        },
        "id": "Y3QACAvuFc43",
        "outputId": "103241ba-cba5-495c-bfb7-72d11356d1e5"
      },
      "execution_count": null,
      "outputs": [
        {
          "output_type": "stream",
          "name": "stdout",
          "text": [
            "Enter The Alphabet: i\n",
            "This is vowel\n"
          ]
        }
      ]
    },
    {
      "cell_type": "code",
      "source": [
        "name = input(\"Enter The Name: \")\n",
        "first_num = int((input(\"Enter The First Number: \")))\n",
        "second_num = int((input(\"Enter The Second Number: \")))\n",
        "operator = input(\"Enter The Operator (+, -, *, /): \")\n",
        "\n",
        "if operator == \"+\":\n",
        "   result = first_num + second_num\n",
        "\n",
        "elif operator == \"-\":\n",
        "     result = first_num - second_num\n",
        "\n",
        "elif operator == \"*\":\n",
        "     result = first_num * second_num\n",
        "\n",
        "elif operator == \"/\":\n",
        "     result = first_num / second_num\n",
        "\n",
        "else:\n",
        "    result = \"Invalid operator\"\n",
        "\n",
        "if operator in [\"+\", \"-\", \"*\", \"/\"]:\n",
        "    print(f\"{first_num} {operator} {second_num} = {result}\")\n",
        "\n",
        "else:\n",
        "    print(\"Error: Invalid operator entered.\")\n",
        "\n",
        "if first_num > 100:\n",
        "   print(f'''My name is {name}, and {first_num} is grater then 100.''')"
      ],
      "metadata": {
        "colab": {
          "base_uri": "https://localhost:8080/"
        },
        "id": "r9WVfkvCLP4L",
        "outputId": "2e78de27-9fc2-447f-a003-17ced718aeb3"
      },
      "execution_count": null,
      "outputs": [
        {
          "output_type": "stream",
          "name": "stdout",
          "text": [
            "Enter The Name: Abdul Subhan\n",
            "Enter The First Number: 20\n",
            "Enter The Second Number: 10\n",
            "Enter The Operator (+, -, *, /): *\n",
            "20 * 10 = 200\n"
          ]
        }
      ]
    },
    {
      "cell_type": "code",
      "source": [
        "first_name = input(\"Enter The First Name: \")\n",
        "last_name = input(\"Enter The Last Name: \")\n",
        "birth_year = int(input(\"Enter The Birth Year: \"))\n",
        "\n",
        "full_name = first_name + last_name\n",
        "print(full_name.capitalize())\n",
        "\n",
        "age = 2024 - 2007\n",
        "print(age)\n",
        "\n",
        "if age >= 18:\n",
        "   print(f'''My name is {name}. I am {age} years old. The user is greter then 18''')\n",
        "\n",
        "else:\n",
        "     print(\"The user is under 18\")"
      ],
      "metadata": {
        "colab": {
          "base_uri": "https://localhost:8080/"
        },
        "id": "ISURNFKULZ5r",
        "outputId": "e6fdda64-bd6e-477a-a923-60a0fe65748c"
      },
      "execution_count": null,
      "outputs": [
        {
          "output_type": "stream",
          "name": "stdout",
          "text": [
            "Enter The First Name: Abdul\n",
            "Enter The Last Name: Subhan\n",
            "Enter The Birth Year: 2007\n",
            "Abdulsubhan\n",
            "17\n",
            "The user is under 18\n"
          ]
        }
      ]
    },
    {
      "cell_type": "code",
      "source": [
        "num = int(input(\"Enter the Number:\"))\n",
        "\n",
        "if num % 2 == 0:\n",
        "   print(\"Even Number\")\n",
        "else:\n",
        "     print(\"Odd Number\")"
      ],
      "metadata": {
        "colab": {
          "base_uri": "https://localhost:8080/"
        },
        "id": "ZmrInkJyLkuE",
        "outputId": "52fef4c4-c45d-4509-94ff-f55fb9988203"
      },
      "execution_count": null,
      "outputs": [
        {
          "output_type": "stream",
          "name": "stdout",
          "text": [
            "Enter the Number:4\n",
            "Even Number\n"
          ]
        }
      ]
    },
    {
      "cell_type": "code",
      "source": [
        "name = input(\"Enter Your Name: \")\n",
        "num_1 = float(input(\"Enter Your First Number: \"))\n",
        "num_2 = float(input(\"Enter Your Second Number: \"))\n",
        "\n",
        "result_1 = num_1 + num_2\n",
        "result_2 = num_1 - num_2\n",
        "result_3 = num_1 * num_2\n",
        "result_4 = num_1 / num_2\n",
        "\n",
        "print(f'''Nice to meet you! your name is {name} and your results is addition: {result_1}, subtraction: {result_2}, multiplication: {result_3} and division: {result_4}''')"
      ],
      "metadata": {
        "colab": {
          "base_uri": "https://localhost:8080/"
        },
        "id": "myY5a2QNLseR",
        "outputId": "2be227cf-d1b0-499c-9636-198b24de73ce"
      },
      "execution_count": null,
      "outputs": [
        {
          "output_type": "stream",
          "name": "stdout",
          "text": [
            "Enter Your Name: Abdul Subhan\n",
            "Enter Your First Number: 20\n",
            "Enter Your Second Number: 10\n",
            "Nice to meet you! your name is Abdul Subhan and your results is addition: 30.0, subtraction: 10.0, multiplication: 200.0 and division: 2.0\n"
          ]
        }
      ]
    },
    {
      "cell_type": "code",
      "source": [
        "first_name = input(\"Enter The First Name: \")\n",
        "second_name = input(\"Enter The Second Name: \")\n",
        "favorite_number = int(input(\"Enter the Favorite Number: \"))\n",
        "\n",
        "full_name = first_name+\" \"+second_name\n",
        "complete_name = full_name.title()\n",
        "\n",
        "if favorite_number % 2 == 0:\n",
        "   print(f'''{favorite_number} is even Number''')\n",
        "else:\n",
        "     print(f'''{favorite_number} is odd Number''')\n",
        "\n",
        "print(f'''Your name is {complete_name}.''')"
      ],
      "metadata": {
        "colab": {
          "base_uri": "https://localhost:8080/"
        },
        "id": "N1GmM7JdL61j",
        "outputId": "ded54b88-7ffe-48a9-a671-a38c375b5728"
      },
      "execution_count": null,
      "outputs": [
        {
          "output_type": "stream",
          "name": "stdout",
          "text": [
            "Enter The First Name: Abdul\n",
            "Enter The Second Name: Subhan\n",
            "Enter the Favorite Number: 5\n",
            "5 is odd Number\n",
            "Your name is Abdul Subhan.\n"
          ]
        }
      ]
    },
    {
      "cell_type": "code",
      "source": [
        "name = input(\"Name: \")\n",
        "father_name = input(\"Father Name: \")\n",
        "age = int(input(\"Age: \"))\n",
        "college_class = int(input(\"Class: \"))\n",
        "roll_number = int(input(\"Roll Number: \"))\n",
        "\n",
        "english_marks = float(input(\"Enter The Marks Of English: \"))\n",
        "math_marks = float(input(\"Enter The Marks Of Math: \"))\n",
        "physics_marks = float(input(\"Enter The Marks Of Physics: \"))\n",
        "chemistry_marks =  float(input(\"Enter The Marks Of Chemistry: \"))\n",
        "computer_marks =  float(input(\"Enter The Marks Of Computer: \"))\n",
        "\n",
        "print(\"                                   Board Of Secondary Education Karachi\")\n",
        "print(\"                                                 Mark Sheet\")\n",
        "\n",
        "print(\"Name:\",name.upper())\n",
        "print(\"Father Name:\",father_name.upper())\n",
        "print(\"age:\",age)\n",
        "print(\"Class:\",college_class)\n",
        "print(\"Roll No.:\",roll_number)\n",
        "\n",
        "print(f'''     Subjects\n",
        "English Marks: {english_marks}\n",
        "Math Marks: {math_marks}\n",
        "Physics Marks: {physics_marks}\n",
        "Chemistry Marks: {chemistry_marks}\n",
        "Computer Marks: {computer_marks}''')\n",
        "\n",
        "total_marks = english_marks + math_marks + physics_marks + chemistry_marks + computer_marks\n",
        "max_marks = 500\n",
        "percentage = (total_marks / max_marks) * 100\n",
        "grade = percentage\n",
        "\n",
        "print(f'''     Result\n",
        "Total Marks: {total_marks}\n",
        "Percentage: {percentage}''')\n",
        "\n",
        "if percentage >= 80:\n",
        "   print(\"Grade: A+\")\n",
        "\n",
        "elif percentage >= 70:\n",
        "      print(\"Grade: A\")\n",
        "\n",
        "elif percentage >= 60:\n",
        "     print(\"Grade: B\")\n",
        "\n",
        "elif percentage >= 50:\n",
        "     print(\"Grade: C\")\n",
        "\n",
        "elif percentage >= 40:\n",
        "     print(\"Grade: D\")\n",
        "\n",
        "else:\n",
        "     print(\"Fail\")"
      ],
      "metadata": {
        "colab": {
          "base_uri": "https://localhost:8080/"
        },
        "id": "JfPSoPDSMK2-",
        "outputId": "9b245d37-b56a-4bb7-944f-6df9ff5fd96d"
      },
      "execution_count": null,
      "outputs": [
        {
          "output_type": "stream",
          "name": "stdout",
          "text": [
            "Name: Abdul Subhan\n",
            "Father Name: Saghir Muhammad\n",
            "Age: 17\n",
            "Class: 12\n",
            "Roll Number: 31715\n",
            "Enter The Marks Of English: 80\n",
            "Enter The Marks Of Math: 76\n",
            "Enter The Marks Of Physics: 95\n",
            "Enter The Marks Of Chemistry: 78\n",
            "Enter The Marks Of Computer: 74\n",
            "                                   Board Of Secondary Education Karachi\n",
            "                                                 Mark Sheet\n",
            "Name: ABDUL SUBHAN\n",
            "Father Name: SAGHIR MUHAMMAD\n",
            "age: 17\n",
            "Class: 12\n",
            "Roll No.: 31715\n",
            "     Subjects\n",
            "English Marks: 80.0\n",
            "Math Marks: 76.0\n",
            "Physics Marks: 95.0\n",
            "Chemistry Marks: 78.0\n",
            "Computer Marks: 74.0\n",
            "     Result\n",
            "Total Marks: 403.0\n",
            "Percentage: 80.60000000000001\n",
            "Grade: A+\n"
          ]
        }
      ]
    },
    {
      "cell_type": "code",
      "source": [
        "book_title = input(\"Enter the title of the book: \")\n",
        "aouther_name = input(\"Enter the Aouther Name: \")\n",
        "book_price = int(input(\"Enter the price of the book (in dollars): \"))\n",
        "\n",
        "if book_price > 100:\n",
        "    discount = book_price * 10 / 100\n",
        "\n",
        "elif book_price < 50:\n",
        "    discount = book_price * 5 / 100\n",
        "\n",
        "else:\n",
        "     discount = 0\n",
        "\n",
        "final_price = book_price - discount\n",
        "\n",
        "print(f'''   BILL SLIP\n",
        "\n",
        "Book Title: {book_title}\n",
        "Aouther Name: {aouther_name}\n",
        "Original Price: {book_price}\n",
        "Discount Applied: {discount}\n",
        "Final Price to Pay: {final_price}''')"
      ],
      "metadata": {
        "colab": {
          "base_uri": "https://localhost:8080/"
        },
        "id": "3xkD2UVUOSLx",
        "outputId": "d06c18d6-3b1e-402a-f6d4-62d1f14fc9d7"
      },
      "execution_count": null,
      "outputs": [
        {
          "output_type": "stream",
          "name": "stdout",
          "text": [
            "Enter the title of the book: THE GREATE MOON\n",
            "Enter the Aouther Name: Abdul Subhan\n",
            "Enter the price of the book (in dollars): 1500\n",
            "   BILL SLIP\n",
            "\n",
            "Book Title: THE GREATE MOON\n",
            "Aouther Name: Abdul Subhan\n",
            "Original Price: 1500\n",
            "Discount Applied: 150.0\n",
            "Final Price to Pay: 1350.0\n"
          ]
        }
      ]
    },
    {
      "cell_type": "code",
      "source": [
        " gejit_name = input(\"Enter the gejit name: \")\n",
        "gejit_price = int(input(\"Enter the gejit price: \"))\n",
        "\n",
        "if gejit_price > 500:\n",
        "   discount = gejit_price * 15 / 100\n",
        "\n",
        "elif gejit_price < 200:\n",
        "     discount = gejit_price * 7 / 100\n",
        "\n",
        "else:\n",
        "     discount = 0\n",
        "\n",
        "final_price = gejit_price - discount\n",
        "\n",
        "print(f'''Recipt\n",
        "\n",
        "Gegit_Name: {gejit_name}\n",
        "Original price: {gejit_price}\n",
        "Total discount: {discount}\n",
        "Final price: {final_price}''')"
      ],
      "metadata": {
        "colab": {
          "base_uri": "https://localhost:8080/"
        },
        "id": "P6JyOA0NOsPN",
        "outputId": "6b9f9545-11bc-4faf-a074-6623136ae5c7"
      },
      "execution_count": null,
      "outputs": [
        {
          "output_type": "stream",
          "name": "stdout",
          "text": [
            "Enter the gejit name: Frij\n",
            "Enter the gejit price: 50000\n",
            "Recipt\n",
            "\n",
            "Gegit_Name: Frij\n",
            "Original price: 50000\n",
            "Total discount: 7500.0\n",
            "Final price: 42500.0\n"
          ]
        }
      ]
    },
    {
      "cell_type": "code",
      "source": [
        "meal_cost = int(input(\"Enter the cost of meal: \"))\n",
        "meal_tax = int(input(\"Enter the tax of meal: \"))\n",
        "meal_tip = int(input(\"Enter the tip of meal: \"))\n",
        "\n",
        "tax_amount = meal_cost * 10/100\n",
        "tip_amount = meal_cost * 5/100\n",
        "\n",
        "total_meal_coat = meal_cost + tax_amount + tip_amount\n",
        "\n",
        "print(f'''Meal Cost\n",
        "Meal Cost: {meal_cost}\n",
        "Meal Tax: {meal_tax}\n",
        "Meal Tip: {meal_tip}\n",
        "Total Meal Cost: {total_meal_coat}''')"
      ],
      "metadata": {
        "colab": {
          "base_uri": "https://localhost:8080/"
        },
        "id": "d0FSdCCHO3U8",
        "outputId": "a6e4cdb8-80c8-49d5-b736-6831506e4df2"
      },
      "execution_count": null,
      "outputs": [
        {
          "output_type": "stream",
          "name": "stdout",
          "text": [
            "Enter the cost of meal: 1000\n",
            "Enter the tax of meal: 50\n",
            "Enter the tip of meal: 100\n",
            "Meal Cost\n",
            "Meal Cost: 1000\n",
            "Meal Tax: 50\n",
            "Meal Tip: 100\n",
            "Total Meal Cost: 1150.0\n"
          ]
        }
      ]
    },
    {
      "cell_type": "code",
      "source": [
        "height_in_centimeters = float(input(\"Enter Your Height (in cm): \"))\n",
        "weight_in_kilograms = float(input(\"Enter Your Weight (in kg): \"))\n",
        "\n",
        "height_in_meters = height_in_centimeters / 100\n",
        "bmi = weight_in_kilograms / height_in_meters ** 2\n",
        "print(f\"BMI: {bmi}\")\n",
        "\n",
        "if bmi < 18.5:\n",
        "    print(\"You are underweight\")\n",
        "\n",
        "elif bmi > 18.5 and bmi < 24.9:\n",
        "    print(\"You have a normal weight\")\n",
        "\n",
        "elif bmi > 25 and bmi < 29.9:\n",
        "    print(\"You are overweight\")\n",
        "\n",
        "elif bmi >= 30:\n",
        "    print(\"You are obese\")\n",
        "\n",
        "    if bmi >= 30 and bmi > 40:\n",
        "       print(\"You should consult a doctor\")\n",
        "\n",
        "else:\n",
        "     print(\"You are very, very, very overweight\")"
      ],
      "metadata": {
        "colab": {
          "base_uri": "https://localhost:8080/"
        },
        "id": "CqetTTt6PFk4",
        "outputId": "0a257684-5954-4b9a-8a99-eaa187143df5"
      },
      "execution_count": null,
      "outputs": [
        {
          "output_type": "stream",
          "name": "stdout",
          "text": [
            "Enter Your Height (in cm): 5.5\n",
            "Enter Your Weight (in kg): 50\n",
            "BMI: 16528.92561983471\n",
            "You are obese\n",
            "You should consult a doctor\n"
          ]
        }
      ]
    },
    {
      "cell_type": "code",
      "source": [
        "full_name = input(\"Enter Your Full Name: \")\n",
        "secret_code = input(\"Enter Your Secret Code: \")\n",
        "\n",
        "name_words = full_name.split()\n",
        "\n",
        "if len(name_words) < 3:\n",
        "   print(\"Please provide your full name (first, middle, and last).\")\n",
        "\n",
        "else:\n",
        "     if len(secret_code) == 8 and secret_code.startswith(\"XYZ\"):\n",
        "        print(f'''Access granted for {full_name}''')\n",
        "\n",
        "     else:\n",
        "          print(\"Invalid secret code. Code must start with 'XYZ' and be 8 characters long\")"
      ],
      "metadata": {
        "colab": {
          "base_uri": "https://localhost:8080/"
        },
        "id": "2M1_CRNPPSTj",
        "outputId": "bf071492-3b33-49d7-a324-9e8b3dad6ab2"
      },
      "execution_count": null,
      "outputs": [
        {
          "output_type": "stream",
          "name": "stdout",
          "text": [
            "Enter Your Full Name: Muhammad Abdul Subhan\n",
            "Enter Your Secret Code: XYZ12345\n",
            "Access granted for Muhammad Abdul Subhan\n"
          ]
        }
      ]
    },
    {
      "cell_type": "code",
      "source": [
        "name = input(\"Enter your name: \")\n",
        "\n",
        "if len(name) != 8:\n",
        "   print(\"Invalid: name must be exactly 8 characters long.\")\n",
        "\n",
        "   if not name[0].isalpha():\n",
        "      print(\"Invalid: name must start with an alphabet character.\")\n",
        "\n",
        "   if \" \" in name:\n",
        "\n",
        "      print(\"Invalid: name must not contain any spaces.\")\n",
        "\n",
        "else:\n",
        "     print(\"Valid name!\")"
      ],
      "metadata": {
        "colab": {
          "base_uri": "https://localhost:8080/"
        },
        "id": "pT6pw9PGPy9x",
        "outputId": "3991e4c1-d993-446c-8eb3-6ce3e56462cf"
      },
      "execution_count": null,
      "outputs": [
        {
          "output_type": "stream",
          "name": "stdout",
          "text": [
            "Enter your name: Abdul Subhan\n",
            "Invalid: name must be exactly 8 characters long.\n",
            "Invalid: name must not contain any spaces.\n"
          ]
        }
      ]
    },
    {
      "cell_type": "code",
      "source": [
        "number = int(input(\"Enter the number: \"))\n",
        "\n",
        "factorial = 1\n",
        "\n",
        "while number > 1:\n",
        "      factorial *= number\n",
        "      number -= 1\n",
        "\n",
        "print(factorial)"
      ],
      "metadata": {
        "colab": {
          "base_uri": "https://localhost:8080/"
        },
        "id": "orEJDyytQCNP",
        "outputId": "0fcc541c-8b62-4b1d-d548-dbe8b2ddc86c"
      },
      "execution_count": null,
      "outputs": [
        {
          "output_type": "stream",
          "name": "stdout",
          "text": [
            "Enter the number: 5\n",
            "120\n"
          ]
        }
      ]
    },
    {
      "cell_type": "code",
      "source": [
        "numbers = [1, 5, 2, 4, 3, 4, 2]\n",
        "\n",
        "square_numbers = [i ** 2 for i in numbers if i % 2 == 0]\n",
        "\n",
        "unique_numbers = []\n",
        "\n",
        "[unique_numbers.append(i) for i in square_numbers if i not in unique_numbers]\n",
        "\n",
        "sort_unique_numbers = sorted(unique_numbers)\n",
        "\n",
        "print(sort_unique_numbers)"
      ],
      "metadata": {
        "colab": {
          "base_uri": "https://localhost:8080/"
        },
        "id": "HVo7TXH9kugL",
        "outputId": "fcbeea00-d5e5-4e2a-f576-aa09228be3fe"
      },
      "execution_count": null,
      "outputs": [
        {
          "output_type": "stream",
          "name": "stdout",
          "text": [
            "[4, 16]\n"
          ]
        }
      ]
    },
    {
      "cell_type": "code",
      "source": [
        "# Problem 1\n",
        "\n",
        "# Check if a number is even or odd\n",
        "\n",
        "even_or_odd = lambda number: \"Even\" if number % 2 == 0 else \"Odd\"\n",
        "\n",
        "number = int(input(\"Enter the number: \"))\n",
        "\n",
        "print(even_or_odd(number))"
      ],
      "metadata": {
        "colab": {
          "base_uri": "https://localhost:8080/"
        },
        "id": "nUf9aPRG6VtJ",
        "outputId": "f4b63694-f79e-4932-f4d0-d2d4d96d5fa0"
      },
      "execution_count": null,
      "outputs": [
        {
          "output_type": "stream",
          "name": "stdout",
          "text": [
            "Enter the number: 5\n",
            "Odd\n"
          ]
        }
      ]
    },
    {
      "cell_type": "code",
      "source": [
        "# Problem 2\n",
        "\n",
        "# Find the maximum of two numbers\n",
        "\n",
        "max_of_two = lambda first_number, second_number: first_number if first_number > second_number else second_number\n",
        "\n",
        "first_number = int(input(\"Enter the first number: \"))\n",
        "second_number = int(input(\"Enter the second number: \"))\n",
        "\n",
        "print(f\"The larger number is: {max_of_two(first_number, second_number)}\")"
      ],
      "metadata": {
        "colab": {
          "base_uri": "https://localhost:8080/"
        },
        "id": "FT1NlS--8rZG",
        "outputId": "c83b9d92-2c31-463e-8633-96230b9c9c50"
      },
      "execution_count": null,
      "outputs": [
        {
          "output_type": "stream",
          "name": "stdout",
          "text": [
            "Enter the first number: 20\n",
            "Enter the second number: 10\n",
            "The larger number is: 20\n"
          ]
        }
      ]
    },
    {
      "cell_type": "code",
      "source": [
        "# Problem 3\n",
        "\n",
        "# Check if a number is positive, negative, or zero\n",
        "\n",
        "check_sign = lambda number: \"Positive\" if number > 0 else (\"Negative\" if number < 0 else \"Zero\")\n",
        "\n",
        "number = float(input(\"Enter a number: \"))\n",
        "\n",
        "print(check_sign(number))"
      ],
      "metadata": {
        "colab": {
          "base_uri": "https://localhost:8080/"
        },
        "id": "5LOXK8z8DaHz",
        "outputId": "2ab88f4d-c77b-4297-e589-45bc710e924e"
      },
      "execution_count": null,
      "outputs": [
        {
          "output_type": "stream",
          "name": "stdout",
          "text": [
            "Enter a number: 5\n",
            "Positive\n"
          ]
        }
      ]
    },
    {
      "cell_type": "code",
      "source": [
        "# Problem 4\n",
        "\n",
        "# Sum of squares of even numbers in a list\n",
        "\n",
        "sum_of_squares_of_evens = lambda lst: sum(number ** 2 for number in lst if number % 2 == 0)\n",
        "\n",
        "user_input = input(\"Enter numbers separated by spaces: \")\n",
        "\n",
        "lst = [int(num) for num in user_input.split()]\n",
        "\n",
        "print(f\"Sum of squares of even numbers: {sum_of_squares_of_evens(lst)}\")"
      ],
      "metadata": {
        "colab": {
          "base_uri": "https://localhost:8080/"
        },
        "id": "6eTguvizE1FZ",
        "outputId": "82fac8b2-4e11-4a7e-c444-6f8b36b03c7a"
      },
      "execution_count": null,
      "outputs": [
        {
          "output_type": "stream",
          "name": "stdout",
          "text": [
            "Enter numbers separated by spaces: 1 2 3 4 5\n",
            "Sum of squares of even numbers: 20\n"
          ]
        }
      ]
    },
    {
      "cell_type": "code",
      "source": [
        "# Problem 5\n",
        "\n",
        "# Check if a word is a palindrome\n",
        "\n",
        "palindrome = lambda word: word == word[::-1]\n",
        "\n",
        "word = input(\"Enter the word: \")\n",
        "\n",
        "print(palindrome(word))"
      ],
      "metadata": {
        "colab": {
          "base_uri": "https://localhost:8080/"
        },
        "id": "U3aFUAAzFNnk",
        "outputId": "decf4b68-9d35-483a-fb3a-79a016d4a7d2"
      },
      "execution_count": null,
      "outputs": [
        {
          "output_type": "stream",
          "name": "stdout",
          "text": [
            "Enter the word: racecar\n",
            "True\n"
          ]
        }
      ]
    },
    {
      "cell_type": "code",
      "source": [
        "# Problem 6\n",
        "\n",
        "# Find the factorial of a number\n",
        "\n",
        "factorial = lambda number: 1 if number == 0 else number * factorial(number - 1)\n",
        "\n",
        "number = int(input(\"Enter the number to calculate its factorial: \"))\n",
        "\n",
        "print(f\"Factorial of {number} is: {factorial(number)}\")"
      ],
      "metadata": {
        "colab": {
          "base_uri": "https://localhost:8080/"
        },
        "id": "6CcXl_Z1PB1s",
        "outputId": "743d7070-28e8-4884-8f00-6864f933b2e2"
      },
      "execution_count": null,
      "outputs": [
        {
          "output_type": "stream",
          "name": "stdout",
          "text": [
            "Enter the number to calculate its factorial: 5\n",
            "Factorial of 5 is: 120\n"
          ]
        }
      ]
    },
    {
      "cell_type": "code",
      "source": [
        "# Problem 7\n",
        "\n",
        "# Filter even numbers from a list\n",
        "\n",
        "filter_evens = lambda lst: list(filter(lambda number: number % 2 == 0, lst))\n",
        "\n",
        "user_input = input(\"Enter numbers separated by spaces: \")\n",
        "\n",
        "lst = [int(num) for num in user_input.split()]\n",
        "\n",
        "print(f\"Even numbers from the list: {filter_evens(lst)}\")"
      ],
      "metadata": {
        "colab": {
          "base_uri": "https://localhost:8080/"
        },
        "id": "i2CmQB0mPvaH",
        "outputId": "62207bd6-440d-4198-f62c-092bcbdcaade"
      },
      "execution_count": null,
      "outputs": [
        {
          "output_type": "stream",
          "name": "stdout",
          "text": [
            "Enter numbers separated by spaces: 1 2 3 4 5\n",
            "Even numbers from the list: [2, 4]\n"
          ]
        }
      ]
    },
    {
      "cell_type": "code",
      "source": [
        "# Problem 8\n",
        "\n",
        "# Get the length of a string\n",
        "\n",
        "string_length = lambda sring: len(string)\n",
        "\n",
        "string = input(\"Enter a string: \")\n",
        "\n",
        "print(f\"Length of the string is: {string_length(string)}\")"
      ],
      "metadata": {
        "colab": {
          "base_uri": "https://localhost:8080/"
        },
        "id": "2i2j-k3iQKDe",
        "outputId": "f6dca2aa-6816-42e2-9f7b-927460decbd8"
      },
      "execution_count": null,
      "outputs": [
        {
          "output_type": "stream",
          "name": "stdout",
          "text": [
            "Enter a string: Hello World\n",
            "Length of the string is: 11\n"
          ]
        }
      ]
    },
    {
      "cell_type": "code",
      "source": [
        "# Problem 9\n",
        "\n",
        "# Find the product of numbers in a list\n",
        "\n",
        "from functools import reduce\n",
        "\n",
        "product_of_list = lambda lst: reduce(lambda x, y: x * y, lst)\n",
        "\n",
        "user_input = input(\"Enter numbers separated by spaces: \")\n",
        "\n",
        "lst = [int(num) for num in user_input.split()]\n",
        "\n",
        "print(f\"Product of the list is: {product_of_list(lst)}\")"
      ],
      "metadata": {
        "colab": {
          "base_uri": "https://localhost:8080/"
        },
        "id": "XKpekpIhXWX9",
        "outputId": "c2a1f0b1-98c1-41fd-9d67-02015a3fc779"
      },
      "execution_count": null,
      "outputs": [
        {
          "output_type": "stream",
          "name": "stdout",
          "text": [
            "Enter numbers separated by spaces: 1 2 3 4 5\n",
            "Product of the list is: 120\n"
          ]
        }
      ]
    },
    {
      "cell_type": "code",
      "source": [
        "# Problem 10\n",
        "\n",
        "# Check if a number is divisible by 3 and 5\n",
        "\n",
        "divisible_by_3_and_5 = lambda number: number % 3 == 0 and number % 5 == 0\n",
        "\n",
        "number = int(input(\"Enter a number: \"))\n",
        "\n",
        "print(divisible_by_3_and_5(number))"
      ],
      "metadata": {
        "colab": {
          "base_uri": "https://localhost:8080/"
        },
        "id": "jK067VWhX-hW",
        "outputId": "e60b207c-92a1-4a00-a006-044b5b5b7923"
      },
      "execution_count": null,
      "outputs": [
        {
          "output_type": "stream",
          "name": "stdout",
          "text": [
            "Enter a number: 15\n",
            "True\n"
          ]
        }
      ]
    },
    {
      "cell_type": "code",
      "source": [
        "# Problem 11\n",
        "\n",
        "# Check if a number is a multiple of another number\n",
        "\n",
        "multiple = lambda first_number, second_number: True if first_number % second_number == 0 else False\n",
        "\n",
        "first_number = int(input(\"Enter the first number: \"))\n",
        "second_number = int(input(\"Enter the second number: \"))\n",
        "\n",
        "print(multiple(first_number, second_number))"
      ],
      "metadata": {
        "id": "YZIsVZ8TYfHn",
        "colab": {
          "base_uri": "https://localhost:8080/"
        },
        "outputId": "6d5a7def-a347-4e00-f796-6e9662ebe0a9"
      },
      "execution_count": null,
      "outputs": [
        {
          "output_type": "stream",
          "name": "stdout",
          "text": [
            "Enter the first number: 20\n",
            "Enter the second number: 10\n",
            "True\n"
          ]
        }
      ]
    },
    {
      "cell_type": "code",
      "source": [
        "# Problem 12\n",
        "\n",
        "# Find the largest number in a list\n",
        "\n",
        "find_max = lambda lst: max(lst)\n",
        "\n",
        "user_input = input(\"Enter numbers separated by spaces: \")\n",
        "\n",
        "lst = [int(num) for num in user_input.split()]\n",
        "\n",
        "print(f\"Maximum number in the list is: {find_max(lst)}\")"
      ],
      "metadata": {
        "colab": {
          "base_uri": "https://localhost:8080/"
        },
        "id": "rPN78an3XYK2",
        "outputId": "2fc0339f-1a37-4317-b815-9e879f8b4690"
      },
      "execution_count": null,
      "outputs": [
        {
          "output_type": "stream",
          "name": "stdout",
          "text": [
            "Enter numbers separated by spaces: 5 6 1 10 4 7 2 9 3 8\n",
            "Maximum number in the list is: 10\n"
          ]
        }
      ]
    },
    {
      "cell_type": "code",
      "source": [
        "1# Problem 13\n",
        "\n",
        "# Calculate the area of a rectangle\n",
        "\n",
        "area_rectangle = lambda length, width: length * width\n",
        "\n",
        "length = float(input(\"Enter the length of the rectangle: \"))\n",
        "width = float(input(\"Enter the width of the rectangle: \"))\n",
        "\n",
        "print(f\"Area of the rectangle is: {area_rectangle(length, width)}\")"
      ],
      "metadata": {
        "colab": {
          "base_uri": "https://localhost:8080/"
        },
        "id": "l6nX_dmkYMGI",
        "outputId": "b1c1cc75-3876-48d8-f45d-d9e4ba47a520"
      },
      "execution_count": null,
      "outputs": [
        {
          "output_type": "stream",
          "name": "stdout",
          "text": [
            "Enter the length of the rectangle: 3\n",
            "Enter the width of the rectangle: 8\n",
            "Area of the rectangle is: 24.0\n"
          ]
        }
      ]
    },
    {
      "cell_type": "code",
      "source": [
        "# Problem 14\n",
        "\n",
        "# Count the vowels in a string\n",
        "\n",
        "count_vowels = lambda string: sum(1 for i in string if i in 'AEIOUaeiou')\n",
        "\n",
        "string = input(\"Enter a string: \")\n",
        "\n",
        "print(f\"Number of vowels in the string: {count_vowels(string)}\")"
      ],
      "metadata": {
        "colab": {
          "base_uri": "https://localhost:8080/"
        },
        "id": "1V6BrVuWZFJH",
        "outputId": "9df8c4fb-3dce-4ca1-f253-6c7161f56a90"
      },
      "execution_count": null,
      "outputs": [
        {
          "output_type": "stream",
          "name": "stdout",
          "text": [
            "Enter a string: Hello World\n",
            "Number of vowels in the string: 3\n"
          ]
        }
      ]
    },
    {
      "cell_type": "code",
      "source": [
        "# Problem 15\n",
        "\n",
        "# Check if a number is within a given range\n",
        "\n",
        "range = lambda number, low, high: low <= number <= high\n",
        "\n",
        "low = int(input(\"Enter the lower bound: \"))\n",
        "high = int(input(\"Enter the upper bound: \"))\n",
        "number = int(input(\"Enter a number: \"))\n",
        "\n",
        "print(range(number, low, high))"
      ],
      "metadata": {
        "colab": {
          "base_uri": "https://localhost:8080/"
        },
        "id": "N1T8C8GwZi45",
        "outputId": "e6277fd3-1ff7-4307-ea78-b7f4018e23e6"
      },
      "execution_count": null,
      "outputs": [
        {
          "output_type": "stream",
          "name": "stdout",
          "text": [
            "Enter the lower bound: 3\n",
            "Enter the upper bound: 8\n",
            "Enter a number: 5\n",
            "True\n"
          ]
        }
      ]
    },
    {
      "cell_type": "code",
      "source": [
        "# Problem 16\n",
        "\n",
        "# Reverse a string\n",
        "\n",
        "reverse_string = lambda string: string[::-1]\n",
        "\n",
        "string = input(\"Enter a string: \")\n",
        "\n",
        "print(f\"Reversed string: {reverse_string(string)}\")"
      ],
      "metadata": {
        "colab": {
          "base_uri": "https://localhost:8080/"
        },
        "id": "idTSnYg0bzLL",
        "outputId": "74b25386-c9c0-43ac-89dc-daa3d70a9483"
      },
      "execution_count": null,
      "outputs": [
        {
          "output_type": "stream",
          "name": "stdout",
          "text": [
            "Enter a string: Hello World\n",
            "Reversed string: dlroW olleH\n"
          ]
        }
      ]
    },
    {
      "cell_type": "code",
      "source": [
        "# Problem 17\n",
        "\n",
        "# Find the square of a number\n",
        "\n",
        "square = lambda number: number ** 2\n",
        "\n",
        "number = float(input(\"Enter a number: \"))\n",
        "\n",
        "print(f\"Square of {number} is: {square(number)}\")"
      ],
      "metadata": {
        "colab": {
          "base_uri": "https://localhost:8080/"
        },
        "id": "AL6rvbemeCiT",
        "outputId": "f95f471f-9662-4f31-e342-55dfbecf55a7"
      },
      "execution_count": null,
      "outputs": [
        {
          "output_type": "stream",
          "name": "stdout",
          "text": [
            "Enter a number: 5\n",
            "Square of 5.0 is: 25.0\n"
          ]
        }
      ]
    },
    {
      "cell_type": "code",
      "source": [
        "# Problem 19\n",
        "\n",
        "# Convert a string to uppercase\n",
        "\n",
        "upper = lambda string: string.upper()\n",
        "\n",
        "string = input(\"Enter a string: \")\n",
        "\n",
        "print(f\"Uppercase string: {upper(string)}\")"
      ],
      "metadata": {
        "colab": {
          "base_uri": "https://localhost:8080/"
        },
        "id": "0Mp78eD6gFy5",
        "outputId": "9a41c183-aa57-4e05-db28-edb960fff7da"
      },
      "execution_count": null,
      "outputs": [
        {
          "output_type": "stream",
          "name": "stdout",
          "text": [
            "Enter a string: Hello World\n",
            "Uppercase string: HELLO WORLD\n"
          ]
        }
      ]
    },
    {
      "cell_type": "code",
      "source": [
        "# Problem 20\n",
        "\n",
        "# Find the difference between the largest and smallest number in a list\n",
        "\n",
        "range_difference = lambda lst: max(lst) - min(lst)\n",
        "\n",
        "user_input = input(\"Enter numbers separated by spaces: \")\n",
        "\n",
        "lst = [int(num) for num in user_input.split()]\n",
        "\n",
        "print(f\"Range difference (max - min) of the list is: {range_difference(lst)}\")"
      ],
      "metadata": {
        "colab": {
          "base_uri": "https://localhost:8080/"
        },
        "id": "7sYt2xbbgyE4",
        "outputId": "b16a4213-ccaf-4bf3-998a-2925952d8b63"
      },
      "execution_count": null,
      "outputs": [
        {
          "output_type": "stream",
          "name": "stdout",
          "text": [
            "Enter numbers separated by spaces: 1 2 3 4 5\n",
            "Range difference (max - min) of the list is: 4\n"
          ]
        }
      ]
    },
    {
      "cell_type": "code",
      "source": [
        "# Problem 21\n",
        "\n",
        "# Check if a character is a consonant\n",
        "\n",
        "consonant = lambda char: char not in \"AEIOUaeiou\"\n",
        "\n",
        "char = input(\"Enter a character: \")\n",
        "\n",
        "print(consonant(char))"
      ],
      "metadata": {
        "colab": {
          "base_uri": "https://localhost:8080/"
        },
        "id": "OFgSWUL-hv-s",
        "outputId": "808426a1-0360-49a9-b156-e7b821346d86"
      },
      "execution_count": null,
      "outputs": [
        {
          "output_type": "stream",
          "name": "stdout",
          "text": [
            "Enter a character: s\n",
            "True\n"
          ]
        }
      ]
    },
    {
      "cell_type": "code",
      "source": [
        "# Problem 22\n",
        "\n",
        "# Multiply all elements in a list by a given number\n",
        "\n",
        "multiply_list = lambda lst, n: [x * n for x in lst]\n",
        "\n",
        "user_input = input(\"Enter numbers separated by spaces: \")\n",
        "\n",
        "lst = [int(num) for num in user_input.split()]\n",
        "\n",
        "n = int(input(\"Enter the multiplier: \"))\n",
        "\n",
        "print(f\"Result of multiplying the list by {n}: {multiply_list(lst, n)}\")"
      ],
      "metadata": {
        "colab": {
          "base_uri": "https://localhost:8080/"
        },
        "id": "UWD6C8wQiaO4",
        "outputId": "6a31ace2-5ee9-4244-deb8-ea4a3c984c7f"
      },
      "execution_count": null,
      "outputs": [
        {
          "output_type": "stream",
          "name": "stdout",
          "text": [
            "Enter numbers separated by spaces: 1 2 3 4 5\n",
            "Enter the multiplier: 2\n",
            "Result of multiplying the list by 2: [2, 4, 6, 8, 10]\n"
          ]
        }
      ]
    },
    {
      "cell_type": "code",
      "source": [
        "# Problem 23\n",
        "\n",
        "# Check if all elements in a list are even\n",
        "\n",
        "all_even = lambda lst: all(x % 2 == 0 for x in lst)\n",
        "\n",
        "user_input = input(\"Enter numbers separated by spaces: \")\n",
        "\n",
        "lst = [int(num) for num in user_input.split()]\n",
        "\n",
        "print(all_even(lst))"
      ],
      "metadata": {
        "colab": {
          "base_uri": "https://localhost:8080/"
        },
        "id": "gHadTxJMjBpr",
        "outputId": "fef0756f-6822-42c1-b750-559f6cb9b2b5"
      },
      "execution_count": null,
      "outputs": [
        {
          "output_type": "stream",
          "name": "stdout",
          "text": [
            "Enter numbers separated by spaces: 1 2 3 4 5\n",
            "False\n"
          ]
        }
      ]
    },
    {
      "cell_type": "code",
      "source": [
        "# Prblem 24\n",
        "\n",
        "# Calculate the power of a number\n",
        "\n",
        "power = lambda base, exp: base ** exp\n",
        "\n",
        "base = float(input(\"Enter the base: \"))\n",
        "exp = float(input(\"Enter the exponent: \"))\n",
        "\n",
        "print(f\"{base} raised to the power of {exp} is: {power(base, exp)}\")"
      ],
      "metadata": {
        "colab": {
          "base_uri": "https://localhost:8080/"
        },
        "id": "QfY0FPQwj_1p",
        "outputId": "6db0c9c5-fa72-4e83-91dc-0162b7b144f6"
      },
      "execution_count": null,
      "outputs": [
        {
          "output_type": "stream",
          "name": "stdout",
          "text": [
            "Enter the base: 5\n",
            "Enter the exponent: 2\n",
            "5.0 raised to the power of 2.0 is: 25.0\n"
          ]
        }
      ]
    },
    {
      "cell_type": "code",
      "source": [
        "# Problem 25\n",
        "\n",
        "# Filter out negative numbers from a list\n",
        "\n",
        "filter_negatives = lambda lst: list(filter(lambda x: x >= 0, lst))\n",
        "\n",
        "user_input = input(\"Enter numbers separated by spaces: \")\n",
        "\n",
        "lst = [int(num) for num in user_input.split()]\n",
        "\n",
        "print(f\"Non-negative numbers from the list: {filter_negatives(lst)}\")"
      ],
      "metadata": {
        "colab": {
          "base_uri": "https://localhost:8080/"
        },
        "id": "1-Vcz9eQkc9P",
        "outputId": "b263d25f-e909-4c03-c2f4-a86c382ec229"
      },
      "execution_count": null,
      "outputs": [
        {
          "output_type": "stream",
          "name": "stdout",
          "text": [
            "Enter numbers separated by spaces: 1 2 3 4 5\n",
            "Non-negative numbers from the list: [1, 2, 3, 4, 5]\n"
          ]
        }
      ]
    },
    {
      "cell_type": "code",
      "source": [
        "# Problem 26\n",
        "\n",
        "#Check if a number is divisible by another number\n",
        "\n",
        "divisible = lambda first_number, second_number: first_number % second_number == 0\n",
        "\n",
        "first_number = int(input(\"Enter the first number: \"))\n",
        "second_number = int(input(\"Enter the second number: \"))\n",
        "\n",
        "print(f\"Is {first_number} divisible by {second_number}? {divisible(first_number, second_number)}\")"
      ],
      "metadata": {
        "colab": {
          "base_uri": "https://localhost:8080/"
        },
        "id": "dUkX30j9M5sJ",
        "outputId": "d26f4b88-8711-4819-d5a0-e4cb6609ce39"
      },
      "execution_count": null,
      "outputs": [
        {
          "output_type": "stream",
          "name": "stdout",
          "text": [
            "Enter the first number: 20\n",
            "Enter the second number: 10\n",
            "Is 20 divisible by 10? True\n"
          ]
        }
      ]
    },
    {
      "cell_type": "code",
      "source": [
        "# Problem 27\n",
        "\n",
        "# Calculate the absolute difference between two numbers\n",
        "\n",
        "abs_difference = lambda first_number, second_number: abs(first_number - second_number)\n",
        "\n",
        "first_number = float(input(\"Enter the first number: \"))\n",
        "second_number = float(input(\"Enter the second number: \"))\n",
        "\n",
        "print(f\"Absolute difference between {first_number} and {second_number} is: {abs_difference(first_number, second_number)}\")"
      ],
      "metadata": {
        "colab": {
          "base_uri": "https://localhost:8080/"
        },
        "id": "byYFLxndQp_x",
        "outputId": "e6992e97-20b1-4050-93cc-1d084319f41f"
      },
      "execution_count": null,
      "outputs": [
        {
          "output_type": "stream",
          "name": "stdout",
          "text": [
            "Enter the first number: 20\n",
            "Enter the second number: 10\n",
            "Absolute difference between 20.0 and 10.0 is: 10.0\n"
          ]
        }
      ]
    },
    {
      "cell_type": "code",
      "source": [
        "# Problem 28\n",
        "\n",
        "# Check if a string is a digit\n",
        "\n",
        "digit = lambda string: string.isdigit()\n",
        "\n",
        "string = input(\"Enter a string: \")\n",
        "\n",
        "print(f\"Is the string composed only of digits? {digit(string)}\")"
      ],
      "metadata": {
        "colab": {
          "base_uri": "https://localhost:8080/"
        },
        "id": "tS2dq3chS38-",
        "outputId": "c456651c-5f73-4a72-cb2e-510684d182ad"
      },
      "execution_count": null,
      "outputs": [
        {
          "output_type": "stream",
          "name": "stdout",
          "text": [
            "Enter a string: Hello World\n",
            "Is the string composed only of digits? False\n"
          ]
        }
      ]
    },
    {
      "cell_type": "code",
      "source": [
        "# Problem 29\n",
        "\n",
        "# Check if a year is a leap year\n",
        "\n",
        "leap_year = lambda year: year % 4 == 0 and (year % 100 != 0 or year % 400 == 0)\n",
        "\n",
        "year = int(input(\"Enter a year: \"))\n",
        "\n",
        "print(f\"Is {year} a leap year? {leap_year(year)}\")"
      ],
      "metadata": {
        "colab": {
          "base_uri": "https://localhost:8080/"
        },
        "id": "rfVgmJutTw-q",
        "outputId": "a99653c8-67eb-41da-d04c-da237eabca32"
      },
      "execution_count": null,
      "outputs": [
        {
          "output_type": "stream",
          "name": "stdout",
          "text": [
            "Enter a year: 2024\n",
            "Is 2024 a leap year? True\n"
          ]
        }
      ]
    },
    {
      "cell_type": "code",
      "source": [
        "# Problem 30\n",
        "\n",
        "# Find the smallest number in a list\n",
        "\n",
        "find_min = lambda lst: min(lst)\n",
        "\n",
        "user_input = input(\"Enter numbers separated by spaces: \")\n",
        "\n",
        "lst = [int(num) for num in user_input.split()]\n",
        "\n",
        "print(f\"Minimum number in the list is: {find_min(lst)}\")"
      ],
      "metadata": {
        "colab": {
          "base_uri": "https://localhost:8080/"
        },
        "id": "65QPmDIPVknD",
        "outputId": "79cd7e9b-6e97-4ac6-98ac-954b9607d4b5"
      },
      "execution_count": null,
      "outputs": [
        {
          "output_type": "stream",
          "name": "stdout",
          "text": [
            "Enter numbers separated by spaces: 1 2 3 4 5\n",
            "Minimum number in the list is: 1\n"
          ]
        }
      ]
    },
    {
      "cell_type": "code",
      "source": [
        "# Problem 31\n",
        "\n",
        "# Combine first and last names\n",
        "\n",
        "full_name = lambda first_name, last_name: f\"{first_name} {last_name}\"\n",
        "\n",
        "first_name = input(\"Enter the first name: \")\n",
        "last_name = input(\"Enter the last name: \")\n",
        "\n",
        "print(f\"Full name: {full_name(first_name, last_name)}\")"
      ],
      "metadata": {
        "colab": {
          "base_uri": "https://localhost:8080/"
        },
        "id": "gDSCSIWMXT3n",
        "outputId": "90454b2c-9351-4a06-c916-405886d14229"
      },
      "execution_count": null,
      "outputs": [
        {
          "output_type": "stream",
          "name": "stdout",
          "text": [
            "Enter the first name: Abdul\n",
            "Enter the last name: Subhan\n",
            "Full name: Abdul Subhan\n"
          ]
        }
      ]
    },
    {
      "cell_type": "code",
      "source": [
        "# Problem 32\n",
        "\n",
        "# Calculate the perimeter of a circle\n",
        "\n",
        "perimeter_circle = lambda radius: 2 * 3.14 * radius\n",
        "\n",
        "radius = float(input(\"Enter the radius of the circle: \"))\n",
        "\n",
        "print(f\"Perimeter (circumference) of the circle is: {perimeter_circle(radius)}\")"
      ],
      "metadata": {
        "colab": {
          "base_uri": "https://localhost:8080/"
        },
        "id": "-Fk-qRlMZPVw",
        "outputId": "2bd63ce5-d8ab-443b-fd86-3775f433eae3"
      },
      "execution_count": null,
      "outputs": [
        {
          "output_type": "stream",
          "name": "stdout",
          "text": [
            "Enter the radius of the circle: 5\n",
            "Perimeter (circumference) of the circle is: 31.400000000000002\n"
          ]
        }
      ]
    },
    {
      "cell_type": "code",
      "source": [
        "# Problem 33\n",
        "\n",
        "#  Filter numbers greater than a specific value\n",
        "\n",
        "filter_greater = lambda lst, n: list(filter(lambda x: x > n, lst))\n",
        "\n",
        "user_input = input(\"Enter numbers separated by spaces: \")\n",
        "\n",
        "lst = [int(num) for num in user_input.split()]\n",
        "\n",
        "n = int(input(\"Enter the threshold value: \"))\n",
        "\n",
        "print(f\"Numbers greater than {n} from the list: {filter_greater(lst, n)}\")"
      ],
      "metadata": {
        "colab": {
          "base_uri": "https://localhost:8080/"
        },
        "id": "aff9cAkWfRRG",
        "outputId": "6e423c2c-f5a4-4824-b502-d12cbb69cf26"
      },
      "execution_count": null,
      "outputs": [
        {
          "output_type": "stream",
          "name": "stdout",
          "text": [
            "Enter numbers separated by spaces: 1 2 3 4 5\n",
            "Enter the threshold value: 3\n",
            "Numbers greater than 3 from the list: [4, 5]\n"
          ]
        }
      ]
    },
    {
      "cell_type": "code",
      "source": [
        "# Problem 34\n",
        "\n",
        "# Sort a list of strings by their length\n",
        "\n",
        "sort_by_length = lambda lst: sorted(lst, key = lambda string: len(string))\n",
        "\n",
        "user_input = input(\"Enter words separated by spaces: \")\n",
        "\n",
        "lst = user_input.split()\n",
        "\n",
        "print(f\"Words sorted by length: {sort_by_length(lst)}\")"
      ],
      "metadata": {
        "colab": {
          "base_uri": "https://localhost:8080/"
        },
        "id": "SCQmp66vfq7M",
        "outputId": "e8812de3-0242-4ffc-ebcd-3f9d08161625"
      },
      "execution_count": null,
      "outputs": [
        {
          "output_type": "stream",
          "name": "stdout",
          "text": [
            "Enter words separated by spaces: I love programming in python\n",
            "Words sorted by length: ['I', 'in', 'love', 'python', 'programming']\n"
          ]
        }
      ]
    },
    {
      "cell_type": "code",
      "source": [
        "# Problem 35\n",
        "\n",
        "# Check if a string starts with a vowel\n",
        "\n",
        "starts_with_vowel = lambda string: string[0] in 'AEIOUaeiou'\n",
        "\n",
        "string = input(\"Enter a string: \")\n",
        "\n",
        "print(f\"Does the string start with a vowel? {starts_with_vowel(string)}\")"
      ],
      "metadata": {
        "colab": {
          "base_uri": "https://localhost:8080/"
        },
        "id": "792q-4XSgX7q",
        "outputId": "fec62052-5fa4-4b1f-fa5d-b55ed7a4f31d"
      },
      "execution_count": null,
      "outputs": [
        {
          "output_type": "stream",
          "name": "stdout",
          "text": [
            "Enter a string: Hello World\n",
            "Does the string start with a vowel? False\n"
          ]
        }
      ]
    },
    {
      "cell_type": "code",
      "source": [
        "# Problem 36\n",
        "\n",
        "# Find the length of the longest word in a list\n",
        "\n",
        "longest_word_length = lambda lst: max(len(word) for word in lst)\n",
        "\n",
        "user_input = input(\"Enter words separated by spaces: \")\n",
        "\n",
        "lst = user_input.split()\n",
        "\n",
        "print(f\"The length of the longest word is: {longest_word_length(lst)}\")"
      ],
      "metadata": {
        "colab": {
          "base_uri": "https://localhost:8080/"
        },
        "id": "rfIlUjaMivBz",
        "outputId": "5b78cfc1-d167-4e23-86c7-94a77252eceb"
      },
      "execution_count": null,
      "outputs": [
        {
          "output_type": "stream",
          "name": "stdout",
          "text": [
            "Enter words separated by spaces: 1 2 3 4 5\n",
            "The length of the longest word is: 1\n"
          ]
        }
      ]
    },
    {
      "cell_type": "code",
      "source": [
        "# Problem 37\n",
        "\n",
        "# Square each number in a list\n",
        "\n",
        "square_numbers = lambda lst: list(map(lambda x: x**2, lst))\n",
        "\n",
        "user_input = input(\"Enter numbers separated by spaces: \")\n",
        "\n",
        "lst = [int(num) for num in user_input.split()]\n",
        "\n",
        "print(f\"Squared numbers: {square_numbers(lst)}\")"
      ],
      "metadata": {
        "colab": {
          "base_uri": "https://localhost:8080/"
        },
        "id": "AyHu-_bUjcjw",
        "outputId": "0d7f7c78-b9d3-4fb8-a280-a3353d7a1a6c"
      },
      "execution_count": null,
      "outputs": [
        {
          "output_type": "stream",
          "name": "stdout",
          "text": [
            "Enter numbers separated by spaces: 1 2 3 4 5\n",
            "Squared numbers: [1, 4, 9, 16, 25]\n"
          ]
        }
      ]
    },
    {
      "cell_type": "code",
      "source": [
        "# Problem 38\n",
        "\n",
        "# Filter strings that contain a specific substring\n",
        "\n",
        "filter_substring = lambda lst, sub: list(filter(lambda s: sub in s, lst))\n",
        "\n",
        "user_input = input(\"Enter words separated by spaces: \")\n",
        "\n",
        "lst = user_input.split()\n",
        "\n",
        "sub = input(\"Enter the substring to search for: \")\n",
        "\n",
        "print(f\"Words containing the substring '{sub}': {filter_substring(lst, sub)}\")"
      ],
      "metadata": {
        "colab": {
          "base_uri": "https://localhost:8080/"
        },
        "id": "1dJciCh6kZzQ",
        "outputId": "b4995fde-f6db-4f1d-e222-cde21062d7ca"
      },
      "execution_count": null,
      "outputs": [
        {
          "output_type": "stream",
          "name": "stdout",
          "text": [
            "Enter words separated by spaces: Hello World\n",
            "Enter the substring to search for: l\n",
            "Words containing the substring 'l': ['Hello', 'World']\n"
          ]
        }
      ]
    },
    {
      "cell_type": "code",
      "source": [
        "# Problem 39\n",
        "\n",
        "# Count the number of words in a string\n",
        "\n",
        "count_words = lambda string: len(string.split())\n",
        "\n",
        "string = input(\"Enter a string: \")\n",
        "\n",
        "print(f\"The number of words in the string is: {count_words(string)}\")"
      ],
      "metadata": {
        "colab": {
          "base_uri": "https://localhost:8080/"
        },
        "id": "siujhyA0lCiN",
        "outputId": "e4f9f47c-9baa-493e-db3f-5bed57bc660c"
      },
      "execution_count": null,
      "outputs": [
        {
          "output_type": "stream",
          "name": "stdout",
          "text": [
            "Enter a string: Hello World\n",
            "The number of words in the string is: 2\n"
          ]
        }
      ]
    },
    {
      "cell_type": "code",
      "source": [
        "# Problem 40\n",
        "\n",
        "# Check if all characters in a string are lowercase\n",
        "\n",
        "all_lowercase = lambda string: string.islower()\n",
        "\n",
        "string = input(\"Enter a string: \")\n",
        "\n",
        "print(f\"Is the string in all lowercase? {all_lowercase(string)}\")"
      ],
      "metadata": {
        "colab": {
          "base_uri": "https://localhost:8080/"
        },
        "id": "UkFpghXOlxoh",
        "outputId": "dce9a5c8-7d82-4b14-f169-ee07425eb7e8"
      },
      "execution_count": null,
      "outputs": [
        {
          "output_type": "stream",
          "name": "stdout",
          "text": [
            "Enter a string: Hello World\n",
            "Is the string in all lowercase? False\n"
          ]
        }
      ]
    },
    {
      "cell_type": "code",
      "source": [
        "# Problem 41\n",
        "\n",
        "# Check if a number is positive, negative, or zero\n",
        "\n",
        "check_number = lambda x: \"Positive\" if x > 0 else \"Negative\" if x < 0 else \"Zero\"\n",
        "\n",
        "x = float(input(\"Enter a number: \"))\n",
        "\n",
        "print(f\"The number is: {check_number(x)}\")"
      ],
      "metadata": {
        "colab": {
          "base_uri": "https://localhost:8080/"
        },
        "id": "e7WCPjG8wJZa",
        "outputId": "69257d19-ff17-4d82-f73b-3491d9384148"
      },
      "execution_count": null,
      "outputs": [
        {
          "output_type": "stream",
          "name": "stdout",
          "text": [
            "Enter a number: 5\n",
            "The number is: Positive\n"
          ]
        }
      ]
    },
    {
      "cell_type": "code",
      "source": [
        "# problem 42\n",
        "\n",
        "# Find the average of three numbers\n",
        "\n",
        "average = lambda x, y, z: (x + y + z) / 3\n",
        "\n",
        "x = float(input(\"Enter the first number: \"))\n",
        "y = float(input(\"Enter the second number: \"))\n",
        "z = float(input(\"Enter the third number: \"))\n",
        "\n",
        "print(f\"The average of the three numbers is: {average(x, y, z)}\")"
      ],
      "metadata": {
        "colab": {
          "base_uri": "https://localhost:8080/"
        },
        "id": "ohNCviLcCQVv",
        "outputId": "df9c286f-e44b-4f1a-c215-0e2bf1a317c1"
      },
      "execution_count": null,
      "outputs": [
        {
          "output_type": "stream",
          "name": "stdout",
          "text": [
            "Enter the first number: 30\n",
            "Enter the second number: 20\n",
            "Enter the third number: 10\n",
            "The average of the three numbers is: 20.0\n"
          ]
        }
      ]
    },
    {
      "cell_type": "code",
      "source": [
        "# Problem 43\n",
        "\n",
        "# Check if a string is a palindrome\n",
        "\n",
        "palindrome = lambda s: s == s[::-1]\n",
        "\n",
        "s = input(\"Enter a string: \")\n",
        "\n",
        "print(f\"Is the string a palindrome? {palindrome(s)}\")"
      ],
      "metadata": {
        "colab": {
          "base_uri": "https://localhost:8080/"
        },
        "id": "WhId2kL0C2de",
        "outputId": "847a1b46-4215-4978-d886-d424f2dd77ba"
      },
      "execution_count": null,
      "outputs": [
        {
          "output_type": "stream",
          "name": "stdout",
          "text": [
            "Enter a string: Hello World\n",
            "Is the string a palindrome? False\n"
          ]
        }
      ]
    },
    {
      "cell_type": "code",
      "source": [
        "# Problem 44\n",
        "\n",
        "# Calculate the factorial of a number (using recursion)\n",
        "\n",
        "from functools import reduce\n",
        "\n",
        "factorial = lambda n: 1 if n == 0 else n * factorial(n - 1)\n",
        "\n",
        "n = int(input(\"Enter a non-negative integer: \"))\n",
        "\n",
        "print(f\"The factorial of {n} is: {factorial(n)}\")"
      ],
      "metadata": {
        "colab": {
          "base_uri": "https://localhost:8080/"
        },
        "id": "B5mt8jFrDdcS",
        "outputId": "9b80f580-1f74-40c5-ce5f-665059ae7594"
      },
      "execution_count": null,
      "outputs": [
        {
          "output_type": "stream",
          "name": "stdout",
          "text": [
            "Enter a non-negative integer: 5\n",
            "The factorial of 5 is: 120\n"
          ]
        }
      ]
    },
    {
      "cell_type": "code",
      "source": [
        "# Problem 45\n",
        "\n",
        "# Check if a number is even or odd\n",
        "\n",
        "is_even_or_odd = lambda x: \"Even\" if x % 2 == 0 else \"Odd\"\n",
        "\n",
        "x = int(input(\"Enter an integer: \"))\n",
        "\n",
        "print(f\"The number is: {is_even_or_odd(x)}\")"
      ],
      "metadata": {
        "colab": {
          "base_uri": "https://localhost:8080/"
        },
        "id": "xhomA3NZD6Pc",
        "outputId": "0d93ba74-289a-4573-c8f7-9d0de2838ee1"
      },
      "execution_count": null,
      "outputs": [
        {
          "output_type": "stream",
          "name": "stdout",
          "text": [
            "Enter an integer: 5\n",
            "The number is: Odd\n"
          ]
        }
      ]
    },
    {
      "cell_type": "code",
      "source": [
        "# Problem 46\n",
        "\n",
        "# Calculate the square of a number\n",
        "\n"
      ],
      "metadata": {
        "id": "3-gYz23nEknp"
      },
      "execution_count": null,
      "outputs": []
    }
  ]
}