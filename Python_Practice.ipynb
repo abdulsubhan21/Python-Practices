{
  "nbformat": 4,
  "nbformat_minor": 0,
  "metadata": {
    "colab": {
      "provenance": []
    },
    "kernelspec": {
      "name": "python3",
      "display_name": "Python 3"
    },
    "language_info": {
      "name": "python"
    }
  },
  "cells": [
    {
      "cell_type": "code",
      "source": [
        "name = input(\"Enter The Name: \")\n",
        "subject_1 = float(input(\"Enter The Subject 1 Marks: \"))\n",
        "subject_2 = float(input(\"Enter The Subject 2 Marks: \"))\n",
        "subject_3 = float(input(\"Enter The Subject 3 Marks: \"))\n",
        "subject_4 = float(input(\"Enter The Subject 4 Marks: \"))\n",
        "subject_5 = float(input(\"Enter The Subject 5 Marks: \"))\n",
        "\n",
        "marks = [subject_1, subject_2, subject_3, subject_4, subject_5]\n",
        "grade = sum(marks) / len(marks)\n",
        "\n",
        "if grade >= 80:\n",
        "   performance = \"Very Exellent\"\n",
        "\n",
        "elif grade >= 70 and grade <= 79:\n",
        "     performance = \"Exellent\"\n",
        "\n",
        "elif grade >= 60 and grade <= 69:\n",
        "     performance = \"Very Good\"\n",
        "\n",
        "elif grade >= 50 and grade <= 59:\n",
        "     performance = \"Good\"\n",
        "\n",
        "elif grade >= 40 and grade <= 49:\n",
        "     performance = \"Average\"\n",
        "\n",
        "else:\n",
        "     performance = \"Fail\"\n",
        "\n",
        "print(f'''\n",
        "\n",
        "Students Report Card\n",
        "\n",
        "Student Name: {name}\n",
        "Student Subjects Marks: {marks}\n",
        "Student Grade: {grade}\n",
        "Student Performance: {performance}''')"
      ],
      "metadata": {
        "id": "s_QUFtVlLdca",
        "colab": {
          "base_uri": "https://localhost:8080/"
        },
        "outputId": "f21477ed-882d-4e49-e766-d0f00a2469d0"
      },
      "execution_count": null,
      "outputs": [
        {
          "output_type": "stream",
          "name": "stdout",
          "text": [
            "Enter The Name: Abdul Subhan\n",
            "Enter The Subject 1 Marks: 74\n",
            "Enter The Subject 2 Marks: 78\n",
            "Enter The Subject 3 Marks: 95\n",
            "Enter The Subject 4 Marks: 76\n",
            "Enter The Subject 5 Marks: 80\n",
            "\n",
            "\n",
            "Students Report Card\n",
            "\n",
            "Student Name: Abdul Subhan\n",
            "Student Subjects Marks: [74.0, 78.0, 95.0, 76.0, 80.0]\n",
            "Student Grade: 80.6\n",
            "Student Performance: Very Exellent\n"
          ]
        }
      ]
    },
    {
      "cell_type": "code",
      "source": [
        "name = input(\"Enter the name: \")\n",
        "\n",
        "item_1 = input(\"Enter the item 1: \")\n",
        "item_1_price = int(input(\"Enter the item 1 price: \"))\n",
        "\n",
        "item_2 = input(\"Enter the item 2: \")\n",
        "item_2_price = int(input(\"Enter the item 2 price: \"))\n",
        "\n",
        "item_3 = input(\"Enter the item 3: \")\n",
        "item_3_price = int(input(\"Enter the item 3 price: \"))\n",
        "\n",
        "item_names = [item_1, item_2, item_3]\n",
        "item_prices = [item_1_price, item_2_price, item_3_price]\n",
        "\n",
        "total_price = sum(item_prices)\n",
        "\n",
        "if total_price > 10000:\n",
        "   discount_amount = total_price * 10 / 100\n",
        "   final_price = total_price - discount_amount\n",
        "   discount = f\" {discount_amount}\"\n",
        "\n",
        "else:\n",
        "     final_price = total_price\n",
        "     discount = \"No discount.\"\n",
        "\n",
        "print(f'''\n",
        "\n",
        "Shopping Bill\n",
        "\n",
        "Customer Name: {name}\n",
        "Items: {item_names}\n",
        "Prices: {item_prices}\n",
        "Total Price: {total_price}\n",
        "10% Discount: {discount}\n",
        "Final Price: {final_price}''')"
      ],
      "metadata": {
        "id": "fqCBYX6rnUf2",
        "colab": {
          "base_uri": "https://localhost:8080/"
        },
        "outputId": "c78ec9f4-a836-46fd-c9cc-849eebb2ed14"
      },
      "execution_count": null,
      "outputs": [
        {
          "output_type": "stream",
          "name": "stdout",
          "text": [
            "Enter the name: Abdul Subhan\n",
            "Enter the item 1: T.V.\n",
            "Enter the item 1 price: 17000\n",
            "Enter the item 2: Remote\n",
            "Enter the item 2 price: 1000\n",
            "Enter the item 3: Cable Wire\n",
            "Enter the item 3 price: 2000\n",
            "\n",
            "\n",
            "Shopping Bill\n",
            "\n",
            "Customer Name: Abdul Subhan\n",
            "Items: ['T.V.', 'Remote', 'Cable Wire']\n",
            "Prices: [17000, 1000, 2000]\n",
            "Total Price: 20000\n",
            "10% Discount:  2000.0\n",
            "Final Price: 18000.0\n"
          ]
        }
      ]
    },
    {
      "cell_type": "code",
      "source": [
        "name = input(\"Enter the student name: \")\n",
        "age = int(input(\"Enter the student age: \"))\n",
        "\n",
        "math_numbers = float(input(\"Enter the student maths numbers: \"))\n",
        "science_numbers = float(input(\"Enter the student science numbers: \"))\n",
        "english_numbers = float(input(\"Enter the student english numbers: \"))\n",
        "\n",
        "numbers = [math_numbers, science_numbers, english_numbers]\n",
        "\n",
        "student_info = {\"name\": name, \"age\": age, \"numbers\": numbers}\n",
        "\n",
        "total_numbers = 0\n",
        "for i in numbers:\n",
        "    total_numbers += i\n",
        "\n",
        "percentage = total_numbers / len(numbers)\n",
        "\n",
        "student_info[\"percentage\"] = percentage\n",
        "\n",
        "if percentage >= 80:\n",
        "   grade = \"A+\"\n",
        "elif 70 <= percentage <= 79:\n",
        "     grade = \"A\"\n",
        "elif 60 <= percentage <= 69:\n",
        "     grade = \"B\"\n",
        "elif 50 <= percentage <= 59:\n",
        "     grade = \"C\"\n",
        "elif 40 <= percentage <= 49:\n",
        "     grade = \"D\"\n",
        "else:\n",
        "     grade = \"Fail\"\n",
        "\n",
        "print(f'''\n",
        "Student Performance Report:\n",
        "\n",
        "Name: {student_info[\"name\"]}\n",
        "Age: {student_info[\"age\"]}\n",
        "Scores: Math: {math_numbers}, Science: {science_numbers}, English: {english_numbers}\n",
        "Percentage: {percentage:.1f}\n",
        "Grade: {grade}''')"
      ],
      "metadata": {
        "id": "lIcw9LF64c-H",
        "colab": {
          "base_uri": "https://localhost:8080/"
        },
        "outputId": "79d3c385-94c0-4a1a-8300-5a42d80b3ff1"
      },
      "execution_count": null,
      "outputs": [
        {
          "output_type": "stream",
          "name": "stdout",
          "text": [
            "Enter the student name: Abdul Subhan\n",
            "Enter the student age: 17\n",
            "Enter the student maths numbers: 76\n",
            "Enter the student science numbers: 95\n",
            "Enter the student english numbers: 80\n",
            "\n",
            "Student Performance Report:\n",
            "\n",
            "Name: Abdul Subhan\n",
            "Age: 17\n",
            "Scores: Math: 76.0, Science: 95.0, English: 80.0\n",
            "Percentage: 83.7\n",
            "Grade: A+\n"
          ]
        }
      ]
    },
    {
      "cell_type": "code",
      "source": [
        "name = input(\"Enter your name: \").strip().title()\n",
        "age = int(input(\"Enter your age: \"))\n",
        "nationality = input(\"Enter your nationality: \").strip().title()\n",
        "skills = input(\"Enter at least 3 skills: \").strip().split()\n",
        "\n",
        "if len(skills) < 3:\n",
        "   print(\"You must enter at least 3 skills.\")\n",
        "else:\n",
        "     print(f'''\n",
        "    Personal Information:\n",
        "\n",
        "    Name: {name}\n",
        "    Age: {age}\n",
        "    Nationality: {nationality}\n",
        "    Skills: {', '.join([skill.strip().title() for skill in skills])}\n",
        "    ''')\n",
        "\n",
        "if age >= 18:\n",
        "   print(\"You are eligible to apply for the job.\")\n",
        "else:\n",
        "     print(\"You are not eligible to apply for the job.\")"
      ],
      "metadata": {
        "id": "XYAS2qR61fE1",
        "colab": {
          "base_uri": "https://localhost:8080/"
        },
        "outputId": "890ba845-abad-4afa-bb0d-99e529a545b6"
      },
      "execution_count": null,
      "outputs": [
        {
          "output_type": "stream",
          "name": "stdout",
          "text": [
            "Enter your name: Abdul Subhan\n",
            "Enter your age: 17\n",
            "Enter your nationality: Pakistani\n",
            "Enter at least 3 skills: HTML CSS Python\n",
            "\n",
            "    Personal Information:\n",
            "\n",
            "    Name: Abdul Subhan\n",
            "    Age: 17\n",
            "    Nationality: Pakistani\n",
            "    Skills: Html, Css, Python\n",
            "    \n",
            "You are not eligible to apply for the job.\n"
          ]
        }
      ]
    },
    {
      "cell_type": "code",
      "source": [
        "import random\n",
        "jackpot = random.randint(1, 100)\n",
        "\n",
        "guess = int(input(\"Enter the number between 1 to 100: \"))\n",
        "counter = 1\n",
        "\n",
        "while guess != jackpot:\n",
        "      if guess < jackpot:\n",
        "         print(\"Guess higher number\")\n",
        "      else:\n",
        "           print(\"Guess lower number\")\n",
        "\n",
        "      guess = int(input(\"Enter the number between 1 to 100: \"))\n",
        "      counter += 1\n",
        "\n",
        "print(\"Correct answer\")\n",
        "print(\"You took\",counter,\"attempts\")"
      ],
      "metadata": {
        "id": "HV-2LxNFQci3",
        "colab": {
          "base_uri": "https://localhost:8080/"
        },
        "outputId": "3fb39bbb-90ff-4882-90e7-716d981eee03"
      },
      "execution_count": null,
      "outputs": [
        {
          "output_type": "stream",
          "name": "stdout",
          "text": [
            "Enter the number between 1 to 100: 50\n",
            "Guess lower number\n",
            "Enter the number between 1 to 100: 10\n",
            "Guess higher number\n",
            "Enter the number between 1 to 100: 40\n",
            "Guess lower number\n",
            "Enter the number between 1 to 100: 20\n",
            "Guess higher number\n",
            "Enter the number between 1 to 100: 30\n",
            "Guess higher number\n",
            "Enter the number between 1 to 100: 35\n",
            "Guess lower number\n",
            "Enter the number between 1 to 100: 33\n",
            "Guess lower number\n",
            "Enter the number between 1 to 100: 31\n",
            "Correct answer\n",
            "You took 8 attempts\n"
          ]
        }
      ]
    },
    {
      "cell_type": "code",
      "source": [
        "# Problem 1\n",
        "def square(number):\n",
        "  return number ** 2\n",
        "\n",
        "square(5)"
      ],
      "metadata": {
        "colab": {
          "base_uri": "https://localhost:8080/"
        },
        "id": "ZvOKkwdX4uUs",
        "outputId": "6abd2140-bbbc-46d6-964f-4e61ca4104eb"
      },
      "execution_count": null,
      "outputs": [
        {
          "output_type": "execute_result",
          "data": {
            "text/plain": [
              "25"
            ]
          },
          "metadata": {},
          "execution_count": 112
        }
      ]
    },
    {
      "cell_type": "code",
      "source": [
        "# Problem 2\n",
        "def add(a, b):\n",
        "  return a + b\n",
        "\n",
        "print(add(5, 5))"
      ],
      "metadata": {
        "colab": {
          "base_uri": "https://localhost:8080/"
        },
        "id": "MKOtTRM98cHt",
        "outputId": "372cc518-670e-42ba-d6ce-b26816d918e1"
      },
      "execution_count": null,
      "outputs": [
        {
          "output_type": "stream",
          "name": "stdout",
          "text": [
            "10\n"
          ]
        }
      ]
    },
    {
      "cell_type": "code",
      "source": [
        "# Problem 3\n",
        "def multiply(p1, p2):\n",
        "  return p1 * p2\n",
        "\n",
        "print(multiply(5, 5))\n",
        "print(multiply(\"a\", 5))\n",
        "print(multiply(5, \"b\"))"
      ],
      "metadata": {
        "colab": {
          "base_uri": "https://localhost:8080/"
        },
        "id": "h3Ckw6Lr-f63",
        "outputId": "8dd79dff-31aa-41f7-a94f-6e1bd96eedce"
      },
      "execution_count": null,
      "outputs": [
        {
          "output_type": "stream",
          "name": "stdout",
          "text": [
            "25\n",
            "aaaaa\n",
            "bbbbb\n"
          ]
        }
      ]
    },
    {
      "cell_type": "code",
      "source": [
        "# Problem 4\n",
        "def circle_states(radius):\n",
        "  area = 3.14 * radius ** 2\n",
        "  circumference = 2 * 3.14 * radius\n",
        "  return area, circumference\n",
        "\n",
        "result_1, result_2 = circle_states(3)\n",
        "print(\"Area:\", result_1)\n",
        "print(\"Circumference:\", result_2)"
      ],
      "metadata": {
        "colab": {
          "base_uri": "https://localhost:8080/"
        },
        "id": "JC8KpDzNAUNj",
        "outputId": "a83ca179-407c-480b-e8a2-73324e44ce3f"
      },
      "execution_count": null,
      "outputs": [
        {
          "output_type": "stream",
          "name": "stdout",
          "text": [
            "Area: 28.26\n",
            "Circumference: 18.84\n"
          ]
        }
      ]
    },
    {
      "cell_type": "code",
      "source": [
        "# Problem 5\n",
        "def greet(name = \"User\"):\n",
        "  return \"Hello \" + name + \"!\"\n",
        "\n",
        "print(greet())\n",
        "print(greet(\"Abdul Subhan\"))"
      ],
      "metadata": {
        "colab": {
          "base_uri": "https://localhost:8080/"
        },
        "id": "T-FWH6EQDjbi",
        "outputId": "d597e3be-54ec-4f26-b5d2-23e44679b115"
      },
      "execution_count": null,
      "outputs": [
        {
          "output_type": "stream",
          "name": "stdout",
          "text": [
            "Hello User!\n",
            "Hello Abdul Subhan!\n"
          ]
        }
      ]
    },
    {
      "cell_type": "code",
      "source": [
        "# Problem 6\n",
        "def cube(number):\n",
        "  return number ** 3\n",
        "\n",
        "print(cube(5))"
      ],
      "metadata": {
        "colab": {
          "base_uri": "https://localhost:8080/"
        },
        "id": "AQAdSeTlGcU6",
        "outputId": "c02340be-122a-46a1-a193-bac08b2f5e11"
      },
      "execution_count": null,
      "outputs": [
        {
          "output_type": "stream",
          "name": "stdout",
          "text": [
            "125\n"
          ]
        }
      ]
    },
    {
      "cell_type": "code",
      "source": [
        "# Problem 7\n",
        "def sum_all(*args):\n",
        "    print(args)\n",
        "    for i in args:\n",
        "        print(i * 2)\n",
        "    return sum(args)\n",
        "\n",
        "print(sum_all(1, 2, 3))"
      ],
      "metadata": {
        "colab": {
          "base_uri": "https://localhost:8080/"
        },
        "id": "FCAMt2ueXgkB",
        "outputId": "6cdc9cdc-1315-4724-ca02-6d7ca8fd3021"
      },
      "execution_count": null,
      "outputs": [
        {
          "output_type": "stream",
          "name": "stdout",
          "text": [
            "(1, 2, 3)\n",
            "2\n",
            "4\n",
            "6\n",
            "6\n"
          ]
        }
      ]
    },
    {
      "cell_type": "code",
      "source": [
        "# Problem 8\n",
        "def print_kwargs(**kwargs):\n",
        "  for key, value in kwargs.items():\n",
        "    print(f\"{key}: {value}\")\n",
        "\n",
        "print_kwargs(Name = \"Abdul Subhan\", Age = 17, Gender = \"Male\")"
      ],
      "metadata": {
        "id": "3wZRqdtdZ9jH",
        "colab": {
          "base_uri": "https://localhost:8080/"
        },
        "outputId": "60df5a77-e17f-43ca-d180-f94f2fb78ded"
      },
      "execution_count": null,
      "outputs": [
        {
          "output_type": "stream",
          "name": "stdout",
          "text": [
            "Name: Abdul Subhan\n",
            "Age: 17\n",
            "Gender: Male\n"
          ]
        }
      ]
    },
    {
      "cell_type": "code",
      "source": [
        "# Problem 9\n",
        "def even_generator(limit):\n",
        "    for i in range(2, limit + 1, 2):\n",
        "        yield i\n",
        "\n",
        "for num in even_generator(10):\n",
        "    print(num)"
      ],
      "metadata": {
        "colab": {
          "base_uri": "https://localhost:8080/"
        },
        "id": "6KrZUaFlFRLI",
        "outputId": "4284aff9-7726-453d-847a-25f6d102aa16"
      },
      "execution_count": null,
      "outputs": [
        {
          "output_type": "stream",
          "name": "stdout",
          "text": [
            "2\n",
            "4\n",
            "6\n",
            "8\n",
            "10\n"
          ]
        }
      ]
    },
    {
      "cell_type": "code",
      "source": [
        "# Problem 10\n",
        "def factorial(n):\n",
        "    if n == 0:\n",
        "        return 1\n",
        "    else:\n",
        "        return n * factorial(n - 1)\n",
        "\n",
        "print(factorial(5))"
      ],
      "metadata": {
        "colab": {
          "base_uri": "https://localhost:8080/"
        },
        "id": "yfjwNcMPRdQy",
        "outputId": "7de19bfe-52cf-4a87-c959-62a159a0a8f9"
      },
      "execution_count": null,
      "outputs": [
        {
          "output_type": "stream",
          "name": "stdout",
          "text": [
            "120\n"
          ]
        }
      ]
    },
    {
      "cell_type": "code",
      "source": [
        "# Problem 11\n",
        "def mean(l):\n",
        "    total = 0\n",
        "    for i in l:\n",
        "        total = total + i\n",
        "    return total / len(l)\n",
        "\n",
        "mean([1,2,3,4,5])"
      ],
      "metadata": {
        "colab": {
          "base_uri": "https://localhost:8080/"
        },
        "id": "c7QV62ihKXku",
        "outputId": "4be35106-b7d6-41f7-9b06-e62dafbaebe9"
      },
      "execution_count": null,
      "outputs": [
        {
          "output_type": "execute_result",
          "data": {
            "text/plain": [
              "3.0"
            ]
          },
          "metadata": {},
          "execution_count": 123
        }
      ]
    },
    {
      "cell_type": "code",
      "source": [
        "# Problem 12\n",
        "def hello():\n",
        "    print(\"Hello friends\")\n",
        "\n",
        "hello()"
      ],
      "metadata": {
        "colab": {
          "base_uri": "https://localhost:8080/"
        },
        "id": "5ygo6XeeLBW6",
        "outputId": "ead51ad6-de15-4bd5-879a-8880f884d67f"
      },
      "execution_count": null,
      "outputs": [
        {
          "output_type": "stream",
          "name": "stdout",
          "text": [
            "Hello friends\n"
          ]
        }
      ]
    },
    {
      "cell_type": "code",
      "source": [
        "# Problem 13\n",
        "def data(name, roll_no, marks, grade):\n",
        "    print(f\"\"\"Name: {name}\n",
        "Roll Number: {roll_no}\n",
        "Marks: {marks}\n",
        "Grade: {grade}\"\"\")\n",
        "\n",
        "data(\"Abdul Subhan\", 31715, 79, \"A\")"
      ],
      "metadata": {
        "colab": {
          "base_uri": "https://localhost:8080/"
        },
        "id": "1zqsY_78M3y0",
        "outputId": "cf94599a-50e2-48a6-f4b8-873aae2ffe13"
      },
      "execution_count": null,
      "outputs": [
        {
          "output_type": "stream",
          "name": "stdout",
          "text": [
            "Name: Abdul Subhan\n",
            "Roll Number: 31715\n",
            "Marks: 79\n",
            "Grade: A\n"
          ]
        }
      ]
    },
    {
      "cell_type": "code",
      "source": [
        "# Problem 14\n",
        "def para(text):\n",
        "    print(text.lower())\n",
        "    print(text.upper())\n",
        "\n",
        "para(\"My name is Abdul Subhan\")"
      ],
      "metadata": {
        "colab": {
          "base_uri": "https://localhost:8080/"
        },
        "id": "SWtRbHCAPUet",
        "outputId": "7ea6eb56-5e59-4e11-b8dc-30aed55540fd"
      },
      "execution_count": null,
      "outputs": [
        {
          "output_type": "stream",
          "name": "stdout",
          "text": [
            "my name is abdul subhan\n",
            "MY NAME IS ABDUL SUBHAN\n"
          ]
        }
      ]
    },
    {
      "cell_type": "code",
      "source": [
        "# Problem 15\n",
        "def square(num):\n",
        "    sqr = num ** 2\n",
        "    return sqr\n",
        "\n",
        "square(5)"
      ],
      "metadata": {
        "colab": {
          "base_uri": "https://localhost:8080/"
        },
        "id": "LlDDX8hJRJoA",
        "outputId": "4c063d8e-edee-45c2-84ef-cdb142f4b564"
      },
      "execution_count": null,
      "outputs": [
        {
          "output_type": "execute_result",
          "data": {
            "text/plain": [
              "25"
            ]
          },
          "metadata": {},
          "execution_count": 129
        }
      ]
    },
    {
      "cell_type": "code",
      "source": [
        "# Problem 16\n",
        "def name(first_name, last_name):\n",
        "    full_name = first_name + \" \" + last_name\n",
        "    return full_name\n",
        "\n",
        "name(\"Abdul\", \"Subhan\")"
      ],
      "metadata": {
        "colab": {
          "base_uri": "https://localhost:8080/",
          "height": 36
        },
        "id": "ox6SZVYjSNyC",
        "outputId": "576bd9c9-493c-4c6d-ef5d-b066b8039a6f"
      },
      "execution_count": null,
      "outputs": [
        {
          "output_type": "execute_result",
          "data": {
            "text/plain": [
              "'Abdul Subhan'"
            ],
            "application/vnd.google.colaboratory.intrinsic+json": {
              "type": "string"
            }
          },
          "metadata": {},
          "execution_count": 130
        }
      ]
    },
    {
      "cell_type": "code",
      "source": [
        "# Program 17\n",
        "def min_max(l):\n",
        "    print(\"Minimum Value:\", min(l), \",\", \"Maximum Value:\", max(l))\n",
        "\n",
        "min_max([2, 5, 6, 7, 4, 9])"
      ],
      "metadata": {
        "colab": {
          "base_uri": "https://localhost:8080/"
        },
        "id": "1nEj5wdQTJIB",
        "outputId": "228d7eeb-ecea-47d7-d04e-9685983a48b3"
      },
      "execution_count": null,
      "outputs": [
        {
          "output_type": "stream",
          "name": "stdout",
          "text": [
            "Minimum Value: 2 , Maximum Value: 9\n"
          ]
        }
      ]
    },
    {
      "cell_type": "code",
      "source": [
        "# Program 18\n",
        "def l_square(l):\n",
        "    return[i ** 2 for i in l]\n",
        "\n",
        "l_square([1, 2, 3, 4, 5])"
      ],
      "metadata": {
        "colab": {
          "base_uri": "https://localhost:8080/"
        },
        "id": "plojbxbaUv9c",
        "outputId": "ee2fc9be-7f5a-458d-8932-f87efb8d4a49"
      },
      "execution_count": null,
      "outputs": [
        {
          "output_type": "execute_result",
          "data": {
            "text/plain": [
              "[1, 4, 9, 16, 25]"
            ]
          },
          "metadata": {},
          "execution_count": 134
        }
      ]
    },
    {
      "cell_type": "code",
      "source": [
        "# Problem 19\n",
        "def l_square(l):\n",
        "    squares = []\n",
        "    for a in l:\n",
        "        squares.append(a ** 2)\n",
        "    return squares\n",
        "\n",
        "l_square([1, 2, 3, 4, 5])"
      ],
      "metadata": {
        "colab": {
          "base_uri": "https://localhost:8080/"
        },
        "id": "Wf6VAgAsWS4g",
        "outputId": "013536c2-89e6-48bd-d135-65581b24a101"
      },
      "execution_count": null,
      "outputs": [
        {
          "output_type": "execute_result",
          "data": {
            "text/plain": [
              "[1, 4, 9, 16, 25]"
            ]
          },
          "metadata": {},
          "execution_count": 135
        }
      ]
    },
    {
      "cell_type": "code",
      "source": [
        "# Problem 20\n",
        "def add(l):\n",
        "    total = 0\n",
        "    for i in l:\n",
        "        total += i\n",
        "    return total\n",
        "\n",
        "add([1, 2, 3, 4, 5])"
      ],
      "metadata": {
        "colab": {
          "base_uri": "https://localhost:8080/"
        },
        "id": "IQaoQ-zZYpYK",
        "outputId": "309e8f9b-e04e-4ed9-9c2c-23be807e0952"
      },
      "execution_count": null,
      "outputs": [
        {
          "output_type": "execute_result",
          "data": {
            "text/plain": [
              "15"
            ]
          },
          "metadata": {},
          "execution_count": 136
        }
      ]
    },
    {
      "cell_type": "code",
      "source": [
        "# Problem 21\n",
        "def subtract(l):\n",
        "    total = l[0]\n",
        "    for i in l[1:]:\n",
        "        total -= i\n",
        "    return total\n",
        "\n",
        "subtract([5, 4])"
      ],
      "metadata": {
        "colab": {
          "base_uri": "https://localhost:8080/"
        },
        "id": "-jU442iqcCMm",
        "outputId": "a783f168-7cb0-4c83-9878-5f86279fc672"
      },
      "execution_count": null,
      "outputs": [
        {
          "output_type": "execute_result",
          "data": {
            "text/plain": [
              "1"
            ]
          },
          "metadata": {},
          "execution_count": 137
        }
      ]
    },
    {
      "cell_type": "code",
      "source": [
        "# Problem 22\n",
        "def multiply(l):\n",
        "    total = 1\n",
        "    for i in l:\n",
        "        total *= i\n",
        "    return total\n",
        "\n",
        "multiply([1, 2, 3, 4, 5])"
      ],
      "metadata": {
        "colab": {
          "base_uri": "https://localhost:8080/"
        },
        "id": "apTdIh0chhTz",
        "outputId": "0b4d3099-03d8-44d3-f185-7b4cc2607a95"
      },
      "execution_count": null,
      "outputs": [
        {
          "output_type": "execute_result",
          "data": {
            "text/plain": [
              "120"
            ]
          },
          "metadata": {},
          "execution_count": 138
        }
      ]
    },
    {
      "cell_type": "code",
      "source": [
        "# Problem 23\n",
        "def divide(l):\n",
        "    total = l[0]\n",
        "    for i in l[1:]:\n",
        "        if i != 0:\n",
        "            total /= i\n",
        "        else:\n",
        "            return \"Cannot divide by zero\"\n",
        "    return total\n",
        "\n",
        "divide([4, 5])"
      ],
      "metadata": {
        "colab": {
          "base_uri": "https://localhost:8080/"
        },
        "id": "U5vXBBr0iDWt",
        "outputId": "66c55403-0d52-4e8f-bcd1-ac7d0bb97cdc"
      },
      "execution_count": null,
      "outputs": [
        {
          "output_type": "execute_result",
          "data": {
            "text/plain": [
              "0.8"
            ]
          },
          "metadata": {},
          "execution_count": 139
        }
      ]
    },
    {
      "cell_type": "code",
      "source": [
        "# Problem 24\n",
        "def average(l):\n",
        "    total = 0\n",
        "    for i in l:\n",
        "        total += i\n",
        "    return total / len(l)\n",
        "\n",
        "average([1, 2, 3, 4, 5])"
      ],
      "metadata": {
        "colab": {
          "base_uri": "https://localhost:8080/"
        },
        "id": "kVrFxFb9iq_3",
        "outputId": "87bb4674-51e0-489a-a6cd-df985bbe7f6d"
      },
      "execution_count": null,
      "outputs": [
        {
          "output_type": "execute_result",
          "data": {
            "text/plain": [
              "3.0"
            ]
          },
          "metadata": {},
          "execution_count": 140
        }
      ]
    },
    {
      "cell_type": "code",
      "source": [
        "# Problem 25\n",
        "def even_numbers(l):\n",
        "    evenlist = []\n",
        "    for i in l:\n",
        "        if i % 2 == 0:\n",
        "            evenlist.append(i)\n",
        "    return evenlist\n",
        "\n",
        "even_numbers([1, 2, 3, 4, 5])"
      ],
      "metadata": {
        "colab": {
          "base_uri": "https://localhost:8080/"
        },
        "id": "p-pKLONzjL6x",
        "outputId": "909c15fd-93f5-4515-e0bf-36b5ea331cd5"
      },
      "execution_count": null,
      "outputs": [
        {
          "output_type": "execute_result",
          "data": {
            "text/plain": [
              "[2, 4]"
            ]
          },
          "metadata": {},
          "execution_count": 141
        }
      ]
    },
    {
      "cell_type": "code",
      "source": [
        "# Problem 26\n",
        "def odd_numbers(l):\n",
        "    oddlist = []\n",
        "    for i in l:\n",
        "        if i % 2 != 0:\n",
        "            oddlist.append(i)\n",
        "    return oddlist\n",
        "\n",
        "odd_numbers([1, 2, 3, 4, 5])"
      ],
      "metadata": {
        "colab": {
          "base_uri": "https://localhost:8080/"
        },
        "id": "BWM2m08UkCHY",
        "outputId": "ce3e3e7f-dc65-4301-8cd3-a35ab4fbce2d"
      },
      "execution_count": null,
      "outputs": [
        {
          "output_type": "execute_result",
          "data": {
            "text/plain": [
              "[1, 3, 5]"
            ]
          },
          "metadata": {},
          "execution_count": 142
        }
      ]
    },
    {
      "cell_type": "code",
      "source": [
        "# Problem 27\n",
        "def build_person(first_name, last_name,age=''):\n",
        "    person={\"First name\":first_name, \"Last_name\":last_name}\n",
        "    if age:\n",
        "        person['age'] = age\n",
        "    return person\n",
        "\n",
        "build_person('Abdul','Subhan','17')"
      ],
      "metadata": {
        "colab": {
          "base_uri": "https://localhost:8080/"
        },
        "id": "EhYE5Lk8kmaV",
        "outputId": "4d5d93d7-e281-4f25-fade-814cc00551d4"
      },
      "execution_count": null,
      "outputs": [
        {
          "output_type": "execute_result",
          "data": {
            "text/plain": [
              "{'First name': 'Abdul', 'Last_name': 'Subhan', 'age': '17'}"
            ]
          },
          "metadata": {},
          "execution_count": 143
        }
      ]
    },
    {
      "cell_type": "code",
      "source": [
        "# Problem 28\n",
        "names={\"Abdul Subhan\", \"Abdullah\", \"Abdul Rehman\", \"Umer\", \"Umair\", \"Asim\"}\n",
        "def person_name():\n",
        "    for name in names:\n",
        "        print(name)\n",
        "person_name()"
      ],
      "metadata": {
        "colab": {
          "base_uri": "https://localhost:8080/"
        },
        "id": "NBwobPXg9YyG",
        "outputId": "46189ec8-f0d8-4b1c-871c-c5c22dfac7af"
      },
      "execution_count": null,
      "outputs": [
        {
          "output_type": "stream",
          "name": "stdout",
          "text": [
            "Umer\n",
            "Abdul Rehman\n",
            "Abdul Subhan\n",
            "Abdullah\n",
            "Umair\n",
            "Asim\n"
          ]
        }
      ]
    },
    {
      "cell_type": "code",
      "source": [
        "# Problem 29\n",
        "def pizza(*toppings):\n",
        "    for top in toppings:\n",
        "        print(top)\n",
        "pizza(\"Pappareno\", \"Double Chees\", \"Extra Chicken\")"
      ],
      "metadata": {
        "colab": {
          "base_uri": "https://localhost:8080/"
        },
        "id": "VDflG2we-VX4",
        "outputId": "0b808c6d-1961-4563-fada-9ae73745a0b5"
      },
      "execution_count": null,
      "outputs": [
        {
          "output_type": "stream",
          "name": "stdout",
          "text": [
            "Pappareno\n",
            "Double Chees\n",
            "Extra Chicken\n"
          ]
        }
      ]
    },
    {
      "cell_type": "code",
      "source": [
        "# Problem 30\n",
        "def build_profile(first, last, **user_profile):\n",
        "    profile = {}\n",
        "    profile[\"First name\"] = first\n",
        "    profile[\"Last name\"] = last\n",
        "\n",
        "    for key,value in user_profile.items():\n",
        "        profile[key] = value\n",
        "\n",
        "\n",
        "    return profile\n",
        "\n",
        "build_profile(\"Abdul\", \"Subhan\", Education = \"Intermediate\", College = \"Cantt College\")"
      ],
      "metadata": {
        "colab": {
          "base_uri": "https://localhost:8080/"
        },
        "id": "kRbuY0zchzOK",
        "outputId": "1f06ed35-5738-4a36-dd6d-d92d2daddf55"
      },
      "execution_count": null,
      "outputs": [
        {
          "output_type": "execute_result",
          "data": {
            "text/plain": [
              "{'First name': 'Abdul',\n",
              " 'Last name': 'Subhan',\n",
              " 'Education': 'Intermediate',\n",
              " 'College': 'Cantt College'}"
            ]
          },
          "metadata": {},
          "execution_count": 146
        }
      ]
    },
    {
      "cell_type": "code",
      "source": [
        "# Problem 31\n",
        "def findmax(l):\n",
        "    maximum = 0\n",
        "    for i in l:\n",
        "        if i > maximum:\n",
        "            maximum = i\n",
        "    print(maximum)\n",
        "\n",
        "findmax([2,3,5,4])"
      ],
      "metadata": {
        "colab": {
          "base_uri": "https://localhost:8080/"
        },
        "id": "M0iIdM5RlNe5",
        "outputId": "8d60832b-a827-45f9-bbd5-5dc76d11d3a2"
      },
      "execution_count": null,
      "outputs": [
        {
          "output_type": "stream",
          "name": "stdout",
          "text": [
            "5\n"
          ]
        }
      ]
    },
    {
      "cell_type": "code",
      "source": [
        "# Problem 32\n",
        "def count(text):\n",
        "    a = 0\n",
        "    b = 0\n",
        "    for i in text:\n",
        "        if i.isalpha():\n",
        "            a += 1\n",
        "        if i.isdigit():\n",
        "            b += 1\n",
        "    print(\"Words =\", a)\n",
        "    print(\"digits =\", b)\n",
        "\n",
        "count(\"Subhan2110\")"
      ],
      "metadata": {
        "colab": {
          "base_uri": "https://localhost:8080/"
        },
        "id": "htyleijdl0_R",
        "outputId": "5ea9d895-c3c5-4cff-8724-165838bad293"
      },
      "execution_count": null,
      "outputs": [
        {
          "output_type": "stream",
          "name": "stdout",
          "text": [
            "Words = 6\n",
            "digits = 4\n"
          ]
        }
      ]
    },
    {
      "cell_type": "code",
      "source": [
        "# Problem 33\n",
        "def maxword(text):\n",
        "    max_wordlength = 0\n",
        "    my_word = \"\"\n",
        "    words = text.split(\" \")\n",
        "    for i in words:\n",
        "        if len(i) > max_wordlength:\n",
        "            my_word = i\n",
        "    return my_word\n",
        "\n",
        "maxword(\"I am Abdul Subhan\")"
      ],
      "metadata": {
        "colab": {
          "base_uri": "https://localhost:8080/",
          "height": 36
        },
        "id": "0pAO_wjpmWSw",
        "outputId": "eeac4cb6-273f-404b-d918-596f67ba46b9"
      },
      "execution_count": null,
      "outputs": [
        {
          "output_type": "execute_result",
          "data": {
            "text/plain": [
              "'Subhan'"
            ],
            "application/vnd.google.colaboratory.intrinsic+json": {
              "type": "string"
            }
          },
          "metadata": {},
          "execution_count": 149
        }
      ]
    },
    {
      "cell_type": "code",
      "source": [
        "# Problem 34\n",
        "def display_message():\n",
        "    print(\"I am learning this chapter about functions\")\n",
        "\n",
        "display_message()"
      ],
      "metadata": {
        "colab": {
          "base_uri": "https://localhost:8080/"
        },
        "id": "kCHbR8_jnOKS",
        "outputId": "c1f14ac8-679b-4b88-8dc4-16ae7526540a"
      },
      "execution_count": null,
      "outputs": [
        {
          "output_type": "stream",
          "name": "stdout",
          "text": [
            "I am learning this chapter about functions\n"
          ]
        }
      ]
    },
    {
      "cell_type": "code",
      "source": [
        "# Problem 35\n",
        "def favourite_book(title):\n",
        "    print(f\"My favourite book name is {title}\")\n",
        "\n",
        "favourite_book(\"The true religion Islam\")"
      ],
      "metadata": {
        "colab": {
          "base_uri": "https://localhost:8080/"
        },
        "id": "PKLJG5m7oayj",
        "outputId": "8009e25f-2086-41b5-f479-f49e2f03bf9a"
      },
      "execution_count": null,
      "outputs": [
        {
          "output_type": "stream",
          "name": "stdout",
          "text": [
            "My favourite book name is The true religion Islam\n"
          ]
        }
      ]
    },
    {
      "cell_type": "code",
      "source": [
        "# Problem 36\n",
        "def make_shirt(message, size):\n",
        "    shirt = message + \" \" + size\n",
        "    print(f\"print message in shirt and size: {shirt}\")\n",
        "\n",
        "make_shirt(\"Legend\", \"large size\")"
      ],
      "metadata": {
        "colab": {
          "base_uri": "https://localhost:8080/"
        },
        "id": "S4iBW1vBom5v",
        "outputId": "04d7c127-b274-4085-d6ff-0f540594abc1"
      },
      "execution_count": null,
      "outputs": [
        {
          "output_type": "stream",
          "name": "stdout",
          "text": [
            "print message in shirt and size: Legend large size\n"
          ]
        }
      ]
    },
    {
      "cell_type": "code",
      "source": [
        "# Problem 37\n",
        "def make_shirt():\n",
        "    message = input(\"Enter your message to print on shirt: \")\n",
        "    print(f\"print message in shirt: {message}\")\n",
        "\n",
        "make_shirt()"
      ],
      "metadata": {
        "colab": {
          "base_uri": "https://localhost:8080/"
        },
        "id": "CdV2k02PpMJD",
        "outputId": "67a01277-38dd-401f-a59c-c9bc8cd758cd"
      },
      "execution_count": null,
      "outputs": [
        {
          "output_type": "stream",
          "name": "stdout",
          "text": [
            "Enter your message to print on shirt: \n",
            "print message in shirt: \n"
          ]
        }
      ]
    },
    {
      "cell_type": "code",
      "source": [
        "# Problem 38\n",
        "def describe_city(city_name, country_name):\n",
        "    print(f\"{city_name} is in {country_name}\")\n",
        "\n",
        "describe_city(\"Karachi\", \"Pakistan\")"
      ],
      "metadata": {
        "colab": {
          "base_uri": "https://localhost:8080/"
        },
        "id": "TeRZfpCOppGf",
        "outputId": "67f444ec-6cbf-4132-ac9a-81accae799aa"
      },
      "execution_count": null,
      "outputs": [
        {
          "output_type": "stream",
          "name": "stdout",
          "text": [
            "Karachi is in Pakistan\n"
          ]
        }
      ]
    },
    {
      "cell_type": "code",
      "source": [
        "# Problem 39\n",
        "def city_country(city_name, country_name):\n",
        "    print(city_name + \",\" + country_name)\n",
        "\n",
        "city_country(\"Lahore\", \"Pakistan\")"
      ],
      "metadata": {
        "colab": {
          "base_uri": "https://localhost:8080/"
        },
        "id": "PEQdQ05pq3Xs",
        "outputId": "d4bed4df-704e-4d94-dc08-091e397ab596"
      },
      "execution_count": null,
      "outputs": [
        {
          "output_type": "stream",
          "name": "stdout",
          "text": [
            "Lahore,Pakistan\n"
          ]
        }
      ]
    },
    {
      "cell_type": "code",
      "source": [
        "# Problem 40\n",
        "# Temperature Converter\n",
        "def celsius_to_fahrenheit(celsius):\n",
        "    return celsius * (9/5) + 32\n",
        "\n",
        "print(celsius_to_fahrenheit(5))"
      ],
      "metadata": {
        "id": "o3CydUrUrCj_",
        "colab": {
          "base_uri": "https://localhost:8080/"
        },
        "outputId": "e310e3eb-d20a-4566-b86a-6471f41ca4f5"
      },
      "execution_count": null,
      "outputs": [
        {
          "output_type": "stream",
          "name": "stdout",
          "text": [
            "41.0\n"
          ]
        }
      ]
    },
    {
      "cell_type": "code",
      "source": [
        "# Problem 41\n",
        "# Word Counter\n",
        "def count_words(sentence):\n",
        "    words = sentence.split()\n",
        "    return len(words)\n",
        "\n",
        "print(count_words(\"Python is fun\"))"
      ],
      "metadata": {
        "colab": {
          "base_uri": "https://localhost:8080/"
        },
        "id": "8Zwdkrm_Nl-c",
        "outputId": "ee0c2359-dcfd-4c2d-db5b-fd05df44e14c"
      },
      "execution_count": null,
      "outputs": [
        {
          "output_type": "stream",
          "name": "stdout",
          "text": [
            "3\n"
          ]
        }
      ]
    },
    {
      "cell_type": "code",
      "source": [
        "# Problem 42\n",
        "# Maximum Finder\n",
        "def find_max(*args):\n",
        "    if not args:\n",
        "        return None\n",
        "    return max(args)\n",
        "\n",
        "print(find_max(5, 1, -10, 50))\n",
        "print(find_max())"
      ],
      "metadata": {
        "colab": {
          "base_uri": "https://localhost:8080/"
        },
        "id": "z2Gm5X-GOE28",
        "outputId": "a4265f30-4fba-46e1-838f-18bf583e1b54"
      },
      "execution_count": null,
      "outputs": [
        {
          "output_type": "stream",
          "name": "stdout",
          "text": [
            "50\n",
            "None\n"
          ]
        }
      ]
    },
    {
      "cell_type": "code",
      "source": [
        "# Problem 43\n",
        "# Check Prime\n",
        "def is_prime(number):\n",
        "    if number < 2:\n",
        "        return False\n",
        "    for i in range(2, int(number ** 0.5) + 1):\n",
        "        if number % i == 0:\n",
        "            return False\n",
        "    return True\n",
        "\n",
        "print(is_prime(10))\n",
        "print(is_prime(13))"
      ],
      "metadata": {
        "colab": {
          "base_uri": "https://localhost:8080/"
        },
        "id": "rXOek-nvOQhl",
        "outputId": "4ffb17c6-c21a-4f02-de78-5907a6e6a3dd"
      },
      "execution_count": null,
      "outputs": [
        {
          "output_type": "stream",
          "name": "stdout",
          "text": [
            "False\n",
            "True\n"
          ]
        }
      ]
    },
    {
      "cell_type": "code",
      "source": [
        "# Problem 44\n",
        "# Reverse String\n",
        "def reverse_string(text):\n",
        "    return text[::-1]\n",
        "\n",
        "print(reverse_string(\"Python\"))"
      ],
      "metadata": {
        "colab": {
          "base_uri": "https://localhost:8080/"
        },
        "id": "v-RkISZWPOR9",
        "outputId": "3485a809-57b8-4cad-bb69-6eb4d3330297"
      },
      "execution_count": null,
      "outputs": [
        {
          "output_type": "stream",
          "name": "stdout",
          "text": [
            "nohtyP\n"
          ]
        }
      ]
    },
    {
      "cell_type": "code",
      "source": [
        "# Python 45\n",
        "# Palindrome Checker\n",
        "def is_palindrome(word):\n",
        "    return word == word[::-1]\n",
        "\n",
        "print(is_palindrome(\"racecar\"))"
      ],
      "metadata": {
        "id": "KPRV12zQPmOu",
        "colab": {
          "base_uri": "https://localhost:8080/"
        },
        "outputId": "e1af2350-c2ad-4601-c3a0-42e05b3bdd59"
      },
      "execution_count": null,
      "outputs": [
        {
          "output_type": "stream",
          "name": "stdout",
          "text": [
            "True\n"
          ]
        }
      ]
    },
    {
      "cell_type": "code",
      "source": [
        "# Problem 46\n",
        "# List Average\n",
        "def list_average(numbers):\n",
        "    if not numbers:\n",
        "        return None\n",
        "    return sum(numbers) / len(numbers)\n",
        "\n",
        "print(list_average([10, 20, 30]))\n",
        "print(list_average([]))"
      ],
      "metadata": {
        "colab": {
          "base_uri": "https://localhost:8080/"
        },
        "id": "O0muNGxpn60b",
        "outputId": "d750456a-720f-4d7a-b989-9493981f0293"
      },
      "execution_count": null,
      "outputs": [
        {
          "output_type": "stream",
          "name": "stdout",
          "text": [
            "20.0\n",
            "None\n"
          ]
        }
      ]
    },
    {
      "cell_type": "code",
      "source": [
        "# Problem 47\n",
        "# Count Vowels\n",
        "def count_vowels(text):\n",
        "    vowels = \"aeiouAEIOU\"\n",
        "    return sum(1 for i in text if i in vowels)\n",
        "\n",
        "print(count_vowels(\"Hello World\"))"
      ],
      "metadata": {
        "colab": {
          "base_uri": "https://localhost:8080/"
        },
        "id": "3Yo_hAiCop0F",
        "outputId": "1bf06af8-e726-43ac-dbc2-bfc27c39558b"
      },
      "execution_count": null,
      "outputs": [
        {
          "output_type": "stream",
          "name": "stdout",
          "text": [
            "3\n"
          ]
        }
      ]
    },
    {
      "cell_type": "code",
      "source": [
        "# Problem 48\n",
        "# GCD (Greatest Common Divisor)\n",
        "def gcd(a, b):\n",
        "    while b:\n",
        "        a, b = b, a % b\n",
        "    return a\n",
        "\n",
        "print(gcd(48, 18))"
      ],
      "metadata": {
        "id": "afdRP5P-pkSh",
        "colab": {
          "base_uri": "https://localhost:8080/"
        },
        "outputId": "659d9b67-9c0e-42f4-f07f-5f81a680267d"
      },
      "execution_count": null,
      "outputs": [
        {
          "output_type": "stream",
          "name": "stdout",
          "text": [
            "6\n"
          ]
        }
      ]
    },
    {
      "cell_type": "code",
      "source": [
        "# Problem 49\n",
        "# Fibonacci Sequence\n",
        "def fibonacci(n):\n",
        "    fib_seq = []\n",
        "    a, b = 0, 1\n",
        "    for _ in range(n):\n",
        "        fib_seq.append(a)\n",
        "        a, b = b, a + b\n",
        "    return fib_seq\n",
        "\n",
        "print(fibonacci(5))"
      ],
      "metadata": {
        "colab": {
          "base_uri": "https://localhost:8080/"
        },
        "id": "XVViiP0_nDX0",
        "outputId": "eda4ef52-5d87-4890-8fc5-31d27f049552"
      },
      "execution_count": null,
      "outputs": [
        {
          "output_type": "stream",
          "name": "stdout",
          "text": [
            "[0, 1, 1, 2, 3]\n"
          ]
        }
      ]
    },
    {
      "cell_type": "code",
      "source": [
        "# Problem 50\n",
        "# Armstrong Number Checker\n",
        "def is_armstrong(number):\n",
        "    digits = [int(digit) for digit in str(number)]\n",
        "    num_digits = len(digits)\n",
        "    return sum(digit ** num_digits for digit in digits) == number\n",
        "\n",
        "print(is_armstrong(153))\n",
        "print(is_armstrong(123))"
      ],
      "metadata": {
        "colab": {
          "base_uri": "https://localhost:8080/"
        },
        "id": "uKzeFad7njuL",
        "outputId": "f33377ad-1bbe-4a5b-85f1-9a5411949fbc"
      },
      "execution_count": null,
      "outputs": [
        {
          "output_type": "stream",
          "name": "stdout",
          "text": [
            "True\n",
            "False\n"
          ]
        }
      ]
    },
    {
      "cell_type": "code",
      "source": [
        "# Problem 51\n",
        "# Find Unique Elements\n",
        "def find_unique(numbers):\n",
        "    return [i for i in numbers if numbers.count(i) == 1]\n",
        "\n",
        "print(find_unique([1, 2, 2, 3, 4, 4, 5]))"
      ],
      "metadata": {
        "colab": {
          "base_uri": "https://localhost:8080/"
        },
        "id": "Wu0rYqgToQTj",
        "outputId": "74a129de-96d2-4206-bfee-e699b93ad001"
      },
      "execution_count": null,
      "outputs": [
        {
          "output_type": "stream",
          "name": "stdout",
          "text": [
            "[1, 3, 5]\n"
          ]
        }
      ]
    },
    {
      "cell_type": "code",
      "source": [
        "# Problem 52\n",
        "# Count Occurrences\n",
        "def count_occurrences(text):\n",
        "    return {i: text.count(i) for i in list(text)}\n",
        "\n",
        "print(count_occurrences(\"hello\"))"
      ],
      "metadata": {
        "colab": {
          "base_uri": "https://localhost:8080/"
        },
        "id": "sfLOeFvppJ_8",
        "outputId": "a209bbd5-d9fc-40b1-a53d-0848bc9aab3a"
      },
      "execution_count": null,
      "outputs": [
        {
          "output_type": "stream",
          "name": "stdout",
          "text": [
            "{'h': 1, 'e': 1, 'l': 2, 'o': 1}\n"
          ]
        }
      ]
    },
    {
      "cell_type": "code",
      "source": [
        "# Problem 53\n",
        "# Factorial Using Iteration\n",
        "def iterative_factorial(n):\n",
        "    result = 1\n",
        "    for i in range(1, n + 1):\n",
        "        result *= i\n",
        "    return result\n",
        "\n",
        "print(iterative_factorial(5))"
      ],
      "metadata": {
        "colab": {
          "base_uri": "https://localhost:8080/"
        },
        "id": "YeGEJTRPqPzT",
        "outputId": "a465ab64-6e7c-49c2-b54d-a622c4218bb3"
      },
      "execution_count": null,
      "outputs": [
        {
          "output_type": "stream",
          "name": "stdout",
          "text": [
            "120\n"
          ]
        }
      ]
    },
    {
      "cell_type": "code",
      "source": [
        "# Problem 54\n",
        "# Anagram Checker\n",
        "def are_anagrams(str1, str2):\n",
        "    return sorted(str1) == sorted(str2)\n",
        "\n",
        "print(are_anagrams(\"listen\", \"silent\"))\n",
        "print(are_anagrams(\"hello\", \"world\"))"
      ],
      "metadata": {
        "colab": {
          "base_uri": "https://localhost:8080/"
        },
        "id": "VxgN_TqhqoBl",
        "outputId": "545d7b6f-fb80-40a2-ad3f-df28ec2615c9"
      },
      "execution_count": null,
      "outputs": [
        {
          "output_type": "stream",
          "name": "stdout",
          "text": [
            "True\n",
            "False\n"
          ]
        }
      ]
    },
    {
      "cell_type": "code",
      "source": [
        "# Problem 55\n",
        "# Find Second Largest Number\n",
        "def second_largest(numbers):\n",
        "    unique_numbers = list(set(numbers))\n",
        "    unique_numbers.sort()\n",
        "    return unique_numbers[-2] if len(unique_numbers) >= 2 else None\n",
        "\n",
        "print(second_largest([10, 20, 30, 40, 50]))\n",
        "print(second_largest([5, 5, 5]))"
      ],
      "metadata": {
        "colab": {
          "base_uri": "https://localhost:8080/"
        },
        "id": "_0wL5q8Cq94V",
        "outputId": "a586e7a7-72be-47da-b150-d89c2c3c0454"
      },
      "execution_count": null,
      "outputs": [
        {
          "output_type": "stream",
          "name": "stdout",
          "text": [
            "40\n",
            "None\n"
          ]
        }
      ]
    },
    {
      "cell_type": "code",
      "source": [
        "# Problem 56\n",
        "# Remove Duplicates from List\n",
        "def remove_duplicates(numbers):\n",
        "    return list(set(numbers))\n",
        "\n",
        "print(remove_duplicates([1, 2, 2, 3, 4, 4, 5]))"
      ],
      "metadata": {
        "colab": {
          "base_uri": "https://localhost:8080/"
        },
        "id": "53MmqGDCrSix",
        "outputId": "3a0ce66a-f28d-4d66-80b1-f6b22fb777ed"
      },
      "execution_count": null,
      "outputs": [
        {
          "output_type": "stream",
          "name": "stdout",
          "text": [
            "[1, 2, 3, 4, 5]\n"
          ]
        }
      ]
    },
    {
      "cell_type": "code",
      "source": [
        "# Problem 57\n",
        "# Count Words Starting with a Specific Letter\n",
        "def count_words_starting_with(sentence, letter):\n",
        "    words = sentence.split()\n",
        "    return sum(1 for i in words if i.lower().startswith(letter.lower()))\n",
        "\n",
        "print(count_words_starting_with(\"Abdul Subhan Abdullah\", \"a\"))"
      ],
      "metadata": {
        "colab": {
          "base_uri": "https://localhost:8080/"
        },
        "id": "TrZmxoP7szxh",
        "outputId": "67c3c3bb-a24c-4466-e2ae-ff2d1b614ced"
      },
      "execution_count": null,
      "outputs": [
        {
          "output_type": "stream",
          "name": "stdout",
          "text": [
            "2\n"
          ]
        }
      ]
    },
    {
      "cell_type": "code",
      "source": [
        "# Problem 58\n",
        "# Find Common Elements\n",
        "def find_common_elements(list1, list2):\n",
        "    return list(set(list1) & set(list2))\n",
        "\n",
        "print(find_common_elements([1, 2, 3, 4], [3, 4, 5, 6]))"
      ],
      "metadata": {
        "colab": {
          "base_uri": "https://localhost:8080/"
        },
        "id": "ro9Z_0antLUx",
        "outputId": "cbc53961-8e4d-43b7-ee5d-4570228954a8"
      },
      "execution_count": null,
      "outputs": [
        {
          "output_type": "stream",
          "name": "stdout",
          "text": [
            "[3, 4]\n"
          ]
        }
      ]
    },
    {
      "cell_type": "code",
      "source": [
        "# Problem 59\n",
        "# Letter Case Counter\n",
        "def case_counter(text):\n",
        "    result = {'uppercase': 0, 'lowercase': 0}\n",
        "    for i in text:\n",
        "        if i.isupper():\n",
        "            result['uppercase'] += 1\n",
        "        elif i.islower():\n",
        "            result['lowercase'] += 1\n",
        "    return result\n",
        "\n",
        "print(case_counter(\"Hello World\"))"
      ],
      "metadata": {
        "colab": {
          "base_uri": "https://localhost:8080/"
        },
        "id": "UEZDX7XZvGmN",
        "outputId": "b7f9cad8-c665-4165-9470-98e3ebdb03b4"
      },
      "execution_count": null,
      "outputs": [
        {
          "output_type": "stream",
          "name": "stdout",
          "text": [
            "{'uppercase': 2, 'lowercase': 8}\n"
          ]
        }
      ]
    },
    {
      "cell_type": "code",
      "source": [
        "# Problem 60\n",
        "# Find the Longest Word\n",
        "def longest_word(sentence):\n",
        "    return max(sentence.split())\n",
        "\n",
        "print(longest_word(\"I love programming in Python\"))"
      ],
      "metadata": {
        "colab": {
          "base_uri": "https://localhost:8080/"
        },
        "id": "Ou2XAnnYwaMQ",
        "outputId": "9f1ac77d-6fa5-452e-a327-ccdd431f29d4"
      },
      "execution_count": null,
      "outputs": [
        {
          "output_type": "stream",
          "name": "stdout",
          "text": [
            "programming\n"
          ]
        }
      ]
    },
    {
      "cell_type": "code",
      "source": [
        "# Problem 61\n",
        "# Count Even and Odd Numbers\n",
        "def count_even_odd(numbers):\n",
        "    result = {'even': 0, 'odd': 0}\n",
        "    for i in numbers:\n",
        "        if i % 2 == 0:\n",
        "            result['even'] += 1\n",
        "        else:\n",
        "            result['odd'] += 1\n",
        "    return result\n",
        "\n",
        "print(count_even_odd([1, 2, 3, 4, 5]))"
      ],
      "metadata": {
        "colab": {
          "base_uri": "https://localhost:8080/"
        },
        "id": "eyiq0OCwxiuP",
        "outputId": "601de62d-fff5-42d1-dd7b-c9be26a7ef4a"
      },
      "execution_count": null,
      "outputs": [
        {
          "output_type": "stream",
          "name": "stdout",
          "text": [
            "{'even': 2, 'odd': 3}\n"
          ]
        }
      ]
    },
    {
      "cell_type": "code",
      "source": [
        "# Problem 62\n",
        "# Find Divisors\n",
        "def find_divisors(n):\n",
        "    return [i for i in range(1, n + 1) if n % i == 0]\n",
        "\n",
        "print(find_divisors(12))"
      ],
      "metadata": {
        "colab": {
          "base_uri": "https://localhost:8080/"
        },
        "id": "qxzhARaSyG3C",
        "outputId": "f66708fa-2112-4bbe-8427-46457db3fde5"
      },
      "execution_count": null,
      "outputs": [
        {
          "output_type": "stream",
          "name": "stdout",
          "text": [
            "[1, 2, 3, 4, 6, 12]\n"
          ]
        }
      ]
    },
    {
      "cell_type": "code",
      "source": [
        "# Problem 63\n",
        "# Count Consonants\n",
        "def count_consonants(text):\n",
        "    vowels = \"aeiouAEIOU\"\n",
        "    return sum(1 for i in text if i.isalpha() and i not in vowels)\n",
        "\n",
        "print(count_consonants(\"Hello World\"))"
      ],
      "metadata": {
        "colab": {
          "base_uri": "https://localhost:8080/"
        },
        "id": "t9uKsWoYysTU",
        "outputId": "e2a687c5-23ac-4bd8-c4fe-e8d13ca0ad9b"
      },
      "execution_count": null,
      "outputs": [
        {
          "output_type": "stream",
          "name": "stdout",
          "text": [
            "7\n"
          ]
        }
      ]
    },
    {
      "cell_type": "code",
      "source": [
        "# Problem 64\n",
        "# Calculate Power Without Using **\n",
        "def power(base, exponent):\n",
        "    result = 1\n",
        "    for i in range(exponent):\n",
        "        result *= base\n",
        "    return result\n",
        "\n",
        "print(power(2, 3))"
      ],
      "metadata": {
        "colab": {
          "base_uri": "https://localhost:8080/"
        },
        "id": "pB1aH8ZnzAOQ",
        "outputId": "83f5f538-ae2d-48aa-ac3d-81298115042f"
      },
      "execution_count": null,
      "outputs": [
        {
          "output_type": "stream",
          "name": "stdout",
          "text": [
            "8\n"
          ]
        }
      ]
    },
    {
      "cell_type": "code",
      "source": [
        "# Problem 65\n",
        "# Merge Two Dictionaries\n",
        "def merge_dicts(dict1, dict2):\n",
        "    merged = dict1.copy()\n",
        "    merged.update(dict2)\n",
        "    return merged\n",
        "\n",
        "print(merge_dicts({\"a\": 1, \"b\": 2}, {\"c\": 3, \"d\": 4}))"
      ],
      "metadata": {
        "colab": {
          "base_uri": "https://localhost:8080/"
        },
        "id": "QJo7v3HozlLp",
        "outputId": "796cae05-468b-415b-946b-42cffa9e9906"
      },
      "execution_count": null,
      "outputs": [
        {
          "output_type": "stream",
          "name": "stdout",
          "text": [
            "{'a': 1, 'b': 2, 'c': 3, 'd': 4}\n"
          ]
        }
      ]
    },
    {
      "cell_type": "code",
      "source": [
        "# Problem 66\n",
        "# Find Missing Number in a List\n",
        "def find_missing_number(numbers):\n",
        "    n = len(numbers) + 1\n",
        "    expected_sum = n * (n + 1) // 2\n",
        "    actual_sum = sum(numbers)\n",
        "    return expected_sum - actual_sum\n",
        "\n",
        "print(find_missing_number([1, 2, 4, 5]))"
      ],
      "metadata": {
        "colab": {
          "base_uri": "https://localhost:8080/"
        },
        "id": "TPiAprrf0i8S",
        "outputId": "398aefe1-aa76-448d-e459-c739ec1027bc"
      },
      "execution_count": null,
      "outputs": [
        {
          "output_type": "stream",
          "name": "stdout",
          "text": [
            "3\n"
          ]
        }
      ]
    },
    {
      "cell_type": "code",
      "source": [
        "# Problem 67\n",
        "# Check if List is Sorted\n",
        "def is_sorted(numbers):\n",
        "    return numbers == sorted(numbers)\n",
        "\n",
        "print(is_sorted([1, 2, 3, 4, 5]))\n",
        "print(is_sorted([5, 3, 1]))"
      ],
      "metadata": {
        "colab": {
          "base_uri": "https://localhost:8080/"
        },
        "id": "pY_pvLKc1TN7",
        "outputId": "37068198-93d2-40df-edb0-d32d227b2f9b"
      },
      "execution_count": null,
      "outputs": [
        {
          "output_type": "stream",
          "name": "stdout",
          "text": [
            "True\n",
            "False\n"
          ]
        }
      ]
    },
    {
      "cell_type": "code",
      "source": [
        "# Problem 68\n",
        "# Calculate Compound Interest\n",
        "def compound_interest(principal, rate, time, n):\n",
        "    amount = principal * (1 + rate / n) ** (n * time)\n",
        "    return round(amount, 2)\n",
        "\n",
        "print(compound_interest(1000, 0.05, 10, 12))"
      ],
      "metadata": {
        "colab": {
          "base_uri": "https://localhost:8080/"
        },
        "id": "-2ekZHo62P_r",
        "outputId": "e8ea95de-2565-4c21-b2c2-1f3e6ef72b45"
      },
      "execution_count": null,
      "outputs": [
        {
          "output_type": "stream",
          "name": "stdout",
          "text": [
            "1647.01\n"
          ]
        }
      ]
    },
    {
      "cell_type": "code",
      "source": [
        "# Problem 69\n",
        "# Sort Words Alphabetically\n",
        "def sort_words(sentence):\n",
        "    words = sentence.split()\n",
        "    return sorted(words)\n",
        "\n",
        "print(sort_words(\"My name is Abdul Subhan\"))"
      ],
      "metadata": {
        "colab": {
          "base_uri": "https://localhost:8080/"
        },
        "id": "Yk1twJ2c3JRE",
        "outputId": "c4a99baa-7f64-4c30-bc47-76ec3d71ef97"
      },
      "execution_count": null,
      "outputs": [
        {
          "output_type": "stream",
          "name": "stdout",
          "text": [
            "['Abdul', 'My', 'Subhan', 'is', 'name']\n"
          ]
        }
      ]
    },
    {
      "cell_type": "code",
      "source": [
        "# Problem 70\n",
        "# Check if a Number is Perfect\n",
        "def is_perfect(number):\n",
        "    divisors = [i for i in range(1, number) if number % i == 0]\n",
        "    return sum(divisors) == number\n",
        "\n",
        "print(is_perfect(6))"
      ],
      "metadata": {
        "colab": {
          "base_uri": "https://localhost:8080/"
        },
        "id": "MzH2yIhy3hp4",
        "outputId": "698e7702-bbaa-4013-eb9f-cc73a31bf399"
      },
      "execution_count": null,
      "outputs": [
        {
          "output_type": "stream",
          "name": "stdout",
          "text": [
            "True\n"
          ]
        }
      ]
    },
    {
      "cell_type": "code",
      "source": [
        "# Problem 71\n",
        "# Reverse a List\n",
        "def reverse_list(numbers):\n",
        "    return numbers[::-1]\n",
        "\n",
        "print(reverse_list([1, 2, 3, 4, 5]))"
      ],
      "metadata": {
        "colab": {
          "base_uri": "https://localhost:8080/"
        },
        "id": "RB0XdEzZxdd3",
        "outputId": "57dacd22-93bc-4995-e6f6-85239c6a2c6f"
      },
      "execution_count": null,
      "outputs": [
        {
          "output_type": "stream",
          "name": "stdout",
          "text": [
            "[5, 4, 3, 2, 1]\n"
          ]
        }
      ]
    },
    {
      "cell_type": "code",
      "source": [
        "# Problem 72\n",
        "# Find the Sum of Digits\n",
        "def sum_of_digits(number):\n",
        "    return sum(int(i) for i in str(abs(number)))\n",
        "\n",
        "print(sum_of_digits(12345))"
      ],
      "metadata": {
        "colab": {
          "base_uri": "https://localhost:8080/"
        },
        "id": "IaeF6J6_yvMd",
        "outputId": "0ef03265-b3a7-4195-c05d-6dc72c178acc"
      },
      "execution_count": null,
      "outputs": [
        {
          "output_type": "stream",
          "name": "stdout",
          "text": [
            "15\n"
          ]
        }
      ]
    },
    {
      "cell_type": "code",
      "source": [
        "# Problem 73\n",
        "# Check for Prime Number\n",
        "def is_prime(number):\n",
        "    if number < 2:\n",
        "        return False\n",
        "    for i in range(2, int(number ** 0.5) + 1):\n",
        "        if number % i == 0:\n",
        "            return False\n",
        "    return True\n",
        "\n",
        "print(is_prime(7))\n",
        "print(is_prime(10))"
      ],
      "metadata": {
        "colab": {
          "base_uri": "https://localhost:8080/"
        },
        "id": "t045ahOfzIBN",
        "outputId": "bd8e55be-b529-47a3-bad7-6cd76952fc7f"
      },
      "execution_count": null,
      "outputs": [
        {
          "output_type": "stream",
          "name": "stdout",
          "text": [
            "True\n",
            "False\n"
          ]
        }
      ]
    },
    {
      "cell_type": "code",
      "source": [
        "# Problem 74\n",
        "# Find Prime Numbers in a Range\n",
        "def prime(number):\n",
        "    if number < 2:\n",
        "        return False\n",
        "    for i in range(2, int(number ** 0.5) + 1):\n",
        "        if number % i == 0:\n",
        "            return False\n",
        "    return True\n",
        "\n",
        "def prime_numbers_in_range(start, end):\n",
        "    return [i for i in range(start, end + 1) if prime(i)]\n",
        "\n",
        "print(prime_numbers_in_range(1, 20))"
      ],
      "metadata": {
        "colab": {
          "base_uri": "https://localhost:8080/"
        },
        "id": "XetXVhO56dNE",
        "outputId": "487251f4-e8c4-497a-8806-1e22644b6fa0"
      },
      "execution_count": null,
      "outputs": [
        {
          "output_type": "stream",
          "name": "stdout",
          "text": [
            "[2, 3, 5, 7, 11, 13, 17, 19]\n"
          ]
        }
      ]
    },
    {
      "cell_type": "code",
      "source": [
        "# Problem 75\n",
        "# Convert Celsius to Fahrenheit\n",
        "def celsius_to_fahrenheit(celsius):\n",
        "    return (celsius * 9/5) + 32\n",
        "\n",
        "print(celsius_to_fahrenheit(0))"
      ],
      "metadata": {
        "colab": {
          "base_uri": "https://localhost:8080/"
        },
        "id": "sUvoCBCY8Ok3",
        "outputId": "49ff5f4a-5ed8-4bb0-fe1d-dfe0bbdea0a6"
      },
      "execution_count": null,
      "outputs": [
        {
          "output_type": "stream",
          "name": "stdout",
          "text": [
            "32.0\n"
          ]
        }
      ]
    },
    {
      "cell_type": "code",
      "source": [
        "# Problem 76\n",
        "# Find the Second Smallest Number\n",
        "def second_smallest(numbers):\n",
        "    unique_numbers = sorted(set(numbers))\n",
        "    return unique_numbers[1] if len(unique_numbers) > 1 else None\n",
        "\n",
        "print(second_smallest([5, 2, 4, 3]))"
      ],
      "metadata": {
        "colab": {
          "base_uri": "https://localhost:8080/"
        },
        "id": "kEQZjaCG9dy5",
        "outputId": "e6b03c9a-d544-4c94-f6df-dce242bfe5e5"
      },
      "execution_count": null,
      "outputs": [
        {
          "output_type": "stream",
          "name": "stdout",
          "text": [
            "3\n"
          ]
        }
      ]
    },
    {
      "cell_type": "code",
      "source": [
        "# Problem 77\n",
        "# Count Duplicates in a List\n",
        "def count_duplicates(numbers):\n",
        "    return len([i for i in set(numbers) if numbers.count(i) > 1])\n",
        "\n",
        "print(count_duplicates([1, 2, 2, 3, 4, 4, 5]))"
      ],
      "metadata": {
        "colab": {
          "base_uri": "https://localhost:8080/"
        },
        "id": "122OJAxS-Cc0",
        "outputId": "6a8891db-fc15-485f-dbf7-e9c6d80e93c8"
      },
      "execution_count": null,
      "outputs": [
        {
          "output_type": "stream",
          "name": "stdout",
          "text": [
            "2\n"
          ]
        }
      ]
    },
    {
      "cell_type": "code",
      "source": [
        "# Problem 78\n",
        "# Calculate the Average of a List\n",
        "def average(numbers):\n",
        "    return sum(numbers) / len(numbers) if numbers else 0\n",
        "\n",
        "print(average([1, 2, 3, 4, 5]))"
      ],
      "metadata": {
        "colab": {
          "base_uri": "https://localhost:8080/"
        },
        "id": "_LyPhAnL_3Ng",
        "outputId": "c15b0b7b-0375-4d67-ebaf-9bef083cec8a"
      },
      "execution_count": null,
      "outputs": [
        {
          "output_type": "stream",
          "name": "stdout",
          "text": [
            "3.0\n"
          ]
        }
      ]
    },
    {
      "cell_type": "code",
      "source": [
        "# Problem 79\n",
        "# Check if a Year is a Leap Year\n",
        "def is_leap_year(year):\n",
        "    return year % 4 == 0 and (year % 100 != 0 or year % 400 == 0)\n",
        "\n",
        "print(is_leap_year(2020))"
      ],
      "metadata": {
        "colab": {
          "base_uri": "https://localhost:8080/"
        },
        "id": "zWylUlixALWQ",
        "outputId": "cf777c1e-f9a5-44ab-f1a1-50833e5f90ef"
      },
      "execution_count": null,
      "outputs": [
        {
          "output_type": "stream",
          "name": "stdout",
          "text": [
            "True\n"
          ]
        }
      ]
    },
    {
      "cell_type": "code",
      "source": [
        "# Problem 80\n",
        "# Calculate the Length of the Longest Word\n",
        "def length_of_longest_word(sentence):\n",
        "    return max(len(i) for i in sentence.split())\n",
        "\n",
        "print(length_of_longest_word(\"I love programming\"))"
      ],
      "metadata": {
        "colab": {
          "base_uri": "https://localhost:8080/"
        },
        "id": "YNPhEboKAe0N",
        "outputId": "508df7d0-5b2b-4b1a-8b82-5c224be85b44"
      },
      "execution_count": null,
      "outputs": [
        {
          "output_type": "stream",
          "name": "stdout",
          "text": [
            "11\n"
          ]
        }
      ]
    },
    {
      "cell_type": "code",
      "source": [
        "#Problem 81\n",
        "# Convert Decimal to Binary\n",
        "def decimal_to_binary(number):\n",
        "    return bin(number)[2:]\n",
        "\n",
        "print(decimal_to_binary(10))"
      ],
      "metadata": {
        "colab": {
          "base_uri": "https://localhost:8080/"
        },
        "id": "RB65ex32BTzn",
        "outputId": "fd5056b2-eabb-4548-cfd2-75dff9b83c47"
      },
      "execution_count": null,
      "outputs": [
        {
          "output_type": "stream",
          "name": "stdout",
          "text": [
            "1010\n"
          ]
        }
      ]
    },
    {
      "cell_type": "code",
      "source": [
        "# Problem 82\n",
        "# Check if a Number is a Perfect Square\n",
        "def is_perfect_square(number):\n",
        "    root = int(number ** 0.5)\n",
        "    return root * root == number\n",
        "\n",
        "print(is_perfect_square(16))"
      ],
      "metadata": {
        "colab": {
          "base_uri": "https://localhost:8080/"
        },
        "id": "noYBaB2ABjKj",
        "outputId": "f499510b-fe25-4d36-ff0c-f80b062ea890"
      },
      "execution_count": null,
      "outputs": [
        {
          "output_type": "stream",
          "name": "stdout",
          "text": [
            "True\n"
          ]
        }
      ]
    },
    {
      "cell_type": "code",
      "source": [
        "# Problem 83\n",
        "# Check if a List is Palindromic\n",
        "def is_list_palindrome(numbers):\n",
        "    return numbers == numbers[::-1]\n",
        "\n",
        "print(is_list_palindrome([1, 2, 3, 2, 1]))"
      ],
      "metadata": {
        "colab": {
          "base_uri": "https://localhost:8080/"
        },
        "id": "5j98VWP-B3eI",
        "outputId": "1d47d9fd-9913-4c41-b470-a74186897fc6"
      },
      "execution_count": null,
      "outputs": [
        {
          "output_type": "stream",
          "name": "stdout",
          "text": [
            "True\n"
          ]
        }
      ]
    },
    {
      "cell_type": "code",
      "source": [
        "# Problem 84\n",
        "# Generate a List of Even Numbers\n",
        "def generate_even_numbers(n):\n",
        "    return [i for i in range(2, n + 1) if i % 2 == 0]\n",
        "\n",
        "print(generate_even_numbers(10))"
      ],
      "metadata": {
        "colab": {
          "base_uri": "https://localhost:8080/"
        },
        "id": "XoBO-bcECH3y",
        "outputId": "c7d4ad0b-8570-4eda-c778-d87c03d384ff"
      },
      "execution_count": null,
      "outputs": [
        {
          "output_type": "stream",
          "name": "stdout",
          "text": [
            "[2, 4, 6, 8, 10]\n"
          ]
        }
      ]
    },
    {
      "cell_type": "code",
      "source": [
        "# Problem 85\n",
        "# Reverse Each Word in a Sentence\n",
        "def reverse_words(sentence):\n",
        "    return \" \".join(i[::-1] for i in sentence.split())\n",
        "\n",
        "print(reverse_words(\"Hello World\"))"
      ],
      "metadata": {
        "colab": {
          "base_uri": "https://localhost:8080/"
        },
        "id": "-PvFjA65CWR6",
        "outputId": "db6059b5-6f9d-4d8f-9287-04ef3f44a765"
      },
      "execution_count": null,
      "outputs": [
        {
          "output_type": "stream",
          "name": "stdout",
          "text": [
            "olleH dlroW\n"
          ]
        }
      ]
    },
    {
      "cell_type": "code",
      "source": [
        "# Problem 86\n",
        "# Find Common Characters in Strings\n",
        "def common_characters(str1, str2):\n",
        "    return list(set(str1) & set(str2))\n",
        "\n",
        "print(common_characters(\"hello\", \"world\"))"
      ],
      "metadata": {
        "id": "usKC5EY9CpUV",
        "colab": {
          "base_uri": "https://localhost:8080/"
        },
        "outputId": "0060c035-26fc-462f-d661-1487e2cc187f"
      },
      "execution_count": null,
      "outputs": [
        {
          "output_type": "stream",
          "name": "stdout",
          "text": [
            "['o', 'l']\n"
          ]
        }
      ]
    },
    {
      "cell_type": "code",
      "source": [
        "# Problem 87\n",
        "# Find the Maximum Difference Between List Elements\n",
        "def max_difference(numbers):\n",
        "    return max(numbers) - min(numbers) if numbers else 0\n",
        "\n",
        "print(max_difference([1, 2, 3, 10, 4]))"
      ],
      "metadata": {
        "colab": {
          "base_uri": "https://localhost:8080/"
        },
        "id": "7D2BHoQZXm6m",
        "outputId": "a04aae63-c7a8-49dd-c92c-77e7d850ab1b"
      },
      "execution_count": null,
      "outputs": [
        {
          "output_type": "stream",
          "name": "stdout",
          "text": [
            "9\n"
          ]
        }
      ]
    },
    {
      "cell_type": "code",
      "source": [
        "# Problem 88\n",
        "# Count the Number of Words in a Sentence\n",
        "def word_count(sentence):\n",
        "    return len(sentence.split())\n",
        "\n",
        "print(word_count(\"Hello! Welcome to Python.\"))"
      ],
      "metadata": {
        "colab": {
          "base_uri": "https://localhost:8080/"
        },
        "id": "gu41VHTsYckv",
        "outputId": "33d4b5b5-97c7-4315-e1d9-5bb1d0a2aa72"
      },
      "execution_count": null,
      "outputs": [
        {
          "output_type": "stream",
          "name": "stdout",
          "text": [
            "4\n"
          ]
        }
      ]
    },
    {
      "cell_type": "code",
      "source": [
        "# Problem 89\n",
        "# Flatten a Nested List\n",
        "def flatten_list(nested_list):\n",
        "    flat_list = []\n",
        "    for i in nested_list:\n",
        "        if isinstance(i, list):\n",
        "            flat_list.extend(flatten_list(i))\n",
        "        else:\n",
        "            flat_list.append(i)\n",
        "    return flat_list\n",
        "\n",
        "print(flatten_list([1, [2, 3], [4, [5, 6]]]))"
      ],
      "metadata": {
        "colab": {
          "base_uri": "https://localhost:8080/"
        },
        "id": "J-52q8VjYuwg",
        "outputId": "f7509635-ece0-4149-84fd-3c27073467d7"
      },
      "execution_count": null,
      "outputs": [
        {
          "output_type": "stream",
          "name": "stdout",
          "text": [
            "[1, 2, 3, 4, 5, 6]\n"
          ]
        }
      ]
    },
    {
      "cell_type": "code",
      "source": [
        "# Problem 90\n",
        "# Check if a String is a Substring\n",
        "def is_substring(sub, main_string):\n",
        "    return sub in main_string\n",
        "\n",
        "print(is_substring(\"Python\", \"I Love Programming in Python\"))"
      ],
      "metadata": {
        "colab": {
          "base_uri": "https://localhost:8080/"
        },
        "id": "1AVLx0bBZOKg",
        "outputId": "8ab4c9c0-b4ad-4fc5-87de-dc4120578708"
      },
      "execution_count": null,
      "outputs": [
        {
          "output_type": "stream",
          "name": "stdout",
          "text": [
            "True\n"
          ]
        }
      ]
    },
    {
      "cell_type": "code",
      "source": [
        "# Problem 91\n",
        "# Calculate the Product of All List Elements\n",
        "def product_of_list(numbers):\n",
        "    product = 1\n",
        "    for num in numbers:\n",
        "        product *= num\n",
        "    return product\n",
        "\n",
        "print(product_of_list([1, 2, 3, 4, 5]))"
      ],
      "metadata": {
        "colab": {
          "base_uri": "https://localhost:8080/"
        },
        "id": "qU2wV8OCZeEt",
        "outputId": "27e7830f-964f-4c63-f7ed-0012c30b6f3c"
      },
      "execution_count": null,
      "outputs": [
        {
          "output_type": "stream",
          "name": "stdout",
          "text": [
            "120\n"
          ]
        }
      ]
    },
    {
      "cell_type": "code",
      "source": [
        "# Problem 92\n",
        "# Check for Balanced Parentheses\n",
        "def is_balanced(string):\n",
        "    stack = []\n",
        "    for i in string:\n",
        "        if i == '(':\n",
        "            stack.append(i)\n",
        "        elif i == ')':\n",
        "            if not stack:\n",
        "                return False\n",
        "            stack.pop()\n",
        "    return len(stack) == 0\n",
        "\n",
        "print(is_balanced(\"(())\"))\n",
        "print(is_balanced(\"(()\"))"
      ],
      "metadata": {
        "colab": {
          "base_uri": "https://localhost:8080/"
        },
        "id": "Jyo_3e0BaJBP",
        "outputId": "2cf89a99-dfca-4939-b6d4-f2a8445e4501"
      },
      "execution_count": null,
      "outputs": [
        {
          "output_type": "stream",
          "name": "stdout",
          "text": [
            "True\n",
            "False\n"
          ]
        }
      ]
    },
    {
      "cell_type": "code",
      "source": [
        "# Problrm 93\n",
        "# Count Specific Character Occurrences\n",
        "def count_character(text, char):\n",
        "    return text.count(char)\n",
        "\n",
        "print(count_character(\"Hello World\", \"l\"))"
      ],
      "metadata": {
        "colab": {
          "base_uri": "https://localhost:8080/"
        },
        "id": "3LVKNQwAbuBD",
        "outputId": "a7554aad-8166-4671-c9ce-9bdd3a357149"
      },
      "execution_count": null,
      "outputs": [
        {
          "output_type": "stream",
          "name": "stdout",
          "text": [
            "3\n"
          ]
        }
      ]
    },
    {
      "cell_type": "code",
      "source": [
        "# Problem 94\n",
        "# Check if a String Contains Only Alphabets\n",
        "def is_alpha_only(text):\n",
        "    return text.isalpha()\n",
        "\n",
        "print(is_alpha_only(\"Hello\"))\n",
        "print(is_alpha_only(\"Hello1\"))"
      ],
      "metadata": {
        "colab": {
          "base_uri": "https://localhost:8080/"
        },
        "id": "VUV_OesVb_X9",
        "outputId": "3d7999e1-c29f-4214-8b7c-132d6142927d"
      },
      "execution_count": null,
      "outputs": [
        {
          "output_type": "stream",
          "name": "stdout",
          "text": [
            "True\n",
            "False\n"
          ]
        }
      ]
    },
    {
      "cell_type": "code",
      "source": [
        "# Problem 95\n",
        "# Merge Two Dictionaries\n",
        "def merge_dicts(dict1, dict2):\n",
        "    return {**dict1, **dict2}\n",
        "\n",
        "print(merge_dicts({\"a\": 1}, {\"b\": 2}))"
      ],
      "metadata": {
        "colab": {
          "base_uri": "https://localhost:8080/"
        },
        "id": "jUYtYOCGdjj7",
        "outputId": "7074f22a-49e0-4271-9c5a-2c57898a2149"
      },
      "execution_count": null,
      "outputs": [
        {
          "output_type": "stream",
          "name": "stdout",
          "text": [
            "{'a': 1, 'b': 2}\n"
          ]
        }
      ]
    },
    {
      "cell_type": "code",
      "source": [
        "# Problem 96\n",
        "# Find the Fibonacci Sequence up to n Terms\n",
        "def fibonacci_sequence(n):\n",
        "    sequence = [0, 1]\n",
        "    for i in range(2, n):\n",
        "        sequence.append(sequence[-1] + sequence[-2])\n",
        "    return sequence[:n]\n",
        "\n",
        "print(fibonacci_sequence(5))"
      ],
      "metadata": {
        "colab": {
          "base_uri": "https://localhost:8080/"
        },
        "id": "cYcgcJlgdvO4",
        "outputId": "a840ac94-b5f5-4e36-af59-f028f3e93849"
      },
      "execution_count": null,
      "outputs": [
        {
          "output_type": "stream",
          "name": "stdout",
          "text": [
            "[0, 1, 1, 2, 3]\n"
          ]
        }
      ]
    },
    {
      "cell_type": "code",
      "source": [
        "# Problem 97\n",
        "# Count Words Starting with a Vowel\n",
        "def count_vowel_words(sentence):\n",
        "    vowels = \"aeiouAEIOU\"\n",
        "    words = sentence.split()\n",
        "    return sum(1 for word in words if word[0] in vowels)\n",
        "\n",
        "print(count_vowel_words(\"Apple and orange are fruits\"))"
      ],
      "metadata": {
        "colab": {
          "base_uri": "https://localhost:8080/"
        },
        "id": "oqiKOMBjep31",
        "outputId": "ff37fd5b-e4a2-475d-aa67-f0734a180c26"
      },
      "execution_count": null,
      "outputs": [
        {
          "output_type": "stream",
          "name": "stdout",
          "text": [
            "4\n"
          ]
        }
      ]
    },
    {
      "cell_type": "code",
      "source": [
        "# Problem 98\n",
        "# Convert a List of Tuples into a Dictionary\n",
        "def list_to_dict(pairs):\n",
        "    return dict(pairs)\n",
        "\n",
        "print(list_to_dict([(\"a\", 1), (\"b\", 2), (\"c\", 3)]))"
      ],
      "metadata": {
        "colab": {
          "base_uri": "https://localhost:8080/"
        },
        "id": "cGU1DFJde-kz",
        "outputId": "2282a38a-60e6-44ae-a47a-fce5b71ebf50"
      },
      "execution_count": null,
      "outputs": [
        {
          "output_type": "stream",
          "name": "stdout",
          "text": [
            "{'a': 1, 'b': 2, 'c': 3}\n"
          ]
        }
      ]
    },
    {
      "cell_type": "code",
      "source": [
        "# Problem 99\n",
        "# Find All Divisors of a Number\n",
        "def find_divisors(n):\n",
        "    return [i for i in range(1, n + 1) if n % i == 0]\n",
        "\n",
        "print(find_divisors(10))"
      ],
      "metadata": {
        "colab": {
          "base_uri": "https://localhost:8080/"
        },
        "id": "YmkACk38fdu5",
        "outputId": "a0b69018-40e5-45f4-eeb3-2b1b76833801"
      },
      "execution_count": null,
      "outputs": [
        {
          "output_type": "stream",
          "name": "stdout",
          "text": [
            "[1, 2, 5, 10]\n"
          ]
        }
      ]
    },
    {
      "cell_type": "code",
      "source": [
        "# Problem 100\n",
        "# Check if Two Strings are Anagrams\n",
        "def are_anagrams(str1, str2):\n",
        "    return sorted(str1) == sorted(str2)\n",
        "\n",
        "print(are_anagrams(\"listen\", \"silent\"))\n",
        "print(are_anagrams(\"hello\", \"world\"))"
      ],
      "metadata": {
        "colab": {
          "base_uri": "https://localhost:8080/"
        },
        "id": "_5TgEK_2frLH",
        "outputId": "464fad12-edd6-4e0b-c695-7f15599c4b89"
      },
      "execution_count": null,
      "outputs": [
        {
          "output_type": "stream",
          "name": "stdout",
          "text": [
            "True\n",
            "False\n"
          ]
        }
      ]
    }
  ]
}