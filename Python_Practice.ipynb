{
  "nbformat": 4,
  "nbformat_minor": 0,
  "metadata": {
    "colab": {
      "provenance": []
    },
    "kernelspec": {
      "name": "python3",
      "display_name": "Python 3"
    },
    "language_info": {
      "name": "python"
    }
  },
  "cells": [
    {
      "cell_type": "code",
      "source": [
        "name = input(\"Enter The Name: \")\n",
        "subject_1 = float(input(\"Enter The Subject 1 Marks: \"))\n",
        "subject_2 = float(input(\"Enter The Subject 2 Marks: \"))\n",
        "subject_3 = float(input(\"Enter The Subject 3 Marks: \"))\n",
        "subject_4 = float(input(\"Enter The Subject 4 Marks: \"))\n",
        "subject_5 = float(input(\"Enter The Subject 5 Marks: \"))\n",
        "\n",
        "marks = [subject_1, subject_2, subject_3, subject_4, subject_5]\n",
        "grade = sum(marks) / len(marks)\n",
        "\n",
        "if grade >= 80:\n",
        "   performance = \"Very Exellent\"\n",
        "\n",
        "elif grade >= 70 and grade <= 79:\n",
        "     performance = \"Exellent\"\n",
        "\n",
        "elif grade >= 60 and grade <= 69:\n",
        "     performance = \"Very Good\"\n",
        "\n",
        "elif grade >= 50 and grade <= 59:\n",
        "     performance = \"Good\"\n",
        "\n",
        "elif grade >= 40 and grade <= 49:\n",
        "     performance = \"Average\"\n",
        "\n",
        "else:\n",
        "     performance = \"Fail\"\n",
        "\n",
        "print(f'''\n",
        "\n",
        "Students Report Card\n",
        "\n",
        "Student Name: {name}\n",
        "Student Subjects Marks: {marks}\n",
        "Student Grade: {grade}\n",
        "Student Performance: {performance}''')"
      ],
      "metadata": {
        "id": "s_QUFtVlLdca",
        "colab": {
          "base_uri": "https://localhost:8080/"
        },
        "outputId": "7a1ed298-1bca-44d2-f89c-4a770e278096"
      },
      "execution_count": 162,
      "outputs": [
        {
          "output_type": "stream",
          "name": "stdout",
          "text": [
            "Enter The Name: Abdul Subhan\n",
            "Enter The Subject 1 Marks: 74\n",
            "Enter The Subject 2 Marks: 78\n",
            "Enter The Subject 3 Marks: 95\n",
            "Enter The Subject 4 Marks: 76\n",
            "Enter The Subject 5 Marks: 80\n",
            "\n",
            "\n",
            "Students Report Card\n",
            "\n",
            "Student Name: Abdul Subhan\n",
            "Student Subjects Marks: [74.0, 78.0, 95.0, 76.0, 80.0]\n",
            "Student Grade: 80.6\n",
            "Student Performance: Very Exellent\n"
          ]
        }
      ]
    },
    {
      "cell_type": "code",
      "source": [
        "name = input(\"Enter the name: \")\n",
        "\n",
        "item_1 = input(\"Enter the item 1: \")\n",
        "item_1_price = int(input(\"Enter the item 1 price: \"))\n",
        "\n",
        "item_2 = input(\"Enter the item 2: \")\n",
        "item_2_price = int(input(\"Enter the item 2 price: \"))\n",
        "\n",
        "item_3 = input(\"Enter the item 3: \")\n",
        "item_3_price = int(input(\"Enter the item 3 price: \"))\n",
        "\n",
        "item_names = [item_1, item_2, item_3]\n",
        "item_prices = [item_1_price, item_2_price, item_3_price]\n",
        "\n",
        "total_price = sum(item_prices)\n",
        "\n",
        "if total_price > 10000:\n",
        "   discount_amount = total_price * 10 / 100\n",
        "   final_price = total_price - discount_amount\n",
        "   discount = f\" {discount_amount}\"\n",
        "\n",
        "else:\n",
        "     final_price = total_price\n",
        "     discount = \"No discount.\"\n",
        "\n",
        "print(f'''\n",
        "\n",
        "Shopping Bill\n",
        "\n",
        "Customer Name: {name}\n",
        "Items: {item_names}\n",
        "Prices: {item_prices}\n",
        "Total Price: {total_price}\n",
        "10% Discount: {discount}\n",
        "Final Price: {final_price}''')"
      ],
      "metadata": {
        "id": "fqCBYX6rnUf2",
        "colab": {
          "base_uri": "https://localhost:8080/"
        },
        "outputId": "14458770-6ddd-4e29-b8f6-3b938b073dc9"
      },
      "execution_count": 165,
      "outputs": [
        {
          "output_type": "stream",
          "name": "stdout",
          "text": [
            "Enter the name: Abdul Subhan\n",
            "Enter the item 1: T.V.\n",
            "Enter the item 1 price: 17000\n",
            "Enter the item 2: Remote\n",
            "Enter the item 2 price: 1000\n",
            "Enter the item 3: Cable Wire\n",
            "Enter the item 3 price: 2000\n",
            "\n",
            "\n",
            "Shopping Bill\n",
            "\n",
            "Customer Name: Abdul Subhan\n",
            "Items: ['T.V.', 'Remote', 'Cable Wire']\n",
            "Prices: [17000, 1000, 2000]\n",
            "Total Price: 20000\n",
            "10% Discount:  2000.0\n",
            "Final Price: 18000.0\n"
          ]
        }
      ]
    },
    {
      "cell_type": "code",
      "source": [
        "name = input(\"Enter the student name: \")\n",
        "age = int(input(\"Enter the student age: \"))\n",
        "\n",
        "math_numbers = float(input(\"Enter the student maths numbers: \"))\n",
        "science_numbers = float(input(\"Enter the student science numbers: \"))\n",
        "english_numbers = float(input(\"Enter the student english numbers: \"))\n",
        "\n",
        "numbers = [math_numbers, science_numbers, english_numbers]\n",
        "\n",
        "student_info = {\"name\": name, \"age\": age, \"numbers\": numbers}\n",
        "\n",
        "total_numbers = 0\n",
        "for i in numbers:\n",
        "    total_numbers += i\n",
        "\n",
        "percentage = total_numbers / len(numbers)\n",
        "\n",
        "student_info[\"percentage\"] = percentage\n",
        "\n",
        "if percentage >= 80:\n",
        "   grade = \"A+\"\n",
        "elif 70 <= percentage <= 79:\n",
        "     grade = \"A\"\n",
        "elif 60 <= percentage <= 69:\n",
        "     grade = \"B\"\n",
        "elif 50 <= percentage <= 59:\n",
        "     grade = \"C\"\n",
        "elif 40 <= percentage <= 49:\n",
        "     grade = \"D\"\n",
        "else:\n",
        "     grade = \"Fail\"\n",
        "\n",
        "print(f'''\n",
        "Student Performance Report:\n",
        "\n",
        "Name: {student_info[\"name\"]}\n",
        "Age: {student_info[\"age\"]}\n",
        "Scores: Math: {math_numbers}, Science: {science_numbers}, English: {english_numbers}\n",
        "Percentage: {percentage:.1f}\n",
        "Grade: {grade}''')"
      ],
      "metadata": {
        "id": "lIcw9LF64c-H",
        "colab": {
          "base_uri": "https://localhost:8080/"
        },
        "outputId": "8db3f116-debf-47a0-a804-ca1af74c7fe5"
      },
      "execution_count": 166,
      "outputs": [
        {
          "output_type": "stream",
          "name": "stdout",
          "text": [
            "Enter the student name: Abdul Subhan\n",
            "Enter the student age: 17\n",
            "Enter the student maths numbers: 76\n",
            "Enter the student science numbers: 95\n",
            "Enter the student english numbers: 80\n",
            "\n",
            "Student Performance Report:\n",
            "\n",
            "Name: Abdul Subhan\n",
            "Age: 17\n",
            "Scores: Math: 76.0, Science: 95.0, English: 80.0\n",
            "Percentage: 83.7\n",
            "Grade: A+\n"
          ]
        }
      ]
    },
    {
      "cell_type": "code",
      "source": [
        "name = input(\"Enter your name: \").strip().title()\n",
        "age = int(input(\"Enter your age: \"))\n",
        "nationality = input(\"Enter your nationality: \").strip().title()\n",
        "skills = input(\"Enter at least 3 skills: \").strip().split()\n",
        "\n",
        "if len(skills) < 3:\n",
        "   print(\"You must enter at least 3 skills.\")\n",
        "else:\n",
        "     print(f'''\n",
        "    Personal Information:\n",
        "\n",
        "    Name: {name}\n",
        "    Age: {age}\n",
        "    Nationality: {nationality}\n",
        "    Skills: {', '.join([skill.strip().title() for skill in skills])}\n",
        "    ''')\n",
        "\n",
        "if age >= 18:\n",
        "   print(\"You are eligible to apply for the job.\")\n",
        "else:\n",
        "     print(\"You are not eligible to apply for the job.\")"
      ],
      "metadata": {
        "id": "XYAS2qR61fE1",
        "colab": {
          "base_uri": "https://localhost:8080/"
        },
        "outputId": "cb4b213e-97e0-4437-a529-5e08afd7ef5e"
      },
      "execution_count": 167,
      "outputs": [
        {
          "output_type": "stream",
          "name": "stdout",
          "text": [
            "Enter your name: Abdul Subhan\n",
            "Enter your age: 17\n",
            "Enter your nationality: Pakistani\n",
            "Enter at least 3 skills: HTML CSS Python\n",
            "\n",
            "    Personal Information:\n",
            "\n",
            "    Name: Abdul Subhan\n",
            "    Age: 17\n",
            "    Nationality: Pakistani\n",
            "    Skills: Html, Css, Python\n",
            "    \n",
            "You are not eligible to apply for the job.\n"
          ]
        }
      ]
    },
    {
      "cell_type": "code",
      "source": [
        "import random\n",
        "jackpot = random.randint(1, 100)\n",
        "\n",
        "guess = int(input(\"Enter the number between 1 to 100: \"))\n",
        "counter = 1\n",
        "\n",
        "while guess != jackpot:\n",
        "      if guess < jackpot:\n",
        "         print(\"Guess higher number\")\n",
        "      else:\n",
        "           print(\"Guess lower number\")\n",
        "\n",
        "      guess = int(input(\"Enter the number between 1 to 100: \"))\n",
        "      counter += 1\n",
        "\n",
        "print(\"Correct answer\")\n",
        "print(\"You took\",counter,\"attempts\")"
      ],
      "metadata": {
        "id": "HV-2LxNFQci3",
        "colab": {
          "base_uri": "https://localhost:8080/"
        },
        "outputId": "18d8678c-6b69-4770-b3a8-8317e4a08f99"
      },
      "execution_count": 173,
      "outputs": [
        {
          "output_type": "stream",
          "name": "stdout",
          "text": [
            "Enter the number between 1 to 100: 50\n",
            "Guess lower number\n",
            "Enter the number between 1 to 100: 10\n",
            "Guess higher number\n",
            "Enter the number between 1 to 100: 40\n",
            "Guess lower number\n",
            "Enter the number between 1 to 100: 20\n",
            "Guess higher number\n",
            "Enter the number between 1 to 100: 30\n",
            "Guess lower number\n",
            "Enter the number between 1 to 100: 25\n",
            "Guess higher number\n",
            "Enter the number between 1 to 100: 28\n",
            "Guess higher number\n",
            "Enter the number between 1 to 100: 29\n",
            "Correct answer\n",
            "You took 8 attempts\n"
          ]
        }
      ]
    },
    {
      "cell_type": "code",
      "source": [
        "# Problem 1\n",
        "def square(number):\n",
        "  return number ** 2\n",
        "\n",
        "print(square(5))"
      ],
      "metadata": {
        "colab": {
          "base_uri": "https://localhost:8080/"
        },
        "id": "ZvOKkwdX4uUs",
        "outputId": "306b8e72-2f00-41fa-fb11-8d3c7d7057f8"
      },
      "execution_count": 174,
      "outputs": [
        {
          "output_type": "stream",
          "name": "stdout",
          "text": [
            "25\n"
          ]
        }
      ]
    },
    {
      "cell_type": "code",
      "source": [
        "# Problem 2\n",
        "def add(a, b):\n",
        "  return a + b\n",
        "\n",
        "print(add(5, 5))"
      ],
      "metadata": {
        "colab": {
          "base_uri": "https://localhost:8080/"
        },
        "id": "MKOtTRM98cHt",
        "outputId": "f917e951-f772-4cac-be54-bade9f004d94"
      },
      "execution_count": 175,
      "outputs": [
        {
          "output_type": "stream",
          "name": "stdout",
          "text": [
            "10\n"
          ]
        }
      ]
    },
    {
      "cell_type": "code",
      "source": [
        "# Problem 3\n",
        "def multiply(a, b):\n",
        "  return a * b\n",
        "\n",
        "print(multiply(5, 5))"
      ],
      "metadata": {
        "colab": {
          "base_uri": "https://localhost:8080/"
        },
        "id": "h3Ckw6Lr-f63",
        "outputId": "cf1341bb-ae5d-4752-b2a7-51f1ab51b589"
      },
      "execution_count": 176,
      "outputs": [
        {
          "output_type": "stream",
          "name": "stdout",
          "text": [
            "25\n"
          ]
        }
      ]
    },
    {
      "cell_type": "code",
      "source": [
        "# Problem 4\n",
        "def circle_status(radius):\n",
        "  area = 3.14 * radius ** 2\n",
        "  circumference = 2 * 3.14 * radius\n",
        "  return area, circumference\n",
        "\n",
        "result_1, result_2 = circle_status(5)\n",
        "print(\"Area:\", result_1)\n",
        "print(\"Circumference:\", result_2)"
      ],
      "metadata": {
        "colab": {
          "base_uri": "https://localhost:8080/"
        },
        "id": "JC8KpDzNAUNj",
        "outputId": "f7ee8783-0916-4a97-dece-2f1eb1c5878a"
      },
      "execution_count": 177,
      "outputs": [
        {
          "output_type": "stream",
          "name": "stdout",
          "text": [
            "Area: 78.5\n",
            "Circumference: 31.400000000000002\n"
          ]
        }
      ]
    },
    {
      "cell_type": "code",
      "source": [
        "# Problem 5\n",
        "def greet(name = \"User\"):\n",
        "  return \"Hello \" + name + \"!\"\n",
        "\n",
        "print(greet())\n",
        "print(greet(\"Abdul Subhan\"))"
      ],
      "metadata": {
        "colab": {
          "base_uri": "https://localhost:8080/"
        },
        "id": "T-FWH6EQDjbi",
        "outputId": "f18b4a3a-f517-4d6c-e86d-717b764d57e0"
      },
      "execution_count": 178,
      "outputs": [
        {
          "output_type": "stream",
          "name": "stdout",
          "text": [
            "Hello User!\n",
            "Hello Abdul Subhan!\n"
          ]
        }
      ]
    },
    {
      "cell_type": "code",
      "source": [
        "# Problem 6\n",
        "def cube(number):\n",
        "  return number ** 3\n",
        "\n",
        "print(cube(5))"
      ],
      "metadata": {
        "colab": {
          "base_uri": "https://localhost:8080/"
        },
        "id": "AQAdSeTlGcU6",
        "outputId": "dd580aae-6281-4f0e-8c0f-54edf9003eb6"
      },
      "execution_count": 179,
      "outputs": [
        {
          "output_type": "stream",
          "name": "stdout",
          "text": [
            "125\n"
          ]
        }
      ]
    },
    {
      "cell_type": "code",
      "source": [
        "# Problem 7\n",
        "def sum_all(*args):\n",
        "  return sum(args)\n",
        "\n",
        "print(sum_all(1, 2, 3, 4, 5))"
      ],
      "metadata": {
        "colab": {
          "base_uri": "https://localhost:8080/"
        },
        "id": "FCAMt2ueXgkB",
        "outputId": "9a59c94d-2921-4d50-eded-0bae47053313"
      },
      "execution_count": 180,
      "outputs": [
        {
          "output_type": "stream",
          "name": "stdout",
          "text": [
            "15\n"
          ]
        }
      ]
    },
    {
      "cell_type": "code",
      "source": [
        "# Problem 8\n",
        "def print_kwargs(**kwargs):\n",
        "  for key, value in kwargs.items():\n",
        "    print(f\"{key}: {value}\")\n",
        "\n",
        "print_kwargs(Name = \"Abdul Subhan\", Age = 17, Gender = \"Male\")"
      ],
      "metadata": {
        "id": "3wZRqdtdZ9jH",
        "colab": {
          "base_uri": "https://localhost:8080/"
        },
        "outputId": "45f79929-1155-4209-b43e-20de1a742ed7"
      },
      "execution_count": 181,
      "outputs": [
        {
          "output_type": "stream",
          "name": "stdout",
          "text": [
            "Name: Abdul Subhan\n",
            "Age: 17\n",
            "Gender: Male\n"
          ]
        }
      ]
    },
    {
      "cell_type": "code",
      "source": [
        "# Problem 9\n",
        "def even_generator(limit):\n",
        "  for i in range(2, limit +1, 2):\n",
        "    yield i\n",
        "\n",
        "for num in even_generator(10):\n",
        "  print(num)"
      ],
      "metadata": {
        "colab": {
          "base_uri": "https://localhost:8080/"
        },
        "id": "6KrZUaFlFRLI",
        "outputId": "10751b84-99c4-4931-f56f-de37bbffa744"
      },
      "execution_count": 182,
      "outputs": [
        {
          "output_type": "stream",
          "name": "stdout",
          "text": [
            "2\n",
            "4\n",
            "6\n",
            "8\n",
            "10\n"
          ]
        }
      ]
    },
    {
      "cell_type": "code",
      "source": [
        "# Problem 10\n",
        "def factorial(number):\n",
        "  if number == 0:\n",
        "    return 1\n",
        "  else:\n",
        "    return number * factorial(number - 1)\n",
        "\n",
        "print(factorial(5))"
      ],
      "metadata": {
        "colab": {
          "base_uri": "https://localhost:8080/"
        },
        "id": "yfjwNcMPRdQy",
        "outputId": "e3253889-b725-437e-86fa-15e8f23dd9c0"
      },
      "execution_count": 183,
      "outputs": [
        {
          "output_type": "stream",
          "name": "stdout",
          "text": [
            "120\n"
          ]
        }
      ]
    },
    {
      "cell_type": "code",
      "source": [
        "# Problem 11\n",
        "def mean(l):\n",
        "  total = 0\n",
        "  for i in l:\n",
        "    total = total + i\n",
        "  return total / len(l)\n",
        "\n",
        "mean([1, 2, 3, 4, 5])"
      ],
      "metadata": {
        "colab": {
          "base_uri": "https://localhost:8080/"
        },
        "id": "c7QV62ihKXku",
        "outputId": "6bdba4f2-485e-4295-b440-90060b63f488"
      },
      "execution_count": 184,
      "outputs": [
        {
          "output_type": "execute_result",
          "data": {
            "text/plain": [
              "3.0"
            ]
          },
          "metadata": {},
          "execution_count": 184
        }
      ]
    },
    {
      "cell_type": "code",
      "source": [
        "# Problem 12\n",
        "def hello():\n",
        "  return \"Hello Friends\"\n",
        "\n",
        "print(hello())"
      ],
      "metadata": {
        "colab": {
          "base_uri": "https://localhost:8080/"
        },
        "id": "5ygo6XeeLBW6",
        "outputId": "4cca20fb-703e-4780-c567-afb0ea64c940"
      },
      "execution_count": 185,
      "outputs": [
        {
          "output_type": "stream",
          "name": "stdout",
          "text": [
            "Hello Friends\n"
          ]
        }
      ]
    },
    {
      "cell_type": "code",
      "source": [
        "# Problem 13\n",
        "def data(name, roll_no, marks, garde):\n",
        "  print(f\"\"\"Name: {name}\n",
        "Roll No.: {roll_no}\n",
        "Marks: {marks}\n",
        "Grade: {grade}\"\"\")\n",
        "\n",
        "data(\"Abdul Subhan\", 31715, 79, \"A\")"
      ],
      "metadata": {
        "colab": {
          "base_uri": "https://localhost:8080/"
        },
        "id": "1zqsY_78M3y0",
        "outputId": "b46c12c2-c33c-43cd-996e-078fadc2ffc4"
      },
      "execution_count": 186,
      "outputs": [
        {
          "output_type": "stream",
          "name": "stdout",
          "text": [
            "Name: Abdul Subhan\n",
            "Roll No.: 31715\n",
            "Marks: 79\n",
            "Grade: A+\n"
          ]
        }
      ]
    },
    {
      "cell_type": "code",
      "source": [
        "# Problem 14\n",
        "def para(text):\n",
        "  print(text.lower())\n",
        "  print(text.upper())\n",
        "\n",
        "para(\"My name is Abdul Subhan\")"
      ],
      "metadata": {
        "colab": {
          "base_uri": "https://localhost:8080/"
        },
        "id": "SWtRbHCAPUet",
        "outputId": "9908425b-3ab1-4f5b-89e3-3566c5f9c972"
      },
      "execution_count": 187,
      "outputs": [
        {
          "output_type": "stream",
          "name": "stdout",
          "text": [
            "my name is abdul subhan\n",
            "MY NAME IS ABDUL SUBHAN\n"
          ]
        }
      ]
    },
    {
      "cell_type": "code",
      "source": [
        "# Problem 15\n",
        "def square(num):\n",
        "  return num ** 2\n",
        "\n",
        "print(square(5))"
      ],
      "metadata": {
        "colab": {
          "base_uri": "https://localhost:8080/"
        },
        "id": "LlDDX8hJRJoA",
        "outputId": "71287305-8a52-4b22-e2d5-41c93b6a99bd"
      },
      "execution_count": 188,
      "outputs": [
        {
          "output_type": "stream",
          "name": "stdout",
          "text": [
            "25\n"
          ]
        }
      ]
    },
    {
      "cell_type": "code",
      "source": [
        "# Problem 16\n",
        "def name(first_name, last_name):\n",
        "  full_name = first_name + \" \" + last_name\n",
        "  return full_name\n",
        "\n",
        "name(\"Abdul\", \"Subhan\")"
      ],
      "metadata": {
        "colab": {
          "base_uri": "https://localhost:8080/",
          "height": 36
        },
        "id": "ox6SZVYjSNyC",
        "outputId": "80eb56ad-d335-4a96-90c2-bfaafa8fa422"
      },
      "execution_count": 189,
      "outputs": [
        {
          "output_type": "execute_result",
          "data": {
            "text/plain": [
              "'Abdul Subhan'"
            ],
            "application/vnd.google.colaboratory.intrinsic+json": {
              "type": "string"
            }
          },
          "metadata": {},
          "execution_count": 189
        }
      ]
    },
    {
      "cell_type": "code",
      "source": [
        "# Program 17\n",
        "def min_max(l):\n",
        "  print(\"Minimum Number:\", min(l), \",\", \"Maximum Number:\", max(l))\n",
        "\n",
        "min_max([1, 2, 3, 4, 5])"
      ],
      "metadata": {
        "colab": {
          "base_uri": "https://localhost:8080/"
        },
        "id": "1nEj5wdQTJIB",
        "outputId": "dc1be926-7896-4221-8270-caab142fdc5c"
      },
      "execution_count": 190,
      "outputs": [
        {
          "output_type": "stream",
          "name": "stdout",
          "text": [
            "Minimum Number: 1 , Maximum Number: 5\n"
          ]
        }
      ]
    },
    {
      "cell_type": "code",
      "source": [
        "# Program 18\n",
        "def l_square(l):\n",
        "  return [i ** 2 for i in l]\n",
        "\n",
        "l_square([1, 2, 3, 4, 5])"
      ],
      "metadata": {
        "colab": {
          "base_uri": "https://localhost:8080/"
        },
        "id": "plojbxbaUv9c",
        "outputId": "9d53be63-6ea5-4314-d179-2e711e02ad26"
      },
      "execution_count": 191,
      "outputs": [
        {
          "output_type": "execute_result",
          "data": {
            "text/plain": [
              "[1, 4, 9, 16, 25]"
            ]
          },
          "metadata": {},
          "execution_count": 191
        }
      ]
    },
    {
      "cell_type": "code",
      "source": [
        "# Problem 19\n",
        "def l_square(l):\n",
        "  squares = []\n",
        "  for i in l:\n",
        "    squares.append(i ** 2)\n",
        "  return squares\n",
        "\n",
        "l_square([1, 2, 3, 4, 5])"
      ],
      "metadata": {
        "colab": {
          "base_uri": "https://localhost:8080/"
        },
        "id": "Wf6VAgAsWS4g",
        "outputId": "34f2515d-ba0f-4677-c032-fa4bf8c49c74"
      },
      "execution_count": 192,
      "outputs": [
        {
          "output_type": "execute_result",
          "data": {
            "text/plain": [
              "[1, 4, 9, 16, 25]"
            ]
          },
          "metadata": {},
          "execution_count": 192
        }
      ]
    },
    {
      "cell_type": "code",
      "source": [
        "# Problem 20\n",
        "def add (l):\n",
        "  total = 0\n",
        "  for i in l:\n",
        "    total += i\n",
        "  return total\n",
        "\n",
        "add([1, 2, 3, 4, 5])"
      ],
      "metadata": {
        "colab": {
          "base_uri": "https://localhost:8080/"
        },
        "id": "IQaoQ-zZYpYK",
        "outputId": "7fd7fd3a-4bcc-456d-e8d9-99909a936036"
      },
      "execution_count": 193,
      "outputs": [
        {
          "output_type": "execute_result",
          "data": {
            "text/plain": [
              "15"
            ]
          },
          "metadata": {},
          "execution_count": 193
        }
      ]
    },
    {
      "cell_type": "code",
      "source": [
        "# Problem 21\n",
        "def subtract(l):\n",
        "  total = l[0]\n",
        "  for i in l[1:]:\n",
        "    total -= i\n",
        "  return total\n",
        "\n",
        "subtract([8, 5])"
      ],
      "metadata": {
        "colab": {
          "base_uri": "https://localhost:8080/"
        },
        "id": "-jU442iqcCMm",
        "outputId": "07e059f8-9196-4fa4-f8bc-3ad20198ac71"
      },
      "execution_count": 194,
      "outputs": [
        {
          "output_type": "execute_result",
          "data": {
            "text/plain": [
              "3"
            ]
          },
          "metadata": {},
          "execution_count": 194
        }
      ]
    },
    {
      "cell_type": "code",
      "source": [
        "# Problem 22\n",
        "def multiply(l):\n",
        "  total = 1\n",
        "  for i in l:\n",
        "    total *= i\n",
        "  return total\n",
        "\n",
        "multiply([5, 5])"
      ],
      "metadata": {
        "colab": {
          "base_uri": "https://localhost:8080/"
        },
        "id": "apTdIh0chhTz",
        "outputId": "2ea28163-5eaa-44e9-fd8a-dc4d952e5956"
      },
      "execution_count": 195,
      "outputs": [
        {
          "output_type": "execute_result",
          "data": {
            "text/plain": [
              "25"
            ]
          },
          "metadata": {},
          "execution_count": 195
        }
      ]
    },
    {
      "cell_type": "code",
      "source": [
        "# Problem 23\n",
        "def divide(l):\n",
        "    total = l[0]\n",
        "    for i in l[1:]:\n",
        "        if i != 0:\n",
        "            total /= i\n",
        "        else:\n",
        "            return \"Cannot divide by zero\"\n",
        "    return total\n",
        "\n",
        "divide([5, 5])"
      ],
      "metadata": {
        "colab": {
          "base_uri": "https://localhost:8080/"
        },
        "id": "U5vXBBr0iDWt",
        "outputId": "5f9f3cbe-c921-4897-ec88-a7b1b504df05"
      },
      "execution_count": 196,
      "outputs": [
        {
          "output_type": "execute_result",
          "data": {
            "text/plain": [
              "1.0"
            ]
          },
          "metadata": {},
          "execution_count": 196
        }
      ]
    },
    {
      "cell_type": "code",
      "source": [
        "# Problem 24\n",
        "def average(l):\n",
        "    total = 0\n",
        "    for i in l:\n",
        "        total += i\n",
        "    return total / len(l)\n",
        "\n",
        "average([1, 2, 3, 4, 5])"
      ],
      "metadata": {
        "colab": {
          "base_uri": "https://localhost:8080/"
        },
        "id": "kVrFxFb9iq_3",
        "outputId": "2dd1539c-ddef-45e3-8739-b4d8e61fa6f9"
      },
      "execution_count": 197,
      "outputs": [
        {
          "output_type": "execute_result",
          "data": {
            "text/plain": [
              "3.0"
            ]
          },
          "metadata": {},
          "execution_count": 197
        }
      ]
    },
    {
      "cell_type": "code",
      "source": [
        "# Problem 25\n",
        "def even_numbers(l):\n",
        "    evenlist = []\n",
        "    for i in l:\n",
        "        if i % 2 == 0:\n",
        "            evenlist.append(i)\n",
        "    return evenlist\n",
        "\n",
        "even_numbers([1, 2, 3, 4, 5])"
      ],
      "metadata": {
        "colab": {
          "base_uri": "https://localhost:8080/"
        },
        "id": "p-pKLONzjL6x",
        "outputId": "cacec07d-1508-435b-fe5b-c7ca90425016"
      },
      "execution_count": 198,
      "outputs": [
        {
          "output_type": "execute_result",
          "data": {
            "text/plain": [
              "[2, 4]"
            ]
          },
          "metadata": {},
          "execution_count": 198
        }
      ]
    },
    {
      "cell_type": "code",
      "source": [
        "# Problem 26\n",
        "def odd_numbers(l):\n",
        "    oddlist = []\n",
        "    for i in l:\n",
        "        if i % 2 != 0:\n",
        "            oddlist.append(i)\n",
        "    return oddlist\n",
        "\n",
        "odd_numbers([1, 2, 3, 4, 5])"
      ],
      "metadata": {
        "colab": {
          "base_uri": "https://localhost:8080/"
        },
        "id": "BWM2m08UkCHY",
        "outputId": "6891c039-8413-466f-9a3a-ca28f0f9ef2b"
      },
      "execution_count": 199,
      "outputs": [
        {
          "output_type": "execute_result",
          "data": {
            "text/plain": [
              "[1, 3, 5]"
            ]
          },
          "metadata": {},
          "execution_count": 199
        }
      ]
    },
    {
      "cell_type": "code",
      "source": [
        "# Problem 27\n",
        "def build_person(first_name, last_name, age = \"\"):\n",
        "    person = {\"First name\":first_name, \"Last_name\":last_name}\n",
        "    if age:\n",
        "        person[\"age\"] = age\n",
        "    return person\n",
        "\n",
        "build_person(\"Abdul\", \"Subhan\", \"17\")"
      ],
      "metadata": {
        "colab": {
          "base_uri": "https://localhost:8080/"
        },
        "id": "EhYE5Lk8kmaV",
        "outputId": "f248298a-67e2-469a-fe57-e89aaff34023"
      },
      "execution_count": 200,
      "outputs": [
        {
          "output_type": "execute_result",
          "data": {
            "text/plain": [
              "{'First name': 'Abdul', 'Last_name': 'Subhan', 'age': '17'}"
            ]
          },
          "metadata": {},
          "execution_count": 200
        }
      ]
    },
    {
      "cell_type": "code",
      "source": [
        "# Problem 28\n",
        "def person_name():\n",
        "  names = {\"Abdul Subhan\", \"Abdullah\", \"Abdul Rehman\", \"Umer\", \"Umair\", \"Asim\"}\n",
        "  for name in names:\n",
        "    print(name)\n",
        "person_name()"
      ],
      "metadata": {
        "colab": {
          "base_uri": "https://localhost:8080/"
        },
        "id": "NBwobPXg9YyG",
        "outputId": "1215a2aa-c5b3-47c2-ff35-e8460a21239f"
      },
      "execution_count": 201,
      "outputs": [
        {
          "output_type": "stream",
          "name": "stdout",
          "text": [
            "Asim\n",
            "Abdullah\n",
            "Umair\n",
            "Abdul Subhan\n",
            "Umer\n",
            "Abdul Rehman\n"
          ]
        }
      ]
    },
    {
      "cell_type": "code",
      "source": [
        "# Problem 29\n",
        "def pizza(*toppings):\n",
        "    for top in toppings:\n",
        "        print(top)\n",
        "pizza(\"Pappareno\", \"Double Chees\", \"Extra Chicken\")"
      ],
      "metadata": {
        "colab": {
          "base_uri": "https://localhost:8080/"
        },
        "id": "VDflG2we-VX4",
        "outputId": "e6130a77-f11e-4f15-d634-67d8f8827167"
      },
      "execution_count": 202,
      "outputs": [
        {
          "output_type": "stream",
          "name": "stdout",
          "text": [
            "Pappareno\n",
            "Double Chees\n",
            "Extra Chicken\n"
          ]
        }
      ]
    },
    {
      "cell_type": "code",
      "source": [
        "# Problem 30\n",
        "def build_profile(first, last, **user_profile):\n",
        "    profile = {}\n",
        "    profile[\"First name\"] = first\n",
        "    profile[\"Last name\"] = last\n",
        "\n",
        "    for key,value in user_profile.items():\n",
        "        profile[key] = value\n",
        "\n",
        "\n",
        "    return profile\n",
        "\n",
        "build_profile(\"Abdul\", \"Subhan\", Education = \"Intermediate\", College = \"Cantt College\")"
      ],
      "metadata": {
        "colab": {
          "base_uri": "https://localhost:8080/"
        },
        "id": "kRbuY0zchzOK",
        "outputId": "3cda98f0-d53a-4d52-ff19-3948606d1593"
      },
      "execution_count": 203,
      "outputs": [
        {
          "output_type": "execute_result",
          "data": {
            "text/plain": [
              "{'First name': 'Abdul',\n",
              " 'Last name': 'Subhan',\n",
              " 'Education': 'Intermediate',\n",
              " 'College': 'Cantt College'}"
            ]
          },
          "metadata": {},
          "execution_count": 203
        }
      ]
    },
    {
      "cell_type": "code",
      "source": [
        "# Problem 31\n",
        "def findmax(l):\n",
        "    maximum = 0\n",
        "    for i in l:\n",
        "        if i > maximum:\n",
        "            maximum = i\n",
        "    print(maximum)\n",
        "\n",
        "findmax([2,3,5,4])"
      ],
      "metadata": {
        "colab": {
          "base_uri": "https://localhost:8080/"
        },
        "id": "M0iIdM5RlNe5",
        "outputId": "0654ba4e-d3a4-4c71-e826-8a434903b68b"
      },
      "execution_count": 204,
      "outputs": [
        {
          "output_type": "stream",
          "name": "stdout",
          "text": [
            "5\n"
          ]
        }
      ]
    },
    {
      "cell_type": "code",
      "source": [
        "# Problem 32\n",
        "def count(text):\n",
        "    words = 0\n",
        "    digits = 0\n",
        "    for i in text:\n",
        "        if i.isalpha():\n",
        "            words += 1\n",
        "        if i.isdigit():\n",
        "            digits += 1\n",
        "    print(\"Words =\", words)\n",
        "    print(\"digits =\", digits)\n",
        "\n",
        "count(\"Subhan2110\")"
      ],
      "metadata": {
        "colab": {
          "base_uri": "https://localhost:8080/"
        },
        "id": "htyleijdl0_R",
        "outputId": "9e828e8e-6086-4c05-82c8-7c5ebf508de0"
      },
      "execution_count": 206,
      "outputs": [
        {
          "output_type": "stream",
          "name": "stdout",
          "text": [
            "Words = 6\n",
            "digits = 4\n"
          ]
        }
      ]
    },
    {
      "cell_type": "code",
      "source": [
        "# Problem 33\n",
        "def maxword(text):\n",
        "    max_wordlength = 0\n",
        "    my_word = \"\"\n",
        "    words = text.split(\" \")\n",
        "    for i in words:\n",
        "        if len(i) > max_wordlength:\n",
        "            my_word = i\n",
        "    return my_word\n",
        "\n",
        "maxword(\"I am Abdul Subhan\")"
      ],
      "metadata": {
        "colab": {
          "base_uri": "https://localhost:8080/",
          "height": 36
        },
        "id": "0pAO_wjpmWSw",
        "outputId": "9d7a4b92-6faf-4e5b-d977-03c95e00de03"
      },
      "execution_count": 207,
      "outputs": [
        {
          "output_type": "execute_result",
          "data": {
            "text/plain": [
              "'Subhan'"
            ],
            "application/vnd.google.colaboratory.intrinsic+json": {
              "type": "string"
            }
          },
          "metadata": {},
          "execution_count": 207
        }
      ]
    },
    {
      "cell_type": "code",
      "source": [
        "# Problem 34\n",
        "def display_message():\n",
        "    print(\"I am learning this chapter about functions\")\n",
        "\n",
        "display_message()"
      ],
      "metadata": {
        "colab": {
          "base_uri": "https://localhost:8080/"
        },
        "id": "kCHbR8_jnOKS",
        "outputId": "a076c372-538f-47bf-8213-bfb079d218e2"
      },
      "execution_count": 208,
      "outputs": [
        {
          "output_type": "stream",
          "name": "stdout",
          "text": [
            "I am learning this chapter about functions\n"
          ]
        }
      ]
    },
    {
      "cell_type": "code",
      "source": [
        "# Problem 35\n",
        "def favourite_book(title):\n",
        "    print(f\"My favourite book name is {title}\")\n",
        "\n",
        "\n",
        "favourite_book(\"The true religion Islam\")"
      ],
      "metadata": {
        "colab": {
          "base_uri": "https://localhost:8080/"
        },
        "id": "PKLJG5m7oayj",
        "outputId": "27ef77bb-ea69-4d18-b0b1-166c47d11ec4"
      },
      "execution_count": 209,
      "outputs": [
        {
          "output_type": "stream",
          "name": "stdout",
          "text": [
            "My favourite book name is The true religion Islam\n"
          ]
        }
      ]
    },
    {
      "cell_type": "code",
      "source": [
        "# Problem 36\n",
        "def make_shirt(message, size):\n",
        "    shirt = message + \" and \" + size\n",
        "    print(f\"print message in shirt and size: {shirt}\")\n",
        "\n",
        "make_shirt(\"Legend\", \"large size\")"
      ],
      "metadata": {
        "colab": {
          "base_uri": "https://localhost:8080/"
        },
        "id": "S4iBW1vBom5v",
        "outputId": "ad6e2459-19e8-46b2-a8aa-b5178d79d0d4"
      },
      "execution_count": 210,
      "outputs": [
        {
          "output_type": "stream",
          "name": "stdout",
          "text": [
            "print message in shirt and size: Legend and large size\n"
          ]
        }
      ]
    },
    {
      "cell_type": "code",
      "source": [
        "# Problem 37\n",
        "def make_shirt():\n",
        "    message = input(\"Enter your message to print on shirt: \")\n",
        "    print(f\"print message in shirt: {message}\")\n",
        "\n",
        "make_shirt()"
      ],
      "metadata": {
        "colab": {
          "base_uri": "https://localhost:8080/"
        },
        "id": "CdV2k02PpMJD",
        "outputId": "2b17d388-3dae-4923-8c07-92ec57376bf9"
      },
      "execution_count": 211,
      "outputs": [
        {
          "output_type": "stream",
          "name": "stdout",
          "text": [
            "Enter your message to print on shirt: HELLO!\n",
            "print message in shirt: HELLO!\n"
          ]
        }
      ]
    },
    {
      "cell_type": "code",
      "source": [
        "# Problem 38\n",
        "def describe_city(city_name, country_name):\n",
        "    print(f\"{city_name} is in {country_name}\")\n",
        "\n",
        "describe_city(\"Karachi\", \"Pakistan\")"
      ],
      "metadata": {
        "colab": {
          "base_uri": "https://localhost:8080/"
        },
        "id": "TeRZfpCOppGf",
        "outputId": "bbfb7bb8-4735-45e5-c1db-9d39a90e6b40"
      },
      "execution_count": 212,
      "outputs": [
        {
          "output_type": "stream",
          "name": "stdout",
          "text": [
            "Karachi is in Pakistan\n"
          ]
        }
      ]
    },
    {
      "cell_type": "code",
      "source": [
        "# Problem 39\n",
        "def city_country(city_name, country_name):\n",
        "    print(city_name + \" is in \" + country_name)\n",
        "\n",
        "city_country(\"Lahore\", \"Pakistan\")"
      ],
      "metadata": {
        "colab": {
          "base_uri": "https://localhost:8080/"
        },
        "id": "PEQdQ05pq3Xs",
        "outputId": "e0a8820d-48dc-4045-c30d-8265ba50144b"
      },
      "execution_count": 213,
      "outputs": [
        {
          "output_type": "stream",
          "name": "stdout",
          "text": [
            "Lahore is in Pakistan\n"
          ]
        }
      ]
    },
    {
      "cell_type": "code",
      "source": [
        "# Problem 40\n",
        "def is_prime(number):\n",
        "    if number < 2:\n",
        "        return False\n",
        "    for i in range(2, int(number ** 0.5) + 1):\n",
        "        if number % i == 0:\n",
        "            return False\n",
        "    return True\n",
        "\n",
        "print(is_prime(2))\n",
        "print(is_prime(15))\n",
        "print(is_prime(23))"
      ],
      "metadata": {
        "colab": {
          "base_uri": "https://localhost:8080/"
        },
        "id": "dkFPwz2EPgFy",
        "outputId": "2e272667-87b1-43c3-b2aa-c594dac5f63e"
      },
      "execution_count": 216,
      "outputs": [
        {
          "output_type": "stream",
          "name": "stdout",
          "text": [
            "True\n",
            "False\n",
            "True\n"
          ]
        }
      ]
    },
    {
      "cell_type": "code",
      "source": [
        "# Problem 41\n",
        "def factorial(number):\n",
        "    if number < 0:\n",
        "        return \"Invalid input\"\n",
        "    result = 1\n",
        "    for i in range(1, number + 1):\n",
        "        result *= i\n",
        "    return result\n",
        "\n",
        "print(factorial(5))\n",
        "print(factorial(0))\n",
        "print(factorial(7))"
      ],
      "metadata": {
        "colab": {
          "base_uri": "https://localhost:8080/"
        },
        "id": "yOeguuUyP3Az",
        "outputId": "6275c940-facb-4728-c8ef-a62a1a1041ce"
      },
      "execution_count": 220,
      "outputs": [
        {
          "output_type": "stream",
          "name": "stdout",
          "text": [
            "120\n",
            "1\n",
            "5040\n"
          ]
        }
      ]
    },
    {
      "cell_type": "code",
      "source": [
        "# Problem 42\n",
        "def number_of_vowels(count_vowels):\n",
        "    vowels = \"aeiouAEIOU\"\n",
        "    count = 0\n",
        "    for i in count_vowels:\n",
        "        if i in vowels:\n",
        "            count += 1\n",
        "    return count\n",
        "\n",
        "print(number_of_vowels(\"Hello\"))\n",
        "print(number_of_vowels(\"Open AI Chat\"))\n",
        "print(number_of_vowels(\"Python\"))"
      ],
      "metadata": {
        "colab": {
          "base_uri": "https://localhost:8080/"
        },
        "id": "n5sF8sRDRV6W",
        "outputId": "bec1bc1c-0199-4866-aebd-3a438a1ab7bb"
      },
      "execution_count": 223,
      "outputs": [
        {
          "output_type": "stream",
          "name": "stdout",
          "text": [
            "2\n",
            "5\n",
            "1\n"
          ]
        }
      ]
    },
    {
      "cell_type": "code",
      "source": [
        "# Problem 43\n",
        "def is_palindrome(word):\n",
        "    word = word.lower()\n",
        "    return word == word[::-1]\n",
        "\n",
        "print(is_palindrome(\"racecar\"))\n",
        "print(is_palindrome(\"Hello\"))"
      ],
      "metadata": {
        "colab": {
          "base_uri": "https://localhost:8080/"
        },
        "id": "duoB9baeS4M9",
        "outputId": "53b85691-6d05-4392-bc36-0bc893285168"
      },
      "execution_count": 233,
      "outputs": [
        {
          "output_type": "stream",
          "name": "stdout",
          "text": [
            "True\n",
            "False\n"
          ]
        }
      ]
    },
    {
      "cell_type": "code",
      "source": [
        "# Problem 44\n",
        "def find_largest(lst):\n",
        "    if not lst:\n",
        "        return \"List is empty\"\n",
        "    largest = lst[0]\n",
        "    for i in lst:\n",
        "        if i > largest:\n",
        "            largest = i\n",
        "    return largest\n",
        "\n",
        "print(find_largest([10, 20, 5, 3]))\n",
        "print(find_largest([-1, -5, -3]))\n",
        "print(find_largest([]))"
      ],
      "metadata": {
        "colab": {
          "base_uri": "https://localhost:8080/"
        },
        "id": "TgJnzPZuTxQ5",
        "outputId": "152f8576-5a8f-414f-c339-19a80c9b5708"
      },
      "execution_count": 241,
      "outputs": [
        {
          "output_type": "stream",
          "name": "stdout",
          "text": [
            "20\n",
            "-1\n",
            "List is empty\n"
          ]
        }
      ]
    },
    {
      "cell_type": "code",
      "source": [
        "# Problem 45\n",
        "def fibonacci(n):\n",
        "    if n <= 0:\n",
        "        return \"Invalid input\"\n",
        "    sequence = [0, 1]\n",
        "    while len(sequence) < n:\n",
        "        sequence.append(sequence[-1] + sequence[-2])\n",
        "    return sequence[:n]\n",
        "\n",
        "print(fibonacci(5))\n",
        "print(fibonacci(10))\n",
        "print(fibonacci(1))"
      ],
      "metadata": {
        "colab": {
          "base_uri": "https://localhost:8080/"
        },
        "id": "OXVgT_XFVol4",
        "outputId": "1e966c29-ff21-4f71-c9bd-0e2ec40828ad"
      },
      "execution_count": 242,
      "outputs": [
        {
          "output_type": "stream",
          "name": "stdout",
          "text": [
            "[0, 1, 1, 2, 3]\n",
            "[0, 1, 1, 2, 3, 5, 8, 13, 21, 34]\n",
            "[0]\n"
          ]
        }
      ]
    },
    {
      "cell_type": "code",
      "source": [
        "# Problem 46\n",
        "def count_words(word):\n",
        "    words = word.split()\n",
        "    return len(words)\n",
        "\n",
        "print(count_words(\"Hello world!\"))\n",
        "print(count_words(\"Python is fun\"))\n",
        "print(count_words(\"Count words\"))"
      ],
      "metadata": {
        "colab": {
          "base_uri": "https://localhost:8080/"
        },
        "id": "d_SVNIIBWMse",
        "outputId": "020a00d3-d7d2-4f67-d96a-7b9847e73818"
      },
      "execution_count": 245,
      "outputs": [
        {
          "output_type": "stream",
          "name": "stdout",
          "text": [
            "2\n",
            "3\n",
            "2\n"
          ]
        }
      ]
    }
  ]
}