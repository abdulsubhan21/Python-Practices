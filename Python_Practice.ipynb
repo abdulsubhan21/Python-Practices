{
  "nbformat": 4,
  "nbformat_minor": 0,
  "metadata": {
    "colab": {
      "provenance": []
    },
    "kernelspec": {
      "name": "python3",
      "display_name": "Python 3"
    },
    "language_info": {
      "name": "python"
    }
  },
  "cells": [
    {
      "cell_type": "code",
      "source": [
        "name = input(\"Enter The Name: \")\n",
        "subject_1 = float(input(\"Enter The Subject 1 Marks: \"))\n",
        "subject_2 = float(input(\"Enter The Subject 2 Marks: \"))\n",
        "subject_3 = float(input(\"Enter The Subject 3 Marks: \"))\n",
        "subject_4 = float(input(\"Enter The Subject 4 Marks: \"))\n",
        "subject_5 = float(input(\"Enter The Subject 5 Marks: \"))\n",
        "\n",
        "marks = [subject_1, subject_2, subject_3, subject_4, subject_5]\n",
        "grade = sum(marks) / len(marks)\n",
        "\n",
        "if grade >= 80:\n",
        "   performance = \"Very Exellent\"\n",
        "\n",
        "elif grade >= 70 and grade <= 79:\n",
        "     performance = \"Exellent\"\n",
        "\n",
        "elif grade >= 60 and grade <= 69:\n",
        "     performance = \"Very Good\"\n",
        "\n",
        "elif grade >= 50 and grade <= 59:\n",
        "     performance = \"Good\"\n",
        "\n",
        "elif grade >= 40 and grade <= 49:\n",
        "     performance = \"Average\"\n",
        "\n",
        "else:\n",
        "     performance = \"Fail\"\n",
        "\n",
        "print(f'''\n",
        "\n",
        "Students Report Card\n",
        "\n",
        "Student Name: {name}\n",
        "Student Subjects Marks: {marks}\n",
        "Student Grade: {grade}\n",
        "Student Performance: {performance}''')"
      ],
      "metadata": {
        "id": "s_QUFtVlLdca",
        "colab": {
          "base_uri": "https://localhost:8080/"
        },
        "outputId": "dabeded4-0d5b-452e-d8a9-17a53ca5c98f"
      },
      "execution_count": null,
      "outputs": [
        {
          "output_type": "stream",
          "name": "stdout",
          "text": [
            "Enter The Name: Abdul Subhan\n",
            "Enter The Subject 1 Marks: 74\n",
            "Enter The Subject 2 Marks: 78\n",
            "Enter The Subject 3 Marks: 95\n",
            "Enter The Subject 4 Marks: 76\n",
            "Enter The Subject 5 Marks: 80\n",
            "\n",
            "\n",
            "Students Report Card\n",
            "\n",
            "Student Name: Abdul Subhan\n",
            "Student Subjects Marks: [74.0, 78.0, 95.0, 76.0, 80.0]\n",
            "Student Grade: 80.6\n",
            "Student Performance: Very Exellent\n"
          ]
        }
      ]
    },
    {
      "cell_type": "code",
      "source": [
        "name = input(\"Enter the name: \")\n",
        "\n",
        "item_1 = input(\"Enter the item 1: \")\n",
        "item_1_price = int(input(\"Enter the item 1 price: \"))\n",
        "\n",
        "item_2 = input(\"Enter the item 2: \")\n",
        "item_2_price = int(input(\"Enter the item 2 price: \"))\n",
        "\n",
        "item_3 = input(\"Enter the item 3: \")\n",
        "item_3_price = int(input(\"Enter the item 3 price: \"))\n",
        "\n",
        "item_names = [item_1, item_2, item_3]\n",
        "item_prices = [item_1_price, item_2_price, item_3_price]\n",
        "\n",
        "total_price = sum(item_prices)\n",
        "\n",
        "if total_price > 10000:\n",
        "   discount_amount = total_price * 10 / 100\n",
        "   final_price = total_price - discount_amount\n",
        "   discount = f\" {discount_amount}\"\n",
        "\n",
        "else:\n",
        "     final_price = total_price\n",
        "     discount = \"No discount.\"\n",
        "\n",
        "print(f'''\n",
        "\n",
        "Shopping Bill\n",
        "\n",
        "Customer Name: {name}\n",
        "Items: {item_names}\n",
        "Prices: {item_prices}\n",
        "Total Price: {total_price}\n",
        "10% Discount: {discount}\n",
        "Final Price: {final_price}''')"
      ],
      "metadata": {
        "id": "fqCBYX6rnUf2",
        "colab": {
          "base_uri": "https://localhost:8080/"
        },
        "outputId": "a9733c80-ee2a-4a30-a7f5-3f062012e035"
      },
      "execution_count": null,
      "outputs": [
        {
          "output_type": "stream",
          "name": "stdout",
          "text": [
            "Enter the name: Abdul Subhan\n",
            "Enter the item 1: T.V.\n",
            "Enter the item 1 price: 12000\n",
            "Enter the item 2: Remote\n",
            "Enter the item 2 price: 1000\n",
            "Enter the item 3: Cable Wire\n",
            "Enter the item 3 price: 2000\n",
            "\n",
            "\n",
            "Shopping Bill\n",
            "\n",
            "Customer Name: Abdul Subhan\n",
            "Items: ['T.V.', 'Remote', 'Cable Wire']\n",
            "Prices: [12000, 1000, 2000]\n",
            "Total Price: 15000\n",
            "10% Discount:  1500.0\n",
            "Final Price: 13500.0\n"
          ]
        }
      ]
    },
    {
      "cell_type": "code",
      "source": [
        "name = input(\"Enter the student name: \")\n",
        "age = int(input(\"Enter the student age: \"))\n",
        "\n",
        "math_numbers = float(input(\"Enter the student maths numbers: \"))\n",
        "science_numbers = float(input(\"Enter the student science numbers: \"))\n",
        "english_numbers = float(input(\"Enter the student english numbers: \"))\n",
        "\n",
        "numbers = [math_numbers, science_numbers, english_numbers]\n",
        "\n",
        "student_info = {\"name\": name, \"age\": age, \"numbers\": numbers}\n",
        "\n",
        "total_numbers = 0\n",
        "for i in numbers:\n",
        "    total_numbers += i\n",
        "\n",
        "percentage = total_numbers / len(numbers)\n",
        "\n",
        "student_info[\"percentage\"] = percentage\n",
        "\n",
        "if percentage >= 80:\n",
        "   grade = \"A+\"\n",
        "elif 70 <= percentage <= 79:\n",
        "     grade = \"A\"\n",
        "elif 60 <= percentage <= 69:\n",
        "     grade = \"B\"\n",
        "elif 50 <= percentage <= 59:\n",
        "     grade = \"C\"\n",
        "elif 40 <= percentage <= 49:\n",
        "     grade = \"D\"\n",
        "else:\n",
        "     grade = \"Fail\"\n",
        "\n",
        "print(f'''\n",
        "Student Performance Report:\n",
        "\n",
        "Name: {student_info[\"name\"]}\n",
        "Age: {student_info[\"age\"]}\n",
        "Scores: Math: {math_numbers}, Science: {science_numbers}, English: {english_numbers}\n",
        "Percentage: {percentage:.1f}\n",
        "Grade: {grade}''')"
      ],
      "metadata": {
        "id": "lIcw9LF64c-H",
        "colab": {
          "base_uri": "https://localhost:8080/"
        },
        "outputId": "c110fd11-c43e-4aca-dd40-fb1a2d7b0126"
      },
      "execution_count": null,
      "outputs": [
        {
          "output_type": "stream",
          "name": "stdout",
          "text": [
            "Enter the student name: Abdul Subhan\n",
            "Enter the student age: 17\n",
            "Enter the student maths numbers: 76\n",
            "Enter the student science numbers: 95\n",
            "Enter the student english numbers: 80\n",
            "\n",
            "Student Performance Report:\n",
            "\n",
            "Name: Abdul Subhan\n",
            "Age: 17\n",
            "Scores: Math: 76.0, Science: 95.0, English: 80.0\n",
            "Percentage: 83.7\n",
            "Grade: A+\n"
          ]
        }
      ]
    },
    {
      "cell_type": "code",
      "source": [
        "name = input(\"Enter your name: \").strip().title()\n",
        "age = int(input(\"Enter your age: \"))\n",
        "nationality = input(\"Enter your nationality: \").strip().title()\n",
        "skills = input(\"Enter at least 3 skills: \").strip().split()\n",
        "\n",
        "if len(skills) < 3:\n",
        "   print(\"You must enter at least 3 skills.\")\n",
        "else:\n",
        "     print(f'''\n",
        "    Personal Information:\n",
        "\n",
        "    Name: {name}\n",
        "    Age: {age}\n",
        "    Nationality: {nationality}\n",
        "    Skills: {', '.join([skill.strip().title() for skill in skills])}\n",
        "    ''')\n",
        "\n",
        "if age >= 18:\n",
        "   print(\"You are eligible to apply for the job.\")\n",
        "else:\n",
        "     print(\"You are not eligible to apply for the job.\")"
      ],
      "metadata": {
        "id": "XYAS2qR61fE1",
        "colab": {
          "base_uri": "https://localhost:8080/"
        },
        "outputId": "46a0a237-7fe8-4c7b-d292-8f275a0a619f"
      },
      "execution_count": null,
      "outputs": [
        {
          "output_type": "stream",
          "name": "stdout",
          "text": [
            "Enter your name: Abdul Subhan\n",
            "Enter your age: 17\n",
            "Enter your nationality: Pakistani\n",
            "Enter at least 3 skills: HTML CSS Python\n",
            "\n",
            "    Personal Information:\n",
            "\n",
            "    Name: Abdul Subhan\n",
            "    Age: 17\n",
            "    Nationality: Pakistani\n",
            "    Skills: Html, Css, Python\n",
            "    \n",
            "You are not eligible to apply for the job.\n"
          ]
        }
      ]
    },
    {
      "cell_type": "code",
      "source": [
        "import random\n",
        "jackpot = random.randint(1, 100)\n",
        "\n",
        "guess = int(input(\"Enter the number between 1 to 100: \"))\n",
        "counter = 1\n",
        "\n",
        "while guess != jackpot:\n",
        "      if guess < jackpot:\n",
        "         print(\"Guess higher number\")\n",
        "      else:\n",
        "           print(\"Guess lower number\")\n",
        "\n",
        "      guess = int(input(\"Enter the number between 1 to 100: \"))\n",
        "      counter += 1\n",
        "\n",
        "print(\"Correct answer\")\n",
        "print(\"You took\",counter,\"attempts\")"
      ],
      "metadata": {
        "id": "HV-2LxNFQci3",
        "colab": {
          "base_uri": "https://localhost:8080/"
        },
        "outputId": "215f7f85-0127-4695-8915-89c0f18ef567"
      },
      "execution_count": null,
      "outputs": [
        {
          "output_type": "stream",
          "name": "stdout",
          "text": [
            "Enter the number between 1 to 100: 50\n",
            "Guess higher number\n",
            "Enter the number between 1 to 100: 100\n",
            "Guess lower number\n",
            "Enter the number between 1 to 100: 60\n",
            "Guess higher number\n",
            "Enter the number between 1 to 100: 90\n",
            "Guess lower number\n",
            "Enter the number between 1 to 100: 70\n",
            "Guess higher number\n",
            "Enter the number between 1 to 100: 80\n",
            "Guess higher number\n",
            "Enter the number between 1 to 100: 85\n",
            "Guess higher number\n",
            "Enter the number between 1 to 100: 88\n",
            "Guess higher number\n",
            "Enter the number between 1 to 100: 89\n",
            "Correct answer\n",
            "You took 9 attempts\n"
          ]
        }
      ]
    },
    {
      "cell_type": "code",
      "source": [
        "# Problem 1\n",
        "def square(number):\n",
        "  return number ** 2\n",
        "\n",
        "square(5)"
      ],
      "metadata": {
        "colab": {
          "base_uri": "https://localhost:8080/"
        },
        "id": "ZvOKkwdX4uUs",
        "outputId": "a7a59dae-d2e9-4997-e802-aa0ab95ae853"
      },
      "execution_count": 1,
      "outputs": [
        {
          "output_type": "execute_result",
          "data": {
            "text/plain": [
              "25"
            ]
          },
          "metadata": {},
          "execution_count": 1
        }
      ]
    },
    {
      "cell_type": "code",
      "source": [
        "# Problem 2\n",
        "def add(a, b):\n",
        "  return a + b\n",
        "\n",
        "print(add(5, 5))"
      ],
      "metadata": {
        "colab": {
          "base_uri": "https://localhost:8080/"
        },
        "id": "MKOtTRM98cHt",
        "outputId": "0785c62b-0c7d-4bdd-d4ad-e50bab2f29db"
      },
      "execution_count": 2,
      "outputs": [
        {
          "output_type": "stream",
          "name": "stdout",
          "text": [
            "10\n"
          ]
        }
      ]
    },
    {
      "cell_type": "code",
      "source": [
        "# Problem 3\n",
        "def multiply(p1, p2):\n",
        "  return p1 * p2\n",
        "\n",
        "print(multiply(5, 5))\n",
        "print(multiply(\"a\", 5))\n",
        "print(multiply(5, \"b\"))"
      ],
      "metadata": {
        "colab": {
          "base_uri": "https://localhost:8080/"
        },
        "id": "h3Ckw6Lr-f63",
        "outputId": "6e5200a9-6f08-4c70-a66b-221dab155501"
      },
      "execution_count": 3,
      "outputs": [
        {
          "output_type": "stream",
          "name": "stdout",
          "text": [
            "25\n",
            "aaaaa\n",
            "bbbbb\n"
          ]
        }
      ]
    },
    {
      "cell_type": "code",
      "source": [
        "# Problem 4\n",
        "def circle_states(radius):\n",
        "  area = 3.14 * radius ** 2\n",
        "  circumference = 2 * 3.14 * radius\n",
        "  return area, circumference\n",
        "\n",
        "result_1, result_2 = circle_states(3)\n",
        "print(\"Area:\", result_1)\n",
        "print(\"Circumference:\", result_2)"
      ],
      "metadata": {
        "colab": {
          "base_uri": "https://localhost:8080/"
        },
        "id": "JC8KpDzNAUNj",
        "outputId": "cf00da46-a5c5-4fbd-d374-8fb3f066eb80"
      },
      "execution_count": 4,
      "outputs": [
        {
          "output_type": "stream",
          "name": "stdout",
          "text": [
            "Area: 28.26\n",
            "Circumference: 18.84\n"
          ]
        }
      ]
    },
    {
      "cell_type": "code",
      "source": [
        "# Problem 5\n",
        "def greet(name = \"User\"):\n",
        "  return \"Hello \" + name + \"!\"\n",
        "\n",
        "print(greet())\n",
        "print(greet(\"Abdul Subhan\"))"
      ],
      "metadata": {
        "colab": {
          "base_uri": "https://localhost:8080/"
        },
        "id": "T-FWH6EQDjbi",
        "outputId": "fc1094f6-480e-455d-c669-aa4150d22f23"
      },
      "execution_count": 5,
      "outputs": [
        {
          "output_type": "stream",
          "name": "stdout",
          "text": [
            "Hello User!\n",
            "Hello Abdul Subhan!\n"
          ]
        }
      ]
    },
    {
      "cell_type": "code",
      "source": [
        "# Problem 6\n",
        "def cube(number):\n",
        "  return number ** 3\n",
        "\n",
        "print(cube(5))"
      ],
      "metadata": {
        "colab": {
          "base_uri": "https://localhost:8080/"
        },
        "id": "AQAdSeTlGcU6",
        "outputId": "dd27bc94-b98c-41df-cba1-c1589d664294"
      },
      "execution_count": 6,
      "outputs": [
        {
          "output_type": "stream",
          "name": "stdout",
          "text": [
            "125\n"
          ]
        }
      ]
    },
    {
      "cell_type": "code",
      "source": [
        "# Problem 7\n",
        "def sum_all(*args):\n",
        "    print(args)\n",
        "    for i in args:\n",
        "        print(i * 2)\n",
        "    return sum(args)\n",
        "\n",
        "print(sum_all(1, 2, 3))"
      ],
      "metadata": {
        "colab": {
          "base_uri": "https://localhost:8080/"
        },
        "id": "FCAMt2ueXgkB",
        "outputId": "a3d78db6-1314-4a7d-d1ba-4d97ab65d871"
      },
      "execution_count": 7,
      "outputs": [
        {
          "output_type": "stream",
          "name": "stdout",
          "text": [
            "(1, 2, 3)\n",
            "2\n",
            "4\n",
            "6\n",
            "6\n"
          ]
        }
      ]
    },
    {
      "cell_type": "code",
      "source": [
        "# Problem 8\n",
        "def print_kwargs(**kwargs):\n",
        "  for key, value in kwargs.items():\n",
        "    print(f\"{key}: {value}\")\n",
        "\n",
        "print_kwargs(Name = \"Abdul Subhan\", Age = 17, Gender = \"Male\")"
      ],
      "metadata": {
        "id": "3wZRqdtdZ9jH",
        "colab": {
          "base_uri": "https://localhost:8080/"
        },
        "outputId": "c0553812-93d4-4652-dd18-9bec778c0e88"
      },
      "execution_count": 10,
      "outputs": [
        {
          "output_type": "stream",
          "name": "stdout",
          "text": [
            "Name: Abdul Subhan\n",
            "Age: 17\n",
            "Gender: Male\n"
          ]
        }
      ]
    },
    {
      "cell_type": "code",
      "source": [
        "# Problem 9\n",
        "def even_generator(limit):\n",
        "    for i in range(2, limit + 1, 2):\n",
        "        yield i\n",
        "\n",
        "for num in even_generator(10):\n",
        "    print(num)"
      ],
      "metadata": {
        "colab": {
          "base_uri": "https://localhost:8080/"
        },
        "id": "6KrZUaFlFRLI",
        "outputId": "5d49e6d8-d5f6-4de7-e7c3-d054944313b8"
      },
      "execution_count": 11,
      "outputs": [
        {
          "output_type": "stream",
          "name": "stdout",
          "text": [
            "2\n",
            "4\n",
            "6\n",
            "8\n",
            "10\n"
          ]
        }
      ]
    },
    {
      "cell_type": "code",
      "source": [
        "# Problem 10\n",
        "def factorial(n):\n",
        "    if n == 0:\n",
        "        return 1\n",
        "    else:\n",
        "        return n * factorial(n - 1)\n",
        "\n",
        "print(factorial(5))"
      ],
      "metadata": {
        "colab": {
          "base_uri": "https://localhost:8080/"
        },
        "id": "yfjwNcMPRdQy",
        "outputId": "d90389eb-0ee1-4df3-ce5e-312d99a460eb"
      },
      "execution_count": 12,
      "outputs": [
        {
          "output_type": "stream",
          "name": "stdout",
          "text": [
            "120\n"
          ]
        }
      ]
    },
    {
      "cell_type": "code",
      "source": [
        "# Problem 11\n",
        "def mean(l):\n",
        "    total = 0\n",
        "    for i in l:\n",
        "        total = total + i\n",
        "    return total / len(l)\n",
        "\n",
        "mean([1,2,3,4,5])"
      ],
      "metadata": {
        "colab": {
          "base_uri": "https://localhost:8080/"
        },
        "id": "c7QV62ihKXku",
        "outputId": "28f69f88-4669-494f-8e1c-ab2572a296f8"
      },
      "execution_count": 13,
      "outputs": [
        {
          "output_type": "execute_result",
          "data": {
            "text/plain": [
              "3.0"
            ]
          },
          "metadata": {},
          "execution_count": 13
        }
      ]
    },
    {
      "cell_type": "code",
      "source": [
        "# Problem 12\n",
        "def hello():\n",
        "    print(\"Hello friends\")\n",
        "\n",
        "hello()"
      ],
      "metadata": {
        "colab": {
          "base_uri": "https://localhost:8080/"
        },
        "id": "5ygo6XeeLBW6",
        "outputId": "eb577721-cac3-4198-a575-ebd92e974a8c"
      },
      "execution_count": 14,
      "outputs": [
        {
          "output_type": "stream",
          "name": "stdout",
          "text": [
            "Hello friends\n"
          ]
        }
      ]
    },
    {
      "cell_type": "code",
      "source": [
        "# Problem 13\n",
        "def data(name, roll_no, marks, grade):\n",
        "    print(f\"\"\"Name: {name}\n",
        "Roll Number: {roll_no}\n",
        "Marks: {marks}\n",
        "Grade: {grade}\"\"\")\n",
        "\n",
        "data(\"Abdul Subhan\", 31715, 79, \"A\")"
      ],
      "metadata": {
        "colab": {
          "base_uri": "https://localhost:8080/"
        },
        "id": "1zqsY_78M3y0",
        "outputId": "58981e9e-9491-4448-8a28-3b7f23aabe2e"
      },
      "execution_count": 16,
      "outputs": [
        {
          "output_type": "stream",
          "name": "stdout",
          "text": [
            "Name: Abdul Subhan\n",
            "Roll Number: 31715\n",
            "Marks: 79\n",
            "Grade: A\n"
          ]
        }
      ]
    },
    {
      "cell_type": "code",
      "source": [
        "# Problem 14\n",
        "def para(text):\n",
        "    print(text.lower())\n",
        "    print(text.upper())\n",
        "\n",
        "para(\"My name is Abdul Subhan\")"
      ],
      "metadata": {
        "colab": {
          "base_uri": "https://localhost:8080/"
        },
        "id": "SWtRbHCAPUet",
        "outputId": "9d12d2bc-0e5f-4652-9e13-ce0bd93cf6be"
      },
      "execution_count": 17,
      "outputs": [
        {
          "output_type": "stream",
          "name": "stdout",
          "text": [
            "my name is abdul subhan\n",
            "MY NAME IS ABDUL SUBHAN\n"
          ]
        }
      ]
    },
    {
      "cell_type": "code",
      "source": [
        "# Problem 15\n",
        "def square(num):\n",
        "    sqr = num ** 2\n",
        "    return sqr\n",
        "\n",
        "square(5)"
      ],
      "metadata": {
        "colab": {
          "base_uri": "https://localhost:8080/"
        },
        "id": "LlDDX8hJRJoA",
        "outputId": "91ba8273-9c6d-4abf-fc71-d28f76fed02d"
      },
      "execution_count": 18,
      "outputs": [
        {
          "output_type": "execute_result",
          "data": {
            "text/plain": [
              "25"
            ]
          },
          "metadata": {},
          "execution_count": 18
        }
      ]
    },
    {
      "cell_type": "code",
      "source": [
        "# Problem 16\n",
        "def name(first_name, last_name):\n",
        "    full_name = first_name + \" \" + last_name\n",
        "    return full_name\n",
        "\n",
        "name(\"Abdul\", \"Subhan\")"
      ],
      "metadata": {
        "colab": {
          "base_uri": "https://localhost:8080/",
          "height": 36
        },
        "id": "ox6SZVYjSNyC",
        "outputId": "19d50ffa-3b31-4b98-d116-e916c01d8ab2"
      },
      "execution_count": 19,
      "outputs": [
        {
          "output_type": "execute_result",
          "data": {
            "text/plain": [
              "'Abdul Subhan'"
            ],
            "application/vnd.google.colaboratory.intrinsic+json": {
              "type": "string"
            }
          },
          "metadata": {},
          "execution_count": 19
        }
      ]
    },
    {
      "cell_type": "code",
      "source": [
        "# Program 17\n",
        "def min_max(l):\n",
        "    print(\"Minimum Value:\", min(l), \",\", \"Maximum Value:\", max(l))\n",
        "\n",
        "min_max([2, 5, 6, 7, 4, 9])"
      ],
      "metadata": {
        "colab": {
          "base_uri": "https://localhost:8080/"
        },
        "id": "1nEj5wdQTJIB",
        "outputId": "91440b09-eb92-43e9-8219-9d59c9f5d821"
      },
      "execution_count": 25,
      "outputs": [
        {
          "output_type": "stream",
          "name": "stdout",
          "text": [
            "Minimum Value: 2 , Maximum Value: 9\n"
          ]
        }
      ]
    },
    {
      "cell_type": "code",
      "source": [
        "# Program 18\n",
        "def l_square(l):\n",
        "    return[i ** 2 for i in l]\n",
        "\n",
        "l_square([1, 2, 3, 4, 5])"
      ],
      "metadata": {
        "colab": {
          "base_uri": "https://localhost:8080/"
        },
        "id": "plojbxbaUv9c",
        "outputId": "3fa81250-62c4-47f7-efbd-f195e3cd7a69"
      },
      "execution_count": 26,
      "outputs": [
        {
          "output_type": "execute_result",
          "data": {
            "text/plain": [
              "[1, 4, 9, 16, 25]"
            ]
          },
          "metadata": {},
          "execution_count": 26
        }
      ]
    },
    {
      "cell_type": "code",
      "source": [
        "# Problem 19\n",
        "def l_square(l):\n",
        "    squares = []\n",
        "    for a in l:\n",
        "        squares.append(a**2)\n",
        "    return squares\n",
        "\n",
        "l_square([1, 2, 3, 4, 5])"
      ],
      "metadata": {
        "colab": {
          "base_uri": "https://localhost:8080/"
        },
        "id": "Wf6VAgAsWS4g",
        "outputId": "98fbe865-ac55-43e2-bf6b-fb0848df6971"
      },
      "execution_count": 27,
      "outputs": [
        {
          "output_type": "execute_result",
          "data": {
            "text/plain": [
              "[1, 4, 9, 16, 25]"
            ]
          },
          "metadata": {},
          "execution_count": 27
        }
      ]
    },
    {
      "cell_type": "code",
      "source": [
        "# Problem 20\n",
        "def add(l):\n",
        "    total = 0\n",
        "    for i in l:\n",
        "        total += i\n",
        "    return total\n",
        "\n",
        "add([1, 2, 3, 4, 5])"
      ],
      "metadata": {
        "colab": {
          "base_uri": "https://localhost:8080/"
        },
        "id": "IQaoQ-zZYpYK",
        "outputId": "d10ed3c8-c19f-48eb-8a4d-fd49f4c75200"
      },
      "execution_count": 28,
      "outputs": [
        {
          "output_type": "execute_result",
          "data": {
            "text/plain": [
              "15"
            ]
          },
          "metadata": {},
          "execution_count": 28
        }
      ]
    },
    {
      "cell_type": "code",
      "source": [
        "# Problem 21\n",
        "def subtract(l):\n",
        "    total = l[0]\n",
        "    for i in l[1:]:\n",
        "        total -= i\n",
        "    return total\n",
        "\n",
        "subtract([5, 4])"
      ],
      "metadata": {
        "colab": {
          "base_uri": "https://localhost:8080/"
        },
        "id": "-jU442iqcCMm",
        "outputId": "604d7005-4d65-49a0-a921-aada2f44973a"
      },
      "execution_count": 29,
      "outputs": [
        {
          "output_type": "execute_result",
          "data": {
            "text/plain": [
              "1"
            ]
          },
          "metadata": {},
          "execution_count": 29
        }
      ]
    },
    {
      "cell_type": "code",
      "source": [
        "# Problem 22\n",
        "def multiply(l):\n",
        "    total = 1\n",
        "    for i in l:\n",
        "        total *= i\n",
        "    return total\n",
        "\n",
        "multiply([1, 2, 3, 4, 5])"
      ],
      "metadata": {
        "colab": {
          "base_uri": "https://localhost:8080/"
        },
        "id": "apTdIh0chhTz",
        "outputId": "3b679db3-ac96-4dc1-834b-c1b8a8f21dbb"
      },
      "execution_count": 30,
      "outputs": [
        {
          "output_type": "execute_result",
          "data": {
            "text/plain": [
              "120"
            ]
          },
          "metadata": {},
          "execution_count": 30
        }
      ]
    },
    {
      "cell_type": "code",
      "source": [
        "# Problem 23\n",
        "def divide(l):\n",
        "    total = l[0]\n",
        "    for i in l[1:]:\n",
        "        if i != 0:\n",
        "            total /= i\n",
        "        else:\n",
        "            return \"Cannot divide by zero\"\n",
        "    return total\n",
        "\n",
        "divide([4, 5])"
      ],
      "metadata": {
        "colab": {
          "base_uri": "https://localhost:8080/"
        },
        "id": "U5vXBBr0iDWt",
        "outputId": "1298f0b7-f440-4b44-ff4a-45e7b6bfce94"
      },
      "execution_count": 31,
      "outputs": [
        {
          "output_type": "execute_result",
          "data": {
            "text/plain": [
              "0.8"
            ]
          },
          "metadata": {},
          "execution_count": 31
        }
      ]
    },
    {
      "cell_type": "code",
      "source": [
        "# Problem 24\n",
        "def average(l):\n",
        "    total = 0\n",
        "    for i in l:\n",
        "        total += i\n",
        "    return total / len(l)\n",
        "\n",
        "average([1, 2, 3, 4, 5])"
      ],
      "metadata": {
        "colab": {
          "base_uri": "https://localhost:8080/"
        },
        "id": "kVrFxFb9iq_3",
        "outputId": "995ef279-d996-4dae-ed05-6420439364bb"
      },
      "execution_count": 32,
      "outputs": [
        {
          "output_type": "execute_result",
          "data": {
            "text/plain": [
              "3.0"
            ]
          },
          "metadata": {},
          "execution_count": 32
        }
      ]
    },
    {
      "cell_type": "code",
      "source": [
        "# Problem 25\n",
        "def even_numbers(l):\n",
        "    evenlist = []\n",
        "    for i in l:\n",
        "        if i % 2 == 0:\n",
        "            evenlist.append(i)\n",
        "    return evenlist\n",
        "\n",
        "even_numbers([1, 2, 3, 4, 5])"
      ],
      "metadata": {
        "colab": {
          "base_uri": "https://localhost:8080/"
        },
        "id": "p-pKLONzjL6x",
        "outputId": "c47353fd-6d38-485e-d923-55ca35e834d6"
      },
      "execution_count": 33,
      "outputs": [
        {
          "output_type": "execute_result",
          "data": {
            "text/plain": [
              "[2, 4]"
            ]
          },
          "metadata": {},
          "execution_count": 33
        }
      ]
    },
    {
      "cell_type": "code",
      "source": [
        "# Problem 26\n",
        "def odd_numbers(l):\n",
        "    oddlist = []\n",
        "    for i in l:\n",
        "        if i % 2 != 0:\n",
        "            oddlist.append(i)\n",
        "    return oddlist\n",
        "\n",
        "odd_numbers([1, 2, 3, 4, 5])"
      ],
      "metadata": {
        "colab": {
          "base_uri": "https://localhost:8080/"
        },
        "id": "BWM2m08UkCHY",
        "outputId": "bc308714-0ec2-4817-88b9-56933c890066"
      },
      "execution_count": 34,
      "outputs": [
        {
          "output_type": "execute_result",
          "data": {
            "text/plain": [
              "[1, 3, 5]"
            ]
          },
          "metadata": {},
          "execution_count": 34
        }
      ]
    },
    {
      "cell_type": "code",
      "source": [
        "# Problem 27\n",
        "def build_person(first_name, last_name,age=''):\n",
        "    person={\"First name\":first_name, \"Last_name\":last_name}\n",
        "    if age:\n",
        "        person['age'] = age\n",
        "    return person\n",
        "\n",
        "build_person('Abdul','Subhan','17')"
      ],
      "metadata": {
        "colab": {
          "base_uri": "https://localhost:8080/"
        },
        "id": "EhYE5Lk8kmaV",
        "outputId": "e5cfcd37-7a00-4b19-ed35-f811d63b4514"
      },
      "execution_count": 35,
      "outputs": [
        {
          "output_type": "execute_result",
          "data": {
            "text/plain": [
              "{'First name': 'Abdul', 'Last_name': 'Subhan', 'age': '17'}"
            ]
          },
          "metadata": {},
          "execution_count": 35
        }
      ]
    },
    {
      "cell_type": "code",
      "source": [
        "# Problem 28\n",
        "names={\"Abdul Subhan\", \"Abdullah\", \"Abdul Rehman\", \"Umer\", \"Umair\", \"Asim\"}\n",
        "def person_name():\n",
        "    for name in names:\n",
        "        print(name)\n",
        "person_name()"
      ],
      "metadata": {
        "colab": {
          "base_uri": "https://localhost:8080/"
        },
        "id": "NBwobPXg9YyG",
        "outputId": "d6489389-0979-405e-ac4b-89ed8747ede1"
      },
      "execution_count": 36,
      "outputs": [
        {
          "output_type": "stream",
          "name": "stdout",
          "text": [
            "Abdul Subhan\n",
            "Umair\n",
            "Abdullah\n",
            "Asim\n",
            "Abdul Rehman\n",
            "Umer\n"
          ]
        }
      ]
    },
    {
      "cell_type": "code",
      "source": [
        "# Problem 29\n",
        "def pizza(*toppings):\n",
        "    for top in toppings:\n",
        "        print(top)\n",
        "pizza(\"Pappareno\", \"Double Chees\", \"Extra Chicken\")"
      ],
      "metadata": {
        "colab": {
          "base_uri": "https://localhost:8080/"
        },
        "id": "VDflG2we-VX4",
        "outputId": "4b5558ff-6e85-4c62-ceea-d064b9336a52"
      },
      "execution_count": 37,
      "outputs": [
        {
          "output_type": "stream",
          "name": "stdout",
          "text": [
            "Pappareno\n",
            "Double Chees\n",
            "Extra Chicken\n"
          ]
        }
      ]
    },
    {
      "cell_type": "code",
      "source": [
        "# Problem 30\n",
        "def build_profile(first, last, **user_profile):\n",
        "    profile = {}\n",
        "    profile[\"First name\"] = first\n",
        "    profile[\"Last name\"] = last\n",
        "\n",
        "    for key,value in user_profile.items():\n",
        "        profile[key] = value\n",
        "\n",
        "\n",
        "    return profile\n",
        "\n",
        "build_profile(\"Abdul\", \"Subhan\", Education = \"Intermediate\", College = \"Cantt College\")"
      ],
      "metadata": {
        "colab": {
          "base_uri": "https://localhost:8080/"
        },
        "id": "kRbuY0zchzOK",
        "outputId": "418a8638-00bb-45f0-ef85-282d78a50e54"
      },
      "execution_count": 38,
      "outputs": [
        {
          "output_type": "execute_result",
          "data": {
            "text/plain": [
              "{'First name': 'Abdul',\n",
              " 'Last name': 'Subhan',\n",
              " 'Education': 'Intermediate',\n",
              " 'College': 'Cantt College'}"
            ]
          },
          "metadata": {},
          "execution_count": 38
        }
      ]
    },
    {
      "cell_type": "code",
      "source": [
        "# Problem 31\n",
        "def findmax(l):\n",
        "    maximum = 0\n",
        "    for i in l:\n",
        "        if i > maximum:\n",
        "            maximum = i\n",
        "    print(maximum)\n",
        "\n",
        "findmax([2,3,5,4])"
      ],
      "metadata": {
        "colab": {
          "base_uri": "https://localhost:8080/"
        },
        "id": "M0iIdM5RlNe5",
        "outputId": "b5e32d2f-65c1-40ca-ef41-bcd9090eaccb"
      },
      "execution_count": 39,
      "outputs": [
        {
          "output_type": "stream",
          "name": "stdout",
          "text": [
            "5\n"
          ]
        }
      ]
    },
    {
      "cell_type": "code",
      "source": [
        "# Problem 32\n",
        "def count(text):\n",
        "    a = 0\n",
        "    b = 0\n",
        "    for i in text:\n",
        "        if i.isalpha():\n",
        "            a += 1\n",
        "        if i.isdigit():\n",
        "            b += 1\n",
        "    print(\"Words =\", a)\n",
        "    print(\"digits =\", b)\n",
        "\n",
        "count(\"Subhan2110\")"
      ],
      "metadata": {
        "colab": {
          "base_uri": "https://localhost:8080/"
        },
        "id": "htyleijdl0_R",
        "outputId": "0b7e71a5-e3ce-440d-9646-dad57c4838f1"
      },
      "execution_count": 40,
      "outputs": [
        {
          "output_type": "stream",
          "name": "stdout",
          "text": [
            "Words = 6\n",
            "digits = 4\n"
          ]
        }
      ]
    },
    {
      "cell_type": "code",
      "source": [
        "# Problem 33\n",
        "def maxword(text):\n",
        "    max_wordlength = 0\n",
        "    my_word = \"\"\n",
        "    words = text.split(\" \")\n",
        "    for i in words:\n",
        "        if len(i) > max_wordlength:\n",
        "            my_word = i\n",
        "    return my_word\n",
        "\n",
        "maxword(\"I am Abdul Subhan\")"
      ],
      "metadata": {
        "colab": {
          "base_uri": "https://localhost:8080/",
          "height": 36
        },
        "id": "0pAO_wjpmWSw",
        "outputId": "2d4443ad-5931-4f08-c69f-c0d02c472b3b"
      },
      "execution_count": 41,
      "outputs": [
        {
          "output_type": "execute_result",
          "data": {
            "text/plain": [
              "'Subhan'"
            ],
            "application/vnd.google.colaboratory.intrinsic+json": {
              "type": "string"
            }
          },
          "metadata": {},
          "execution_count": 41
        }
      ]
    },
    {
      "cell_type": "code",
      "source": [
        "# Problem 34\n",
        "def display_message():\n",
        "    print(\"I am learning this chapter about functions\")\n",
        "\n",
        "display_message()"
      ],
      "metadata": {
        "colab": {
          "base_uri": "https://localhost:8080/"
        },
        "id": "kCHbR8_jnOKS",
        "outputId": "8ef0935b-89fb-446c-c468-701caaf7be77"
      },
      "execution_count": 42,
      "outputs": [
        {
          "output_type": "stream",
          "name": "stdout",
          "text": [
            "I am learning this chapter about functions\n"
          ]
        }
      ]
    },
    {
      "cell_type": "code",
      "source": [
        "# Problem 35\n",
        "def favourite_book(title):\n",
        "    print(f\"My favourite book name is {title}\")\n",
        "\n",
        "favourite_book(\"The true religion Islam\")"
      ],
      "metadata": {
        "colab": {
          "base_uri": "https://localhost:8080/"
        },
        "id": "PKLJG5m7oayj",
        "outputId": "78f5497f-5a81-4562-abb9-caa6e02f18c8"
      },
      "execution_count": 43,
      "outputs": [
        {
          "output_type": "stream",
          "name": "stdout",
          "text": [
            "My favourite book name is The true religion Islam\n"
          ]
        }
      ]
    },
    {
      "cell_type": "code",
      "source": [
        "# Problem 36\n",
        "def make_shirt(message, size):\n",
        "    shirt = message + \" \" + size\n",
        "    print(f\"print message in shirt and size: {shirt}\")\n",
        "\n",
        "make_shirt(\"Legend\", \"large size\")"
      ],
      "metadata": {
        "colab": {
          "base_uri": "https://localhost:8080/"
        },
        "id": "S4iBW1vBom5v",
        "outputId": "d4684a81-732e-4777-e23a-06f5c2bea5d9"
      },
      "execution_count": 44,
      "outputs": [
        {
          "output_type": "stream",
          "name": "stdout",
          "text": [
            "print message in shirt and size: Legend large size\n"
          ]
        }
      ]
    },
    {
      "cell_type": "code",
      "source": [
        "# Problem 37\n",
        "def make_shirt():\n",
        "    print(f\"print message in shirt: 'I love python' & size: large\")\n",
        "\n",
        "    message = input(\"If you like to make your own style shirt, Enter your message to print on shirt: \")\n",
        "    print(f\"print message in shirt and size: {message}\")\n",
        "\n",
        "make_shirt()"
      ],
      "metadata": {
        "colab": {
          "base_uri": "https://localhost:8080/"
        },
        "id": "CdV2k02PpMJD",
        "outputId": "7937dd3c-6813-474d-af6f-5d541f9f477d"
      },
      "execution_count": 45,
      "outputs": [
        {
          "output_type": "stream",
          "name": "stdout",
          "text": [
            "print message in shirt: 'I love python' & size: large\n",
            "If you like to make your own style shirt, Enter your message to print on shirt: \n",
            "print message in shirt and size: \n"
          ]
        }
      ]
    },
    {
      "cell_type": "code",
      "source": [
        "# Problem 38\n",
        "def describe_city(city_name, country_name):\n",
        "    print(f\"{city_name} is in {country_name}\")\n",
        "\n",
        "describe_city(\"Karachi\", \"Pakistan\")"
      ],
      "metadata": {
        "colab": {
          "base_uri": "https://localhost:8080/"
        },
        "id": "TeRZfpCOppGf",
        "outputId": "48c44ab2-ecca-4fbe-96e5-2fb1bf9d9e88"
      },
      "execution_count": 46,
      "outputs": [
        {
          "output_type": "stream",
          "name": "stdout",
          "text": [
            "Karachi is in Pakistan\n"
          ]
        }
      ]
    },
    {
      "cell_type": "code",
      "source": [
        "# Problem 39\n",
        "def city_country(city_name, country_name):\n",
        "    print(city_name + \",\" + country_name)\n",
        "\n",
        "city_country(\"Lahore\", \"Pakistan\")"
      ],
      "metadata": {
        "colab": {
          "base_uri": "https://localhost:8080/"
        },
        "id": "PEQdQ05pq3Xs",
        "outputId": "48cd4642-139d-40d5-e998-f77abf556079"
      },
      "execution_count": 47,
      "outputs": [
        {
          "output_type": "stream",
          "name": "stdout",
          "text": [
            "Lahore,Pakistan\n"
          ]
        }
      ]
    },
    {
      "cell_type": "code",
      "source": [
        "# Problem 40\n",
        "def celsius_to_fahrenheit(celsius):\n",
        "    return celsius * (9/5) + 32\n",
        "\n",
        "print(celsius_to_fahrenheit(5))"
      ],
      "metadata": {
        "id": "o3CydUrUrCj_",
        "colab": {
          "base_uri": "https://localhost:8080/"
        },
        "outputId": "ce7be94b-ea89-4d66-a8af-429bcc727523"
      },
      "execution_count": 48,
      "outputs": [
        {
          "output_type": "stream",
          "name": "stdout",
          "text": [
            "41.0\n"
          ]
        }
      ]
    },
    {
      "cell_type": "code",
      "source": [
        "# Problem 41\n",
        "def count_words(sentence):\n",
        "    words = sentence.split()\n",
        "    return len(words)\n",
        "\n",
        "print(count_words(\"Python is fun\"))"
      ],
      "metadata": {
        "colab": {
          "base_uri": "https://localhost:8080/"
        },
        "id": "8Zwdkrm_Nl-c",
        "outputId": "a6a73029-0318-428e-e5db-74b1e2e3b3c8"
      },
      "execution_count": 49,
      "outputs": [
        {
          "output_type": "stream",
          "name": "stdout",
          "text": [
            "3\n"
          ]
        }
      ]
    },
    {
      "cell_type": "code",
      "source": [
        "# Problem 42\n",
        "def find_max(*args):\n",
        "    if not args:\n",
        "        return None\n",
        "    return max(args)\n",
        "\n",
        "print(find_max(5, 1, -10, 50))\n",
        "print(find_max())"
      ],
      "metadata": {
        "colab": {
          "base_uri": "https://localhost:8080/"
        },
        "id": "z2Gm5X-GOE28",
        "outputId": "5065a6cd-551d-4f72-ea8e-a32ea9793f80"
      },
      "execution_count": 50,
      "outputs": [
        {
          "output_type": "stream",
          "name": "stdout",
          "text": [
            "50\n",
            "None\n"
          ]
        }
      ]
    },
    {
      "cell_type": "code",
      "source": [
        "# Problem 43\n",
        "def is_prime(number):\n",
        "    if number < 2:\n",
        "        return False\n",
        "    for i in range(2, int(number ** 0.5) + 1):\n",
        "        if number % i == 0:\n",
        "            return False\n",
        "    return True\n",
        "\n",
        "print(is_prime(10))\n",
        "print(is_prime(13))"
      ],
      "metadata": {
        "colab": {
          "base_uri": "https://localhost:8080/"
        },
        "id": "rXOek-nvOQhl",
        "outputId": "fe60f58c-71f9-4ab0-814f-43111f407f40"
      },
      "execution_count": 51,
      "outputs": [
        {
          "output_type": "stream",
          "name": "stdout",
          "text": [
            "False\n",
            "True\n"
          ]
        }
      ]
    },
    {
      "cell_type": "code",
      "source": [
        "# Problem 44\n",
        "def reverse_string(text):\n",
        "    return text[::-1]\n",
        "\n",
        "print(reverse_string(\"Python\"))"
      ],
      "metadata": {
        "colab": {
          "base_uri": "https://localhost:8080/"
        },
        "id": "v-RkISZWPOR9",
        "outputId": "152c9b83-9591-4578-d90e-318aa7239c57"
      },
      "execution_count": 52,
      "outputs": [
        {
          "output_type": "stream",
          "name": "stdout",
          "text": [
            "nohtyP\n"
          ]
        }
      ]
    },
    {
      "cell_type": "code",
      "source": [
        "# Python 45\n",
        "def is_palindrome(word):\n",
        "    return word == word[::-1]\n",
        "\n",
        "print(is_palindrome(\"racecar\"))"
      ],
      "metadata": {
        "id": "KPRV12zQPmOu",
        "colab": {
          "base_uri": "https://localhost:8080/"
        },
        "outputId": "52a60808-c1b0-4665-a877-7180112dde04"
      },
      "execution_count": 53,
      "outputs": [
        {
          "output_type": "stream",
          "name": "stdout",
          "text": [
            "True\n"
          ]
        }
      ]
    },
    {
      "cell_type": "code",
      "source": [
        "# Problem 46\n",
        "def list_average(numbers):\n",
        "    if not numbers:\n",
        "        return None\n",
        "    return sum(numbers) / len(numbers)\n",
        "\n",
        "print(list_average([10, 20, 30]))\n",
        "print(list_average([]))"
      ],
      "metadata": {
        "colab": {
          "base_uri": "https://localhost:8080/"
        },
        "id": "O0muNGxpn60b",
        "outputId": "add87c62-da35-462a-caee-7d7e2b95892f"
      },
      "execution_count": 54,
      "outputs": [
        {
          "output_type": "stream",
          "name": "stdout",
          "text": [
            "20.0\n",
            "None\n"
          ]
        }
      ]
    },
    {
      "cell_type": "code",
      "source": [
        "# Problem 47\n",
        "def count_vowels(text):\n",
        "    vowels = \"aeiouAEIOU\"\n",
        "    return sum(1 for i in text if i in vowels)\n",
        "\n",
        "print(count_vowels(\"Hello World\"))"
      ],
      "metadata": {
        "colab": {
          "base_uri": "https://localhost:8080/"
        },
        "id": "3Yo_hAiCop0F",
        "outputId": "a8149095-7174-4db7-f74f-29531c39efd7"
      },
      "execution_count": 65,
      "outputs": [
        {
          "output_type": "stream",
          "name": "stdout",
          "text": [
            "3\n"
          ]
        }
      ]
    },
    {
      "cell_type": "code",
      "source": [
        "# Problem 48\n",
        "def gcd(a, b):\n",
        "    while b:\n",
        "        a, b = b, a % b\n",
        "    return a\n",
        "\n",
        "print(gcd(48, 18))"
      ],
      "metadata": {
        "id": "afdRP5P-pkSh",
        "colab": {
          "base_uri": "https://localhost:8080/"
        },
        "outputId": "9724f0ef-9666-4b3a-be96-060e6838fe8c"
      },
      "execution_count": 66,
      "outputs": [
        {
          "output_type": "stream",
          "name": "stdout",
          "text": [
            "6\n"
          ]
        }
      ]
    },
    {
      "cell_type": "code",
      "source": [
        "# Problem 49\n",
        "def fibonacci(n):\n",
        "    fib_seq = []\n",
        "    a, b = 0, 1\n",
        "    for _ in range(n):\n",
        "        fib_seq.append(a)\n",
        "        a, b = b, a + b\n",
        "    return fib_seq\n",
        "\n",
        "print(fibonacci(5))"
      ],
      "metadata": {
        "colab": {
          "base_uri": "https://localhost:8080/"
        },
        "id": "XVViiP0_nDX0",
        "outputId": "9f3187fd-2284-49d2-9ccb-ee4a7132cbaa"
      },
      "execution_count": 67,
      "outputs": [
        {
          "output_type": "stream",
          "name": "stdout",
          "text": [
            "[0, 1, 1, 2, 3]\n"
          ]
        }
      ]
    },
    {
      "cell_type": "code",
      "source": [
        "# Problem 50\n",
        "def is_armstrong(number):\n",
        "    digits = [int(digit) for digit in str(number)]\n",
        "    num_digits = len(digits)\n",
        "    return sum(digit ** num_digits for digit in digits) == number\n",
        "\n",
        "print(is_armstrong(153))\n",
        "print(is_armstrong(123))"
      ],
      "metadata": {
        "colab": {
          "base_uri": "https://localhost:8080/"
        },
        "id": "uKzeFad7njuL",
        "outputId": "24ea0df3-743c-4212-d922-ac210b47dfdd"
      },
      "execution_count": 68,
      "outputs": [
        {
          "output_type": "stream",
          "name": "stdout",
          "text": [
            "True\n",
            "False\n"
          ]
        }
      ]
    },
    {
      "cell_type": "code",
      "source": [
        "# Problem 51\n",
        "def find_unique(numbers):\n",
        "    return [i for i in numbers if numbers.count(i) == 1]\n",
        "\n",
        "print(find_unique([1, 2, 2, 3, 4, 4, 5]))"
      ],
      "metadata": {
        "colab": {
          "base_uri": "https://localhost:8080/"
        },
        "id": "Wu0rYqgToQTj",
        "outputId": "43ba5582-17db-48fd-b0bc-68cb301e68f1"
      },
      "execution_count": 73,
      "outputs": [
        {
          "output_type": "stream",
          "name": "stdout",
          "text": [
            "[1, 3, 5]\n"
          ]
        }
      ]
    },
    {
      "cell_type": "code",
      "source": [
        "# Problem 52\n",
        "def count_occurrences(text):\n",
        "    return {i: text.count(i) for i in list(text)}\n",
        "\n",
        "print(count_occurrences(\"hello\"))"
      ],
      "metadata": {
        "colab": {
          "base_uri": "https://localhost:8080/"
        },
        "id": "sfLOeFvppJ_8",
        "outputId": "eeb56ec1-85e9-450c-b111-ea957a3f7744"
      },
      "execution_count": 76,
      "outputs": [
        {
          "output_type": "stream",
          "name": "stdout",
          "text": [
            "{'h': 1, 'e': 1, 'l': 2, 'o': 1}\n"
          ]
        }
      ]
    },
    {
      "cell_type": "code",
      "source": [
        "# Problem 53\n",
        "def iterative_factorial(n):\n",
        "    result = 1\n",
        "    for i in range(1, n + 1):\n",
        "        result *= i\n",
        "    return result\n",
        "\n",
        "print(iterative_factorial(5))"
      ],
      "metadata": {
        "colab": {
          "base_uri": "https://localhost:8080/"
        },
        "id": "YeGEJTRPqPzT",
        "outputId": "76342753-5b67-4a8a-ace0-27c5278d350b"
      },
      "execution_count": 77,
      "outputs": [
        {
          "output_type": "stream",
          "name": "stdout",
          "text": [
            "120\n"
          ]
        }
      ]
    },
    {
      "cell_type": "code",
      "source": [
        "# Problem 54\n",
        "def are_anagrams(str1, str2):\n",
        "    return sorted(str1) == sorted(str2)\n",
        "\n",
        "print(are_anagrams(\"listen\", \"silent\"))\n",
        "print(are_anagrams(\"hello\", \"world\"))"
      ],
      "metadata": {
        "colab": {
          "base_uri": "https://localhost:8080/"
        },
        "id": "VxgN_TqhqoBl",
        "outputId": "568339c7-0e39-4138-d6fc-e33e0cc18129"
      },
      "execution_count": 78,
      "outputs": [
        {
          "output_type": "stream",
          "name": "stdout",
          "text": [
            "True\n",
            "False\n"
          ]
        }
      ]
    },
    {
      "cell_type": "code",
      "source": [
        "# Problem 55\n",
        "def second_largest(numbers):\n",
        "    unique_numbers = list(set(numbers))\n",
        "    unique_numbers.sort()\n",
        "    return unique_numbers[-2] if len(unique_numbers) >= 2 else None\n",
        "\n",
        "print(second_largest([10, 20, 30, 40, 50]))\n",
        "print(second_largest([5, 5, 5]))"
      ],
      "metadata": {
        "colab": {
          "base_uri": "https://localhost:8080/"
        },
        "id": "_0wL5q8Cq94V",
        "outputId": "268501a4-cab2-4da7-dc3f-a240472d080d"
      },
      "execution_count": 88,
      "outputs": [
        {
          "output_type": "stream",
          "name": "stdout",
          "text": [
            "40\n",
            "None\n"
          ]
        }
      ]
    },
    {
      "cell_type": "code",
      "source": [
        "# Problem 56\n",
        "def remove_duplicates(numbers):\n",
        "    return list(set(numbers))\n",
        "\n",
        "print(remove_duplicates([1, 2, 2, 3, 4, 4, 5]))"
      ],
      "metadata": {
        "colab": {
          "base_uri": "https://localhost:8080/"
        },
        "id": "53MmqGDCrSix",
        "outputId": "5cbc9f56-37de-4619-d9e7-1a8326b26cdf"
      },
      "execution_count": 91,
      "outputs": [
        {
          "output_type": "stream",
          "name": "stdout",
          "text": [
            "[1, 2, 3, 4, 5]\n"
          ]
        }
      ]
    },
    {
      "cell_type": "code",
      "source": [
        "# Problem 57\n",
        "def count_words_starting_with(sentence, letter):\n",
        "    words = sentence.split()\n",
        "    return sum(1 for i in words if i.lower().startswith(letter.lower()))\n",
        "\n",
        "print(count_words_starting_with(\"Abdul Subhan Abdullah\", \"a\"))"
      ],
      "metadata": {
        "colab": {
          "base_uri": "https://localhost:8080/"
        },
        "id": "TrZmxoP7szxh",
        "outputId": "913df89d-ef5e-455f-bab1-7a2875e2dd2a"
      },
      "execution_count": 100,
      "outputs": [
        {
          "output_type": "stream",
          "name": "stdout",
          "text": [
            "2\n"
          ]
        }
      ]
    },
    {
      "cell_type": "code",
      "source": [
        "# Problem 58\n",
        "def find_common_elements(list1, list2):\n",
        "    return list(set(list1) & set(list2))\n",
        "\n",
        "print(find_common_elements([1, 2, 3, 4], [3, 4, 5, 6]))"
      ],
      "metadata": {
        "colab": {
          "base_uri": "https://localhost:8080/"
        },
        "id": "ro9Z_0antLUx",
        "outputId": "e5f6c8f4-9a57-4226-f018-dd4800480915"
      },
      "execution_count": 103,
      "outputs": [
        {
          "output_type": "stream",
          "name": "stdout",
          "text": [
            "[3, 4]\n"
          ]
        }
      ]
    },
    {
      "cell_type": "code",
      "source": [
        "# Problem 59\n",
        "def case_counter(text):\n",
        "    result = {'uppercase': 0, 'lowercase': 0}\n",
        "    for i in text:\n",
        "        if i.isupper():\n",
        "            result['uppercase'] += 1\n",
        "        elif i.islower():\n",
        "            result['lowercase'] += 1\n",
        "    return result\n",
        "\n",
        "print(case_counter(\"Hello World\"))"
      ],
      "metadata": {
        "colab": {
          "base_uri": "https://localhost:8080/"
        },
        "id": "UEZDX7XZvGmN",
        "outputId": "0829fd34-d896-4892-a620-ea22b064978e"
      },
      "execution_count": 107,
      "outputs": [
        {
          "output_type": "stream",
          "name": "stdout",
          "text": [
            "{'uppercase': 2, 'lowercase': 8}\n"
          ]
        }
      ]
    },
    {
      "cell_type": "code",
      "source": [
        "# Problem 60\n",
        "def longest_word(sentence):\n",
        "    return max(sentence.split())\n",
        "\n",
        "print(longest_word(\"I love programming in Python\"))"
      ],
      "metadata": {
        "colab": {
          "base_uri": "https://localhost:8080/"
        },
        "id": "Ou2XAnnYwaMQ",
        "outputId": "c80f58c0-5f02-4d1a-966d-0d7e3de7fe06"
      },
      "execution_count": 112,
      "outputs": [
        {
          "output_type": "stream",
          "name": "stdout",
          "text": [
            "programming\n"
          ]
        }
      ]
    },
    {
      "cell_type": "code",
      "source": [
        "# Problem 61\n",
        "def count_even_odd(numbers):\n",
        "    result = {'even': 0, 'odd': 0}\n",
        "    for i in numbers:\n",
        "        if i % 2 == 0:\n",
        "            result['even'] += 1\n",
        "        else:\n",
        "            result['odd'] += 1\n",
        "    return result\n",
        "\n",
        "print(count_even_odd([1, 2, 3, 4, 5]))"
      ],
      "metadata": {
        "colab": {
          "base_uri": "https://localhost:8080/"
        },
        "id": "eyiq0OCwxiuP",
        "outputId": "ad20e909-ee4e-4dce-850b-9bade68334fc"
      },
      "execution_count": 115,
      "outputs": [
        {
          "output_type": "stream",
          "name": "stdout",
          "text": [
            "{'even': 2, 'odd': 3}\n"
          ]
        }
      ]
    },
    {
      "cell_type": "code",
      "source": [
        "# Problem 62\n",
        "def find_divisors(n):\n",
        "    return [i for i in range(1, n + 1) if n % i == 0]\n",
        "\n",
        "print(find_divisors(12))"
      ],
      "metadata": {
        "colab": {
          "base_uri": "https://localhost:8080/"
        },
        "id": "qxzhARaSyG3C",
        "outputId": "cc0c68ea-79b6-4619-84d1-e0ea355d22b4"
      },
      "execution_count": 116,
      "outputs": [
        {
          "output_type": "stream",
          "name": "stdout",
          "text": [
            "[1, 2, 3, 4, 6, 12]\n"
          ]
        }
      ]
    },
    {
      "cell_type": "code",
      "source": [
        "# Problem 63\n",
        "def count_consonants(text):\n",
        "    vowels = \"aeiouAEIOU\"\n",
        "    return sum(1 for i in text if i.isalpha() and i not in vowels)\n",
        "\n",
        "print(count_consonants(\"Hello World\"))"
      ],
      "metadata": {
        "colab": {
          "base_uri": "https://localhost:8080/"
        },
        "id": "t9uKsWoYysTU",
        "outputId": "d615e833-741f-46cd-d80f-ae771c62ec8b"
      },
      "execution_count": 120,
      "outputs": [
        {
          "output_type": "stream",
          "name": "stdout",
          "text": [
            "7\n"
          ]
        }
      ]
    },
    {
      "cell_type": "code",
      "source": [
        "# Problem 64\n",
        "def power(base, exponent):\n",
        "    result = 1\n",
        "    for i in range(exponent):\n",
        "        result *= base\n",
        "    return result\n",
        "\n",
        "print(power(2, 3))"
      ],
      "metadata": {
        "colab": {
          "base_uri": "https://localhost:8080/"
        },
        "id": "pB1aH8ZnzAOQ",
        "outputId": "9626d578-9727-484f-d46d-379cf32baea3"
      },
      "execution_count": 125,
      "outputs": [
        {
          "output_type": "stream",
          "name": "stdout",
          "text": [
            "8\n"
          ]
        }
      ]
    },
    {
      "cell_type": "code",
      "source": [
        "# Problem 65\n",
        "def merge_dicts(dict1, dict2):\n",
        "    merged = dict1.copy()\n",
        "    merged.update(dict2)\n",
        "    return merged\n",
        "\n",
        "print(merge_dicts({\"a\": 1, \"b\": 2}, {\"c\": 3, \"d\": 4}))"
      ],
      "metadata": {
        "colab": {
          "base_uri": "https://localhost:8080/"
        },
        "id": "QJo7v3HozlLp",
        "outputId": "e0af94df-69ad-4099-c54c-2334d9cbeaef"
      },
      "execution_count": 126,
      "outputs": [
        {
          "output_type": "stream",
          "name": "stdout",
          "text": [
            "{'a': 1, 'b': 2, 'c': 3, 'd': 4}\n"
          ]
        }
      ]
    },
    {
      "cell_type": "code",
      "source": [
        "# Problem 66\n",
        "def find_missing_number(numbers):\n",
        "    n = len(numbers) + 1\n",
        "    expected_sum = n * (n + 1) // 2\n",
        "    actual_sum = sum(numbers)\n",
        "    return expected_sum - actual_sum\n",
        "\n",
        "print(find_missing_number([1, 2, 4, 5]))"
      ],
      "metadata": {
        "colab": {
          "base_uri": "https://localhost:8080/"
        },
        "id": "TPiAprrf0i8S",
        "outputId": "ca8bf5a9-5c09-4c6d-f042-957829365bf2"
      },
      "execution_count": 134,
      "outputs": [
        {
          "output_type": "stream",
          "name": "stdout",
          "text": [
            "3\n"
          ]
        }
      ]
    },
    {
      "cell_type": "code",
      "source": [
        "# Problem 67\n",
        "def is_sorted(numbers):\n",
        "    return numbers == sorted(numbers)\n",
        "\n",
        "print(is_sorted([1, 2, 3, 4, 5]))\n",
        "print(is_sorted([5, 3, 1]))"
      ],
      "metadata": {
        "colab": {
          "base_uri": "https://localhost:8080/"
        },
        "id": "pY_pvLKc1TN7",
        "outputId": "83407587-fceb-4eb8-d264-67ed0f3fbcf4"
      },
      "execution_count": 135,
      "outputs": [
        {
          "output_type": "stream",
          "name": "stdout",
          "text": [
            "True\n",
            "False\n"
          ]
        }
      ]
    },
    {
      "cell_type": "code",
      "source": [
        "# Problem 68\n",
        "def compound_interest(principal, rate, time, n):\n",
        "    amount = principal * (1 + rate / n) ** (n * time)\n",
        "    return round(amount, 2)\n",
        "\n",
        "print(compound_interest(1000, 0.05, 10, 12))"
      ],
      "metadata": {
        "colab": {
          "base_uri": "https://localhost:8080/"
        },
        "id": "-2ekZHo62P_r",
        "outputId": "bf387a5f-b8cc-4323-d9f7-1eb93f141d9b"
      },
      "execution_count": 140,
      "outputs": [
        {
          "output_type": "stream",
          "name": "stdout",
          "text": [
            "1647.01\n"
          ]
        }
      ]
    },
    {
      "cell_type": "code",
      "source": [
        "# Problem 69\n",
        "def sort_words(sentence):\n",
        "    words = sentence.split()\n",
        "    return sorted(words)\n",
        "\n",
        "print(sort_words(\"My name is Abdul Subhan\"))"
      ],
      "metadata": {
        "colab": {
          "base_uri": "https://localhost:8080/"
        },
        "id": "Yk1twJ2c3JRE",
        "outputId": "81244ebb-8524-4df3-cdaa-c015e738eeb0"
      },
      "execution_count": 145,
      "outputs": [
        {
          "output_type": "stream",
          "name": "stdout",
          "text": [
            "['Abdul', 'My', 'Subhan', 'is', 'name']\n"
          ]
        }
      ]
    },
    {
      "cell_type": "code",
      "source": [
        "# Problem 70\n",
        "def is_perfect(number):\n",
        "    divisors = [i for i in range(1, number) if number % i == 0]\n",
        "    return sum(divisors) == number\n",
        "\n",
        "print(is_perfect(6))"
      ],
      "metadata": {
        "colab": {
          "base_uri": "https://localhost:8080/"
        },
        "id": "MzH2yIhy3hp4",
        "outputId": "51738b20-9a90-4e44-d86f-c3b92a6fa3b8"
      },
      "execution_count": 148,
      "outputs": [
        {
          "output_type": "stream",
          "name": "stdout",
          "text": [
            "True\n"
          ]
        }
      ]
    },
    {
      "cell_type": "code",
      "source": [],
      "metadata": {
        "id": "oMtdgWs_4yYF"
      },
      "execution_count": null,
      "outputs": []
    }
  ]
}