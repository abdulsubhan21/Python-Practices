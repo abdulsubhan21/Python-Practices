{
  "nbformat": 4,
  "nbformat_minor": 0,
  "metadata": {
    "colab": {
      "provenance": []
    },
    "kernelspec": {
      "name": "python3",
      "display_name": "Python 3"
    },
    "language_info": {
      "name": "python"
    }
  },
  "cells": [
    {
      "cell_type": "code",
      "source": [
        "name = input(\"Enter The Name: \")\n",
        "subject_1 = float(input(\"Enter The Subject 1 Marks: \"))\n",
        "subject_2 = float(input(\"Enter The Subject 2 Marks: \"))\n",
        "subject_3 = float(input(\"Enter The Subject 3 Marks: \"))\n",
        "subject_4 = float(input(\"Enter The Subject 4 Marks: \"))\n",
        "subject_5 = float(input(\"Enter The Subject 5 Marks: \"))\n",
        "\n",
        "marks = [subject_1, subject_2, subject_3, subject_4, subject_5]\n",
        "grade = sum(marks) / len(marks)\n",
        "\n",
        "if grade >= 80:\n",
        "   performance = \"Very Exellent\"\n",
        "\n",
        "elif grade >= 70 and grade <= 79:\n",
        "     performance = \"Exellent\"\n",
        "\n",
        "elif grade >= 60 and grade <= 69:\n",
        "     performance = \"Very Good\"\n",
        "\n",
        "elif grade >= 50 and grade <= 59:\n",
        "     performance = \"Good\"\n",
        "\n",
        "elif grade >= 40 and grade <= 49:\n",
        "     performance = \"Average\"\n",
        "\n",
        "else:\n",
        "     performance = \"Fail\"\n",
        "\n",
        "print(f'''\n",
        "\n",
        "Students Report Card\n",
        "\n",
        "Student Name: {name}\n",
        "Student Subjects Marks: {marks}\n",
        "Student Grade: {grade}\n",
        "Student Performance: {performance}''')"
      ],
      "metadata": {
        "id": "s_QUFtVlLdca",
        "colab": {
          "base_uri": "https://localhost:8080/"
        },
        "outputId": "7a1ed298-1bca-44d2-f89c-4a770e278096"
      },
      "execution_count": null,
      "outputs": [
        {
          "output_type": "stream",
          "name": "stdout",
          "text": [
            "Enter The Name: Abdul Subhan\n",
            "Enter The Subject 1 Marks: 74\n",
            "Enter The Subject 2 Marks: 78\n",
            "Enter The Subject 3 Marks: 95\n",
            "Enter The Subject 4 Marks: 76\n",
            "Enter The Subject 5 Marks: 80\n",
            "\n",
            "\n",
            "Students Report Card\n",
            "\n",
            "Student Name: Abdul Subhan\n",
            "Student Subjects Marks: [74.0, 78.0, 95.0, 76.0, 80.0]\n",
            "Student Grade: 80.6\n",
            "Student Performance: Very Exellent\n"
          ]
        }
      ]
    },
    {
      "cell_type": "code",
      "source": [
        "name = input(\"Enter the name: \")\n",
        "\n",
        "item_1 = input(\"Enter the item 1: \")\n",
        "item_1_price = int(input(\"Enter the item 1 price: \"))\n",
        "\n",
        "item_2 = input(\"Enter the item 2: \")\n",
        "item_2_price = int(input(\"Enter the item 2 price: \"))\n",
        "\n",
        "item_3 = input(\"Enter the item 3: \")\n",
        "item_3_price = int(input(\"Enter the item 3 price: \"))\n",
        "\n",
        "item_names = [item_1, item_2, item_3]\n",
        "item_prices = [item_1_price, item_2_price, item_3_price]\n",
        "\n",
        "total_price = sum(item_prices)\n",
        "\n",
        "if total_price > 10000:\n",
        "   discount_amount = total_price * 10 / 100\n",
        "   final_price = total_price - discount_amount\n",
        "   discount = f\" {discount_amount}\"\n",
        "\n",
        "else:\n",
        "     final_price = total_price\n",
        "     discount = \"No discount.\"\n",
        "\n",
        "print(f'''\n",
        "\n",
        "Shopping Bill\n",
        "\n",
        "Customer Name: {name}\n",
        "Items: {item_names}\n",
        "Prices: {item_prices}\n",
        "Total Price: {total_price}\n",
        "10% Discount: {discount}\n",
        "Final Price: {final_price}''')"
      ],
      "metadata": {
        "id": "fqCBYX6rnUf2",
        "colab": {
          "base_uri": "https://localhost:8080/"
        },
        "outputId": "14458770-6ddd-4e29-b8f6-3b938b073dc9"
      },
      "execution_count": null,
      "outputs": [
        {
          "output_type": "stream",
          "name": "stdout",
          "text": [
            "Enter the name: Abdul Subhan\n",
            "Enter the item 1: T.V.\n",
            "Enter the item 1 price: 17000\n",
            "Enter the item 2: Remote\n",
            "Enter the item 2 price: 1000\n",
            "Enter the item 3: Cable Wire\n",
            "Enter the item 3 price: 2000\n",
            "\n",
            "\n",
            "Shopping Bill\n",
            "\n",
            "Customer Name: Abdul Subhan\n",
            "Items: ['T.V.', 'Remote', 'Cable Wire']\n",
            "Prices: [17000, 1000, 2000]\n",
            "Total Price: 20000\n",
            "10% Discount:  2000.0\n",
            "Final Price: 18000.0\n"
          ]
        }
      ]
    },
    {
      "cell_type": "code",
      "source": [
        "name = input(\"Enter the student name: \")\n",
        "age = int(input(\"Enter the student age: \"))\n",
        "\n",
        "math_numbers = float(input(\"Enter the student maths numbers: \"))\n",
        "science_numbers = float(input(\"Enter the student science numbers: \"))\n",
        "english_numbers = float(input(\"Enter the student english numbers: \"))\n",
        "\n",
        "numbers = [math_numbers, science_numbers, english_numbers]\n",
        "\n",
        "student_info = {\"name\": name, \"age\": age, \"numbers\": numbers}\n",
        "\n",
        "total_numbers = 0\n",
        "for i in numbers:\n",
        "    total_numbers += i\n",
        "\n",
        "percentage = total_numbers / len(numbers)\n",
        "\n",
        "student_info[\"percentage\"] = percentage\n",
        "\n",
        "if percentage >= 80:\n",
        "   grade = \"A+\"\n",
        "elif 70 <= percentage <= 79:\n",
        "     grade = \"A\"\n",
        "elif 60 <= percentage <= 69:\n",
        "     grade = \"B\"\n",
        "elif 50 <= percentage <= 59:\n",
        "     grade = \"C\"\n",
        "elif 40 <= percentage <= 49:\n",
        "     grade = \"D\"\n",
        "else:\n",
        "     grade = \"Fail\"\n",
        "\n",
        "print(f'''\n",
        "Student Performance Report:\n",
        "\n",
        "Name: {student_info[\"name\"]}\n",
        "Age: {student_info[\"age\"]}\n",
        "Scores: Math: {math_numbers}, Science: {science_numbers}, English: {english_numbers}\n",
        "Percentage: {percentage:.1f}\n",
        "Grade: {grade}''')"
      ],
      "metadata": {
        "id": "lIcw9LF64c-H",
        "colab": {
          "base_uri": "https://localhost:8080/"
        },
        "outputId": "8db3f116-debf-47a0-a804-ca1af74c7fe5"
      },
      "execution_count": null,
      "outputs": [
        {
          "output_type": "stream",
          "name": "stdout",
          "text": [
            "Enter the student name: Abdul Subhan\n",
            "Enter the student age: 17\n",
            "Enter the student maths numbers: 76\n",
            "Enter the student science numbers: 95\n",
            "Enter the student english numbers: 80\n",
            "\n",
            "Student Performance Report:\n",
            "\n",
            "Name: Abdul Subhan\n",
            "Age: 17\n",
            "Scores: Math: 76.0, Science: 95.0, English: 80.0\n",
            "Percentage: 83.7\n",
            "Grade: A+\n"
          ]
        }
      ]
    },
    {
      "cell_type": "code",
      "source": [
        "name = input(\"Enter your name: \").strip().title()\n",
        "age = int(input(\"Enter your age: \"))\n",
        "nationality = input(\"Enter your nationality: \").strip().title()\n",
        "skills = input(\"Enter at least 3 skills: \").strip().split()\n",
        "\n",
        "if len(skills) < 3:\n",
        "   print(\"You must enter at least 3 skills.\")\n",
        "else:\n",
        "     print(f'''\n",
        "    Personal Information:\n",
        "\n",
        "    Name: {name}\n",
        "    Age: {age}\n",
        "    Nationality: {nationality}\n",
        "    Skills: {', '.join([skill.strip().title() for skill in skills])}\n",
        "    ''')\n",
        "\n",
        "if age >= 18:\n",
        "   print(\"You are eligible to apply for the job.\")\n",
        "else:\n",
        "     print(\"You are not eligible to apply for the job.\")"
      ],
      "metadata": {
        "id": "XYAS2qR61fE1",
        "colab": {
          "base_uri": "https://localhost:8080/"
        },
        "outputId": "cb4b213e-97e0-4437-a529-5e08afd7ef5e"
      },
      "execution_count": null,
      "outputs": [
        {
          "output_type": "stream",
          "name": "stdout",
          "text": [
            "Enter your name: Abdul Subhan\n",
            "Enter your age: 17\n",
            "Enter your nationality: Pakistani\n",
            "Enter at least 3 skills: HTML CSS Python\n",
            "\n",
            "    Personal Information:\n",
            "\n",
            "    Name: Abdul Subhan\n",
            "    Age: 17\n",
            "    Nationality: Pakistani\n",
            "    Skills: Html, Css, Python\n",
            "    \n",
            "You are not eligible to apply for the job.\n"
          ]
        }
      ]
    },
    {
      "cell_type": "code",
      "source": [
        "import random\n",
        "jackpot = random.randint(1, 100)\n",
        "\n",
        "guess = int(input(\"Enter the number between 1 to 100: \"))\n",
        "counter = 1\n",
        "\n",
        "while guess != jackpot:\n",
        "      if guess < jackpot:\n",
        "         print(\"Guess higher number\")\n",
        "      else:\n",
        "           print(\"Guess lower number\")\n",
        "\n",
        "      guess = int(input(\"Enter the number between 1 to 100: \"))\n",
        "      counter += 1\n",
        "\n",
        "print(\"Correct answer\")\n",
        "print(\"You took\",counter,\"attempts\")"
      ],
      "metadata": {
        "id": "HV-2LxNFQci3",
        "colab": {
          "base_uri": "https://localhost:8080/"
        },
        "outputId": "18d8678c-6b69-4770-b3a8-8317e4a08f99"
      },
      "execution_count": null,
      "outputs": [
        {
          "output_type": "stream",
          "name": "stdout",
          "text": [
            "Enter the number between 1 to 100: 50\n",
            "Guess lower number\n",
            "Enter the number between 1 to 100: 10\n",
            "Guess higher number\n",
            "Enter the number between 1 to 100: 40\n",
            "Guess lower number\n",
            "Enter the number between 1 to 100: 20\n",
            "Guess higher number\n",
            "Enter the number between 1 to 100: 30\n",
            "Guess lower number\n",
            "Enter the number between 1 to 100: 25\n",
            "Guess higher number\n",
            "Enter the number between 1 to 100: 28\n",
            "Guess higher number\n",
            "Enter the number between 1 to 100: 29\n",
            "Correct answer\n",
            "You took 8 attempts\n"
          ]
        }
      ]
    },
    {
      "cell_type": "code",
      "source": [
        "# Problem 1\n",
        "def square(number):\n",
        "  return number ** 2\n",
        "\n",
        "print(square(5))"
      ],
      "metadata": {
        "colab": {
          "base_uri": "https://localhost:8080/"
        },
        "id": "ZvOKkwdX4uUs",
        "outputId": "006f1f75-8eba-424a-d7d9-f594e20c409b"
      },
      "execution_count": null,
      "outputs": [
        {
          "output_type": "stream",
          "name": "stdout",
          "text": [
            "25\n"
          ]
        }
      ]
    },
    {
      "cell_type": "code",
      "source": [
        "# Problem 2\n",
        "def add(a, b):\n",
        "  return a + b\n",
        "\n",
        "print(add(5, 5))"
      ],
      "metadata": {
        "colab": {
          "base_uri": "https://localhost:8080/"
        },
        "id": "MKOtTRM98cHt",
        "outputId": "f53a97fa-c04d-4b83-b065-3a6a41d4cc5f"
      },
      "execution_count": null,
      "outputs": [
        {
          "output_type": "stream",
          "name": "stdout",
          "text": [
            "10\n"
          ]
        }
      ]
    },
    {
      "cell_type": "code",
      "source": [
        "# Problem 3\n",
        "def multiply(a, b):\n",
        "  return a * b\n",
        "\n",
        "print(multiply(5, 5))"
      ],
      "metadata": {
        "colab": {
          "base_uri": "https://localhost:8080/"
        },
        "id": "h3Ckw6Lr-f63",
        "outputId": "970e1095-1140-4ae1-ad48-c949890fe05f"
      },
      "execution_count": null,
      "outputs": [
        {
          "output_type": "stream",
          "name": "stdout",
          "text": [
            "25\n"
          ]
        }
      ]
    },
    {
      "cell_type": "code",
      "source": [
        "# Problem 4\n",
        "def circle_status(radius):\n",
        "  area = 3.14 * radius ** 2\n",
        "  circumference = 2 * 3.14 * radius\n",
        "  return area, circumference\n",
        "\n",
        "result_1, result_2 = circle_status(5)\n",
        "print(\"Area:\", result_1)\n",
        "print(\"Circumference:\", result_2)"
      ],
      "metadata": {
        "colab": {
          "base_uri": "https://localhost:8080/"
        },
        "id": "JC8KpDzNAUNj",
        "outputId": "ce319270-c078-48fd-c631-a63905bb3283"
      },
      "execution_count": null,
      "outputs": [
        {
          "output_type": "stream",
          "name": "stdout",
          "text": [
            "Area: 78.5\n",
            "Circumference: 31.400000000000002\n"
          ]
        }
      ]
    },
    {
      "cell_type": "code",
      "source": [
        "# Problem 5\n",
        "def greet(name = \"User\"):\n",
        "  return \"Hello \" + name + \"!\"\n",
        "\n",
        "print(greet())\n",
        "print(greet(\"Abdul Subhan\"))"
      ],
      "metadata": {
        "colab": {
          "base_uri": "https://localhost:8080/"
        },
        "id": "T-FWH6EQDjbi",
        "outputId": "32aeebd8-ca38-4529-a6df-4c5ad9850787"
      },
      "execution_count": null,
      "outputs": [
        {
          "output_type": "stream",
          "name": "stdout",
          "text": [
            "Hello User!\n",
            "Hello Abdul Subhan!\n"
          ]
        }
      ]
    },
    {
      "cell_type": "code",
      "source": [
        "# Problem 6\n",
        "def cube(number):\n",
        "  return number ** 3\n",
        "\n",
        "print(cube(5))"
      ],
      "metadata": {
        "colab": {
          "base_uri": "https://localhost:8080/"
        },
        "id": "AQAdSeTlGcU6",
        "outputId": "b01bb05f-d243-4724-fc9a-b9900f730c40"
      },
      "execution_count": null,
      "outputs": [
        {
          "output_type": "stream",
          "name": "stdout",
          "text": [
            "125\n"
          ]
        }
      ]
    },
    {
      "cell_type": "code",
      "source": [
        "# Problem 7\n",
        "def sum_all(*args):\n",
        "  return sum(args)\n",
        "\n",
        "print(sum_all(1, 2, 3, 4, 5))"
      ],
      "metadata": {
        "colab": {
          "base_uri": "https://localhost:8080/"
        },
        "id": "FCAMt2ueXgkB",
        "outputId": "68bc36d6-1f79-497f-b7c6-7c7b6364f7b9"
      },
      "execution_count": null,
      "outputs": [
        {
          "output_type": "stream",
          "name": "stdout",
          "text": [
            "15\n"
          ]
        }
      ]
    },
    {
      "cell_type": "code",
      "source": [
        "# Problem 8\n",
        "def print_kwargs(**kwargs):\n",
        "  for key, value in kwargs.items():\n",
        "    print(f\"{key}: {value}\")\n",
        "\n",
        "print_kwargs(Name = \"Abdul Subhan\", Age = 17, Gender = \"Male\")"
      ],
      "metadata": {
        "id": "3wZRqdtdZ9jH",
        "colab": {
          "base_uri": "https://localhost:8080/"
        },
        "outputId": "2d239db5-18a0-4ff7-9ff9-63a088998dcd"
      },
      "execution_count": null,
      "outputs": [
        {
          "output_type": "stream",
          "name": "stdout",
          "text": [
            "Name: Abdul Subhan\n",
            "Age: 17\n",
            "Gender: Male\n"
          ]
        }
      ]
    },
    {
      "cell_type": "code",
      "source": [
        "# Problem 9\n",
        "def even_generator(limit):\n",
        "  for i in range(2, limit +1, 2):\n",
        "    yield i\n",
        "\n",
        "for num in even_generator(10):\n",
        "  print(num)"
      ],
      "metadata": {
        "colab": {
          "base_uri": "https://localhost:8080/"
        },
        "id": "6KrZUaFlFRLI",
        "outputId": "22c46e27-94f5-4b05-8404-b0cf1ff87adb"
      },
      "execution_count": null,
      "outputs": [
        {
          "output_type": "stream",
          "name": "stdout",
          "text": [
            "2\n",
            "4\n",
            "6\n",
            "8\n",
            "10\n"
          ]
        }
      ]
    },
    {
      "cell_type": "code",
      "source": [
        "# Problem 10\n",
        "def factorial(number):\n",
        "  if number == 0:\n",
        "    return 1\n",
        "  else:\n",
        "    return number * factorial(number - 1)\n",
        "\n",
        "print(factorial(5))"
      ],
      "metadata": {
        "colab": {
          "base_uri": "https://localhost:8080/"
        },
        "id": "yfjwNcMPRdQy",
        "outputId": "86935211-e23c-4673-9cbc-7e3489445bf7"
      },
      "execution_count": null,
      "outputs": [
        {
          "output_type": "stream",
          "name": "stdout",
          "text": [
            "120\n"
          ]
        }
      ]
    },
    {
      "cell_type": "code",
      "source": [
        "# Problem 11\n",
        "def mean(l):\n",
        "  total = 0\n",
        "  for i in l:\n",
        "    total = total + i\n",
        "  return total / len(l)\n",
        "\n",
        "mean([1, 2, 3, 4, 5])"
      ],
      "metadata": {
        "colab": {
          "base_uri": "https://localhost:8080/"
        },
        "id": "c7QV62ihKXku",
        "outputId": "c64cf624-b06d-4f1f-f536-285903d668be"
      },
      "execution_count": null,
      "outputs": [
        {
          "output_type": "execute_result",
          "data": {
            "text/plain": [
              "3.0"
            ]
          },
          "metadata": {},
          "execution_count": 75
        }
      ]
    },
    {
      "cell_type": "code",
      "source": [
        "# Problem 12\n",
        "def hello():\n",
        "  return \"Hello Friends\"\n",
        "\n",
        "print(hello())"
      ],
      "metadata": {
        "colab": {
          "base_uri": "https://localhost:8080/"
        },
        "id": "5ygo6XeeLBW6",
        "outputId": "dd4b7fd8-b911-40c5-8ee3-04cc54b5bc9d"
      },
      "execution_count": null,
      "outputs": [
        {
          "output_type": "stream",
          "name": "stdout",
          "text": [
            "Hello Friends\n"
          ]
        }
      ]
    },
    {
      "cell_type": "code",
      "source": [
        "# Problem 13\n",
        "def data(name, roll_no, marks, grade):\n",
        "  print(f\"\"\"Name: {name}\n",
        "Roll No.: {roll_no}\n",
        "Marks: {marks}\n",
        "Grade: {grade}\"\"\")\n",
        "\n",
        "data(\"Abdul Subhan\", 31715, 79, \"A\")"
      ],
      "metadata": {
        "colab": {
          "base_uri": "https://localhost:8080/"
        },
        "id": "1zqsY_78M3y0",
        "outputId": "d8c7ee8d-2c68-42ef-fe69-5710d1f61e31"
      },
      "execution_count": null,
      "outputs": [
        {
          "output_type": "stream",
          "name": "stdout",
          "text": [
            "Name: Abdul Subhan\n",
            "Roll No.: 31715\n",
            "Marks: 79\n",
            "Grade: A\n"
          ]
        }
      ]
    },
    {
      "cell_type": "code",
      "source": [
        "# Problem 14\n",
        "def para(text):\n",
        "  print(text.lower())\n",
        "  print(text.upper())\n",
        "\n",
        "para(\"My name is Abdul Subhan\")"
      ],
      "metadata": {
        "colab": {
          "base_uri": "https://localhost:8080/"
        },
        "id": "SWtRbHCAPUet",
        "outputId": "14e0b57d-bdce-4b23-a6b9-33b995070e07"
      },
      "execution_count": null,
      "outputs": [
        {
          "output_type": "stream",
          "name": "stdout",
          "text": [
            "my name is abdul subhan\n",
            "MY NAME IS ABDUL SUBHAN\n"
          ]
        }
      ]
    },
    {
      "cell_type": "code",
      "source": [
        "# Problem 15\n",
        "def square(num):\n",
        "  return num ** 2\n",
        "\n",
        "print(square(5))"
      ],
      "metadata": {
        "colab": {
          "base_uri": "https://localhost:8080/"
        },
        "id": "LlDDX8hJRJoA",
        "outputId": "69a3ddad-5bf6-4d2f-9dfe-bcfe20055059"
      },
      "execution_count": null,
      "outputs": [
        {
          "output_type": "stream",
          "name": "stdout",
          "text": [
            "25\n"
          ]
        }
      ]
    },
    {
      "cell_type": "code",
      "source": [
        "# Problem 16\n",
        "def name(first_name, last_name):\n",
        "  full_name = first_name + \" \" + last_name\n",
        "  return full_name\n",
        "\n",
        "name(\"Abdul\", \"Subhan\")"
      ],
      "metadata": {
        "colab": {
          "base_uri": "https://localhost:8080/",
          "height": 36
        },
        "id": "ox6SZVYjSNyC",
        "outputId": "d775c89b-9cff-4b38-d50f-226c73490131"
      },
      "execution_count": null,
      "outputs": [
        {
          "output_type": "execute_result",
          "data": {
            "text/plain": [
              "'Abdul Subhan'"
            ],
            "application/vnd.google.colaboratory.intrinsic+json": {
              "type": "string"
            }
          },
          "metadata": {},
          "execution_count": 80
        }
      ]
    },
    {
      "cell_type": "code",
      "source": [
        "# Program 17\n",
        "def min_max(l):\n",
        "  print(\"Minimum Number:\", min(l), \",\", \"Maximum Number:\", max(l))\n",
        "\n",
        "min_max([1, 2, 3, 4, 5])"
      ],
      "metadata": {
        "colab": {
          "base_uri": "https://localhost:8080/"
        },
        "id": "1nEj5wdQTJIB",
        "outputId": "93727176-6e6a-486f-996d-35bb8ebe61fa"
      },
      "execution_count": null,
      "outputs": [
        {
          "output_type": "stream",
          "name": "stdout",
          "text": [
            "Minimum Number: 1 , Maximum Number: 5\n"
          ]
        }
      ]
    },
    {
      "cell_type": "code",
      "source": [
        "# Program 18\n",
        "def l_square(l):\n",
        "  return [i ** 2 for i in l]\n",
        "\n",
        "l_square([1, 2, 3, 4, 5])"
      ],
      "metadata": {
        "colab": {
          "base_uri": "https://localhost:8080/"
        },
        "id": "plojbxbaUv9c",
        "outputId": "dff40f12-171c-4066-e7c9-8003c1318f7c"
      },
      "execution_count": null,
      "outputs": [
        {
          "output_type": "execute_result",
          "data": {
            "text/plain": [
              "[1, 4, 9, 16, 25]"
            ]
          },
          "metadata": {},
          "execution_count": 82
        }
      ]
    },
    {
      "cell_type": "code",
      "source": [
        "# Problem 19\n",
        "def l_square(l):\n",
        "  squares = []\n",
        "  for i in l:\n",
        "    squares.append(i ** 2)\n",
        "  return squares\n",
        "\n",
        "l_square([1, 2, 3, 4, 5])"
      ],
      "metadata": {
        "colab": {
          "base_uri": "https://localhost:8080/"
        },
        "id": "Wf6VAgAsWS4g",
        "outputId": "e5ab0d52-e38f-4710-cd77-5b41a602e63a"
      },
      "execution_count": null,
      "outputs": [
        {
          "output_type": "execute_result",
          "data": {
            "text/plain": [
              "[1, 4, 9, 16, 25]"
            ]
          },
          "metadata": {},
          "execution_count": 83
        }
      ]
    },
    {
      "cell_type": "code",
      "source": [
        "# Problem 20\n",
        "def add (l):\n",
        "  total = 0\n",
        "  for i in l:\n",
        "    total += i\n",
        "  return total\n",
        "\n",
        "add([1, 2, 3, 4, 5])"
      ],
      "metadata": {
        "colab": {
          "base_uri": "https://localhost:8080/"
        },
        "id": "IQaoQ-zZYpYK",
        "outputId": "5731bc11-1380-48e9-fe35-76e20174d373"
      },
      "execution_count": null,
      "outputs": [
        {
          "output_type": "execute_result",
          "data": {
            "text/plain": [
              "15"
            ]
          },
          "metadata": {},
          "execution_count": 84
        }
      ]
    },
    {
      "cell_type": "code",
      "source": [
        "# Problem 21\n",
        "def subtract(l):\n",
        "  total = l[0]\n",
        "  for i in l[1:]:\n",
        "    total -= i\n",
        "  return total\n",
        "\n",
        "subtract([8, 5])"
      ],
      "metadata": {
        "colab": {
          "base_uri": "https://localhost:8080/"
        },
        "id": "-jU442iqcCMm",
        "outputId": "6c4529f8-0cdc-45b0-b387-819621ddab6b"
      },
      "execution_count": null,
      "outputs": [
        {
          "output_type": "execute_result",
          "data": {
            "text/plain": [
              "3"
            ]
          },
          "metadata": {},
          "execution_count": 85
        }
      ]
    },
    {
      "cell_type": "code",
      "source": [
        "# Problem 22\n",
        "def multiply(l):\n",
        "  total = 1\n",
        "  for i in l:\n",
        "    total *= i\n",
        "  return total\n",
        "\n",
        "multiply([5, 5])"
      ],
      "metadata": {
        "colab": {
          "base_uri": "https://localhost:8080/"
        },
        "id": "apTdIh0chhTz",
        "outputId": "a0468e6d-6420-4242-8c80-b345c2c6e60a"
      },
      "execution_count": null,
      "outputs": [
        {
          "output_type": "execute_result",
          "data": {
            "text/plain": [
              "25"
            ]
          },
          "metadata": {},
          "execution_count": 86
        }
      ]
    },
    {
      "cell_type": "code",
      "source": [
        "# Problem 23\n",
        "def divide(l):\n",
        "    total = l[0]\n",
        "    for i in l[1:]:\n",
        "        if i != 0:\n",
        "            total /= i\n",
        "        else:\n",
        "            return \"Cannot divide by zero\"\n",
        "    return total\n",
        "\n",
        "divide([5, 5])"
      ],
      "metadata": {
        "colab": {
          "base_uri": "https://localhost:8080/"
        },
        "id": "U5vXBBr0iDWt",
        "outputId": "b2bdc7a8-20b2-4ba4-dadb-fa190a303aac"
      },
      "execution_count": null,
      "outputs": [
        {
          "output_type": "execute_result",
          "data": {
            "text/plain": [
              "1.0"
            ]
          },
          "metadata": {},
          "execution_count": 87
        }
      ]
    },
    {
      "cell_type": "code",
      "source": [
        "# Problem 24\n",
        "def average(l):\n",
        "    total = 0\n",
        "    for i in l:\n",
        "        total += i\n",
        "    return total / len(l)\n",
        "\n",
        "average([1, 2, 3, 4, 5])"
      ],
      "metadata": {
        "colab": {
          "base_uri": "https://localhost:8080/"
        },
        "id": "kVrFxFb9iq_3",
        "outputId": "17648024-a869-4595-ab60-28dda478fbac"
      },
      "execution_count": null,
      "outputs": [
        {
          "output_type": "execute_result",
          "data": {
            "text/plain": [
              "3.0"
            ]
          },
          "metadata": {},
          "execution_count": 88
        }
      ]
    },
    {
      "cell_type": "code",
      "source": [
        "# Problem 25\n",
        "def even_numbers(l):\n",
        "    evenlist = []\n",
        "    for i in l:\n",
        "        if i % 2 == 0:\n",
        "            evenlist.append(i)\n",
        "    return evenlist\n",
        "\n",
        "even_numbers([1, 2, 3, 4, 5])"
      ],
      "metadata": {
        "colab": {
          "base_uri": "https://localhost:8080/"
        },
        "id": "p-pKLONzjL6x",
        "outputId": "32cd280c-436e-4edb-af15-ecbf00b6db5b"
      },
      "execution_count": null,
      "outputs": [
        {
          "output_type": "execute_result",
          "data": {
            "text/plain": [
              "[2, 4]"
            ]
          },
          "metadata": {},
          "execution_count": 89
        }
      ]
    },
    {
      "cell_type": "code",
      "source": [
        "# Problem 26\n",
        "def odd_numbers(l):\n",
        "    oddlist = []\n",
        "    for i in l:\n",
        "        if i % 2 != 0:\n",
        "            oddlist.append(i)\n",
        "    return oddlist\n",
        "\n",
        "odd_numbers([1, 2, 3, 4, 5])"
      ],
      "metadata": {
        "colab": {
          "base_uri": "https://localhost:8080/"
        },
        "id": "BWM2m08UkCHY",
        "outputId": "fba63f96-5fcb-42ae-a899-de4a5a4fff60"
      },
      "execution_count": null,
      "outputs": [
        {
          "output_type": "execute_result",
          "data": {
            "text/plain": [
              "[1, 3, 5]"
            ]
          },
          "metadata": {},
          "execution_count": 90
        }
      ]
    },
    {
      "cell_type": "code",
      "source": [
        "# Problem 27\n",
        "def build_person(first_name, last_name, age = \"\"):\n",
        "    person = {\"First name\":first_name, \"Last_name\":last_name}\n",
        "    if age:\n",
        "        person[\"age\"] = age\n",
        "    return person\n",
        "\n",
        "build_person(\"Abdul\", \"Subhan\", \"17\")"
      ],
      "metadata": {
        "colab": {
          "base_uri": "https://localhost:8080/"
        },
        "id": "EhYE5Lk8kmaV",
        "outputId": "1aa93da4-39e5-4df2-c8da-1362264a3d67"
      },
      "execution_count": null,
      "outputs": [
        {
          "output_type": "execute_result",
          "data": {
            "text/plain": [
              "{'First name': 'Abdul', 'Last_name': 'Subhan', 'age': '17'}"
            ]
          },
          "metadata": {},
          "execution_count": 91
        }
      ]
    },
    {
      "cell_type": "code",
      "source": [
        "# Problem 28\n",
        "def person_name():\n",
        "  names = {\"Abdul Subhan\", \"Abdullah\", \"Abdul Rehman\", \"Umer\", \"Umair\", \"Asim\"}\n",
        "  for name in names:\n",
        "    print(name)\n",
        "person_name()"
      ],
      "metadata": {
        "colab": {
          "base_uri": "https://localhost:8080/"
        },
        "id": "NBwobPXg9YyG",
        "outputId": "a02d5c31-fafe-446b-812e-51be18d999e5"
      },
      "execution_count": null,
      "outputs": [
        {
          "output_type": "stream",
          "name": "stdout",
          "text": [
            "Asim\n",
            "Umer\n",
            "Umair\n",
            "Abdullah\n",
            "Abdul Rehman\n",
            "Abdul Subhan\n"
          ]
        }
      ]
    },
    {
      "cell_type": "code",
      "source": [
        "# Problem 29\n",
        "def pizza(*toppings):\n",
        "    for top in toppings:\n",
        "        print(top)\n",
        "pizza(\"Pappareno\", \"Double Chees\", \"Extra Chicken\")"
      ],
      "metadata": {
        "colab": {
          "base_uri": "https://localhost:8080/"
        },
        "id": "VDflG2we-VX4",
        "outputId": "dfd36194-151f-4e3d-d371-72ebf57d03bc"
      },
      "execution_count": null,
      "outputs": [
        {
          "output_type": "stream",
          "name": "stdout",
          "text": [
            "Pappareno\n",
            "Double Chees\n",
            "Extra Chicken\n"
          ]
        }
      ]
    },
    {
      "cell_type": "code",
      "source": [
        "# Problem 30\n",
        "def build_profile(first, last, **user_profile):\n",
        "    profile = {}\n",
        "    profile[\"First name\"] = first\n",
        "    profile[\"Last name\"] = last\n",
        "\n",
        "    for key,value in user_profile.items():\n",
        "        profile[key] = value\n",
        "\n",
        "\n",
        "    return profile\n",
        "\n",
        "build_profile(\"Abdul\", \"Subhan\", Education = \"Intermediate\", College = \"Cantt College\")"
      ],
      "metadata": {
        "colab": {
          "base_uri": "https://localhost:8080/"
        },
        "id": "kRbuY0zchzOK",
        "outputId": "b0a8a3d0-4e91-49a0-8378-864833f39523"
      },
      "execution_count": null,
      "outputs": [
        {
          "output_type": "execute_result",
          "data": {
            "text/plain": [
              "{'First name': 'Abdul',\n",
              " 'Last name': 'Subhan',\n",
              " 'Education': 'Intermediate',\n",
              " 'College': 'Cantt College'}"
            ]
          },
          "metadata": {},
          "execution_count": 94
        }
      ]
    },
    {
      "cell_type": "code",
      "source": [
        "# Problem 31\n",
        "def findmax(l):\n",
        "    maximum = 0\n",
        "    for i in l:\n",
        "        if i > maximum:\n",
        "            maximum = i\n",
        "    print(maximum)\n",
        "\n",
        "findmax([2,3,5,4])"
      ],
      "metadata": {
        "colab": {
          "base_uri": "https://localhost:8080/"
        },
        "id": "M0iIdM5RlNe5",
        "outputId": "5dcb391c-5121-4ce0-a4bb-22cf47e14d98"
      },
      "execution_count": null,
      "outputs": [
        {
          "output_type": "stream",
          "name": "stdout",
          "text": [
            "5\n"
          ]
        }
      ]
    },
    {
      "cell_type": "code",
      "source": [
        "# Problem 32\n",
        "def count(text):\n",
        "    words = 0\n",
        "    digits = 0\n",
        "    for i in text:\n",
        "        if i.isalpha():\n",
        "            words += 1\n",
        "        if i.isdigit():\n",
        "            digits += 1\n",
        "    print(\"Words =\", words)\n",
        "    print(\"digits =\", digits)\n",
        "\n",
        "count(\"Subhan2110\")"
      ],
      "metadata": {
        "colab": {
          "base_uri": "https://localhost:8080/"
        },
        "id": "htyleijdl0_R",
        "outputId": "55546547-cc20-40b1-9b12-c06205d63057"
      },
      "execution_count": null,
      "outputs": [
        {
          "output_type": "stream",
          "name": "stdout",
          "text": [
            "Words = 6\n",
            "digits = 4\n"
          ]
        }
      ]
    },
    {
      "cell_type": "code",
      "source": [
        "# Problem 33\n",
        "def maxword(text):\n",
        "    max_wordlength = 0\n",
        "    my_word = \"\"\n",
        "    words = text.split(\" \")\n",
        "    for i in words:\n",
        "        if len(i) > max_wordlength:\n",
        "            my_word = i\n",
        "    return my_word\n",
        "\n",
        "maxword(\"I am Abdul Subhan\")"
      ],
      "metadata": {
        "colab": {
          "base_uri": "https://localhost:8080/",
          "height": 36
        },
        "id": "0pAO_wjpmWSw",
        "outputId": "dfea7e86-1880-4b36-ca0d-38fd3f54264f"
      },
      "execution_count": null,
      "outputs": [
        {
          "output_type": "execute_result",
          "data": {
            "text/plain": [
              "'Subhan'"
            ],
            "application/vnd.google.colaboratory.intrinsic+json": {
              "type": "string"
            }
          },
          "metadata": {},
          "execution_count": 97
        }
      ]
    },
    {
      "cell_type": "code",
      "source": [
        "# Problem 34\n",
        "def display_message():\n",
        "    print(\"I am learning this chapter about functions\")\n",
        "\n",
        "display_message()"
      ],
      "metadata": {
        "colab": {
          "base_uri": "https://localhost:8080/"
        },
        "id": "kCHbR8_jnOKS",
        "outputId": "737030b0-bf03-4a71-b451-47b0bf8c99c2"
      },
      "execution_count": null,
      "outputs": [
        {
          "output_type": "stream",
          "name": "stdout",
          "text": [
            "I am learning this chapter about functions\n"
          ]
        }
      ]
    },
    {
      "cell_type": "code",
      "source": [
        "# Problem 35\n",
        "def favourite_book(title):\n",
        "    print(f\"My favourite book name is {title}\")\n",
        "\n",
        "\n",
        "favourite_book(\"The true religion Islam\")"
      ],
      "metadata": {
        "colab": {
          "base_uri": "https://localhost:8080/"
        },
        "id": "PKLJG5m7oayj",
        "outputId": "59ad3632-1ecf-4ac6-e73c-0a3af651e9ba"
      },
      "execution_count": null,
      "outputs": [
        {
          "output_type": "stream",
          "name": "stdout",
          "text": [
            "My favourite book name is The true religion Islam\n"
          ]
        }
      ]
    },
    {
      "cell_type": "code",
      "source": [
        "# Problem 36\n",
        "def make_shirt(message, size):\n",
        "    shirt = message + \" and \" + size\n",
        "    print(f\"print message in shirt and size: {shirt}\")\n",
        "\n",
        "make_shirt(\"Legend\", \"large size\")"
      ],
      "metadata": {
        "colab": {
          "base_uri": "https://localhost:8080/"
        },
        "id": "S4iBW1vBom5v",
        "outputId": "4d770694-f4af-4f22-eee7-2de843775aa1"
      },
      "execution_count": null,
      "outputs": [
        {
          "output_type": "stream",
          "name": "stdout",
          "text": [
            "print message in shirt and size: Legend and large size\n"
          ]
        }
      ]
    },
    {
      "cell_type": "code",
      "source": [
        "# Problem 37\n",
        "def make_shirt():\n",
        "    message = input(\"Enter your message to print on shirt: \")\n",
        "    print(f\"print message in shirt: {message}\")\n",
        "\n",
        "make_shirt()"
      ],
      "metadata": {
        "colab": {
          "base_uri": "https://localhost:8080/"
        },
        "id": "CdV2k02PpMJD",
        "outputId": "b438264e-a8ed-414c-a79b-257cc4c5aeb2"
      },
      "execution_count": null,
      "outputs": [
        {
          "output_type": "stream",
          "name": "stdout",
          "text": [
            "Enter your message to print on shirt: HELLO!\n",
            "print message in shirt: HELLO!\n"
          ]
        }
      ]
    },
    {
      "cell_type": "code",
      "source": [
        "# Problem 38\n",
        "def describe_city(city_name, country_name):\n",
        "    print(f\"{city_name} is in {country_name}\")\n",
        "\n",
        "describe_city(\"Karachi\", \"Pakistan\")"
      ],
      "metadata": {
        "colab": {
          "base_uri": "https://localhost:8080/"
        },
        "id": "TeRZfpCOppGf",
        "outputId": "33c5d881-163a-454d-b518-43cf69809bd4"
      },
      "execution_count": null,
      "outputs": [
        {
          "output_type": "stream",
          "name": "stdout",
          "text": [
            "Karachi is in Pakistan\n"
          ]
        }
      ]
    },
    {
      "cell_type": "code",
      "source": [
        "# Problem 39\n",
        "def city_country(city_name, country_name):\n",
        "    print(city_name + \" is in \" + country_name)\n",
        "\n",
        "city_country(\"Lahore\", \"Pakistan\")"
      ],
      "metadata": {
        "colab": {
          "base_uri": "https://localhost:8080/"
        },
        "id": "PEQdQ05pq3Xs",
        "outputId": "4b98d35a-5dea-4223-8be0-ad80599b1176"
      },
      "execution_count": null,
      "outputs": [
        {
          "output_type": "stream",
          "name": "stdout",
          "text": [
            "Lahore is in Pakistan\n"
          ]
        }
      ]
    },
    {
      "cell_type": "code",
      "source": [
        "# Problem 40\n",
        "# Check if a Number is Prime\n",
        "def is_prime(number):\n",
        "    if number < 2:\n",
        "        return False\n",
        "    for i in range(2, int(number ** 0.5) + 1):\n",
        "        if number % i == 0:\n",
        "            return False\n",
        "    return True\n",
        "\n",
        "print(is_prime(2))\n",
        "print(is_prime(15))\n",
        "print(is_prime(23))"
      ],
      "metadata": {
        "colab": {
          "base_uri": "https://localhost:8080/"
        },
        "id": "dkFPwz2EPgFy",
        "outputId": "bbbd91c5-2b2e-4262-cc24-013fae15fa83"
      },
      "execution_count": 7,
      "outputs": [
        {
          "output_type": "stream",
          "name": "stdout",
          "text": [
            "True\n",
            "False\n",
            "True\n"
          ]
        }
      ]
    },
    {
      "cell_type": "code",
      "source": [
        "# Problem 41\n",
        "# Calculate Factorial Using a Loop\n",
        "def factorial(number):\n",
        "    if number < 0:\n",
        "        return \"Invalid input\"\n",
        "    result = 1\n",
        "    for i in range(1, number + 1):\n",
        "        result *= i\n",
        "    return result\n",
        "\n",
        "print(factorial(5))\n",
        "print(factorial(0))\n",
        "print(factorial(7))"
      ],
      "metadata": {
        "colab": {
          "base_uri": "https://localhost:8080/"
        },
        "id": "yOeguuUyP3Az",
        "outputId": "fce8e6b0-9c49-4be6-dfab-f228c9ddc429"
      },
      "execution_count": 8,
      "outputs": [
        {
          "output_type": "stream",
          "name": "stdout",
          "text": [
            "120\n",
            "1\n",
            "5040\n"
          ]
        }
      ]
    },
    {
      "cell_type": "code",
      "source": [
        "# Problem 42\n",
        "# Count Vowels in a String\n",
        "def number_of_vowels(count_vowels):\n",
        "    vowels = \"aeiouAEIOU\"\n",
        "    count = 0\n",
        "    for i in count_vowels:\n",
        "        if i in vowels:\n",
        "            count += 1\n",
        "    return count\n",
        "\n",
        "print(number_of_vowels(\"Hello\"))\n",
        "print(number_of_vowels(\"Open AI Chat\"))\n",
        "print(number_of_vowels(\"Python\"))"
      ],
      "metadata": {
        "colab": {
          "base_uri": "https://localhost:8080/"
        },
        "id": "n5sF8sRDRV6W",
        "outputId": "b4a77dbb-490d-4d22-8d86-58d70092c27b"
      },
      "execution_count": 9,
      "outputs": [
        {
          "output_type": "stream",
          "name": "stdout",
          "text": [
            "2\n",
            "5\n",
            "1\n"
          ]
        }
      ]
    },
    {
      "cell_type": "code",
      "source": [
        "# Problem 43\n",
        "# Check if a String is a Palindrome\n",
        "def is_palindrome(word):\n",
        "    word = word.lower()\n",
        "    return word == word[::-1]\n",
        "\n",
        "print(is_palindrome(\"racecar\"))\n",
        "print(is_palindrome(\"Hello\"))"
      ],
      "metadata": {
        "colab": {
          "base_uri": "https://localhost:8080/"
        },
        "id": "duoB9baeS4M9",
        "outputId": "1d9eadb3-3e1c-45fa-a067-7075b2a0c3d7"
      },
      "execution_count": 10,
      "outputs": [
        {
          "output_type": "stream",
          "name": "stdout",
          "text": [
            "True\n",
            "False\n"
          ]
        }
      ]
    },
    {
      "cell_type": "code",
      "source": [
        "# Problem 44\n",
        "# Find the Largest Number in a List\n",
        "def find_largest(lst):\n",
        "    if not lst:\n",
        "        return \"List is empty\"\n",
        "    largest = lst[0]\n",
        "    for i in lst:\n",
        "        if i > largest:\n",
        "            largest = i\n",
        "    return largest\n",
        "\n",
        "print(find_largest([10, 20, 5, 3]))\n",
        "print(find_largest([-1, -5, -3]))\n",
        "print(find_largest([]))"
      ],
      "metadata": {
        "colab": {
          "base_uri": "https://localhost:8080/"
        },
        "id": "TgJnzPZuTxQ5",
        "outputId": "09db358d-7fd9-4dc5-9fb5-ff54dc066c69"
      },
      "execution_count": 11,
      "outputs": [
        {
          "output_type": "stream",
          "name": "stdout",
          "text": [
            "20\n",
            "-1\n",
            "List is empty\n"
          ]
        }
      ]
    },
    {
      "cell_type": "code",
      "source": [
        "# Problem 45\n",
        "# Generate Fibonacci Sequence\n",
        "def fibonacci(n):\n",
        "    if n <= 0:\n",
        "        return \"Invalid input\"\n",
        "    sequence = [0, 1]\n",
        "    while len(sequence) < n:\n",
        "        sequence.append(sequence[-1] + sequence[-2])\n",
        "    return sequence[:n]\n",
        "\n",
        "print(fibonacci(5))\n",
        "print(fibonacci(10))\n",
        "print(fibonacci(1))"
      ],
      "metadata": {
        "colab": {
          "base_uri": "https://localhost:8080/"
        },
        "id": "OXVgT_XFVol4",
        "outputId": "80c69fba-99b9-4b4f-9111-07eec3180484"
      },
      "execution_count": 12,
      "outputs": [
        {
          "output_type": "stream",
          "name": "stdout",
          "text": [
            "[0, 1, 1, 2, 3]\n",
            "[0, 1, 1, 2, 3, 5, 8, 13, 21, 34]\n",
            "[0]\n"
          ]
        }
      ]
    },
    {
      "cell_type": "code",
      "source": [
        "# Problem 46\n",
        "# Count Words in a String\n",
        "def count_words(word):\n",
        "    words = word.split()\n",
        "    return len(words)\n",
        "\n",
        "print(count_words(\"Hello world!\"))\n",
        "print(count_words(\"Python is fun\"))\n",
        "print(count_words(\"Count words\"))"
      ],
      "metadata": {
        "colab": {
          "base_uri": "https://localhost:8080/"
        },
        "id": "d_SVNIIBWMse",
        "outputId": "94278a2b-1fc0-45d0-d81d-718980c0189f"
      },
      "execution_count": 13,
      "outputs": [
        {
          "output_type": "stream",
          "name": "stdout",
          "text": [
            "2\n",
            "3\n",
            "2\n"
          ]
        }
      ]
    },
    {
      "cell_type": "code",
      "source": [
        "# Problem 47\n",
        "# Check for Armstrong Number\n",
        "def is_armstrong(num):\n",
        "    digits = [int(i) for i in str(num)]\n",
        "    total = sum(i ** 3 for i in digits)\n",
        "    return total == num\n",
        "\n",
        "print(is_armstrong(153))\n",
        "print(is_armstrong(123))"
      ],
      "metadata": {
        "colab": {
          "base_uri": "https://localhost:8080/"
        },
        "id": "0yWjIcmKD1os",
        "outputId": "de82a6ff-f3a9-448b-e7fb-a097f75df43a"
      },
      "execution_count": 14,
      "outputs": [
        {
          "output_type": "stream",
          "name": "stdout",
          "text": [
            "True\n",
            "False\n"
          ]
        }
      ]
    },
    {
      "cell_type": "code",
      "source": [
        "# Problem 48\n",
        "# Find the GCD of Two Numbers\n",
        "def gcd(a, b):\n",
        "    while b:\n",
        "        a, b = b, a % b\n",
        "    return a\n",
        "\n",
        "print(gcd(54, 24))\n",
        "print(gcd(48, 18))\n",
        "print(gcd(101, 103))"
      ],
      "metadata": {
        "colab": {
          "base_uri": "https://localhost:8080/"
        },
        "id": "qTY-vJ1LE0Zw",
        "outputId": "07fd2cd7-c54f-4769-9323-eec3c6a4bdf7"
      },
      "execution_count": 15,
      "outputs": [
        {
          "output_type": "stream",
          "name": "stdout",
          "text": [
            "6\n",
            "6\n",
            "1\n"
          ]
        }
      ]
    },
    {
      "cell_type": "code",
      "source": [
        "# Problem 49\n",
        "# Find All Factors of a Number\n",
        "def factors(num):\n",
        "    return [i for i in range(1, num + 1) if num % i == 0]\n",
        "\n",
        "print(factors(12))\n",
        "print(factors(7))\n",
        "print(factors(15))"
      ],
      "metadata": {
        "colab": {
          "base_uri": "https://localhost:8080/"
        },
        "id": "FTz8gQOeHnp0",
        "outputId": "afb1db2b-e2ee-47fd-d065-7facda0a5276"
      },
      "execution_count": 17,
      "outputs": [
        {
          "output_type": "stream",
          "name": "stdout",
          "text": [
            "[1, 2, 3, 4, 6, 12]\n",
            "[1, 7]\n",
            "[1, 3, 5, 15]\n"
          ]
        }
      ]
    },
    {
      "cell_type": "code",
      "source": [
        "# Problem 50\n",
        "# Find the Second Largest Number in a List\n",
        "def second_largest(lst):\n",
        "    unique_numbers = list(set(lst))\n",
        "    if len(unique_numbers) < 2:\n",
        "        return \"Not enough unique numbers\"\n",
        "    unique_numbers.sort()\n",
        "    return unique_numbers[-2]\n",
        "\n",
        "print(second_largest([10, 20, 4, 20]))\n",
        "print(second_largest([4, 4, 4]))\n",
        "print(second_largest([1, 5, 2, 9, 7]))"
      ],
      "metadata": {
        "colab": {
          "base_uri": "https://localhost:8080/"
        },
        "id": "OXuisCQSH8lU",
        "outputId": "a0a59438-188d-49eb-c886-bd10cb6ccdd0"
      },
      "execution_count": 18,
      "outputs": [
        {
          "output_type": "stream",
          "name": "stdout",
          "text": [
            "10\n",
            "Not enough unique numbers\n",
            "7\n"
          ]
        }
      ]
    },
    {
      "cell_type": "code",
      "source": [
        "# Problem 51\n",
        "# Check if Two Strings are Anagrams\n",
        "def are_anagrams(str1, str2):\n",
        "    return sorted(str1) == sorted(str2)\n",
        "\n",
        "print(are_anagrams(\"listen\", \"silent\"))\n",
        "print(are_anagrams(\"hello\", \"world\"))\n",
        "print(are_anagrams(\"evil\", \"vile\"))"
      ],
      "metadata": {
        "colab": {
          "base_uri": "https://localhost:8080/"
        },
        "id": "uucn6uM_Ictl",
        "outputId": "d1231234-4fee-4564-ab93-17420f606557"
      },
      "execution_count": 19,
      "outputs": [
        {
          "output_type": "stream",
          "name": "stdout",
          "text": [
            "True\n",
            "False\n",
            "True\n"
          ]
        }
      ]
    },
    {
      "cell_type": "code",
      "source": [
        "# Problem 52\n",
        "# Sum of Digits of a Number\n",
        "def sum_of_digits(number):\n",
        "    return sum(int(i) for i in str(number))\n",
        "\n",
        "print(sum_of_digits(123))"
      ],
      "metadata": {
        "colab": {
          "base_uri": "https://localhost:8080/"
        },
        "id": "60x4BPTTZP0k",
        "outputId": "f9cf245f-9289-4fc5-f469-d23d21eec656"
      },
      "execution_count": 20,
      "outputs": [
        {
          "output_type": "stream",
          "name": "stdout",
          "text": [
            "6\n"
          ]
        }
      ]
    },
    {
      "cell_type": "code",
      "source": [
        "# Problem 53\n",
        "# Count Occurrences of a Character in a String\n",
        "def count_char(word, char):\n",
        "    return word.count(char)\n",
        "\n",
        "print(count_char(\"hello\", \"l\"))\n",
        "print(count_char(\"python\", \"z\"))"
      ],
      "metadata": {
        "colab": {
          "base_uri": "https://localhost:8080/"
        },
        "id": "KJl6uAWooFNt",
        "outputId": "a440a7c1-0bb9-4da3-f837-5d8c6af675e7"
      },
      "execution_count": 21,
      "outputs": [
        {
          "output_type": "stream",
          "name": "stdout",
          "text": [
            "2\n",
            "0\n"
          ]
        }
      ]
    },
    {
      "cell_type": "code",
      "source": [
        "# Problem 55\n",
        "# Find the Sum of a List Using a Function\n",
        "def sum_list(lst):\n",
        "    return sum(lst)\n",
        "\n",
        "print(sum_list([1, 2, 3, 4, 5]))\n",
        "print(sum_list([-1, 0, 1]))\n",
        "print(sum_list([10, 20, 30]))"
      ],
      "metadata": {
        "colab": {
          "base_uri": "https://localhost:8080/"
        },
        "id": "8QNiQZrroidW",
        "outputId": "901144c6-2b32-4d59-f839-e7e17fd4e974"
      },
      "execution_count": 22,
      "outputs": [
        {
          "output_type": "stream",
          "name": "stdout",
          "text": [
            "15\n",
            "0\n",
            "60\n"
          ]
        }
      ]
    },
    {
      "cell_type": "code",
      "source": [
        "# Problem 56\n",
        "# Find the Reverse of a String\n",
        "def reverse_string(word):\n",
        "    return word[::-1]\n",
        "\n",
        "print(reverse_string(\"hello\"))\n",
        "print(reverse_string(\"12345\"))"
      ],
      "metadata": {
        "colab": {
          "base_uri": "https://localhost:8080/"
        },
        "id": "BNvtS4jFqE5X",
        "outputId": "2793b8ca-b349-45f3-f697-a952a0bc74f8"
      },
      "execution_count": 23,
      "outputs": [
        {
          "output_type": "stream",
          "name": "stdout",
          "text": [
            "olleh\n",
            "54321\n"
          ]
        }
      ]
    },
    {
      "cell_type": "code",
      "source": [
        "# Problem 57\n",
        "# Check if a Year is a Leap Year\n",
        "def is_leap_year(year):\n",
        "    if (year % 4 == 0 and year % 100 != 0) or (year % 400 == 0):\n",
        "        return True\n",
        "    return False\n",
        "\n",
        "print(is_leap_year(2020))\n",
        "print(is_leap_year(1900))\n",
        "print(is_leap_year(2000))"
      ],
      "metadata": {
        "colab": {
          "base_uri": "https://localhost:8080/"
        },
        "id": "OTFL9WWKqvzm",
        "outputId": "8aefa91e-2d7e-4d3a-e95f-b08c096f21ed"
      },
      "execution_count": 24,
      "outputs": [
        {
          "output_type": "stream",
          "name": "stdout",
          "text": [
            "True\n",
            "False\n",
            "True\n"
          ]
        }
      ]
    },
    {
      "cell_type": "code",
      "source": [
        "# Problem 58\n",
        "# Find the Length of a String Without Using len()\n",
        "def string_length(string):\n",
        "    count = 0\n",
        "    for char in string:\n",
        "        count += 1\n",
        "    return count\n",
        "\n",
        "print(string_length(\"hello\"))\n",
        "print(string_length(\"OpenAI\"))\n",
        "print(string_length(\"\"))"
      ],
      "metadata": {
        "id": "fmVUD2l4sFX0",
        "colab": {
          "base_uri": "https://localhost:8080/"
        },
        "outputId": "753d3691-2982-41cb-ef8e-1e322836702a"
      },
      "execution_count": 25,
      "outputs": [
        {
          "output_type": "stream",
          "name": "stdout",
          "text": [
            "5\n",
            "6\n",
            "0\n"
          ]
        }
      ]
    },
    {
      "cell_type": "code",
      "source": [
        "# Problem 59\n",
        "# Check if a List is Sorted\n",
        "def is_sorted(lst):\n",
        "    return lst == sorted(lst)\n",
        "\n",
        "print(is_sorted([1, 2, 3, 4, 5]))\n",
        "print(is_sorted([5, 4, 3, 2, 1]))\n",
        "print(is_sorted([10, 20, 30, 40, 50]))"
      ],
      "metadata": {
        "colab": {
          "base_uri": "https://localhost:8080/"
        },
        "id": "D96htrZ10Yps",
        "outputId": "e8395121-57ec-4fe4-9c42-1aca94c1ead6"
      },
      "execution_count": 26,
      "outputs": [
        {
          "output_type": "stream",
          "name": "stdout",
          "text": [
            "True\n",
            "False\n",
            "True\n"
          ]
        }
      ]
    },
    {
      "cell_type": "code",
      "source": [
        "# Problem 60\n",
        "# Convert a String to Title Case\n",
        "def to_title_case(string):\n",
        "    return \" \".join(word.capitalize() for word in string.split())\n",
        "\n",
        "print(to_title_case(\"hello world\"))\n",
        "print(to_title_case(\"python programming\"))\n",
        "print(to_title_case(\"this is a test\"))"
      ],
      "metadata": {
        "colab": {
          "base_uri": "https://localhost:8080/"
        },
        "id": "36jFR2c107Bb",
        "outputId": "4c17e371-8eac-4ea0-a383-dd3f103f7580"
      },
      "execution_count": 27,
      "outputs": [
        {
          "output_type": "stream",
          "name": "stdout",
          "text": [
            "Hello World\n",
            "Python Programming\n",
            "This Is A Test\n"
          ]
        }
      ]
    },
    {
      "cell_type": "code",
      "source": [
        "# Problem 61\n",
        "# Calculate the Sum of Digits Until a Single Digit\n",
        "def sum_to_single_digit(num):\n",
        "    while num >= 10:\n",
        "        num = sum(int(i) for i in str(num))\n",
        "    return num\n",
        "\n",
        "print(sum_to_single_digit(12345))"
      ],
      "metadata": {
        "colab": {
          "base_uri": "https://localhost:8080/"
        },
        "id": "FybOaTRA1dk8",
        "outputId": "14760031-ad66-495e-b823-2a4d5befccb0"
      },
      "execution_count": 32,
      "outputs": [
        {
          "output_type": "stream",
          "name": "stdout",
          "text": [
            "6\n"
          ]
        }
      ]
    },
    {
      "cell_type": "code",
      "source": [
        "# Problem 62\n",
        "# Check if a Number is Perfect\n",
        "def is_perfect(num):\n",
        "    divisors = [i for i in range(1, num) if num % i == 0]\n",
        "    return sum(divisors) == num\n",
        "\n",
        "print(is_perfect(6))\n",
        "print(is_perfect(12))"
      ],
      "metadata": {
        "colab": {
          "base_uri": "https://localhost:8080/"
        },
        "id": "kq6lcY9T4TRQ",
        "outputId": "4f9de903-20d0-4fee-c20e-6f0dc3d05dc1"
      },
      "execution_count": 35,
      "outputs": [
        {
          "output_type": "stream",
          "name": "stdout",
          "text": [
            "True\n",
            "False\n"
          ]
        }
      ]
    },
    {
      "cell_type": "code",
      "source": [
        "# Problem 63\n",
        "# Check if a Number is a Happy Number\n",
        "def is_happy_number(num):\n",
        "    visited = set()\n",
        "    while num != 1 and num not in visited:\n",
        "        visited.add(num)\n",
        "        num = sum(int(d) ** 2 for d in str(num))\n",
        "    return num == 1\n",
        "\n",
        "print(is_happy_number(19))\n",
        "print(is_happy_number(2))"
      ],
      "metadata": {
        "colab": {
          "base_uri": "https://localhost:8080/"
        },
        "id": "B5jFiyLy5psa",
        "outputId": "dfee9d52-e7b3-4c87-9f28-8327ff89d7d9"
      },
      "execution_count": 37,
      "outputs": [
        {
          "output_type": "stream",
          "name": "stdout",
          "text": [
            "True\n",
            "False\n"
          ]
        }
      ]
    },
    {
      "cell_type": "code",
      "source": [
        "# Problem 64\n",
        "# Find the Longest Word in a Sentence\n",
        "def longest_word(sentence):\n",
        "    words = sentence.split()\n",
        "    longest = max(words, key=len)\n",
        "    return longest\n",
        "\n",
        "print(longest_word(\"I love programming in Python\"))\n",
        "\n",
        "print(longest_word(\"Chat GPT is amazing\"))\n",
        "print(longest_word(\"Find the longest word\"))"
      ],
      "metadata": {
        "colab": {
          "base_uri": "https://localhost:8080/"
        },
        "id": "X8nrxyBw6Kta",
        "outputId": "5b956940-8435-45f6-aa8d-41dcdf0bd6c7"
      },
      "execution_count": 46,
      "outputs": [
        {
          "output_type": "stream",
          "name": "stdout",
          "text": [
            "programming\n",
            "amazing\n",
            "longest\n"
          ]
        }
      ]
    },
    {
      "cell_type": "code",
      "source": [
        "# Problem 65\n",
        "# Calculate the Number of Upper and Lower Case Letters\n",
        "def count_case(string):\n",
        "    upper_count = sum(1 for char in string if char.isupper())\n",
        "    lower_count = sum(1 for char in string if char.islower())\n",
        "    return upper_count, lower_count\n",
        "\n",
        "print(count_case(\"Hello World\"))"
      ],
      "metadata": {
        "colab": {
          "base_uri": "https://localhost:8080/"
        },
        "id": "RAVEjBqX7UXH",
        "outputId": "7b5b4631-9c8f-4e8d-9894-7fd68e1f1973"
      },
      "execution_count": 1,
      "outputs": [
        {
          "output_type": "stream",
          "name": "stdout",
          "text": [
            "(2, 8)\n"
          ]
        }
      ]
    },
    {
      "cell_type": "code",
      "source": [],
      "metadata": {
        "id": "xM9pvK8TW3Uj"
      },
      "execution_count": null,
      "outputs": []
    }
  ]
}